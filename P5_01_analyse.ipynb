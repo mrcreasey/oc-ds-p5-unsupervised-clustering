{
 "cells": [
  {
   "cell_type": "markdown",
   "metadata": {},
   "source": [
    "# Segmentez des clients d'un site e-commerce\n",
    "\n",
    "- **Projet 5 du parcours « Data Scientist » d’OpenClassrooms**\n",
    "- **Mark Creasey**\n",
    "\n",
    "## Partie 1 : Nettoyage et analyse exploratoire des données\n",
    "\n",
    "<img  width=\"76\" height=\"30\" src=\"https://olist.com/wp-custom/themes/olist20/assets/img/brand.svg\" alt=\"Logo olist\">\n"
   ]
  },
  {
   "cell_type": "markdown",
   "metadata": {},
   "source": [
    "<!--TABLE OF CONTENTS-->\n",
    "\n",
    "- [1. Compréhension du problème](#1.-Compréhension-du-problème)\n",
    "  - [1.1 Mission](#1.1-Mission)\n",
    "  - [1.2 Requirements : Bibliothèques utilisées dans ce notebook](#1.2-Requirements-:-Bibliothèques-utilisées-dans-ce-notebook)\n",
    "  - [1.3 Des fonctions utilitaires](#1.3-Des-fonctions-utilitaires)\n",
    "  - [1.4 Des routines statistiques](#1.4-Des-routines-statistiques)\n",
    "- [2. Import et nettoyage des données](#2.-Import-et-nettoyage-des-données)\n",
    "  - [2.1 Description des données (metadata)](<#2.1-Description-des-données-(metadata)>)\n",
    "  - [2.2 Import des données](#2.2-Import-des-données)\n",
    "  - [2.3 Description de données (après import)](<#2.3-Description-de-données-(après-import)>)\n",
    "  - [2.4 Nettoyage des données](#2.4-Nettoyage-des-données)\n",
    "- [3. Analyse Exploratoire](#3.-Analyse-Exploratoire)\n",
    "  - [3.1 Données numériques](#3.1-Données-numériques)\n",
    "  - [3.2 Données catégoriques](#3.2-Données-catégoriques)\n",
    "  - [3.3 Associations entre variables catégoriques et numériques](#3.3-Associations-entre-variables-catégoriques-et-numériques)\n",
    "- [4. Feature Engineering](#4.-Feature-Engineering)\n",
    "  - [4.1 Nouvelles 'features' catégoriques](#4.1-Nouvelles-'features'-catégoriques)\n",
    "  - [4.2 Nouvelles 'features' numériques](#4.2-Nouvelles-'features'-numériques)\n",
    "- [5. Enregistrement des données nettoyées](#5.-Enregistrement-des-données-nettoyées)\n",
    "  - [5.1 Sommaire des données nettoyées](#5.1-Sommaire-des-données-nettoyées)\n"
   ]
  },
  {
   "cell_type": "markdown",
   "metadata": {},
   "source": [
    "# 1. Compréhension du problème\n",
    "\n",
    "## 1.1 Mission\n",
    "\n",
    "[Olist](https://olist.com/), une entreprise brésilienne qui propose une solution de vente sur les\n",
    "marketplaces en ligne, souhaite une **segmentation des clients** que ses équipes d'e-commerce pourront\n",
    "utiliser au quotidien pour leurs campagnes de communication.\n",
    "\n",
    "- **comprendre les différents types d'utilisateurs**, grâce à leur comportement et à leurs données\n",
    "  personnelles, en regroupant des clients de profils similaires. Ces catégories pourront être\n",
    "  utilisées par l’équipe Marketing pour mieux communiquer.\n",
    "\n",
    "- **fournir à l’équipe marketing une description actionable** de votre segmentation et de sa logique\n",
    "  sous-jacente pour une utilisation optimale\n",
    "\n",
    "- **une proposition de contrat de maintenance**, (fréquence à laquelle la segmentation doit être\n",
    "  mise à jour pour rester pertinente), basée sur une analyse de la stabilité des segments au cours\n",
    "  du temps.\n"
   ]
  },
  {
   "cell_type": "markdown",
   "metadata": {},
   "source": [
    "### Indicateurs pour segmenter les clients\n",
    "\n",
    "#### Segmentation RFM\n",
    "\n",
    "Pour établir des segments de clients homogènes, la [segmentation RFM](https://www.definitions-marketing.com/definition/segmentation-rfm/) prend en compte:\n",
    "\n",
    "- la **Récence** (date de la dernière commande);\n",
    "- la **Fréquence** des commandes; et\n",
    "- le **Montant** (de la dernière commande ou sur une période donnée)\n",
    "\n",
    "La segmentation RFM permet de cibler les offres, d'établir des segments basés sur la valeur des clients et de prévenir l'attrition en identifiant des segments à risque.\n"
   ]
  },
  {
   "cell_type": "markdown",
   "metadata": {},
   "source": [
    "#### Autres indicateurs possibles\n",
    "\n",
    "On peut aussi segmenter les clients sur d'autres indicateurs :\n",
    "\n",
    "- leur **satisfaction** sur les commandes\n",
    "- la **catégorie de produits** qu'ils commande (est-ce qu'il y a certains catégories plus satisfaisant que d'autres?)\n",
    "- la **rapidité de livraison** des commandes (est-ce que les clients qui habite près des vendeurs ont un comportement diffèrent que les clients plus loin de leur commande ?)\n",
    "- les **vendeurs** qu'ils adoptent (est-ce qu'il y a un rélation entre clients étoiles et certains vendeurs?)\n"
   ]
  },
  {
   "cell_type": "markdown",
   "metadata": {},
   "source": [
    "### Objectives d'analyse exploratoire\n",
    "\n",
    "- Connaitre les données\n",
    "- Nettoyer les données\n",
    "- Identifier les indicateurs actionable\n",
    "- Créer des nouvelles features / indicateurs si besoin\n"
   ]
  },
  {
   "cell_type": "markdown",
   "metadata": {},
   "source": [
    "## 1.2 Requirements : Bibliothèques utilisées dans ce notebook\n",
    "\n",
    "- voir [`requirements.txt`](./requirements.txt) pour les versions des bibliothèques testées avec ce notebook\n"
   ]
  },
  {
   "cell_type": "code",
   "execution_count": 1,
   "metadata": {},
   "outputs": [],
   "source": [
    "# si ce notebook ne marche pas avec les versions\n",
    "# des bibliothèques dans votre environnement, alors\n",
    "# decommentarise la ligne suivant pour des versions testées:\n",
    "\n",
    "# %pip install -r requirements.txt\n"
   ]
  },
  {
   "cell_type": "code",
   "execution_count": 2,
   "metadata": {},
   "outputs": [],
   "source": [
    "def install_libraries(required={}) -> None:\n",
    "    \"\"\"\n",
    "    Installation des bibliothèques manquantes\n",
    "    https://stackoverflow.com/questions/44210656/\n",
    "    \"\"\"\n",
    "    import sys\n",
    "    import subprocess\n",
    "    import pkg_resources\n",
    "    installed = {pkg.key for pkg in pkg_resources.working_set}\n",
    "    missing = set(required) - set(installed)\n",
    "    if missing:\n",
    "        print(f'missing libraries: {missing}')\n",
    "        python = sys.executable\n",
    "        subprocess.check_call([python, '-m', 'pip', 'install', *missing],\n",
    "                              stdout=subprocess.DEVNULL)\n",
    "\n",
    "\n",
    "required_libraries = {'numpy', 'pandas', 'matplotlib', 'seaborn',\n",
    "                      'scipy', 'scikit-learn', 'statsmodels',\n",
    "                      'missingno', 'dython'}\n",
    "install_libraries(required_libraries)\n"
   ]
  },
  {
   "cell_type": "markdown",
   "metadata": {},
   "source": [
    "### 1.2.1 Import des bibliothèques\n"
   ]
  },
  {
   "cell_type": "code",
   "execution_count": 3,
   "metadata": {},
   "outputs": [],
   "source": [
    "import os\n",
    "import json\n",
    "import numpy as np\n",
    "import pandas as pd\n",
    "import matplotlib.pyplot as plt\n",
    "import seaborn as sns\n",
    "import scipy\n",
    "import missingno as msno\n",
    "import sklearn\n",
    "import dython\n",
    "# pour calculer VIF -Variance Influence Factor\n",
    "from sklearn.linear_model import LinearRegression\n",
    "# correlations catégoriques (Cramers V, Theils U)\n",
    "from dython.nominal import associations\n"
   ]
  },
  {
   "cell_type": "markdown",
   "metadata": {},
   "source": [
    "### 1.2.2 Liste des versions des bibliothèques utilisées\n"
   ]
  },
  {
   "cell_type": "code",
   "execution_count": 4,
   "metadata": {},
   "outputs": [
    {
     "name": "stdout",
     "output_type": "stream",
     "text": [
      "versions des bibliothèques utilisées:\n",
      "json==2.0.9; numpy==1.21.5; pandas==1.1.5; seaborn==0.11.2; scipy==1.7.3; missingno==0.5.0; sklearn==1.0.2; dython==0.6.8\n"
     ]
    }
   ],
   "source": [
    "from platform import python_version\n",
    "\n",
    "python_version()\n",
    "print('versions des bibliothèques utilisées:')\n",
    "print('; '.join(f'{m.__name__}=={m.__version__}' for m in globals(\n",
    ").values() if getattr(m, '__version__', None)))\n"
   ]
  },
  {
   "cell_type": "markdown",
   "metadata": {},
   "source": [
    "### 1.2.3 Configuration défauts d'affichage\n"
   ]
  },
  {
   "cell_type": "code",
   "execution_count": 5,
   "metadata": {},
   "outputs": [],
   "source": [
    "pd.set_option('display.max_columns', 200)  # pour afficher toutes les colonnes\n",
    "pd.set_option('display.max_rows', 10)  # pour afficher max 10 lignes\n",
    "pd.set_option('display.max_colwidth', 800)  # pour afficher toutes la text\n",
    "pd.set_option('display.precision', 2)\n",
    "pd.options.display.float_format = '{:.2f}'.format  # currency, lat,lng\n",
    "\n",
    "%matplotlib inline\n",
    "sns.set_theme(style=\"white\", context=\"notebook\")\n",
    "sns.set_color_codes(\"pastel\")\n",
    "sns.set_palette(\"tab20\")\n"
   ]
  },
  {
   "cell_type": "markdown",
   "metadata": {},
   "source": [
    "## 1.3 Des fonctions utilitaires\n",
    "\n",
    "### 1.3.1 Enregistrement des graphiques\n",
    "\n",
    "Pour enregistrer les graphiques, define **`SAVE_IMAGES = True`**\n"
   ]
  },
  {
   "cell_type": "code",
   "execution_count": 6,
   "metadata": {},
   "outputs": [],
   "source": [
    "SAVE_IMAGES = True\n",
    "IMAGE_FOLDER = './images/notebook'\n",
    "if not os.path.exists(IMAGE_FOLDER):\n",
    "    os.makedirs(IMAGE_FOLDER)\n"
   ]
  },
  {
   "cell_type": "code",
   "execution_count": 7,
   "metadata": {},
   "outputs": [],
   "source": [
    "def to_png(fig_name=None) -> None:\n",
    "    \"\"\"\n",
    "    Enregistre l'image dans un fichier,\n",
    "    il faut appeler avant plt.show() pour pouvoir ajuster la taille de l'image\n",
    "    avec bbox_inches=tight pour être sûr d'inclure le titre / legend entier.\n",
    "    \"\"\"\n",
    "\n",
    "    def get_title():\n",
    "        if plt.gcf()._suptitle is None:  # noqa\n",
    "            return plt.gca().get_title()\n",
    "        else:\n",
    "            return plt.gcf()._suptitle.get_text()  # noqa\n",
    "\n",
    "    if SAVE_IMAGES:\n",
    "        if fig_name is None:\n",
    "            fig_name = get_title()\n",
    "        elif len(fig_name) < 9:\n",
    "            fig_name = f'{fig_name}_{get_title()}'\n",
    "        fig_name = fig_name.replace(' ', '_').replace(':', '-').replace(\n",
    "            '.', '-').replace('/', '_').replace('>', 'gt.').replace('<', 'lt.')\n",
    "        print(f'\"{fig_name}.png\"')\n",
    "        plt.gcf().savefig(\n",
    "            f'{IMAGE_FOLDER}/{fig_name}.png', bbox_inches='tight')\n"
   ]
  },
  {
   "cell_type": "markdown",
   "metadata": {},
   "source": [
    "### 1.3.2 Vérifier que les colonnes sont dans le dataframe\n",
    "\n",
    "- sans changer l'ordre des colonnes\n"
   ]
  },
  {
   "cell_type": "code",
   "execution_count": 8,
   "metadata": {},
   "outputs": [],
   "source": [
    "def cols_in_df(df: pd.DataFrame, colonnes: list = None) -> list:\n",
    "    \"\"\"Procedure pour retourner les colonnes existantes dans le dataframe dans la même ordre.\n",
    "    Utiliser pour assurer que les colonnes existe.\n",
    "    \"\"\"\n",
    "    ret_cols = []\n",
    "    for col in colonnes:\n",
    "        if col in df.columns:\n",
    "            ret_cols.append(col)\n",
    "    return ret_cols\n"
   ]
  },
  {
   "cell_type": "markdown",
   "metadata": {},
   "source": [
    "# 2. Import et nettoyage des données\n",
    "\n",
    "Olist a fournit une [base de données](https://www.kaggle.com/olistbr/brazilian-ecommerce) anonymisée\n",
    "comportant des informations sur l’historique de commandes, les produits achetés, les commentaires de\n",
    "satisfaction, et la localisation des clients depuis janvier 2017.\n"
   ]
  },
  {
   "cell_type": "markdown",
   "metadata": {},
   "source": [
    "## 2.1 Description des données (metadata)\n",
    "\n",
    "Le data schema et déscription des champs sont fournis à la même [adresse](https://www.kaggle.com/olistbr/brazilian-ecommerce) que les données:\n",
    "\n",
    "<img width=\"564\" height=\"339\" alt=\"Data Schema\" src=\"https://i.imgur.com/HRhd2Y0.png\">\n"
   ]
  },
  {
   "cell_type": "markdown",
   "metadata": {},
   "source": [
    "## 2.2 Import des données\n"
   ]
  },
  {
   "cell_type": "code",
   "execution_count": 9,
   "metadata": {},
   "outputs": [
    {
     "name": "stdout",
     "output_type": "stream",
     "text": [
      "customers.shape = (99441, 5); columns : ['customer_id', 'customer_unique_id', 'customer_zip_code_prefix', 'customer_city', 'customer_state']\n"
     ]
    },
    {
     "data": {
      "text/html": [
       "<div>\n",
       "<style scoped>\n",
       "    .dataframe tbody tr th:only-of-type {\n",
       "        vertical-align: middle;\n",
       "    }\n",
       "\n",
       "    .dataframe tbody tr th {\n",
       "        vertical-align: top;\n",
       "    }\n",
       "\n",
       "    .dataframe thead th {\n",
       "        text-align: right;\n",
       "    }\n",
       "</style>\n",
       "<table border=\"1\" class=\"dataframe\">\n",
       "  <thead>\n",
       "    <tr style=\"text-align: right;\">\n",
       "      <th></th>\n",
       "      <th>customer_id</th>\n",
       "      <th>customer_unique_id</th>\n",
       "      <th>customer_zip_code_prefix</th>\n",
       "      <th>customer_city</th>\n",
       "      <th>customer_state</th>\n",
       "    </tr>\n",
       "  </thead>\n",
       "  <tbody>\n",
       "    <tr>\n",
       "      <th>0</th>\n",
       "      <td>06b8999e2fba1a1fbc88172c00ba8bc7</td>\n",
       "      <td>861eff4711a542e4b93843c6dd7febb0</td>\n",
       "      <td>14409</td>\n",
       "      <td>franca</td>\n",
       "      <td>SP</td>\n",
       "    </tr>\n",
       "    <tr>\n",
       "      <th>1</th>\n",
       "      <td>18955e83d337fd6b2def6b18a428ac77</td>\n",
       "      <td>290c77bc529b7ac935b93aa66c333dc3</td>\n",
       "      <td>9790</td>\n",
       "      <td>sao bernardo do campo</td>\n",
       "      <td>SP</td>\n",
       "    </tr>\n",
       "    <tr>\n",
       "      <th>2</th>\n",
       "      <td>4e7b3e00288586ebd08712fdd0374a03</td>\n",
       "      <td>060e732b5b29e8181a18229c7b0b2b5e</td>\n",
       "      <td>1151</td>\n",
       "      <td>sao paulo</td>\n",
       "      <td>SP</td>\n",
       "    </tr>\n",
       "    <tr>\n",
       "      <th>3</th>\n",
       "      <td>b2b6027bc5c5109e529d4dc6358b12c3</td>\n",
       "      <td>259dac757896d24d7702b9acbbff3f3c</td>\n",
       "      <td>8775</td>\n",
       "      <td>mogi das cruzes</td>\n",
       "      <td>SP</td>\n",
       "    </tr>\n",
       "    <tr>\n",
       "      <th>4</th>\n",
       "      <td>4f2d8ab171c80ec8364f7c12e35b23ad</td>\n",
       "      <td>345ecd01c38d18a9036ed96c73b8d066</td>\n",
       "      <td>13056</td>\n",
       "      <td>campinas</td>\n",
       "      <td>SP</td>\n",
       "    </tr>\n",
       "  </tbody>\n",
       "</table>\n",
       "</div>"
      ],
      "text/plain": [
       "                        customer_id                customer_unique_id  \\\n",
       "0  06b8999e2fba1a1fbc88172c00ba8bc7  861eff4711a542e4b93843c6dd7febb0   \n",
       "1  18955e83d337fd6b2def6b18a428ac77  290c77bc529b7ac935b93aa66c333dc3   \n",
       "2  4e7b3e00288586ebd08712fdd0374a03  060e732b5b29e8181a18229c7b0b2b5e   \n",
       "3  b2b6027bc5c5109e529d4dc6358b12c3  259dac757896d24d7702b9acbbff3f3c   \n",
       "4  4f2d8ab171c80ec8364f7c12e35b23ad  345ecd01c38d18a9036ed96c73b8d066   \n",
       "\n",
       "   customer_zip_code_prefix          customer_city customer_state  \n",
       "0                     14409                 franca             SP  \n",
       "1                      9790  sao bernardo do campo             SP  \n",
       "2                      1151              sao paulo             SP  \n",
       "3                      8775        mogi das cruzes             SP  \n",
       "4                     13056               campinas             SP  "
      ]
     },
     "execution_count": 9,
     "metadata": {},
     "output_type": "execute_result"
    }
   ],
   "source": [
    "DATA_DIR = 'data/raw'\n",
    "\n",
    "\n",
    "def load_dataset(set_name='customers'):\n",
    "    filename = f'{DATA_DIR}/olist_{set_name}_dataset.csv'\n",
    "    df = pd.read_csv(filename)\n",
    "    print(f'{set_name}.shape = {df.shape}; columns : {list(df.columns)}')\n",
    "    return df\n",
    "\n",
    "\n",
    "customers = load_dataset('customers')\n",
    "\n",
    "customers.head()\n"
   ]
  },
  {
   "cell_type": "markdown",
   "metadata": {},
   "source": [
    "## Chargé les autres datasets\n"
   ]
  },
  {
   "cell_type": "code",
   "execution_count": 10,
   "metadata": {},
   "outputs": [
    {
     "name": "stdout",
     "output_type": "stream",
     "text": [
      "geolocation.shape = (1000163, 5); columns : ['geolocation_zip_code_prefix', 'geolocation_lat', 'geolocation_lng', 'geolocation_city', 'geolocation_state']\n",
      "order_items.shape = (112650, 7); columns : ['order_id', 'order_item_id', 'product_id', 'seller_id', 'shipping_limit_date', 'price', 'freight_value']\n",
      "order_payments.shape = (103886, 5); columns : ['order_id', 'payment_sequential', 'payment_type', 'payment_installments', 'payment_value']\n",
      "order_reviews.shape = (99224, 7); columns : ['review_id', 'order_id', 'review_score', 'review_comment_title', 'review_comment_message', 'review_creation_date', 'review_answer_timestamp']\n",
      "orders.shape = (99441, 8); columns : ['order_id', 'customer_id', 'order_status', 'order_purchase_timestamp', 'order_approved_at', 'order_delivered_carrier_date', 'order_delivered_customer_date', 'order_estimated_delivery_date']\n",
      "products.shape = (32951, 9); columns : ['product_id', 'product_category_name', 'product_name_lenght', 'product_description_lenght', 'product_photos_qty', 'product_weight_g', 'product_length_cm', 'product_height_cm', 'product_width_cm']\n",
      "sellers.shape = (3095, 4); columns : ['seller_id', 'seller_zip_code_prefix', 'seller_city', 'seller_state']\n"
     ]
    }
   ],
   "source": [
    "geolocation = load_dataset('geolocation')\n",
    "order_items = load_dataset('order_items')\n",
    "order_payments = load_dataset('order_payments')\n",
    "order_reviews = load_dataset('order_reviews')\n",
    "orders = load_dataset('orders')\n",
    "products = load_dataset('products')\n",
    "sellers = load_dataset('sellers')\n",
    "product_category_names = pd.read_csv(\n",
    "    'data/raw/product_category_name_translation.csv')\n"
   ]
  },
  {
   "cell_type": "markdown",
   "metadata": {},
   "source": [
    "## 2.3 Description de données (après import)\n"
   ]
  },
  {
   "cell_type": "code",
   "execution_count": 11,
   "metadata": {},
   "outputs": [],
   "source": [
    "def decrire_dataframe(df: pd.DataFrame):\n",
    "    \"\"\"Retourner un dataframe avec des informations sur les colonnes d'un dataframe\"\"\"\n",
    "    print(f'{df.shape[0]} registres')\n",
    "    ret = df.columns.to_frame(name=\"column\").set_index('column')\n",
    "    ret['% manquantes'] = df.isna().mean()*100\n",
    "    ret['unique'] = df.nunique()\n",
    "    ret['dtype'] = df.dtypes\n",
    "    ret['min'] = df.min()\n",
    "    ret['max'] = df.max()\n",
    "    ret['std'] = df.std()\n",
    "    return ret\n"
   ]
  },
  {
   "cell_type": "markdown",
   "metadata": {},
   "source": [
    "### Customers\n"
   ]
  },
  {
   "cell_type": "code",
   "execution_count": 12,
   "metadata": {},
   "outputs": [
    {
     "name": "stdout",
     "output_type": "stream",
     "text": [
      "99441 registres\n"
     ]
    },
    {
     "data": {
      "text/html": [
       "<div>\n",
       "<style scoped>\n",
       "    .dataframe tbody tr th:only-of-type {\n",
       "        vertical-align: middle;\n",
       "    }\n",
       "\n",
       "    .dataframe tbody tr th {\n",
       "        vertical-align: top;\n",
       "    }\n",
       "\n",
       "    .dataframe thead th {\n",
       "        text-align: right;\n",
       "    }\n",
       "</style>\n",
       "<table border=\"1\" class=\"dataframe\">\n",
       "  <thead>\n",
       "    <tr style=\"text-align: right;\">\n",
       "      <th></th>\n",
       "      <th>% manquantes</th>\n",
       "      <th>unique</th>\n",
       "      <th>dtype</th>\n",
       "      <th>min</th>\n",
       "      <th>max</th>\n",
       "      <th>std</th>\n",
       "    </tr>\n",
       "    <tr>\n",
       "      <th>column</th>\n",
       "      <th></th>\n",
       "      <th></th>\n",
       "      <th></th>\n",
       "      <th></th>\n",
       "      <th></th>\n",
       "      <th></th>\n",
       "    </tr>\n",
       "  </thead>\n",
       "  <tbody>\n",
       "    <tr>\n",
       "      <th>customer_id</th>\n",
       "      <td>0.00</td>\n",
       "      <td>99441</td>\n",
       "      <td>object</td>\n",
       "      <td>00012a2ce6f8dcda20d059ce98491703</td>\n",
       "      <td>ffffe8b65bbe3087b653a978c870db99</td>\n",
       "      <td>nan</td>\n",
       "    </tr>\n",
       "    <tr>\n",
       "      <th>customer_unique_id</th>\n",
       "      <td>0.00</td>\n",
       "      <td>96096</td>\n",
       "      <td>object</td>\n",
       "      <td>0000366f3b9a7992bf8c76cfdf3221e2</td>\n",
       "      <td>ffffd2657e2aad2907e67c3e9daecbeb</td>\n",
       "      <td>nan</td>\n",
       "    </tr>\n",
       "    <tr>\n",
       "      <th>customer_zip_code_prefix</th>\n",
       "      <td>0.00</td>\n",
       "      <td>14994</td>\n",
       "      <td>int64</td>\n",
       "      <td>1003</td>\n",
       "      <td>99990</td>\n",
       "      <td>29797.94</td>\n",
       "    </tr>\n",
       "    <tr>\n",
       "      <th>customer_city</th>\n",
       "      <td>0.00</td>\n",
       "      <td>4119</td>\n",
       "      <td>object</td>\n",
       "      <td>abadia dos dourados</td>\n",
       "      <td>zortea</td>\n",
       "      <td>nan</td>\n",
       "    </tr>\n",
       "    <tr>\n",
       "      <th>customer_state</th>\n",
       "      <td>0.00</td>\n",
       "      <td>27</td>\n",
       "      <td>object</td>\n",
       "      <td>AC</td>\n",
       "      <td>TO</td>\n",
       "      <td>nan</td>\n",
       "    </tr>\n",
       "  </tbody>\n",
       "</table>\n",
       "</div>"
      ],
      "text/plain": [
       "                          % manquantes  unique   dtype  \\\n",
       "column                                                   \n",
       "customer_id                       0.00   99441  object   \n",
       "customer_unique_id                0.00   96096  object   \n",
       "customer_zip_code_prefix          0.00   14994   int64   \n",
       "customer_city                     0.00    4119  object   \n",
       "customer_state                    0.00      27  object   \n",
       "\n",
       "                                                       min  \\\n",
       "column                                                       \n",
       "customer_id               00012a2ce6f8dcda20d059ce98491703   \n",
       "customer_unique_id        0000366f3b9a7992bf8c76cfdf3221e2   \n",
       "customer_zip_code_prefix                              1003   \n",
       "customer_city                          abadia dos dourados   \n",
       "customer_state                                          AC   \n",
       "\n",
       "                                                       max      std  \n",
       "column                                                               \n",
       "customer_id               ffffe8b65bbe3087b653a978c870db99      nan  \n",
       "customer_unique_id        ffffd2657e2aad2907e67c3e9daecbeb      nan  \n",
       "customer_zip_code_prefix                             99990 29797.94  \n",
       "customer_city                                       zortea      nan  \n",
       "customer_state                                          TO      nan  "
      ]
     },
     "execution_count": 12,
     "metadata": {},
     "output_type": "execute_result"
    }
   ],
   "source": [
    "decrire_dataframe(customers)\n"
   ]
  },
  {
   "cell_type": "markdown",
   "metadata": {},
   "source": [
    "#### Combien de clients ont plus d'un 'customer_id'?\n",
    "\n",
    "Il y a 99441 registres, tous avec des unique customer_id (aucun dupliqué)\n",
    "Il y a 96096 unique clients.\n"
   ]
  },
  {
   "cell_type": "code",
   "execution_count": 13,
   "metadata": {},
   "outputs": [
    {
     "data": {
      "text/plain": [
       "customer_id\n",
       "1              93099\n",
       "2               2745\n",
       "3                203\n",
       "4                 30\n",
       "5                  8\n",
       "6                  6\n",
       "7                  3\n",
       "17                 1\n",
       "9                  1\n",
       "dtype: int64"
      ]
     },
     "execution_count": 13,
     "metadata": {},
     "output_type": "execute_result"
    }
   ],
   "source": [
    "customers[['customer_id', 'customer_unique_id']].groupby(\n",
    "    'customer_unique_id').agg('count').value_counts()\n"
   ]
  },
  {
   "cell_type": "markdown",
   "metadata": {},
   "source": [
    "#### Qualité des données customer\n",
    "\n",
    "- 100% remplis\n",
    "- utilise 'customer_unique_id' pour identifier chaque client, car environ 3000 clients ont plusieurs 'customer_id'\n",
    "- besoin de merge avec **geolocation** pour savoir la localisation des clients\n"
   ]
  },
  {
   "cell_type": "markdown",
   "metadata": {},
   "source": [
    "### Geolocation\n"
   ]
  },
  {
   "cell_type": "code",
   "execution_count": 14,
   "metadata": {},
   "outputs": [
    {
     "name": "stdout",
     "output_type": "stream",
     "text": [
      "1000163 registres\n"
     ]
    },
    {
     "data": {
      "text/html": [
       "<div>\n",
       "<style scoped>\n",
       "    .dataframe tbody tr th:only-of-type {\n",
       "        vertical-align: middle;\n",
       "    }\n",
       "\n",
       "    .dataframe tbody tr th {\n",
       "        vertical-align: top;\n",
       "    }\n",
       "\n",
       "    .dataframe thead th {\n",
       "        text-align: right;\n",
       "    }\n",
       "</style>\n",
       "<table border=\"1\" class=\"dataframe\">\n",
       "  <thead>\n",
       "    <tr style=\"text-align: right;\">\n",
       "      <th></th>\n",
       "      <th>% manquantes</th>\n",
       "      <th>unique</th>\n",
       "      <th>dtype</th>\n",
       "      <th>min</th>\n",
       "      <th>max</th>\n",
       "      <th>std</th>\n",
       "    </tr>\n",
       "    <tr>\n",
       "      <th>column</th>\n",
       "      <th></th>\n",
       "      <th></th>\n",
       "      <th></th>\n",
       "      <th></th>\n",
       "      <th></th>\n",
       "      <th></th>\n",
       "    </tr>\n",
       "  </thead>\n",
       "  <tbody>\n",
       "    <tr>\n",
       "      <th>geolocation_zip_code_prefix</th>\n",
       "      <td>0.00</td>\n",
       "      <td>19015</td>\n",
       "      <td>int64</td>\n",
       "      <td>1001</td>\n",
       "      <td>99990</td>\n",
       "      <td>30549.34</td>\n",
       "    </tr>\n",
       "    <tr>\n",
       "      <th>geolocation_lat</th>\n",
       "      <td>0.00</td>\n",
       "      <td>717358</td>\n",
       "      <td>float64</td>\n",
       "      <td>-36.61</td>\n",
       "      <td>45.07</td>\n",
       "      <td>5.72</td>\n",
       "    </tr>\n",
       "    <tr>\n",
       "      <th>geolocation_lng</th>\n",
       "      <td>0.00</td>\n",
       "      <td>717613</td>\n",
       "      <td>float64</td>\n",
       "      <td>-101.47</td>\n",
       "      <td>121.11</td>\n",
       "      <td>4.27</td>\n",
       "    </tr>\n",
       "    <tr>\n",
       "      <th>geolocation_city</th>\n",
       "      <td>0.00</td>\n",
       "      <td>8011</td>\n",
       "      <td>object</td>\n",
       "      <td>* cidade</td>\n",
       "      <td>óleo</td>\n",
       "      <td>nan</td>\n",
       "    </tr>\n",
       "    <tr>\n",
       "      <th>geolocation_state</th>\n",
       "      <td>0.00</td>\n",
       "      <td>27</td>\n",
       "      <td>object</td>\n",
       "      <td>AC</td>\n",
       "      <td>TO</td>\n",
       "      <td>nan</td>\n",
       "    </tr>\n",
       "  </tbody>\n",
       "</table>\n",
       "</div>"
      ],
      "text/plain": [
       "                             % manquantes  unique    dtype       min    max  \\\n",
       "column                                                                        \n",
       "geolocation_zip_code_prefix          0.00   19015    int64      1001  99990   \n",
       "geolocation_lat                      0.00  717358  float64    -36.61  45.07   \n",
       "geolocation_lng                      0.00  717613  float64   -101.47 121.11   \n",
       "geolocation_city                     0.00    8011   object  * cidade   óleo   \n",
       "geolocation_state                    0.00      27   object        AC     TO   \n",
       "\n",
       "                                 std  \n",
       "column                                \n",
       "geolocation_zip_code_prefix 30549.34  \n",
       "geolocation_lat                 5.72  \n",
       "geolocation_lng                 4.27  \n",
       "geolocation_city                 nan  \n",
       "geolocation_state                nan  "
      ]
     },
     "execution_count": 14,
     "metadata": {},
     "output_type": "execute_result"
    }
   ],
   "source": [
    "decrire_dataframe(geolocation)\n"
   ]
  },
  {
   "cell_type": "code",
   "execution_count": 15,
   "metadata": {},
   "outputs": [
    {
     "data": {
      "text/plain": [
       "<matplotlib.legend.Legend at 0x19135caf278>"
      ]
     },
     "execution_count": 15,
     "metadata": {},
     "output_type": "execute_result"
    },
    {
     "data": {
      "image/png": "[encoded data removed]",
      "text/plain": [
       "<Figure size 360x360 with 1 Axes>"
      ]
     },
     "metadata": {},
     "output_type": "display_data"
    }
   ],
   "source": [
    "plt.figure(figsize=(5, 5))\n",
    "sns.scatterplot(data=geolocation.sample(50000, random_state=0),\n",
    "                x='geolocation_lng', y='geolocation_lat', hue='geolocation_state')\n",
    "plt.legend(bbox_to_anchor=(1.5, 0.5), loc=5, ncol=2)\n"
   ]
  },
  {
   "cell_type": "markdown",
   "metadata": {},
   "source": [
    "#### Geolocation : qualité des données\n",
    "\n",
    "- les 'states' sont 100% remplies; il y a 27 unités fédératives au brésil\n",
    "- les 'city' ne sont pas toujours des vraies villes\n",
    "- les latitudes ne sont pas toujours en brésil ([5°16'20\" Nord à 33°44'32\" Sud de latitude](https://fr.wikipedia.org/wiki/G%C3%A9ographie_du_Br%C3%A9sil#Situation_et_%C3%A9tendue))\n",
    "- les longitudes ne sont pas toujours en brésil ([34°47'30\" Ouest à 73°59'32\" Ouest de longitude](https://fr.wikipedia.org/wiki/G%C3%A9ographie_du_Br%C3%A9sil#Situation_et_%C3%A9tendue))\n",
    "- Ce n'est pas clair pourquoi il y a environ 75 (lat,lng) pour chaque zip code - les (lat,lng) des adresses dans chaque zip ?\n"
   ]
  },
  {
   "cell_type": "markdown",
   "metadata": {},
   "source": [
    "#### Geolocations hors brésil\n"
   ]
  },
  {
   "cell_type": "code",
   "execution_count": 16,
   "metadata": {},
   "outputs": [
    {
     "name": "stdout",
     "output_type": "stream",
     "text": [
      "trop au nord  (26, 5)\n",
      "trop au sud  (5, 5)\n",
      "trop à l'est (33, 5)\n",
      "trop à l'ouest (4, 5)\n"
     ]
    },
    {
     "data": {
      "text/plain": [
       "(42, 5)"
      ]
     },
     "execution_count": 16,
     "metadata": {},
     "output_type": "execute_result"
    }
   ],
   "source": [
    "print('trop au nord ', geolocation[geolocation['geolocation_lat'] > 5.3].shape)\n",
    "print('trop au sud ',\n",
    "      geolocation[geolocation['geolocation_lat'] < -33.75].shape)\n",
    "print(\"trop à l'est\",\n",
    "      geolocation[geolocation['geolocation_lng'] > -34.7].shape)\n",
    "print(\"trop à l'ouest\",\n",
    "      geolocation[geolocation['geolocation_lng'] < -74].shape)\n",
    "\n",
    "mask_lat = (geolocation['geolocation_lat'] > 5.3) | (\n",
    "    geolocation['geolocation_lat'] < -33.75)\n",
    "mask_lng = (geolocation['geolocation_lng'] > -\n",
    "            34.7) | (geolocation['geolocation_lng'] < -74)\n",
    "hors_bresil = geolocation[mask_lat | mask_lng]\n",
    "hors_bresil.shape\n"
   ]
  },
  {
   "cell_type": "markdown",
   "metadata": {},
   "source": [
    "Eliminer les outliers de (lat,lng) dans les zipcodes\n"
   ]
  },
  {
   "cell_type": "code",
   "execution_count": 17,
   "metadata": {},
   "outputs": [
    {
     "data": {
      "text/plain": [
       "Text(0.5, 1.0, 'Latitudes et longitudes de zip_code_prefix 22210 (Flamengo, Rio de Janeiro)')"
      ]
     },
     "execution_count": 17,
     "metadata": {},
     "output_type": "execute_result"
    },
    {
     "data": {
      "image/png": "[encoded data removed]",
      "text/plain": [
       "<Figure size 432x288 with 1 Axes>"
      ]
     },
     "metadata": {},
     "output_type": "display_data"
    }
   ],
   "source": [
    "flamengo = geolocation[geolocation['geolocation_zip_code_prefix'] == 22210]\n",
    "sns.scatterplot(data=flamengo, x='geolocation_lat', y='geolocation_lng')\n",
    "plt.title(\n",
    "    'Latitudes et longitudes de zip_code_prefix 22210 (Flamengo, Rio de Janeiro)')\n"
   ]
  },
  {
   "cell_type": "markdown",
   "metadata": {},
   "source": [
    "#### Créer geolocations uniques des zipcodes\n",
    "\n",
    "Les données sont anonymisées, donc on prend la médiane des (lat,lng) pour chaque zip code, après avoir éliminé les 42 registres avec coordonées hors bresil (la mèdiane doit éliminer l'effet de quelques erreurs de lat,lng pour chaque zipcode)\n"
   ]
  },
  {
   "cell_type": "code",
   "execution_count": 18,
   "metadata": {},
   "outputs": [
    {
     "name": "stdout",
     "output_type": "stream",
     "text": [
      "(19018, 5)\n",
      "19018 registres\n"
     ]
    },
    {
     "data": {
      "text/html": [
       "<div>\n",
       "<style scoped>\n",
       "    .dataframe tbody tr th:only-of-type {\n",
       "        vertical-align: middle;\n",
       "    }\n",
       "\n",
       "    .dataframe tbody tr th {\n",
       "        vertical-align: top;\n",
       "    }\n",
       "\n",
       "    .dataframe thead th {\n",
       "        text-align: right;\n",
       "    }\n",
       "</style>\n",
       "<table border=\"1\" class=\"dataframe\">\n",
       "  <thead>\n",
       "    <tr style=\"text-align: right;\">\n",
       "      <th></th>\n",
       "      <th>% manquantes</th>\n",
       "      <th>unique</th>\n",
       "      <th>dtype</th>\n",
       "      <th>min</th>\n",
       "      <th>max</th>\n",
       "      <th>std</th>\n",
       "    </tr>\n",
       "    <tr>\n",
       "      <th>column</th>\n",
       "      <th></th>\n",
       "      <th></th>\n",
       "      <th></th>\n",
       "      <th></th>\n",
       "      <th></th>\n",
       "      <th></th>\n",
       "    </tr>\n",
       "  </thead>\n",
       "  <tbody>\n",
       "    <tr>\n",
       "      <th>geolocation_zip_code_prefix</th>\n",
       "      <td>0.00</td>\n",
       "      <td>19010</td>\n",
       "      <td>int64</td>\n",
       "      <td>1001</td>\n",
       "      <td>99990</td>\n",
       "      <td>30904.84</td>\n",
       "    </tr>\n",
       "    <tr>\n",
       "      <th>geolocation_state</th>\n",
       "      <td>0.00</td>\n",
       "      <td>27</td>\n",
       "      <td>object</td>\n",
       "      <td>AC</td>\n",
       "      <td>TO</td>\n",
       "      <td>nan</td>\n",
       "    </tr>\n",
       "    <tr>\n",
       "      <th>geolocation_lat</th>\n",
       "      <td>0.00</td>\n",
       "      <td>18993</td>\n",
       "      <td>float64</td>\n",
       "      <td>-33.69</td>\n",
       "      <td>4.48</td>\n",
       "      <td>7.24</td>\n",
       "    </tr>\n",
       "    <tr>\n",
       "      <th>geolocation_lng</th>\n",
       "      <td>0.00</td>\n",
       "      <td>18993</td>\n",
       "      <td>float64</td>\n",
       "      <td>-72.91</td>\n",
       "      <td>-34.80</td>\n",
       "      <td>5.20</td>\n",
       "    </tr>\n",
       "    <tr>\n",
       "      <th>count</th>\n",
       "      <td>0.00</td>\n",
       "      <td>483</td>\n",
       "      <td>int64</td>\n",
       "      <td>1</td>\n",
       "      <td>1146</td>\n",
       "      <td>72.06</td>\n",
       "    </tr>\n",
       "  </tbody>\n",
       "</table>\n",
       "</div>"
      ],
      "text/plain": [
       "                             % manquantes  unique    dtype    min    max  \\\n",
       "column                                                                     \n",
       "geolocation_zip_code_prefix          0.00   19010    int64   1001  99990   \n",
       "geolocation_state                    0.00      27   object     AC     TO   \n",
       "geolocation_lat                      0.00   18993  float64 -33.69   4.48   \n",
       "geolocation_lng                      0.00   18993  float64 -72.91 -34.80   \n",
       "count                                0.00     483    int64      1   1146   \n",
       "\n",
       "                                 std  \n",
       "column                                \n",
       "geolocation_zip_code_prefix 30904.84  \n",
       "geolocation_state                nan  \n",
       "geolocation_lat                 7.24  \n",
       "geolocation_lng                 5.20  \n",
       "count                          72.06  "
      ]
     },
     "execution_count": 18,
     "metadata": {},
     "output_type": "execute_result"
    }
   ],
   "source": [
    "geoloc: pd.DataFrame = (geolocation\n",
    "                        .drop(hors_bresil.index)\n",
    "                        .dropna(subset=['geolocation_lat', 'geolocation_lng'])\n",
    "                        .groupby(['geolocation_zip_code_prefix', 'geolocation_state'])\n",
    "                        .agg({'geolocation_lat': 'median', 'geolocation_lng': 'median', 'geolocation_city': 'count'})\n",
    "                        .rename(columns={'geolocation_city': 'count'})\n",
    "                        .reset_index())\n",
    "print(geoloc.shape)\n",
    "decrire_dataframe(geoloc)\n"
   ]
  },
  {
   "cell_type": "markdown",
   "metadata": {},
   "source": [
    "Il y a 8 zipcodes avec duplicates :\n"
   ]
  },
  {
   "cell_type": "code",
   "execution_count": 19,
   "metadata": {},
   "outputs": [
    {
     "data": {
      "text/html": [
       "<div>\n",
       "<style scoped>\n",
       "    .dataframe tbody tr th:only-of-type {\n",
       "        vertical-align: middle;\n",
       "    }\n",
       "\n",
       "    .dataframe tbody tr th {\n",
       "        vertical-align: top;\n",
       "    }\n",
       "\n",
       "    .dataframe thead th {\n",
       "        text-align: right;\n",
       "    }\n",
       "</style>\n",
       "<table border=\"1\" class=\"dataframe\">\n",
       "  <thead>\n",
       "    <tr style=\"text-align: right;\">\n",
       "      <th></th>\n",
       "      <th>geolocation_zip_code_prefix</th>\n",
       "      <th>geolocation_state</th>\n",
       "      <th>geolocation_lat</th>\n",
       "      <th>geolocation_lng</th>\n",
       "      <th>count</th>\n",
       "    </tr>\n",
       "  </thead>\n",
       "  <tbody>\n",
       "    <tr>\n",
       "      <th>367</th>\n",
       "      <td>2116</td>\n",
       "      <td>RN</td>\n",
       "      <td>-23.52</td>\n",
       "      <td>-46.58</td>\n",
       "      <td>1</td>\n",
       "    </tr>\n",
       "    <tr>\n",
       "      <th>368</th>\n",
       "      <td>2116</td>\n",
       "      <td>SP</td>\n",
       "      <td>-23.52</td>\n",
       "      <td>-46.58</td>\n",
       "      <td>12</td>\n",
       "    </tr>\n",
       "    <tr>\n",
       "      <th>1669</th>\n",
       "      <td>4011</td>\n",
       "      <td>AC</td>\n",
       "      <td>-23.58</td>\n",
       "      <td>-46.65</td>\n",
       "      <td>1</td>\n",
       "    </tr>\n",
       "    <tr>\n",
       "      <th>1670</th>\n",
       "      <td>4011</td>\n",
       "      <td>SP</td>\n",
       "      <td>-23.58</td>\n",
       "      <td>-46.64</td>\n",
       "      <td>178</td>\n",
       "    </tr>\n",
       "    <tr>\n",
       "      <th>6507</th>\n",
       "      <td>21550</td>\n",
       "      <td>AC</td>\n",
       "      <td>-22.86</td>\n",
       "      <td>-43.35</td>\n",
       "      <td>1</td>\n",
       "    </tr>\n",
       "    <tr>\n",
       "      <th>6508</th>\n",
       "      <td>21550</td>\n",
       "      <td>RJ</td>\n",
       "      <td>-22.86</td>\n",
       "      <td>-43.35</td>\n",
       "      <td>170</td>\n",
       "    </tr>\n",
       "    <tr>\n",
       "      <th>6698</th>\n",
       "      <td>23056</td>\n",
       "      <td>AC</td>\n",
       "      <td>-22.92</td>\n",
       "      <td>-43.61</td>\n",
       "      <td>1</td>\n",
       "    </tr>\n",
       "    <tr>\n",
       "      <th>6699</th>\n",
       "      <td>23056</td>\n",
       "      <td>RJ</td>\n",
       "      <td>-22.92</td>\n",
       "      <td>-43.61</td>\n",
       "      <td>60</td>\n",
       "    </tr>\n",
       "  </tbody>\n",
       "</table>\n",
       "</div>"
      ],
      "text/plain": [
       "      geolocation_zip_code_prefix geolocation_state  geolocation_lat  \\\n",
       "367                          2116                RN           -23.52   \n",
       "368                          2116                SP           -23.52   \n",
       "1669                         4011                AC           -23.58   \n",
       "1670                         4011                SP           -23.58   \n",
       "6507                        21550                AC           -22.86   \n",
       "6508                        21550                RJ           -22.86   \n",
       "6698                        23056                AC           -22.92   \n",
       "6699                        23056                RJ           -22.92   \n",
       "\n",
       "      geolocation_lng  count  \n",
       "367            -46.58      1  \n",
       "368            -46.58     12  \n",
       "1669           -46.65      1  \n",
       "1670           -46.64    178  \n",
       "6507           -43.35      1  \n",
       "6508           -43.35    170  \n",
       "6698           -43.61      1  \n",
       "6699           -43.61     60  "
      ]
     },
     "execution_count": 19,
     "metadata": {},
     "output_type": "execute_result"
    }
   ],
   "source": [
    "geoloc_dups = geoloc[geoloc.duplicated(\n",
    "    keep=False, subset=['geolocation_zip_code_prefix'])]\n",
    "geoloc_dups.head(8)\n"
   ]
  },
  {
   "cell_type": "markdown",
   "metadata": {},
   "source": [
    "Supprime les zipcodes duplicates ou il y a moins d'entrées\n"
   ]
  },
  {
   "cell_type": "code",
   "execution_count": 20,
   "metadata": {},
   "outputs": [
    {
     "name": "stdout",
     "output_type": "stream",
     "text": [
      "19010 registres\n"
     ]
    },
    {
     "data": {
      "text/html": [
       "<div>\n",
       "<style scoped>\n",
       "    .dataframe tbody tr th:only-of-type {\n",
       "        vertical-align: middle;\n",
       "    }\n",
       "\n",
       "    .dataframe tbody tr th {\n",
       "        vertical-align: top;\n",
       "    }\n",
       "\n",
       "    .dataframe thead th {\n",
       "        text-align: right;\n",
       "    }\n",
       "</style>\n",
       "<table border=\"1\" class=\"dataframe\">\n",
       "  <thead>\n",
       "    <tr style=\"text-align: right;\">\n",
       "      <th></th>\n",
       "      <th>% manquantes</th>\n",
       "      <th>unique</th>\n",
       "      <th>dtype</th>\n",
       "      <th>min</th>\n",
       "      <th>max</th>\n",
       "      <th>std</th>\n",
       "    </tr>\n",
       "    <tr>\n",
       "      <th>column</th>\n",
       "      <th></th>\n",
       "      <th></th>\n",
       "      <th></th>\n",
       "      <th></th>\n",
       "      <th></th>\n",
       "      <th></th>\n",
       "    </tr>\n",
       "  </thead>\n",
       "  <tbody>\n",
       "    <tr>\n",
       "      <th>geolocation_zip_code_prefix</th>\n",
       "      <td>0.00</td>\n",
       "      <td>19010</td>\n",
       "      <td>int64</td>\n",
       "      <td>1001</td>\n",
       "      <td>99990</td>\n",
       "      <td>30903.69</td>\n",
       "    </tr>\n",
       "    <tr>\n",
       "      <th>geolocation_state</th>\n",
       "      <td>0.00</td>\n",
       "      <td>27</td>\n",
       "      <td>object</td>\n",
       "      <td>AC</td>\n",
       "      <td>TO</td>\n",
       "      <td>nan</td>\n",
       "    </tr>\n",
       "    <tr>\n",
       "      <th>geolocation_lat</th>\n",
       "      <td>0.00</td>\n",
       "      <td>18985</td>\n",
       "      <td>float64</td>\n",
       "      <td>-33.69</td>\n",
       "      <td>4.48</td>\n",
       "      <td>7.24</td>\n",
       "    </tr>\n",
       "    <tr>\n",
       "      <th>geolocation_lng</th>\n",
       "      <td>0.00</td>\n",
       "      <td>18985</td>\n",
       "      <td>float64</td>\n",
       "      <td>-72.91</td>\n",
       "      <td>-34.80</td>\n",
       "      <td>5.20</td>\n",
       "    </tr>\n",
       "    <tr>\n",
       "      <th>count</th>\n",
       "      <td>0.00</td>\n",
       "      <td>483</td>\n",
       "      <td>int64</td>\n",
       "      <td>1</td>\n",
       "      <td>1146</td>\n",
       "      <td>72.06</td>\n",
       "    </tr>\n",
       "  </tbody>\n",
       "</table>\n",
       "</div>"
      ],
      "text/plain": [
       "                             % manquantes  unique    dtype    min    max  \\\n",
       "column                                                                     \n",
       "geolocation_zip_code_prefix          0.00   19010    int64   1001  99990   \n",
       "geolocation_state                    0.00      27   object     AC     TO   \n",
       "geolocation_lat                      0.00   18985  float64 -33.69   4.48   \n",
       "geolocation_lng                      0.00   18985  float64 -72.91 -34.80   \n",
       "count                                0.00     483    int64      1   1146   \n",
       "\n",
       "                                 std  \n",
       "column                                \n",
       "geolocation_zip_code_prefix 30903.69  \n",
       "geolocation_state                nan  \n",
       "geolocation_lat                 7.24  \n",
       "geolocation_lng                 5.20  \n",
       "count                          72.06  "
      ]
     },
     "execution_count": 20,
     "metadata": {},
     "output_type": "execute_result"
    }
   ],
   "source": [
    "geoloc = geoloc.sort_values(by='count', ascending=False).drop_duplicates(\n",
    "    keep='first', subset='geolocation_zip_code_prefix')\n",
    "decrire_dataframe(geoloc)\n"
   ]
  },
  {
   "cell_type": "code",
   "execution_count": 21,
   "metadata": {},
   "outputs": [
    {
     "data": {
      "text/plain": [
       "Text(0.5, 1.0, 'Localisation des zipcodes')"
      ]
     },
     "execution_count": 21,
     "metadata": {},
     "output_type": "execute_result"
    },
    {
     "data": {
      "image/png": "[encoded data removed]",
      "text/plain": [
       "<Figure size 360x360 with 1 Axes>"
      ]
     },
     "metadata": {},
     "output_type": "display_data"
    }
   ],
   "source": [
    "hue_order = sorted(geoloc['geolocation_state'].unique())\n",
    "plt.figure(figsize=(5, 5))\n",
    "sns.scatterplot(data=geoloc, x='geolocation_lng', y='geolocation_lat',\n",
    "                hue='geolocation_state', hue_order=hue_order, palette='nipy_spectral')\n",
    "plt.legend(title='Etat', bbox_to_anchor=(1.5, 0.5), loc=5, ncol=2)\n",
    "plt.title('Localisation des zipcodes', fontsize=14)\n"
   ]
  },
  {
   "cell_type": "markdown",
   "metadata": {},
   "source": [
    "Les zipcodes correspond à toutes les états féderals du Brésil. Quelques zipcodes sont attribuées au mauvais état ou au mauvais latitude, longitude.\n"
   ]
  },
  {
   "cell_type": "markdown",
   "metadata": {},
   "source": [
    "### Order items\n"
   ]
  },
  {
   "cell_type": "code",
   "execution_count": 22,
   "metadata": {},
   "outputs": [
    {
     "name": "stdout",
     "output_type": "stream",
     "text": [
      "112650 registres\n"
     ]
    },
    {
     "data": {
      "text/html": [
       "<div>\n",
       "<style scoped>\n",
       "    .dataframe tbody tr th:only-of-type {\n",
       "        vertical-align: middle;\n",
       "    }\n",
       "\n",
       "    .dataframe tbody tr th {\n",
       "        vertical-align: top;\n",
       "    }\n",
       "\n",
       "    .dataframe thead th {\n",
       "        text-align: right;\n",
       "    }\n",
       "</style>\n",
       "<table border=\"1\" class=\"dataframe\">\n",
       "  <thead>\n",
       "    <tr style=\"text-align: right;\">\n",
       "      <th></th>\n",
       "      <th>% manquantes</th>\n",
       "      <th>unique</th>\n",
       "      <th>dtype</th>\n",
       "      <th>min</th>\n",
       "      <th>max</th>\n",
       "      <th>std</th>\n",
       "    </tr>\n",
       "    <tr>\n",
       "      <th>column</th>\n",
       "      <th></th>\n",
       "      <th></th>\n",
       "      <th></th>\n",
       "      <th></th>\n",
       "      <th></th>\n",
       "      <th></th>\n",
       "    </tr>\n",
       "  </thead>\n",
       "  <tbody>\n",
       "    <tr>\n",
       "      <th>order_id</th>\n",
       "      <td>0.00</td>\n",
       "      <td>98666</td>\n",
       "      <td>object</td>\n",
       "      <td>00010242fe8c5a6d1ba2dd792cb16214</td>\n",
       "      <td>fffe41c64501cc87c801fd61db3f6244</td>\n",
       "      <td>nan</td>\n",
       "    </tr>\n",
       "    <tr>\n",
       "      <th>order_item_id</th>\n",
       "      <td>0.00</td>\n",
       "      <td>21</td>\n",
       "      <td>int64</td>\n",
       "      <td>1</td>\n",
       "      <td>21</td>\n",
       "      <td>0.71</td>\n",
       "    </tr>\n",
       "    <tr>\n",
       "      <th>product_id</th>\n",
       "      <td>0.00</td>\n",
       "      <td>32951</td>\n",
       "      <td>object</td>\n",
       "      <td>00066f42aeeb9f3007548bb9d3f33c38</td>\n",
       "      <td>fffe9eeff12fcbd74a2f2b007dde0c58</td>\n",
       "      <td>nan</td>\n",
       "    </tr>\n",
       "    <tr>\n",
       "      <th>seller_id</th>\n",
       "      <td>0.00</td>\n",
       "      <td>3095</td>\n",
       "      <td>object</td>\n",
       "      <td>0015a82c2db000af6aaaf3ae2ecb0532</td>\n",
       "      <td>ffff564a4f9085cd26170f4732393726</td>\n",
       "      <td>nan</td>\n",
       "    </tr>\n",
       "    <tr>\n",
       "      <th>shipping_limit_date</th>\n",
       "      <td>0.00</td>\n",
       "      <td>93318</td>\n",
       "      <td>object</td>\n",
       "      <td>2016-09-19 00:15:34</td>\n",
       "      <td>2020-04-09 22:35:08</td>\n",
       "      <td>nan</td>\n",
       "    </tr>\n",
       "    <tr>\n",
       "      <th>price</th>\n",
       "      <td>0.00</td>\n",
       "      <td>5968</td>\n",
       "      <td>float64</td>\n",
       "      <td>0.85</td>\n",
       "      <td>6735.00</td>\n",
       "      <td>183.63</td>\n",
       "    </tr>\n",
       "    <tr>\n",
       "      <th>freight_value</th>\n",
       "      <td>0.00</td>\n",
       "      <td>6999</td>\n",
       "      <td>float64</td>\n",
       "      <td>0.00</td>\n",
       "      <td>409.68</td>\n",
       "      <td>15.81</td>\n",
       "    </tr>\n",
       "  </tbody>\n",
       "</table>\n",
       "</div>"
      ],
      "text/plain": [
       "                     % manquantes  unique    dtype  \\\n",
       "column                                               \n",
       "order_id                     0.00   98666   object   \n",
       "order_item_id                0.00      21    int64   \n",
       "product_id                   0.00   32951   object   \n",
       "seller_id                    0.00    3095   object   \n",
       "shipping_limit_date          0.00   93318   object   \n",
       "price                        0.00    5968  float64   \n",
       "freight_value                0.00    6999  float64   \n",
       "\n",
       "                                                  min  \\\n",
       "column                                                  \n",
       "order_id             00010242fe8c5a6d1ba2dd792cb16214   \n",
       "order_item_id                                       1   \n",
       "product_id           00066f42aeeb9f3007548bb9d3f33c38   \n",
       "seller_id            0015a82c2db000af6aaaf3ae2ecb0532   \n",
       "shipping_limit_date               2016-09-19 00:15:34   \n",
       "price                                            0.85   \n",
       "freight_value                                    0.00   \n",
       "\n",
       "                                                  max    std  \n",
       "column                                                        \n",
       "order_id             fffe41c64501cc87c801fd61db3f6244    nan  \n",
       "order_item_id                                      21   0.71  \n",
       "product_id           fffe9eeff12fcbd74a2f2b007dde0c58    nan  \n",
       "seller_id            ffff564a4f9085cd26170f4732393726    nan  \n",
       "shipping_limit_date               2020-04-09 22:35:08    nan  \n",
       "price                                         6735.00 183.63  \n",
       "freight_value                                  409.68  15.81  "
      ]
     },
     "execution_count": 22,
     "metadata": {},
     "output_type": "execute_result"
    }
   ],
   "source": [
    "decrire_dataframe(order_items)\n"
   ]
  },
  {
   "cell_type": "code",
   "execution_count": 23,
   "metadata": {},
   "outputs": [
    {
     "data": {
      "text/plain": [
       "0"
      ]
     },
     "execution_count": 23,
     "metadata": {},
     "output_type": "execute_result"
    }
   ],
   "source": [
    "order_items.duplicated(subset=['order_id', 'order_item_id']).sum()\n"
   ]
  },
  {
   "cell_type": "markdown",
   "metadata": {},
   "source": [
    "#### Qualité des données order items\n",
    "\n",
    "- Aucun donnée manquantes\n",
    "- pas de dupliquées\n",
    "- prix entre 0.85 et 6735\n",
    "- Données atomiques - lien entre client et vendeur\n"
   ]
  },
  {
   "cell_type": "markdown",
   "metadata": {},
   "source": [
    "### Order payments\n"
   ]
  },
  {
   "cell_type": "code",
   "execution_count": 24,
   "metadata": {},
   "outputs": [
    {
     "name": "stdout",
     "output_type": "stream",
     "text": [
      "103886 registres\n"
     ]
    },
    {
     "data": {
      "text/html": [
       "<div>\n",
       "<style scoped>\n",
       "    .dataframe tbody tr th:only-of-type {\n",
       "        vertical-align: middle;\n",
       "    }\n",
       "\n",
       "    .dataframe tbody tr th {\n",
       "        vertical-align: top;\n",
       "    }\n",
       "\n",
       "    .dataframe thead th {\n",
       "        text-align: right;\n",
       "    }\n",
       "</style>\n",
       "<table border=\"1\" class=\"dataframe\">\n",
       "  <thead>\n",
       "    <tr style=\"text-align: right;\">\n",
       "      <th></th>\n",
       "      <th>% manquantes</th>\n",
       "      <th>unique</th>\n",
       "      <th>dtype</th>\n",
       "      <th>min</th>\n",
       "      <th>max</th>\n",
       "      <th>std</th>\n",
       "    </tr>\n",
       "    <tr>\n",
       "      <th>column</th>\n",
       "      <th></th>\n",
       "      <th></th>\n",
       "      <th></th>\n",
       "      <th></th>\n",
       "      <th></th>\n",
       "      <th></th>\n",
       "    </tr>\n",
       "  </thead>\n",
       "  <tbody>\n",
       "    <tr>\n",
       "      <th>order_id</th>\n",
       "      <td>0.00</td>\n",
       "      <td>99440</td>\n",
       "      <td>object</td>\n",
       "      <td>00010242fe8c5a6d1ba2dd792cb16214</td>\n",
       "      <td>fffe41c64501cc87c801fd61db3f6244</td>\n",
       "      <td>nan</td>\n",
       "    </tr>\n",
       "    <tr>\n",
       "      <th>payment_sequential</th>\n",
       "      <td>0.00</td>\n",
       "      <td>29</td>\n",
       "      <td>int64</td>\n",
       "      <td>1</td>\n",
       "      <td>29</td>\n",
       "      <td>0.71</td>\n",
       "    </tr>\n",
       "    <tr>\n",
       "      <th>payment_type</th>\n",
       "      <td>0.00</td>\n",
       "      <td>5</td>\n",
       "      <td>object</td>\n",
       "      <td>boleto</td>\n",
       "      <td>voucher</td>\n",
       "      <td>nan</td>\n",
       "    </tr>\n",
       "    <tr>\n",
       "      <th>payment_installments</th>\n",
       "      <td>0.00</td>\n",
       "      <td>24</td>\n",
       "      <td>int64</td>\n",
       "      <td>0</td>\n",
       "      <td>24</td>\n",
       "      <td>2.69</td>\n",
       "    </tr>\n",
       "    <tr>\n",
       "      <th>payment_value</th>\n",
       "      <td>0.00</td>\n",
       "      <td>29077</td>\n",
       "      <td>float64</td>\n",
       "      <td>0.00</td>\n",
       "      <td>13664.08</td>\n",
       "      <td>217.49</td>\n",
       "    </tr>\n",
       "  </tbody>\n",
       "</table>\n",
       "</div>"
      ],
      "text/plain": [
       "                      % manquantes  unique    dtype  \\\n",
       "column                                                \n",
       "order_id                      0.00   99440   object   \n",
       "payment_sequential            0.00      29    int64   \n",
       "payment_type                  0.00       5   object   \n",
       "payment_installments          0.00      24    int64   \n",
       "payment_value                 0.00   29077  float64   \n",
       "\n",
       "                                                   min  \\\n",
       "column                                                   \n",
       "order_id              00010242fe8c5a6d1ba2dd792cb16214   \n",
       "payment_sequential                                   1   \n",
       "payment_type                                    boleto   \n",
       "payment_installments                                 0   \n",
       "payment_value                                     0.00   \n",
       "\n",
       "                                                   max    std  \n",
       "column                                                         \n",
       "order_id              fffe41c64501cc87c801fd61db3f6244    nan  \n",
       "payment_sequential                                  29   0.71  \n",
       "payment_type                                   voucher    nan  \n",
       "payment_installments                                24   2.69  \n",
       "payment_value                                 13664.08 217.49  "
      ]
     },
     "execution_count": 24,
     "metadata": {},
     "output_type": "execute_result"
    }
   ],
   "source": [
    "decrire_dataframe(order_payments)\n"
   ]
  },
  {
   "cell_type": "code",
   "execution_count": 25,
   "metadata": {},
   "outputs": [
    {
     "data": {
      "text/plain": [
       "9"
      ]
     },
     "execution_count": 25,
     "metadata": {},
     "output_type": "execute_result"
    }
   ],
   "source": [
    "# combien de payments de zero valeur\n",
    "len(order_payments[order_payments['payment_value'] == 0])\n"
   ]
  },
  {
   "cell_type": "code",
   "execution_count": 26,
   "metadata": {},
   "outputs": [
    {
     "data": {
      "text/plain": [
       "payment_type                 \n",
       "{'credit_card'}                  74259\n",
       "{'boleto'}                       19784\n",
       "{'voucher', 'credit_card'}        2245\n",
       "{'voucher'}                       1621\n",
       "{'debit_card'}                    1527\n",
       "{'not_defined'}                      3\n",
       "{'credit_card', 'debit_card'}        1\n",
       "dtype: int64"
      ]
     },
     "execution_count": 26,
     "metadata": {},
     "output_type": "execute_result"
    }
   ],
   "source": [
    "order_payments.groupby('order_id').agg(\n",
    "    {'payment_type': set}).astype(str).value_counts()\n"
   ]
  },
  {
   "cell_type": "code",
   "execution_count": 27,
   "metadata": {},
   "outputs": [
    {
     "data": {
      "text/html": [
       "<div>\n",
       "<style scoped>\n",
       "    .dataframe tbody tr th:only-of-type {\n",
       "        vertical-align: middle;\n",
       "    }\n",
       "\n",
       "    .dataframe tbody tr th {\n",
       "        vertical-align: top;\n",
       "    }\n",
       "\n",
       "    .dataframe thead th {\n",
       "        text-align: right;\n",
       "    }\n",
       "</style>\n",
       "<table border=\"1\" class=\"dataframe\">\n",
       "  <thead>\n",
       "    <tr style=\"text-align: right;\">\n",
       "      <th></th>\n",
       "      <th>payment_value</th>\n",
       "    </tr>\n",
       "    <tr>\n",
       "      <th>payment_type</th>\n",
       "      <th></th>\n",
       "    </tr>\n",
       "  </thead>\n",
       "  <tbody>\n",
       "    <tr>\n",
       "      <th>credit_card</th>\n",
       "      <td>12542084.19</td>\n",
       "    </tr>\n",
       "    <tr>\n",
       "      <th>boleto</th>\n",
       "      <td>2869361.27</td>\n",
       "    </tr>\n",
       "    <tr>\n",
       "      <th>voucher</th>\n",
       "      <td>379436.87</td>\n",
       "    </tr>\n",
       "    <tr>\n",
       "      <th>debit_card</th>\n",
       "      <td>217989.79</td>\n",
       "    </tr>\n",
       "    <tr>\n",
       "      <th>not_defined</th>\n",
       "      <td>0.00</td>\n",
       "    </tr>\n",
       "  </tbody>\n",
       "</table>\n",
       "</div>"
      ],
      "text/plain": [
       "              payment_value\n",
       "payment_type               \n",
       "credit_card     12542084.19\n",
       "boleto           2869361.27\n",
       "voucher           379436.87\n",
       "debit_card        217989.79\n",
       "not_defined            0.00"
      ]
     },
     "execution_count": 27,
     "metadata": {},
     "output_type": "execute_result"
    }
   ],
   "source": [
    "order_payments.groupby('payment_type').agg(\n",
    "    {'payment_value': sum}).sort_values(by='payment_value', ascending=False)\n"
   ]
  },
  {
   "cell_type": "markdown",
   "metadata": {},
   "source": [
    "#### Qualité des données order payments\n",
    "\n",
    "- aucune donnée manquante\n",
    "- pas clair quand le payment a été effectué (si 8 installements, payé en 8 fois, un fois par mois?)\n",
    "- besoin d'aggreger payment_value pour savoir si c'est égal au valeur d'achat\n"
   ]
  },
  {
   "cell_type": "markdown",
   "metadata": {},
   "source": [
    "### Order reviews\n"
   ]
  },
  {
   "cell_type": "code",
   "execution_count": 28,
   "metadata": {},
   "outputs": [
    {
     "name": "stdout",
     "output_type": "stream",
     "text": [
      "99224 registres\n"
     ]
    },
    {
     "data": {
      "text/html": [
       "<div>\n",
       "<style scoped>\n",
       "    .dataframe tbody tr th:only-of-type {\n",
       "        vertical-align: middle;\n",
       "    }\n",
       "\n",
       "    .dataframe tbody tr th {\n",
       "        vertical-align: top;\n",
       "    }\n",
       "\n",
       "    .dataframe thead th {\n",
       "        text-align: right;\n",
       "    }\n",
       "</style>\n",
       "<table border=\"1\" class=\"dataframe\">\n",
       "  <thead>\n",
       "    <tr style=\"text-align: right;\">\n",
       "      <th></th>\n",
       "      <th>% manquantes</th>\n",
       "      <th>unique</th>\n",
       "      <th>dtype</th>\n",
       "      <th>min</th>\n",
       "      <th>max</th>\n",
       "      <th>std</th>\n",
       "    </tr>\n",
       "    <tr>\n",
       "      <th>column</th>\n",
       "      <th></th>\n",
       "      <th></th>\n",
       "      <th></th>\n",
       "      <th></th>\n",
       "      <th></th>\n",
       "      <th></th>\n",
       "    </tr>\n",
       "  </thead>\n",
       "  <tbody>\n",
       "    <tr>\n",
       "      <th>review_id</th>\n",
       "      <td>0.00</td>\n",
       "      <td>98410</td>\n",
       "      <td>object</td>\n",
       "      <td>0001239bc1de2e33cb583967c2ca4c67</td>\n",
       "      <td>fffefe7a48d22f7b32046421062219d1</td>\n",
       "      <td>nan</td>\n",
       "    </tr>\n",
       "    <tr>\n",
       "      <th>order_id</th>\n",
       "      <td>0.00</td>\n",
       "      <td>98673</td>\n",
       "      <td>object</td>\n",
       "      <td>00010242fe8c5a6d1ba2dd792cb16214</td>\n",
       "      <td>fffe41c64501cc87c801fd61db3f6244</td>\n",
       "      <td>nan</td>\n",
       "    </tr>\n",
       "    <tr>\n",
       "      <th>review_score</th>\n",
       "      <td>0.00</td>\n",
       "      <td>5</td>\n",
       "      <td>int64</td>\n",
       "      <td>1</td>\n",
       "      <td>5</td>\n",
       "      <td>1.35</td>\n",
       "    </tr>\n",
       "    <tr>\n",
       "      <th>review_comment_title</th>\n",
       "      <td>88.34</td>\n",
       "      <td>4527</td>\n",
       "      <td>object</td>\n",
       "      <td>NaN</td>\n",
       "      <td>NaN</td>\n",
       "      <td>nan</td>\n",
       "    </tr>\n",
       "    <tr>\n",
       "      <th>review_comment_message</th>\n",
       "      <td>58.70</td>\n",
       "      <td>36159</td>\n",
       "      <td>object</td>\n",
       "      <td>NaN</td>\n",
       "      <td>NaN</td>\n",
       "      <td>nan</td>\n",
       "    </tr>\n",
       "    <tr>\n",
       "      <th>review_creation_date</th>\n",
       "      <td>0.00</td>\n",
       "      <td>636</td>\n",
       "      <td>object</td>\n",
       "      <td>2016-10-02 00:00:00</td>\n",
       "      <td>2018-08-31 00:00:00</td>\n",
       "      <td>nan</td>\n",
       "    </tr>\n",
       "    <tr>\n",
       "      <th>review_answer_timestamp</th>\n",
       "      <td>0.00</td>\n",
       "      <td>98248</td>\n",
       "      <td>object</td>\n",
       "      <td>2016-10-07 18:32:28</td>\n",
       "      <td>2018-10-29 12:27:35</td>\n",
       "      <td>nan</td>\n",
       "    </tr>\n",
       "  </tbody>\n",
       "</table>\n",
       "</div>"
      ],
      "text/plain": [
       "                         % manquantes  unique   dtype  \\\n",
       "column                                                  \n",
       "review_id                        0.00   98410  object   \n",
       "order_id                         0.00   98673  object   \n",
       "review_score                     0.00       5   int64   \n",
       "review_comment_title            88.34    4527  object   \n",
       "review_comment_message          58.70   36159  object   \n",
       "review_creation_date             0.00     636  object   \n",
       "review_answer_timestamp          0.00   98248  object   \n",
       "\n",
       "                                                      min  \\\n",
       "column                                                      \n",
       "review_id                0001239bc1de2e33cb583967c2ca4c67   \n",
       "order_id                 00010242fe8c5a6d1ba2dd792cb16214   \n",
       "review_score                                            1   \n",
       "review_comment_title                                  NaN   \n",
       "review_comment_message                                NaN   \n",
       "review_creation_date                  2016-10-02 00:00:00   \n",
       "review_answer_timestamp               2016-10-07 18:32:28   \n",
       "\n",
       "                                                      max  std  \n",
       "column                                                          \n",
       "review_id                fffefe7a48d22f7b32046421062219d1  nan  \n",
       "order_id                 fffe41c64501cc87c801fd61db3f6244  nan  \n",
       "review_score                                            5 1.35  \n",
       "review_comment_title                                  NaN  nan  \n",
       "review_comment_message                                NaN  nan  \n",
       "review_creation_date                  2018-08-31 00:00:00  nan  \n",
       "review_answer_timestamp               2018-10-29 12:27:35  nan  "
      ]
     },
     "execution_count": 28,
     "metadata": {},
     "output_type": "execute_result"
    }
   ],
   "source": [
    "decrire_dataframe(order_reviews)\n"
   ]
  },
  {
   "cell_type": "code",
   "execution_count": 29,
   "metadata": {},
   "outputs": [
    {
     "data": {
      "text/plain": [
       "review_id\n",
       "1            98126\n",
       "2              543\n",
       "3                4\n",
       "dtype: int64"
      ]
     },
     "execution_count": 29,
     "metadata": {},
     "output_type": "execute_result"
    }
   ],
   "source": [
    "order_reviews.groupby('order_id').agg(\n",
    "    {'review_id': 'count'}).astype(str).value_counts()\n"
   ]
  },
  {
   "cell_type": "code",
   "execution_count": 30,
   "metadata": {},
   "outputs": [
    {
     "data": {
      "text/plain": [
       "Text(0.5, 1.0, 'Distribution du score des revues')"
      ]
     },
     "execution_count": 30,
     "metadata": {},
     "output_type": "execute_result"
    },
    {
     "data": {
      "image/png": "[encoded data removed]",
      "text/plain": [
       "<Figure size 432x288 with 1 Axes>"
      ]
     },
     "metadata": {},
     "output_type": "display_data"
    }
   ],
   "source": [
    "sns.countplot(data=order_reviews, x='review_score')\n",
    "plt.title('Distribution du score des revues')\n"
   ]
  },
  {
   "cell_type": "code",
   "execution_count": 31,
   "metadata": {},
   "outputs": [
    {
     "data": {
      "text/html": [
       "<div>\n",
       "<style scoped>\n",
       "    .dataframe tbody tr th:only-of-type {\n",
       "        vertical-align: middle;\n",
       "    }\n",
       "\n",
       "    .dataframe tbody tr th {\n",
       "        vertical-align: top;\n",
       "    }\n",
       "\n",
       "    .dataframe thead th {\n",
       "        text-align: right;\n",
       "    }\n",
       "</style>\n",
       "<table border=\"1\" class=\"dataframe\">\n",
       "  <thead>\n",
       "    <tr style=\"text-align: right;\">\n",
       "      <th></th>\n",
       "      <th>review_id</th>\n",
       "      <th>order_id</th>\n",
       "      <th>review_score</th>\n",
       "      <th>review_comment_title</th>\n",
       "      <th>review_comment_message</th>\n",
       "      <th>review_creation_date</th>\n",
       "      <th>review_answer_timestamp</th>\n",
       "    </tr>\n",
       "  </thead>\n",
       "  <tbody>\n",
       "    <tr>\n",
       "      <th>9</th>\n",
       "      <td>8670d52e15e00043ae7de4c01cc2fe06</td>\n",
       "      <td>b9bf720beb4ab3728760088589c62129</td>\n",
       "      <td>4</td>\n",
       "      <td>recomendo</td>\n",
       "      <td>aparelho eficiente. no site a marca do aparelho esta impresso como 3desinfector e ao chegar esta com outro nome...atualizar com a marca correta uma vez que é o mesmo aparelho</td>\n",
       "      <td>2018-05-22 00:00:00</td>\n",
       "      <td>2018-05-23 16:45:47</td>\n",
       "    </tr>\n",
       "    <tr>\n",
       "      <th>15</th>\n",
       "      <td>3948b09f7c818e2d86c9a546758b2335</td>\n",
       "      <td>e51478e7e277a83743b6f9991dbfa3fb</td>\n",
       "      <td>5</td>\n",
       "      <td>Super recomendo</td>\n",
       "      <td>Vendedor confiável, produto ok e entrega antes do prazo.</td>\n",
       "      <td>2018-05-23 00:00:00</td>\n",
       "      <td>2018-05-24 03:00:01</td>\n",
       "    </tr>\n",
       "    <tr>\n",
       "      <th>19</th>\n",
       "      <td>373cbeecea8286a2b66c97b1b157ec46</td>\n",
       "      <td>583174fbe37d3d5f0d6661be3aad1786</td>\n",
       "      <td>1</td>\n",
       "      <td>Não chegou meu produto</td>\n",
       "      <td>Péssimo</td>\n",
       "      <td>2018-08-15 00:00:00</td>\n",
       "      <td>2018-08-15 04:10:37</td>\n",
       "    </tr>\n",
       "    <tr>\n",
       "      <th>22</th>\n",
       "      <td>d21bbc789670eab777d27372ab9094cc</td>\n",
       "      <td>4fc44d78867142c627497b60a7e0228a</td>\n",
       "      <td>5</td>\n",
       "      <td>Ótimo</td>\n",
       "      <td>Loja nota 10</td>\n",
       "      <td>2018-07-10 00:00:00</td>\n",
       "      <td>2018-07-11 14:10:25</td>\n",
       "    </tr>\n",
       "    <tr>\n",
       "      <th>34</th>\n",
       "      <td>c92cdd7dd544a01aa35137f901669cdf</td>\n",
       "      <td>37e7875cdce5a9e5b3a692971f370151</td>\n",
       "      <td>4</td>\n",
       "      <td>Muito bom.</td>\n",
       "      <td>Recebi exatamente o que esperava. As demais encomendas de outros vendedores atrasaram, mas esta chegou no prazo.</td>\n",
       "      <td>2018-06-07 00:00:00</td>\n",
       "      <td>2018-06-09 18:44:02</td>\n",
       "    </tr>\n",
       "  </tbody>\n",
       "</table>\n",
       "</div>"
      ],
      "text/plain": [
       "                           review_id                          order_id  \\\n",
       "9   8670d52e15e00043ae7de4c01cc2fe06  b9bf720beb4ab3728760088589c62129   \n",
       "15  3948b09f7c818e2d86c9a546758b2335  e51478e7e277a83743b6f9991dbfa3fb   \n",
       "19  373cbeecea8286a2b66c97b1b157ec46  583174fbe37d3d5f0d6661be3aad1786   \n",
       "22  d21bbc789670eab777d27372ab9094cc  4fc44d78867142c627497b60a7e0228a   \n",
       "34  c92cdd7dd544a01aa35137f901669cdf  37e7875cdce5a9e5b3a692971f370151   \n",
       "\n",
       "    review_score     review_comment_title  \\\n",
       "9              4                recomendo   \n",
       "15             5          Super recomendo   \n",
       "19             1  Não chegou meu produto    \n",
       "22             5                    Ótimo   \n",
       "34             4               Muito bom.   \n",
       "\n",
       "                                                                                                                                                            review_comment_message  \\\n",
       "9   aparelho eficiente. no site a marca do aparelho esta impresso como 3desinfector e ao chegar esta com outro nome...atualizar com a marca correta uma vez que é o mesmo aparelho   \n",
       "15                                                                                                                        Vendedor confiável, produto ok e entrega antes do prazo.   \n",
       "19                                                                                                                                                                         Péssimo   \n",
       "22                                                                                                                                                                    Loja nota 10   \n",
       "34                                                                Recebi exatamente o que esperava. As demais encomendas de outros vendedores atrasaram, mas esta chegou no prazo.   \n",
       "\n",
       "   review_creation_date review_answer_timestamp  \n",
       "9   2018-05-22 00:00:00     2018-05-23 16:45:47  \n",
       "15  2018-05-23 00:00:00     2018-05-24 03:00:01  \n",
       "19  2018-08-15 00:00:00     2018-08-15 04:10:37  \n",
       "22  2018-07-10 00:00:00     2018-07-11 14:10:25  \n",
       "34  2018-06-07 00:00:00     2018-06-09 18:44:02  "
      ]
     },
     "execution_count": 31,
     "metadata": {},
     "output_type": "execute_result"
    }
   ],
   "source": [
    "order_reviews[order_reviews['review_comment_title'].notnull()].head()\n"
   ]
  },
  {
   "cell_type": "markdown",
   "metadata": {},
   "source": [
    "#### Qualité des données de 'review score':\n",
    "\n",
    "- 98673 unique order_id (comparé avec 98666 unique order_id dans order_items)\n",
    "- toutes les commandes on une score (aucune données manquantes dans colonne score)\n",
    "- jusqu'à 3 revues par commande, mais moins de 0.5% des commandes ont plus d'un revue\n",
    "- environ 40% des commandes contient un revue, seulement 11% contient un titre\n",
    "\n",
    "Dans le perimetre de ce projet (segmentation des clients), on retient seulement le score pour chaque commande, et le nombre de reviews écrit.\n",
    "\n",
    "- il peut être intéressant de faire du NLP sur les commentaires client, pour segmenter entre satisfait et pas satisfait, mais d'abord on voit si le score est suffisant.\n"
   ]
  },
  {
   "cell_type": "markdown",
   "metadata": {},
   "source": [
    "### Orders (commandes)\n"
   ]
  },
  {
   "cell_type": "code",
   "execution_count": 32,
   "metadata": {},
   "outputs": [
    {
     "name": "stdout",
     "output_type": "stream",
     "text": [
      "99441 registres\n"
     ]
    },
    {
     "data": {
      "text/html": [
       "<div>\n",
       "<style scoped>\n",
       "    .dataframe tbody tr th:only-of-type {\n",
       "        vertical-align: middle;\n",
       "    }\n",
       "\n",
       "    .dataframe tbody tr th {\n",
       "        vertical-align: top;\n",
       "    }\n",
       "\n",
       "    .dataframe thead th {\n",
       "        text-align: right;\n",
       "    }\n",
       "</style>\n",
       "<table border=\"1\" class=\"dataframe\">\n",
       "  <thead>\n",
       "    <tr style=\"text-align: right;\">\n",
       "      <th></th>\n",
       "      <th>% manquantes</th>\n",
       "      <th>unique</th>\n",
       "      <th>dtype</th>\n",
       "      <th>min</th>\n",
       "      <th>max</th>\n",
       "      <th>std</th>\n",
       "    </tr>\n",
       "    <tr>\n",
       "      <th>column</th>\n",
       "      <th></th>\n",
       "      <th></th>\n",
       "      <th></th>\n",
       "      <th></th>\n",
       "      <th></th>\n",
       "      <th></th>\n",
       "    </tr>\n",
       "  </thead>\n",
       "  <tbody>\n",
       "    <tr>\n",
       "      <th>order_id</th>\n",
       "      <td>0.00</td>\n",
       "      <td>99441</td>\n",
       "      <td>object</td>\n",
       "      <td>nan</td>\n",
       "      <td>nan</td>\n",
       "      <td>nan</td>\n",
       "    </tr>\n",
       "    <tr>\n",
       "      <th>customer_id</th>\n",
       "      <td>0.00</td>\n",
       "      <td>99441</td>\n",
       "      <td>object</td>\n",
       "      <td>nan</td>\n",
       "      <td>nan</td>\n",
       "      <td>nan</td>\n",
       "    </tr>\n",
       "    <tr>\n",
       "      <th>order_status</th>\n",
       "      <td>0.00</td>\n",
       "      <td>8</td>\n",
       "      <td>object</td>\n",
       "      <td>nan</td>\n",
       "      <td>nan</td>\n",
       "      <td>nan</td>\n",
       "    </tr>\n",
       "    <tr>\n",
       "      <th>order_purchase_timestamp</th>\n",
       "      <td>0.00</td>\n",
       "      <td>98875</td>\n",
       "      <td>object</td>\n",
       "      <td>nan</td>\n",
       "      <td>nan</td>\n",
       "      <td>nan</td>\n",
       "    </tr>\n",
       "    <tr>\n",
       "      <th>order_approved_at</th>\n",
       "      <td>0.16</td>\n",
       "      <td>90733</td>\n",
       "      <td>object</td>\n",
       "      <td>nan</td>\n",
       "      <td>nan</td>\n",
       "      <td>nan</td>\n",
       "    </tr>\n",
       "    <tr>\n",
       "      <th>order_delivered_carrier_date</th>\n",
       "      <td>1.79</td>\n",
       "      <td>81018</td>\n",
       "      <td>object</td>\n",
       "      <td>nan</td>\n",
       "      <td>nan</td>\n",
       "      <td>nan</td>\n",
       "    </tr>\n",
       "    <tr>\n",
       "      <th>order_delivered_customer_date</th>\n",
       "      <td>2.98</td>\n",
       "      <td>95664</td>\n",
       "      <td>object</td>\n",
       "      <td>nan</td>\n",
       "      <td>nan</td>\n",
       "      <td>nan</td>\n",
       "    </tr>\n",
       "    <tr>\n",
       "      <th>order_estimated_delivery_date</th>\n",
       "      <td>0.00</td>\n",
       "      <td>459</td>\n",
       "      <td>object</td>\n",
       "      <td>nan</td>\n",
       "      <td>nan</td>\n",
       "      <td>nan</td>\n",
       "    </tr>\n",
       "  </tbody>\n",
       "</table>\n",
       "</div>"
      ],
      "text/plain": [
       "                               % manquantes  unique   dtype  min  max  std\n",
       "column                                                                    \n",
       "order_id                               0.00   99441  object  nan  nan  nan\n",
       "customer_id                            0.00   99441  object  nan  nan  nan\n",
       "order_status                           0.00       8  object  nan  nan  nan\n",
       "order_purchase_timestamp               0.00   98875  object  nan  nan  nan\n",
       "order_approved_at                      0.16   90733  object  nan  nan  nan\n",
       "order_delivered_carrier_date           1.79   81018  object  nan  nan  nan\n",
       "order_delivered_customer_date          2.98   95664  object  nan  nan  nan\n",
       "order_estimated_delivery_date          0.00     459  object  nan  nan  nan"
      ]
     },
     "execution_count": 32,
     "metadata": {},
     "output_type": "execute_result"
    }
   ],
   "source": [
    "decrire_dataframe(orders)\n"
   ]
  },
  {
   "cell_type": "code",
   "execution_count": 33,
   "metadata": {},
   "outputs": [
    {
     "data": {
      "text/plain": [
       "delivered      96478\n",
       "shipped         1107\n",
       "canceled         625\n",
       "unavailable      609\n",
       "invoiced         314\n",
       "processing       301\n",
       "created            5\n",
       "approved           2\n",
       "Name: order_status, dtype: int64"
      ]
     },
     "execution_count": 33,
     "metadata": {},
     "output_type": "execute_result"
    }
   ],
   "source": [
    "orders['order_status'].value_counts()\n"
   ]
  },
  {
   "cell_type": "code",
   "execution_count": 34,
   "metadata": {},
   "outputs": [
    {
     "name": "stdout",
     "output_type": "stream",
     "text": [
      "(775, 8)\n",
      "unavailable    603\n",
      "canceled       164\n",
      "created          5\n",
      "invoiced         2\n",
      "shipped          1\n",
      "Name: order_status, dtype: int64\n"
     ]
    }
   ],
   "source": [
    "orders_sans_items = orders[~orders['order_id'].isin(order_items['order_id'])]\n",
    "print(orders_sans_items.shape)\n",
    "print(orders_sans_items['order_status'].value_counts())\n"
   ]
  },
  {
   "cell_type": "code",
   "execution_count": 35,
   "metadata": {},
   "outputs": [
    {
     "name": "stdout",
     "output_type": "stream",
     "text": [
      "(768, 8)\n",
      "delivered      646\n",
      "shipped         75\n",
      "canceled        20\n",
      "unavailable     14\n",
      "processing       6\n",
      "invoiced         5\n",
      "created          2\n",
      "Name: order_status, dtype: int64\n"
     ]
    }
   ],
   "source": [
    "orders_sans_review = orders[~orders['order_id'].isin(\n",
    "    order_reviews['order_id'])]\n",
    "print(orders_sans_review.shape)\n",
    "print(orders_sans_review['order_status'].value_counts())\n"
   ]
  },
  {
   "cell_type": "code",
   "execution_count": 36,
   "metadata": {},
   "outputs": [
    {
     "data": {
      "text/html": [
       "<div>\n",
       "<style scoped>\n",
       "    .dataframe tbody tr th:only-of-type {\n",
       "        vertical-align: middle;\n",
       "    }\n",
       "\n",
       "    .dataframe tbody tr th {\n",
       "        vertical-align: top;\n",
       "    }\n",
       "\n",
       "    .dataframe thead th {\n",
       "        text-align: right;\n",
       "    }\n",
       "</style>\n",
       "<table border=\"1\" class=\"dataframe\">\n",
       "  <thead>\n",
       "    <tr style=\"text-align: right;\">\n",
       "      <th></th>\n",
       "      <th>order_id</th>\n",
       "      <th>customer_id</th>\n",
       "      <th>order_status</th>\n",
       "      <th>order_purchase_timestamp</th>\n",
       "      <th>order_approved_at</th>\n",
       "      <th>order_delivered_carrier_date</th>\n",
       "      <th>order_delivered_customer_date</th>\n",
       "      <th>order_estimated_delivery_date</th>\n",
       "    </tr>\n",
       "  </thead>\n",
       "  <tbody>\n",
       "    <tr>\n",
       "      <th>6</th>\n",
       "      <td>136cce7faa42fdb2cefd53fdc79a6098</td>\n",
       "      <td>ed0271e0b7da060a393796590e7b737a</td>\n",
       "      <td>invoiced</td>\n",
       "      <td>2017-04-11 12:22:08</td>\n",
       "      <td>2017-04-13 13:25:17</td>\n",
       "      <td>NaN</td>\n",
       "      <td>NaN</td>\n",
       "      <td>2017-05-09 00:00:00</td>\n",
       "    </tr>\n",
       "    <tr>\n",
       "      <th>44</th>\n",
       "      <td>ee64d42b8cf066f35eac1cf57de1aa85</td>\n",
       "      <td>caded193e8e47b8362864762a83db3c5</td>\n",
       "      <td>shipped</td>\n",
       "      <td>2018-06-04 16:44:48</td>\n",
       "      <td>2018-06-05 04:31:18</td>\n",
       "      <td>2018-06-05 14:32:00</td>\n",
       "      <td>NaN</td>\n",
       "      <td>2018-06-28 00:00:00</td>\n",
       "    </tr>\n",
       "    <tr>\n",
       "      <th>103</th>\n",
       "      <td>0760a852e4e9d89eb77bf631eaaf1c84</td>\n",
       "      <td>d2a79636084590b7465af8ab374a8cf5</td>\n",
       "      <td>invoiced</td>\n",
       "      <td>2018-08-03 17:44:42</td>\n",
       "      <td>2018-08-07 06:15:14</td>\n",
       "      <td>NaN</td>\n",
       "      <td>NaN</td>\n",
       "      <td>2018-08-21 00:00:00</td>\n",
       "    </tr>\n",
       "    <tr>\n",
       "      <th>128</th>\n",
       "      <td>15bed8e2fec7fdbadb186b57c46c92f2</td>\n",
       "      <td>f3f0e613e0bdb9c7cee75504f0f90679</td>\n",
       "      <td>processing</td>\n",
       "      <td>2017-09-03 14:22:03</td>\n",
       "      <td>2017-09-03 14:30:09</td>\n",
       "      <td>NaN</td>\n",
       "      <td>NaN</td>\n",
       "      <td>2017-10-03 00:00:00</td>\n",
       "    </tr>\n",
       "    <tr>\n",
       "      <th>154</th>\n",
       "      <td>6942b8da583c2f9957e990d028607019</td>\n",
       "      <td>52006a9383bf149a4fb24226b173106f</td>\n",
       "      <td>shipped</td>\n",
       "      <td>2018-01-10 11:33:07</td>\n",
       "      <td>2018-01-11 02:32:30</td>\n",
       "      <td>2018-01-11 19:39:23</td>\n",
       "      <td>NaN</td>\n",
       "      <td>2018-02-07 00:00:00</td>\n",
       "    </tr>\n",
       "  </tbody>\n",
       "</table>\n",
       "</div>"
      ],
      "text/plain": [
       "                             order_id                       customer_id  \\\n",
       "6    136cce7faa42fdb2cefd53fdc79a6098  ed0271e0b7da060a393796590e7b737a   \n",
       "44   ee64d42b8cf066f35eac1cf57de1aa85  caded193e8e47b8362864762a83db3c5   \n",
       "103  0760a852e4e9d89eb77bf631eaaf1c84  d2a79636084590b7465af8ab374a8cf5   \n",
       "128  15bed8e2fec7fdbadb186b57c46c92f2  f3f0e613e0bdb9c7cee75504f0f90679   \n",
       "154  6942b8da583c2f9957e990d028607019  52006a9383bf149a4fb24226b173106f   \n",
       "\n",
       "    order_status order_purchase_timestamp    order_approved_at  \\\n",
       "6       invoiced      2017-04-11 12:22:08  2017-04-13 13:25:17   \n",
       "44       shipped      2018-06-04 16:44:48  2018-06-05 04:31:18   \n",
       "103     invoiced      2018-08-03 17:44:42  2018-08-07 06:15:14   \n",
       "128   processing      2017-09-03 14:22:03  2017-09-03 14:30:09   \n",
       "154      shipped      2018-01-10 11:33:07  2018-01-11 02:32:30   \n",
       "\n",
       "    order_delivered_carrier_date order_delivered_customer_date  \\\n",
       "6                            NaN                           NaN   \n",
       "44           2018-06-05 14:32:00                           NaN   \n",
       "103                          NaN                           NaN   \n",
       "128                          NaN                           NaN   \n",
       "154          2018-01-11 19:39:23                           NaN   \n",
       "\n",
       "    order_estimated_delivery_date  \n",
       "6             2017-05-09 00:00:00  \n",
       "44            2018-06-28 00:00:00  \n",
       "103           2018-08-21 00:00:00  \n",
       "128           2017-10-03 00:00:00  \n",
       "154           2018-02-07 00:00:00  "
      ]
     },
     "execution_count": 36,
     "metadata": {},
     "output_type": "execute_result"
    }
   ],
   "source": [
    "orders[orders['order_status'] != 'delivered'].head()\n"
   ]
  },
  {
   "cell_type": "code",
   "execution_count": 37,
   "metadata": {},
   "outputs": [
    {
     "name": "stdout",
     "output_type": "stream",
     "text": [
      "96478 registres\n"
     ]
    },
    {
     "data": {
      "text/html": [
       "<div>\n",
       "<style scoped>\n",
       "    .dataframe tbody tr th:only-of-type {\n",
       "        vertical-align: middle;\n",
       "    }\n",
       "\n",
       "    .dataframe tbody tr th {\n",
       "        vertical-align: top;\n",
       "    }\n",
       "\n",
       "    .dataframe thead th {\n",
       "        text-align: right;\n",
       "    }\n",
       "</style>\n",
       "<table border=\"1\" class=\"dataframe\">\n",
       "  <thead>\n",
       "    <tr style=\"text-align: right;\">\n",
       "      <th></th>\n",
       "      <th>% manquantes</th>\n",
       "      <th>unique</th>\n",
       "      <th>dtype</th>\n",
       "      <th>min</th>\n",
       "      <th>max</th>\n",
       "      <th>std</th>\n",
       "    </tr>\n",
       "    <tr>\n",
       "      <th>column</th>\n",
       "      <th></th>\n",
       "      <th></th>\n",
       "      <th></th>\n",
       "      <th></th>\n",
       "      <th></th>\n",
       "      <th></th>\n",
       "    </tr>\n",
       "  </thead>\n",
       "  <tbody>\n",
       "    <tr>\n",
       "      <th>order_id</th>\n",
       "      <td>0.00</td>\n",
       "      <td>96478</td>\n",
       "      <td>object</td>\n",
       "      <td>nan</td>\n",
       "      <td>nan</td>\n",
       "      <td>nan</td>\n",
       "    </tr>\n",
       "    <tr>\n",
       "      <th>customer_id</th>\n",
       "      <td>0.00</td>\n",
       "      <td>96478</td>\n",
       "      <td>object</td>\n",
       "      <td>nan</td>\n",
       "      <td>nan</td>\n",
       "      <td>nan</td>\n",
       "    </tr>\n",
       "    <tr>\n",
       "      <th>order_status</th>\n",
       "      <td>0.00</td>\n",
       "      <td>1</td>\n",
       "      <td>object</td>\n",
       "      <td>nan</td>\n",
       "      <td>nan</td>\n",
       "      <td>nan</td>\n",
       "    </tr>\n",
       "    <tr>\n",
       "      <th>order_purchase_timestamp</th>\n",
       "      <td>0.00</td>\n",
       "      <td>95956</td>\n",
       "      <td>object</td>\n",
       "      <td>nan</td>\n",
       "      <td>nan</td>\n",
       "      <td>nan</td>\n",
       "    </tr>\n",
       "    <tr>\n",
       "      <th>order_approved_at</th>\n",
       "      <td>0.01</td>\n",
       "      <td>88274</td>\n",
       "      <td>object</td>\n",
       "      <td>nan</td>\n",
       "      <td>nan</td>\n",
       "      <td>nan</td>\n",
       "    </tr>\n",
       "    <tr>\n",
       "      <th>order_delivered_carrier_date</th>\n",
       "      <td>0.00</td>\n",
       "      <td>80106</td>\n",
       "      <td>object</td>\n",
       "      <td>nan</td>\n",
       "      <td>nan</td>\n",
       "      <td>nan</td>\n",
       "    </tr>\n",
       "    <tr>\n",
       "      <th>order_delivered_customer_date</th>\n",
       "      <td>0.01</td>\n",
       "      <td>95658</td>\n",
       "      <td>object</td>\n",
       "      <td>nan</td>\n",
       "      <td>nan</td>\n",
       "      <td>nan</td>\n",
       "    </tr>\n",
       "    <tr>\n",
       "      <th>order_estimated_delivery_date</th>\n",
       "      <td>0.00</td>\n",
       "      <td>445</td>\n",
       "      <td>object</td>\n",
       "      <td>nan</td>\n",
       "      <td>nan</td>\n",
       "      <td>nan</td>\n",
       "    </tr>\n",
       "  </tbody>\n",
       "</table>\n",
       "</div>"
      ],
      "text/plain": [
       "                               % manquantes  unique   dtype  min  max  std\n",
       "column                                                                    \n",
       "order_id                               0.00   96478  object  nan  nan  nan\n",
       "customer_id                            0.00   96478  object  nan  nan  nan\n",
       "order_status                           0.00       1  object  nan  nan  nan\n",
       "order_purchase_timestamp               0.00   95956  object  nan  nan  nan\n",
       "order_approved_at                      0.01   88274  object  nan  nan  nan\n",
       "order_delivered_carrier_date           0.00   80106  object  nan  nan  nan\n",
       "order_delivered_customer_date          0.01   95658  object  nan  nan  nan\n",
       "order_estimated_delivery_date          0.00     445  object  nan  nan  nan"
      ]
     },
     "execution_count": 37,
     "metadata": {},
     "output_type": "execute_result"
    }
   ],
   "source": [
    "decrire_dataframe(orders[orders['order_status'] == 'delivered'])\n"
   ]
  },
  {
   "cell_type": "markdown",
   "metadata": {},
   "source": [
    "#### Qualité de données des commandes\n",
    "\n",
    "- autant de clients uniques que commandes uniques que registres (pas de dupliques)\n",
    "- aucune données manquantes pour les commandes livrés\n",
    "- pour les commandes pas livrés, les données manquantes sont expliqués par le non-livraison\n",
    "\n",
    "- les produits non-livrés seront plus complexe à analyser, car beaucoup non pas d'items associés (aucun idée de ceux que le client a commandé), et beaucoup non pas des reviews associés (aucun idée de la satisfaction de la client)\n"
   ]
  },
  {
   "cell_type": "markdown",
   "metadata": {},
   "source": [
    "### Products (et product category names)\n"
   ]
  },
  {
   "cell_type": "code",
   "execution_count": 38,
   "metadata": {},
   "outputs": [
    {
     "name": "stdout",
     "output_type": "stream",
     "text": [
      "32951 registres\n"
     ]
    },
    {
     "data": {
      "text/html": [
       "<div>\n",
       "<style scoped>\n",
       "    .dataframe tbody tr th:only-of-type {\n",
       "        vertical-align: middle;\n",
       "    }\n",
       "\n",
       "    .dataframe tbody tr th {\n",
       "        vertical-align: top;\n",
       "    }\n",
       "\n",
       "    .dataframe thead th {\n",
       "        text-align: right;\n",
       "    }\n",
       "</style>\n",
       "<table border=\"1\" class=\"dataframe\">\n",
       "  <thead>\n",
       "    <tr style=\"text-align: right;\">\n",
       "      <th></th>\n",
       "      <th>% manquantes</th>\n",
       "      <th>unique</th>\n",
       "      <th>dtype</th>\n",
       "      <th>min</th>\n",
       "      <th>max</th>\n",
       "      <th>std</th>\n",
       "    </tr>\n",
       "    <tr>\n",
       "      <th>column</th>\n",
       "      <th></th>\n",
       "      <th></th>\n",
       "      <th></th>\n",
       "      <th></th>\n",
       "      <th></th>\n",
       "      <th></th>\n",
       "    </tr>\n",
       "  </thead>\n",
       "  <tbody>\n",
       "    <tr>\n",
       "      <th>product_id</th>\n",
       "      <td>0.00</td>\n",
       "      <td>32951</td>\n",
       "      <td>object</td>\n",
       "      <td>00066f42aeeb9f3007548bb9d3f33c38</td>\n",
       "      <td>fffe9eeff12fcbd74a2f2b007dde0c58</td>\n",
       "      <td>nan</td>\n",
       "    </tr>\n",
       "    <tr>\n",
       "      <th>product_category_name</th>\n",
       "      <td>1.85</td>\n",
       "      <td>73</td>\n",
       "      <td>object</td>\n",
       "      <td>NaN</td>\n",
       "      <td>NaN</td>\n",
       "      <td>nan</td>\n",
       "    </tr>\n",
       "    <tr>\n",
       "      <th>product_name_lenght</th>\n",
       "      <td>1.85</td>\n",
       "      <td>66</td>\n",
       "      <td>float64</td>\n",
       "      <td>5.00</td>\n",
       "      <td>76.00</td>\n",
       "      <td>10.25</td>\n",
       "    </tr>\n",
       "    <tr>\n",
       "      <th>product_description_lenght</th>\n",
       "      <td>1.85</td>\n",
       "      <td>2960</td>\n",
       "      <td>float64</td>\n",
       "      <td>4.00</td>\n",
       "      <td>3992.00</td>\n",
       "      <td>635.12</td>\n",
       "    </tr>\n",
       "    <tr>\n",
       "      <th>product_photos_qty</th>\n",
       "      <td>1.85</td>\n",
       "      <td>19</td>\n",
       "      <td>float64</td>\n",
       "      <td>1.00</td>\n",
       "      <td>20.00</td>\n",
       "      <td>1.74</td>\n",
       "    </tr>\n",
       "    <tr>\n",
       "      <th>product_weight_g</th>\n",
       "      <td>0.01</td>\n",
       "      <td>2204</td>\n",
       "      <td>float64</td>\n",
       "      <td>0.00</td>\n",
       "      <td>40425.00</td>\n",
       "      <td>4282.04</td>\n",
       "    </tr>\n",
       "    <tr>\n",
       "      <th>product_length_cm</th>\n",
       "      <td>0.01</td>\n",
       "      <td>99</td>\n",
       "      <td>float64</td>\n",
       "      <td>7.00</td>\n",
       "      <td>105.00</td>\n",
       "      <td>16.91</td>\n",
       "    </tr>\n",
       "    <tr>\n",
       "      <th>product_height_cm</th>\n",
       "      <td>0.01</td>\n",
       "      <td>102</td>\n",
       "      <td>float64</td>\n",
       "      <td>2.00</td>\n",
       "      <td>105.00</td>\n",
       "      <td>13.64</td>\n",
       "    </tr>\n",
       "    <tr>\n",
       "      <th>product_width_cm</th>\n",
       "      <td>0.01</td>\n",
       "      <td>95</td>\n",
       "      <td>float64</td>\n",
       "      <td>6.00</td>\n",
       "      <td>118.00</td>\n",
       "      <td>12.08</td>\n",
       "    </tr>\n",
       "  </tbody>\n",
       "</table>\n",
       "</div>"
      ],
      "text/plain": [
       "                            % manquantes  unique    dtype  \\\n",
       "column                                                      \n",
       "product_id                          0.00   32951   object   \n",
       "product_category_name               1.85      73   object   \n",
       "product_name_lenght                 1.85      66  float64   \n",
       "product_description_lenght          1.85    2960  float64   \n",
       "product_photos_qty                  1.85      19  float64   \n",
       "product_weight_g                    0.01    2204  float64   \n",
       "product_length_cm                   0.01      99  float64   \n",
       "product_height_cm                   0.01     102  float64   \n",
       "product_width_cm                    0.01      95  float64   \n",
       "\n",
       "                                                         min  \\\n",
       "column                                                         \n",
       "product_id                  00066f42aeeb9f3007548bb9d3f33c38   \n",
       "product_category_name                                    NaN   \n",
       "product_name_lenght                                     5.00   \n",
       "product_description_lenght                              4.00   \n",
       "product_photos_qty                                      1.00   \n",
       "product_weight_g                                        0.00   \n",
       "product_length_cm                                       7.00   \n",
       "product_height_cm                                       2.00   \n",
       "product_width_cm                                        6.00   \n",
       "\n",
       "                                                         max     std  \n",
       "column                                                                \n",
       "product_id                  fffe9eeff12fcbd74a2f2b007dde0c58     nan  \n",
       "product_category_name                                    NaN     nan  \n",
       "product_name_lenght                                    76.00   10.25  \n",
       "product_description_lenght                           3992.00  635.12  \n",
       "product_photos_qty                                     20.00    1.74  \n",
       "product_weight_g                                    40425.00 4282.04  \n",
       "product_length_cm                                     105.00   16.91  \n",
       "product_height_cm                                     105.00   13.64  \n",
       "product_width_cm                                      118.00   12.08  "
      ]
     },
     "execution_count": 38,
     "metadata": {},
     "output_type": "execute_result"
    }
   ],
   "source": [
    "decrire_dataframe(products)\n"
   ]
  },
  {
   "cell_type": "code",
   "execution_count": 39,
   "metadata": {},
   "outputs": [
    {
     "data": {
      "text/html": [
       "<div>\n",
       "<style scoped>\n",
       "    .dataframe tbody tr th:only-of-type {\n",
       "        vertical-align: middle;\n",
       "    }\n",
       "\n",
       "    .dataframe tbody tr th {\n",
       "        vertical-align: top;\n",
       "    }\n",
       "\n",
       "    .dataframe thead th {\n",
       "        text-align: right;\n",
       "    }\n",
       "</style>\n",
       "<table border=\"1\" class=\"dataframe\">\n",
       "  <thead>\n",
       "    <tr style=\"text-align: right;\">\n",
       "      <th></th>\n",
       "      <th>product_id</th>\n",
       "      <th>product_category_name</th>\n",
       "      <th>product_name_lenght</th>\n",
       "      <th>product_description_lenght</th>\n",
       "      <th>product_photos_qty</th>\n",
       "      <th>product_weight_g</th>\n",
       "      <th>product_length_cm</th>\n",
       "      <th>product_height_cm</th>\n",
       "      <th>product_width_cm</th>\n",
       "    </tr>\n",
       "  </thead>\n",
       "  <tbody>\n",
       "    <tr>\n",
       "      <th>105</th>\n",
       "      <td>a41e356c76fab66334f36de622ecbd3a</td>\n",
       "      <td>NaN</td>\n",
       "      <td>nan</td>\n",
       "      <td>nan</td>\n",
       "      <td>nan</td>\n",
       "      <td>650.00</td>\n",
       "      <td>17.00</td>\n",
       "      <td>14.00</td>\n",
       "      <td>12.00</td>\n",
       "    </tr>\n",
       "    <tr>\n",
       "      <th>128</th>\n",
       "      <td>d8dee61c2034d6d075997acef1870e9b</td>\n",
       "      <td>NaN</td>\n",
       "      <td>nan</td>\n",
       "      <td>nan</td>\n",
       "      <td>nan</td>\n",
       "      <td>300.00</td>\n",
       "      <td>16.00</td>\n",
       "      <td>7.00</td>\n",
       "      <td>20.00</td>\n",
       "    </tr>\n",
       "    <tr>\n",
       "      <th>145</th>\n",
       "      <td>56139431d72cd51f19eb9f7dae4d1617</td>\n",
       "      <td>NaN</td>\n",
       "      <td>nan</td>\n",
       "      <td>nan</td>\n",
       "      <td>nan</td>\n",
       "      <td>200.00</td>\n",
       "      <td>20.00</td>\n",
       "      <td>20.00</td>\n",
       "      <td>20.00</td>\n",
       "    </tr>\n",
       "    <tr>\n",
       "      <th>154</th>\n",
       "      <td>46b48281eb6d663ced748f324108c733</td>\n",
       "      <td>NaN</td>\n",
       "      <td>nan</td>\n",
       "      <td>nan</td>\n",
       "      <td>nan</td>\n",
       "      <td>18500.00</td>\n",
       "      <td>41.00</td>\n",
       "      <td>30.00</td>\n",
       "      <td>41.00</td>\n",
       "    </tr>\n",
       "    <tr>\n",
       "      <th>197</th>\n",
       "      <td>5fb61f482620cb672f5e586bb132eae9</td>\n",
       "      <td>NaN</td>\n",
       "      <td>nan</td>\n",
       "      <td>nan</td>\n",
       "      <td>nan</td>\n",
       "      <td>300.00</td>\n",
       "      <td>35.00</td>\n",
       "      <td>7.00</td>\n",
       "      <td>12.00</td>\n",
       "    </tr>\n",
       "  </tbody>\n",
       "</table>\n",
       "</div>"
      ],
      "text/plain": [
       "                           product_id product_category_name  \\\n",
       "105  a41e356c76fab66334f36de622ecbd3a                   NaN   \n",
       "128  d8dee61c2034d6d075997acef1870e9b                   NaN   \n",
       "145  56139431d72cd51f19eb9f7dae4d1617                   NaN   \n",
       "154  46b48281eb6d663ced748f324108c733                   NaN   \n",
       "197  5fb61f482620cb672f5e586bb132eae9                   NaN   \n",
       "\n",
       "     product_name_lenght  product_description_lenght  product_photos_qty  \\\n",
       "105                  nan                         nan                 nan   \n",
       "128                  nan                         nan                 nan   \n",
       "145                  nan                         nan                 nan   \n",
       "154                  nan                         nan                 nan   \n",
       "197                  nan                         nan                 nan   \n",
       "\n",
       "     product_weight_g  product_length_cm  product_height_cm  product_width_cm  \n",
       "105            650.00              17.00              14.00             12.00  \n",
       "128            300.00              16.00               7.00             20.00  \n",
       "145            200.00              20.00              20.00             20.00  \n",
       "154          18500.00              41.00              30.00             41.00  \n",
       "197            300.00              35.00               7.00             12.00  "
      ]
     },
     "execution_count": 39,
     "metadata": {},
     "output_type": "execute_result"
    }
   ],
   "source": [
    "products[products['product_category_name'].isna()].head()\n"
   ]
  },
  {
   "cell_type": "code",
   "execution_count": 40,
   "metadata": {},
   "outputs": [
    {
     "data": {
      "text/plain": [
       "cama_mesa_banho          9.37\n",
       "esporte_lazer           18.23\n",
       "moveis_decoracao        26.45\n",
       "beleza_saude            34.00\n",
       "utilidades_domesticas   41.22\n",
       "Name: product_category_name, dtype: float64"
      ]
     },
     "execution_count": 40,
     "metadata": {},
     "output_type": "execute_result"
    }
   ],
   "source": [
    "products['product_category_name'].value_counts(\n",
    "    normalize=True).cumsum().head()*100\n"
   ]
  },
  {
   "cell_type": "code",
   "execution_count": 41,
   "metadata": {},
   "outputs": [
    {
     "data": {
      "text/plain": [
       "casa_conforto_2                 0.02\n",
       "fashion_roupa_infanto_juvenil   0.02\n",
       "pc_gamer                        0.01\n",
       "seguros_e_servicos              0.01\n",
       "cds_dvds_musicais               0.00\n",
       "Name: product_category_name, dtype: float64"
      ]
     },
     "execution_count": 41,
     "metadata": {},
     "output_type": "execute_result"
    }
   ],
   "source": [
    "products['product_category_name'].value_counts(normalize=True).tail()*100\n"
   ]
  },
  {
   "cell_type": "markdown",
   "metadata": {},
   "source": [
    "#### Qualité des données 'products'\n",
    "\n",
    "- 2% des produits n'ont pas de catégorie ni description\n",
    "- 73 catégories differents, 5 catégories contient 40% des produits\n",
    "- peut-être vaut le coup de cluster les catégories des produits?\n",
    "- besoin de traduire les catégories de portugues en anglais, par exemple.\n",
    "- plus de traitement aprés élimination des produits non-vendus\n"
   ]
  },
  {
   "cell_type": "markdown",
   "metadata": {},
   "source": [
    "### Sellers\n"
   ]
  },
  {
   "cell_type": "code",
   "execution_count": 42,
   "metadata": {},
   "outputs": [
    {
     "name": "stdout",
     "output_type": "stream",
     "text": [
      "3095 registres\n"
     ]
    },
    {
     "data": {
      "text/html": [
       "<div>\n",
       "<style scoped>\n",
       "    .dataframe tbody tr th:only-of-type {\n",
       "        vertical-align: middle;\n",
       "    }\n",
       "\n",
       "    .dataframe tbody tr th {\n",
       "        vertical-align: top;\n",
       "    }\n",
       "\n",
       "    .dataframe thead th {\n",
       "        text-align: right;\n",
       "    }\n",
       "</style>\n",
       "<table border=\"1\" class=\"dataframe\">\n",
       "  <thead>\n",
       "    <tr style=\"text-align: right;\">\n",
       "      <th></th>\n",
       "      <th>% manquantes</th>\n",
       "      <th>unique</th>\n",
       "      <th>dtype</th>\n",
       "      <th>min</th>\n",
       "      <th>max</th>\n",
       "      <th>std</th>\n",
       "    </tr>\n",
       "    <tr>\n",
       "      <th>column</th>\n",
       "      <th></th>\n",
       "      <th></th>\n",
       "      <th></th>\n",
       "      <th></th>\n",
       "      <th></th>\n",
       "      <th></th>\n",
       "    </tr>\n",
       "  </thead>\n",
       "  <tbody>\n",
       "    <tr>\n",
       "      <th>seller_id</th>\n",
       "      <td>0.00</td>\n",
       "      <td>3095</td>\n",
       "      <td>object</td>\n",
       "      <td>0015a82c2db000af6aaaf3ae2ecb0532</td>\n",
       "      <td>ffff564a4f9085cd26170f4732393726</td>\n",
       "      <td>nan</td>\n",
       "    </tr>\n",
       "    <tr>\n",
       "      <th>seller_zip_code_prefix</th>\n",
       "      <td>0.00</td>\n",
       "      <td>2246</td>\n",
       "      <td>int64</td>\n",
       "      <td>1001</td>\n",
       "      <td>99730</td>\n",
       "      <td>32713.45</td>\n",
       "    </tr>\n",
       "    <tr>\n",
       "      <th>seller_city</th>\n",
       "      <td>0.00</td>\n",
       "      <td>611</td>\n",
       "      <td>object</td>\n",
       "      <td>04482255</td>\n",
       "      <td>xaxim</td>\n",
       "      <td>nan</td>\n",
       "    </tr>\n",
       "    <tr>\n",
       "      <th>seller_state</th>\n",
       "      <td>0.00</td>\n",
       "      <td>23</td>\n",
       "      <td>object</td>\n",
       "      <td>AC</td>\n",
       "      <td>SP</td>\n",
       "      <td>nan</td>\n",
       "    </tr>\n",
       "  </tbody>\n",
       "</table>\n",
       "</div>"
      ],
      "text/plain": [
       "                        % manquantes  unique   dtype  \\\n",
       "column                                                 \n",
       "seller_id                       0.00    3095  object   \n",
       "seller_zip_code_prefix          0.00    2246   int64   \n",
       "seller_city                     0.00     611  object   \n",
       "seller_state                    0.00      23  object   \n",
       "\n",
       "                                                     min  \\\n",
       "column                                                     \n",
       "seller_id               0015a82c2db000af6aaaf3ae2ecb0532   \n",
       "seller_zip_code_prefix                              1001   \n",
       "seller_city                                     04482255   \n",
       "seller_state                                          AC   \n",
       "\n",
       "                                                     max      std  \n",
       "column                                                             \n",
       "seller_id               ffff564a4f9085cd26170f4732393726      nan  \n",
       "seller_zip_code_prefix                             99730 32713.45  \n",
       "seller_city                                        xaxim      nan  \n",
       "seller_state                                          SP      nan  "
      ]
     },
     "execution_count": 42,
     "metadata": {},
     "output_type": "execute_result"
    }
   ],
   "source": [
    "decrire_dataframe(sellers)\n"
   ]
  },
  {
   "cell_type": "markdown",
   "metadata": {},
   "source": [
    "#### Qualité de données 'sellers'\n",
    "\n",
    "- aucune données manquantes\n",
    "- la ville n'est pas toujours une vraie ville\n",
    "- environ un vendeur pour chaque 33 commandes (3095 vendeurs, 99000 commandes)\n",
    "- besoin de merge avec geolocation pour savoir la localisation du vendeur\n"
   ]
  },
  {
   "cell_type": "markdown",
   "metadata": {},
   "source": [
    "## 2.4 Nettoyage des données\n",
    "\n",
    "Le but est de pouvoir aggréger plusieurs indicateurs / kpi sur chaque `customer_unique_id`\n",
    "\n",
    "On commence par rassembler les données de plusieurs tables\n",
    "\n",
    "- customers_geo = customers + geolocation\n",
    "- sellers_geo = sellers + geolocation\n",
    "- products_en = products + product_category_names\n"
   ]
  },
  {
   "cell_type": "markdown",
   "metadata": {},
   "source": [
    "### Geolocation des clients\n"
   ]
  },
  {
   "cell_type": "code",
   "execution_count": 43,
   "metadata": {},
   "outputs": [
    {
     "data": {
      "text/plain": [
       "customer_id                   0\n",
       "customer_unique_id            0\n",
       "customer_zip_code_prefix      0\n",
       "customer_city                 0\n",
       "customer_state                0\n",
       "customer_lng                279\n",
       "customer_lat                279\n",
       "dtype: int64"
      ]
     },
     "execution_count": 43,
     "metadata": {},
     "output_type": "execute_result"
    }
   ],
   "source": [
    "geolocal = geoloc[['geolocation_zip_code_prefix',\n",
    "                   'geolocation_lng', 'geolocation_lat']]\n",
    "geolocal.columns = ['customer_zip_code_prefix', 'customer_lng', 'customer_lat']\n",
    "customers_geo = customers.merge(\n",
    "    geolocal, on='customer_zip_code_prefix', how='left')\n",
    "customers_geo['customer_id'] = customers_geo['customer_id'].astype('object')\n",
    "customers_geo.isna().sum()\n"
   ]
  },
  {
   "cell_type": "markdown",
   "metadata": {},
   "source": [
    "quelques 'customer_zip_code_prefix' ne sont pas dans geolocalisation\n"
   ]
  },
  {
   "cell_type": "code",
   "execution_count": 44,
   "metadata": {},
   "outputs": [
    {
     "data": {
      "text/plain": [
       "customer_state  customer_city  customer_zip_code_prefix\n",
       "DF              brasilia       70686                       15\n",
       "                               72005                       13\n",
       "                               71919                       10\n",
       "                               73255                        7\n",
       "                               72300                        6\n",
       "dtype: int64"
      ]
     },
     "execution_count": 44,
     "metadata": {},
     "output_type": "execute_result"
    }
   ],
   "source": [
    "sans_geo = customers_geo[customers_geo['customer_lat'].isnull()]\n",
    "sans_geo[['customer_state', 'customer_city',\n",
    "          'customer_zip_code_prefix']].value_counts().head()\n"
   ]
  },
  {
   "cell_type": "markdown",
   "metadata": {},
   "source": [
    "#### Imputation des latitudes et longitudes manquantes à partir des zip_code_prefix\n",
    "\n",
    "Les clients avec zipcode similaire auront geolocalisation similaire\n"
   ]
  },
  {
   "cell_type": "code",
   "execution_count": 45,
   "metadata": {},
   "outputs": [
    {
     "data": {
      "text/plain": [
       "customer_id                0.00\n",
       "customer_unique_id         0.00\n",
       "customer_zip_code_prefix   0.00\n",
       "customer_city              0.00\n",
       "customer_state             0.00\n",
       "customer_lng               0.00\n",
       "customer_lat               0.00\n",
       "dtype: float64"
      ]
     },
     "execution_count": 45,
     "metadata": {},
     "output_type": "execute_result"
    }
   ],
   "source": [
    "from sklearn.impute import KNNImputer\n",
    "impute_cols = ['customer_zip_code_prefix', 'customer_lng', 'customer_lat']\n",
    "imputer = KNNImputer(n_neighbors=5)\n",
    "customers_geo[impute_cols] = imputer.fit_transform(customers_geo[impute_cols])\n",
    "customers_geo.isna().mean()\n"
   ]
  },
  {
   "cell_type": "code",
   "execution_count": 46,
   "metadata": {},
   "outputs": [
    {
     "data": {
      "text/plain": [
       "Text(0.5, 1.0, 'Localisation des clients - Distrito Federal')"
      ]
     },
     "execution_count": 46,
     "metadata": {},
     "output_type": "execute_result"
    },
    {
     "data": {
      "image/png": "[encoded data removed]",
      "text/plain": [
       "<Figure size 360x360 with 1 Axes>"
      ]
     },
     "metadata": {},
     "output_type": "display_data"
    }
   ],
   "source": [
    "DF = customers_geo[customers_geo['customer_state'] == 'DF']\n",
    "plt.figure(figsize=(5, 5))\n",
    "sns.scatterplot(data=DF, x='customer_lng', y='customer_lat',\n",
    "                hue='customer_zip_code_prefix')\n",
    "plt.legend(title='zip_code_prefix', bbox_to_anchor=(1.5, 0.5), loc=5)\n",
    "plt.title('Localisation des clients - Distrito Federal', fontsize=14)\n"
   ]
  },
  {
   "cell_type": "code",
   "execution_count": 47,
   "metadata": {},
   "outputs": [],
   "source": [
    "def add_text(ax, x, y, s, **kwargs):\n",
    "    \"\"\"Ajouter du texte à un plot\"\"\"\n",
    "    ax.text(x, y, s, verticalalignment='bottom',\n",
    "            horizontalalignment='left', transform=ax.transAxes, **kwargs)\n"
   ]
  },
  {
   "cell_type": "code",
   "execution_count": 48,
   "metadata": {},
   "outputs": [
    {
     "data": {
      "text/plain": [
       "Text(0.5, 1.0, 'Localisation des clients')"
      ]
     },
     "execution_count": 48,
     "metadata": {},
     "output_type": "execute_result"
    },
    {
     "data": {
      "image/png": "[encoded data removed]",
      "text/plain": [
       "<Figure size 360x360 with 1 Axes>"
      ]
     },
     "metadata": {},
     "output_type": "display_data"
    }
   ],
   "source": [
    "states_order = sorted(list(customers_geo['customer_state'].unique()))\n",
    "plt.figure(figsize=(5, 5))\n",
    "img_src = 'https://en.wikipedia.org/wiki/File:Brazil_location_map.svg'\n",
    "img = plt.imread('Brazil_location_map.svg.png')\n",
    "ax = sns.scatterplot(data=customers_geo, x='customer_lng', y='customer_lat',\n",
    "                     hue='customer_state', hue_order=states_order, s=1, palette='dark')\n",
    "# plt.xlim(-74.5, -32)\n",
    "# plt.ylim(-34, 6)\n",
    "ax.imshow(img, extent=[-74.5, -32, -34, 6], aspect='auto', alpha=0.5)\n",
    "add_text(ax, 0.02, 0.97, s=f'background:{img_src}', fontsize=8)\n",
    "plt.legend(title='Etat', bbox_to_anchor=(1.5, 0.5), loc=5, ncol=2)\n",
    "plt.title('Localisation des clients', fontsize=14)\n"
   ]
  },
  {
   "cell_type": "markdown",
   "metadata": {},
   "source": [
    "On remarque que les clients sont distribués partout le pays de brésil\n"
   ]
  },
  {
   "cell_type": "markdown",
   "metadata": {},
   "source": [
    "### Geolocation des vendeurs\n"
   ]
  },
  {
   "cell_type": "code",
   "execution_count": 49,
   "metadata": {},
   "outputs": [
    {
     "name": "stdout",
     "output_type": "stream",
     "text": [
      "seller_state\n",
      "SP              1849\n",
      "PR               349\n",
      "MG               244\n",
      "SC               190\n",
      "RJ               171\n",
      "dtype: int64\n",
      "sellers sans geolocalisation : 7\n"
     ]
    }
   ],
   "source": [
    "print(sellers[['seller_state']].value_counts().head())\n",
    "geolocal.columns = ['seller_zip_code_prefix', 'seller_lng', 'seller_lat']\n",
    "sellers_geo = sellers.merge(geolocal, on='seller_zip_code_prefix', how='left')\n",
    "sellers_sans_geo = sellers_geo['seller_lng'].isna().sum()\n",
    "print(f'sellers sans geolocalisation : {sellers_sans_geo}')\n"
   ]
  },
  {
   "cell_type": "code",
   "execution_count": 50,
   "metadata": {},
   "outputs": [],
   "source": [
    "from sklearn.impute import KNNImputer\n",
    "impute_cols = ['seller_zip_code_prefix', 'seller_lng', 'seller_lat']\n",
    "imputer = KNNImputer(n_neighbors=5)\n",
    "sellers_geo[impute_cols] = imputer.fit_transform(sellers_geo[impute_cols])\n",
    "# sellers_geo.isna().mean()\n"
   ]
  },
  {
   "cell_type": "code",
   "execution_count": 51,
   "metadata": {},
   "outputs": [
    {
     "data": {
      "text/plain": [
       "Text(0.5, 1.0, 'Localisation des vendeurs')"
      ]
     },
     "execution_count": 51,
     "metadata": {},
     "output_type": "execute_result"
    },
    {
     "data": {
      "image/png": "[encoded data removed]",
      "text/plain": [
       "<Figure size 360x360 with 1 Axes>"
      ]
     },
     "metadata": {},
     "output_type": "display_data"
    }
   ],
   "source": [
    "\n",
    "states_order = sorted(list(sellers_geo['seller_state'].unique()))\n",
    "plt.figure(figsize=(5, 5))\n",
    "ax = sns.scatterplot(data=sellers_geo, x='seller_lng', y='seller_lat',\n",
    "                     hue='seller_state', hue_order=states_order, s=2, palette='dark')\n",
    "ax.imshow(img, extent=[-74.5, -32, -34, 6], aspect='auto', alpha=0.5)\n",
    "add_text(ax, 0.02, 0.97, s=f'background:{img_src}', fontsize=8)\n",
    "plt.legend(title='Etat', bbox_to_anchor=(1.5, 0.5), loc=5, ncol=2)\n",
    "plt.title('Localisation des vendeurs', fontsize=14)\n"
   ]
  },
  {
   "cell_type": "markdown",
   "metadata": {},
   "source": [
    "Les vendeurs sont concentrés dans les états du sud du brésil (Sao Paulo, Parana, Minas Gerais, Santa Catarina, Rio de Janeiro)\n"
   ]
  },
  {
   "cell_type": "markdown",
   "metadata": {},
   "source": [
    "### Catégories des produits en anglais\n"
   ]
  },
  {
   "cell_type": "code",
   "execution_count": 52,
   "metadata": {},
   "outputs": [
    {
     "data": {
      "text/plain": [
       "product_category_name_english    623\n",
       "product_photos_qty               610\n",
       "product_description_lenght       610\n",
       "product_name_lenght              610\n",
       "product_category_name            610\n",
       "product_width_cm                   2\n",
       "product_height_cm                  2\n",
       "product_length_cm                  2\n",
       "product_weight_g                   2\n",
       "product_id                         0\n",
       "dtype: int64"
      ]
     },
     "execution_count": 52,
     "metadata": {},
     "output_type": "execute_result"
    }
   ],
   "source": [
    "products_en = (products\n",
    "               .merge(product_category_names, on='product_category_name', how='left')\n",
    "               .drop(columns=[])\n",
    "               )\n",
    "products_en.isna().sum().sort_values(ascending=False)\n"
   ]
  },
  {
   "cell_type": "markdown",
   "metadata": {},
   "source": [
    "On traite plus tard les valeurs manquantes seulement pour les produits commandés.\n"
   ]
  },
  {
   "cell_type": "markdown",
   "metadata": {},
   "source": [
    "### Nettoyage de la table 'orders' (commandes qui ne sont pas livrés)\n",
    "\n",
    "Pour segmentation des clients, on veut analyser seulement les commandes livrés, car ce qui ne sont pas livrés n'auront pas des reviews, et beaucoup des commandes non-livrés n'a pas d'items (on ne sait pas ceux qui le client a acheté)\n"
   ]
  },
  {
   "cell_type": "code",
   "execution_count": 53,
   "metadata": {},
   "outputs": [
    {
     "data": {
      "text/html": [
       "<div>\n",
       "<style scoped>\n",
       "    .dataframe tbody tr th:only-of-type {\n",
       "        vertical-align: middle;\n",
       "    }\n",
       "\n",
       "    .dataframe tbody tr th {\n",
       "        vertical-align: top;\n",
       "    }\n",
       "\n",
       "    .dataframe thead th {\n",
       "        text-align: right;\n",
       "    }\n",
       "</style>\n",
       "<table border=\"1\" class=\"dataframe\">\n",
       "  <thead>\n",
       "    <tr style=\"text-align: right;\">\n",
       "      <th>order_delivered_customer_date</th>\n",
       "      <th>False</th>\n",
       "      <th>True</th>\n",
       "    </tr>\n",
       "    <tr>\n",
       "      <th>order_status</th>\n",
       "      <th></th>\n",
       "      <th></th>\n",
       "    </tr>\n",
       "  </thead>\n",
       "  <tbody>\n",
       "    <tr>\n",
       "      <th>approved</th>\n",
       "      <td>2</td>\n",
       "      <td>0</td>\n",
       "    </tr>\n",
       "    <tr>\n",
       "      <th>canceled</th>\n",
       "      <td>619</td>\n",
       "      <td>6</td>\n",
       "    </tr>\n",
       "    <tr>\n",
       "      <th>created</th>\n",
       "      <td>5</td>\n",
       "      <td>0</td>\n",
       "    </tr>\n",
       "    <tr>\n",
       "      <th>delivered</th>\n",
       "      <td>8</td>\n",
       "      <td>96470</td>\n",
       "    </tr>\n",
       "    <tr>\n",
       "      <th>invoiced</th>\n",
       "      <td>314</td>\n",
       "      <td>0</td>\n",
       "    </tr>\n",
       "    <tr>\n",
       "      <th>processing</th>\n",
       "      <td>301</td>\n",
       "      <td>0</td>\n",
       "    </tr>\n",
       "    <tr>\n",
       "      <th>shipped</th>\n",
       "      <td>1107</td>\n",
       "      <td>0</td>\n",
       "    </tr>\n",
       "    <tr>\n",
       "      <th>unavailable</th>\n",
       "      <td>609</td>\n",
       "      <td>0</td>\n",
       "    </tr>\n",
       "  </tbody>\n",
       "</table>\n",
       "</div>"
      ],
      "text/plain": [
       "order_delivered_customer_date  False  True \n",
       "order_status                               \n",
       "approved                           2      0\n",
       "canceled                         619      6\n",
       "created                            5      0\n",
       "delivered                          8  96470\n",
       "invoiced                         314      0\n",
       "processing                       301      0\n",
       "shipped                         1107      0\n",
       "unavailable                      609      0"
      ]
     },
     "execution_count": 53,
     "metadata": {},
     "output_type": "execute_result"
    }
   ],
   "source": [
    "pd.crosstab(orders['order_status'],\n",
    "            orders['order_delivered_customer_date'].notnull())\n"
   ]
  },
  {
   "cell_type": "code",
   "execution_count": 54,
   "metadata": {},
   "outputs": [
    {
     "data": {
      "text/html": [
       "<div>\n",
       "<style scoped>\n",
       "    .dataframe tbody tr th:only-of-type {\n",
       "        vertical-align: middle;\n",
       "    }\n",
       "\n",
       "    .dataframe tbody tr th {\n",
       "        vertical-align: top;\n",
       "    }\n",
       "\n",
       "    .dataframe thead th {\n",
       "        text-align: right;\n",
       "    }\n",
       "</style>\n",
       "<table border=\"1\" class=\"dataframe\">\n",
       "  <thead>\n",
       "    <tr style=\"text-align: right;\">\n",
       "      <th></th>\n",
       "      <th>order_id</th>\n",
       "      <th>customer_id</th>\n",
       "      <th>order_status</th>\n",
       "      <th>order_purchase_timestamp</th>\n",
       "      <th>order_approved_at</th>\n",
       "      <th>order_delivered_carrier_date</th>\n",
       "      <th>order_delivered_customer_date</th>\n",
       "      <th>order_estimated_delivery_date</th>\n",
       "      <th>review_id</th>\n",
       "      <th>review_score</th>\n",
       "      <th>review_comment_title</th>\n",
       "      <th>review_comment_message</th>\n",
       "      <th>review_creation_date</th>\n",
       "      <th>review_answer_timestamp</th>\n",
       "    </tr>\n",
       "  </thead>\n",
       "  <tbody>\n",
       "    <tr>\n",
       "      <th>0</th>\n",
       "      <td>e481f51cbdc54678b7cc49136f2d6af7</td>\n",
       "      <td>9ef432eb6251297304e76186b10a928d</td>\n",
       "      <td>delivered</td>\n",
       "      <td>2017-10-02 10:56:33</td>\n",
       "      <td>2017-10-02 11:07:15</td>\n",
       "      <td>2017-10-04 19:55:00</td>\n",
       "      <td>2017-10-10 21:25:13</td>\n",
       "      <td>2017-10-18 00:00:00</td>\n",
       "      <td>a54f0611adc9ed256b57ede6b6eb5114</td>\n",
       "      <td>4</td>\n",
       "      <td>NaN</td>\n",
       "      <td>Não testei o produto ainda, mas ele veio correto e em boas condições. Apenas a caixa que veio bem amassada e danificada, o que ficará chato, pois se trata de um presente.</td>\n",
       "      <td>2017-10-11 00:00:00</td>\n",
       "      <td>2017-10-12 03:43:48</td>\n",
       "    </tr>\n",
       "    <tr>\n",
       "      <th>1</th>\n",
       "      <td>53cdb2fc8bc7dce0b6741e2150273451</td>\n",
       "      <td>b0830fb4747a6c6d20dea0b8c802d7ef</td>\n",
       "      <td>delivered</td>\n",
       "      <td>2018-07-24 20:41:37</td>\n",
       "      <td>2018-07-26 03:24:27</td>\n",
       "      <td>2018-07-26 14:31:00</td>\n",
       "      <td>2018-08-07 15:27:45</td>\n",
       "      <td>2018-08-13 00:00:00</td>\n",
       "      <td>8d5266042046a06655c8db133d120ba5</td>\n",
       "      <td>4</td>\n",
       "      <td>Muito boa a loja</td>\n",
       "      <td>Muito bom o produto.</td>\n",
       "      <td>2018-08-08 00:00:00</td>\n",
       "      <td>2018-08-08 18:37:50</td>\n",
       "    </tr>\n",
       "    <tr>\n",
       "      <th>2</th>\n",
       "      <td>47770eb9100c2d0c44946d9cf07ec65d</td>\n",
       "      <td>41ce2a54c0b03bf3443c3d931a367089</td>\n",
       "      <td>delivered</td>\n",
       "      <td>2018-08-08 08:38:49</td>\n",
       "      <td>2018-08-08 08:55:23</td>\n",
       "      <td>2018-08-08 13:50:00</td>\n",
       "      <td>2018-08-17 18:06:29</td>\n",
       "      <td>2018-09-04 00:00:00</td>\n",
       "      <td>e73b67b67587f7644d5bd1a52deb1b01</td>\n",
       "      <td>5</td>\n",
       "      <td>NaN</td>\n",
       "      <td>NaN</td>\n",
       "      <td>2018-08-18 00:00:00</td>\n",
       "      <td>2018-08-22 19:07:58</td>\n",
       "    </tr>\n",
       "    <tr>\n",
       "      <th>3</th>\n",
       "      <td>949d5b44dbf5de918fe9c16f97b45f8a</td>\n",
       "      <td>f88197465ea7920adcdbec7375364d82</td>\n",
       "      <td>delivered</td>\n",
       "      <td>2017-11-18 19:28:06</td>\n",
       "      <td>2017-11-18 19:45:59</td>\n",
       "      <td>2017-11-22 13:39:59</td>\n",
       "      <td>2017-12-02 00:28:42</td>\n",
       "      <td>2017-12-15 00:00:00</td>\n",
       "      <td>359d03e676b3c069f62cadba8dd3f6e8</td>\n",
       "      <td>5</td>\n",
       "      <td>NaN</td>\n",
       "      <td>O produto foi exatamente o que eu esperava e estava descrito no site e chegou bem antes da data prevista.</td>\n",
       "      <td>2017-12-03 00:00:00</td>\n",
       "      <td>2017-12-05 19:21:58</td>\n",
       "    </tr>\n",
       "    <tr>\n",
       "      <th>4</th>\n",
       "      <td>ad21c59c0840e6cb83a9ceb5573f8159</td>\n",
       "      <td>8ab97904e6daea8866dbdbc4fb7aad2c</td>\n",
       "      <td>delivered</td>\n",
       "      <td>2018-02-13 21:18:39</td>\n",
       "      <td>2018-02-13 22:20:29</td>\n",
       "      <td>2018-02-14 19:46:34</td>\n",
       "      <td>2018-02-16 18:17:02</td>\n",
       "      <td>2018-02-26 00:00:00</td>\n",
       "      <td>e50934924e227544ba8246aeb3770dd4</td>\n",
       "      <td>5</td>\n",
       "      <td>NaN</td>\n",
       "      <td>NaN</td>\n",
       "      <td>2018-02-17 00:00:00</td>\n",
       "      <td>2018-02-18 13:02:51</td>\n",
       "    </tr>\n",
       "  </tbody>\n",
       "</table>\n",
       "</div>"
      ],
      "text/plain": [
       "                           order_id                       customer_id  \\\n",
       "0  e481f51cbdc54678b7cc49136f2d6af7  9ef432eb6251297304e76186b10a928d   \n",
       "1  53cdb2fc8bc7dce0b6741e2150273451  b0830fb4747a6c6d20dea0b8c802d7ef   \n",
       "2  47770eb9100c2d0c44946d9cf07ec65d  41ce2a54c0b03bf3443c3d931a367089   \n",
       "3  949d5b44dbf5de918fe9c16f97b45f8a  f88197465ea7920adcdbec7375364d82   \n",
       "4  ad21c59c0840e6cb83a9ceb5573f8159  8ab97904e6daea8866dbdbc4fb7aad2c   \n",
       "\n",
       "  order_status order_purchase_timestamp    order_approved_at  \\\n",
       "0    delivered      2017-10-02 10:56:33  2017-10-02 11:07:15   \n",
       "1    delivered      2018-07-24 20:41:37  2018-07-26 03:24:27   \n",
       "2    delivered      2018-08-08 08:38:49  2018-08-08 08:55:23   \n",
       "3    delivered      2017-11-18 19:28:06  2017-11-18 19:45:59   \n",
       "4    delivered      2018-02-13 21:18:39  2018-02-13 22:20:29   \n",
       "\n",
       "  order_delivered_carrier_date order_delivered_customer_date  \\\n",
       "0          2017-10-04 19:55:00           2017-10-10 21:25:13   \n",
       "1          2018-07-26 14:31:00           2018-08-07 15:27:45   \n",
       "2          2018-08-08 13:50:00           2018-08-17 18:06:29   \n",
       "3          2017-11-22 13:39:59           2017-12-02 00:28:42   \n",
       "4          2018-02-14 19:46:34           2018-02-16 18:17:02   \n",
       "\n",
       "  order_estimated_delivery_date                         review_id  \\\n",
       "0           2017-10-18 00:00:00  a54f0611adc9ed256b57ede6b6eb5114   \n",
       "1           2018-08-13 00:00:00  8d5266042046a06655c8db133d120ba5   \n",
       "2           2018-09-04 00:00:00  e73b67b67587f7644d5bd1a52deb1b01   \n",
       "3           2017-12-15 00:00:00  359d03e676b3c069f62cadba8dd3f6e8   \n",
       "4           2018-02-26 00:00:00  e50934924e227544ba8246aeb3770dd4   \n",
       "\n",
       "   review_score review_comment_title  \\\n",
       "0             4                  NaN   \n",
       "1             4     Muito boa a loja   \n",
       "2             5                  NaN   \n",
       "3             5                  NaN   \n",
       "4             5                  NaN   \n",
       "\n",
       "                                                                                                                                                       review_comment_message  \\\n",
       "0  Não testei o produto ainda, mas ele veio correto e em boas condições. Apenas a caixa que veio bem amassada e danificada, o que ficará chato, pois se trata de um presente.   \n",
       "1                                                                                                                                                        Muito bom o produto.   \n",
       "2                                                                                                                                                                         NaN   \n",
       "3                                                                   O produto foi exatamente o que eu esperava e estava descrito no site e chegou bem antes da data prevista.   \n",
       "4                                                                                                                                                                         NaN   \n",
       "\n",
       "  review_creation_date review_answer_timestamp  \n",
       "0  2017-10-11 00:00:00     2017-10-12 03:43:48  \n",
       "1  2018-08-08 00:00:00     2018-08-08 18:37:50  \n",
       "2  2018-08-18 00:00:00     2018-08-22 19:07:58  \n",
       "3  2017-12-03 00:00:00     2017-12-05 19:21:58  \n",
       "4  2018-02-17 00:00:00     2018-02-18 13:02:51  "
      ]
     },
     "execution_count": 54,
     "metadata": {},
     "output_type": "execute_result"
    }
   ],
   "source": [
    "order_scores = pd.merge(orders, order_reviews, on='order_id', how='inner')\n",
    "\n",
    "order_scores.head()\n"
   ]
  },
  {
   "cell_type": "code",
   "execution_count": 55,
   "metadata": {},
   "outputs": [
    {
     "data": {
      "text/html": [
       "<div>\n",
       "<style scoped>\n",
       "    .dataframe tbody tr th:only-of-type {\n",
       "        vertical-align: middle;\n",
       "    }\n",
       "\n",
       "    .dataframe tbody tr th {\n",
       "        vertical-align: top;\n",
       "    }\n",
       "\n",
       "    .dataframe thead th {\n",
       "        text-align: right;\n",
       "    }\n",
       "</style>\n",
       "<table border=\"1\" class=\"dataframe\">\n",
       "  <thead>\n",
       "    <tr style=\"text-align: right;\">\n",
       "      <th>review_score</th>\n",
       "      <th>1</th>\n",
       "      <th>2</th>\n",
       "      <th>3</th>\n",
       "      <th>4</th>\n",
       "      <th>5</th>\n",
       "    </tr>\n",
       "    <tr>\n",
       "      <th>order_status</th>\n",
       "      <th></th>\n",
       "      <th></th>\n",
       "      <th></th>\n",
       "      <th></th>\n",
       "      <th></th>\n",
       "    </tr>\n",
       "  </thead>\n",
       "  <tbody>\n",
       "    <tr>\n",
       "      <th>approved</th>\n",
       "      <td>1</td>\n",
       "      <td>0</td>\n",
       "      <td>0</td>\n",
       "      <td>1</td>\n",
       "      <td>0</td>\n",
       "    </tr>\n",
       "    <tr>\n",
       "      <th>canceled</th>\n",
       "      <td>422</td>\n",
       "      <td>44</td>\n",
       "      <td>48</td>\n",
       "      <td>26</td>\n",
       "      <td>69</td>\n",
       "    </tr>\n",
       "    <tr>\n",
       "      <th>created</th>\n",
       "      <td>2</td>\n",
       "      <td>0</td>\n",
       "      <td>0</td>\n",
       "      <td>0</td>\n",
       "      <td>1</td>\n",
       "    </tr>\n",
       "    <tr>\n",
       "      <th>delivered</th>\n",
       "      <td>9406</td>\n",
       "      <td>2941</td>\n",
       "      <td>7961</td>\n",
       "      <td>18987</td>\n",
       "      <td>57066</td>\n",
       "    </tr>\n",
       "    <tr>\n",
       "      <th>invoiced</th>\n",
       "      <td>230</td>\n",
       "      <td>26</td>\n",
       "      <td>16</td>\n",
       "      <td>15</td>\n",
       "      <td>26</td>\n",
       "    </tr>\n",
       "    <tr>\n",
       "      <th>processing</th>\n",
       "      <td>256</td>\n",
       "      <td>18</td>\n",
       "      <td>9</td>\n",
       "      <td>6</td>\n",
       "      <td>7</td>\n",
       "    </tr>\n",
       "    <tr>\n",
       "      <th>shipped</th>\n",
       "      <td>644</td>\n",
       "      <td>79</td>\n",
       "      <td>110</td>\n",
       "      <td>87</td>\n",
       "      <td>123</td>\n",
       "    </tr>\n",
       "    <tr>\n",
       "      <th>unavailable</th>\n",
       "      <td>463</td>\n",
       "      <td>43</td>\n",
       "      <td>35</td>\n",
       "      <td>20</td>\n",
       "      <td>36</td>\n",
       "    </tr>\n",
       "  </tbody>\n",
       "</table>\n",
       "</div>"
      ],
      "text/plain": [
       "review_score     1     2     3      4      5\n",
       "order_status                                \n",
       "approved         1     0     0      1      0\n",
       "canceled       422    44    48     26     69\n",
       "created          2     0     0      0      1\n",
       "delivered     9406  2941  7961  18987  57066\n",
       "invoiced       230    26    16     15     26\n",
       "processing     256    18     9      6      7\n",
       "shipped        644    79   110     87    123\n",
       "unavailable    463    43    35     20     36"
      ]
     },
     "execution_count": 55,
     "metadata": {},
     "output_type": "execute_result"
    }
   ],
   "source": [
    "scores = pd.crosstab(order_scores['order_status'],\n",
    "                     order_scores['review_score'])\n",
    "scores\n"
   ]
  },
  {
   "cell_type": "code",
   "execution_count": 56,
   "metadata": {},
   "outputs": [
    {
     "data": {
      "text/plain": [
       "Text(0.5, 0.98, 'Distribution de scores ')"
      ]
     },
     "execution_count": 56,
     "metadata": {},
     "output_type": "execute_result"
    },
    {
     "data": {
      "image/png": "[encoded data removed]",
      "text/plain": [
       "<Figure size 432x288 with 1 Axes>"
      ]
     },
     "metadata": {},
     "output_type": "display_data"
    }
   ],
   "source": [
    "scores.drop(['approved', 'created']).apply(lambda row: 100*row /\n",
    "                                           row.sum(), axis=1).T.plot(kind='bar', stacked=False)\n",
    "plt.ylabel('pourcentage des commandes')\n",
    "plt.suptitle('Distribution de scores ')\n"
   ]
  },
  {
   "cell_type": "code",
   "execution_count": 57,
   "metadata": {},
   "outputs": [
    {
     "data": {
      "text/plain": [
       "Text(0.5, 1.0, 'Review score en fonction du status de la commande')"
      ]
     },
     "execution_count": 57,
     "metadata": {},
     "output_type": "execute_result"
    },
    {
     "data": {
      "image/png": "[encoded data removed]",
      "text/plain": [
       "<Figure size 432x288 with 1 Axes>"
      ]
     },
     "metadata": {},
     "output_type": "display_data"
    }
   ],
   "source": [
    "# ignore categories avec 5 ou moins registres\n",
    "order_scores = order_scores[~order_scores['order_status'].isin(\n",
    "    ['created', 'approved'])]\n",
    "box_order = order_scores.groupby('order_status')[\n",
    "    'review_score'].agg('mean').sort_values().index\n",
    "sns.boxplot(data=order_scores, x='review_score', y='order_status', order=box_order,\n",
    "            showmeans=True, showfliers=False, palette=sns.color_palette('RdYlGn'))\n",
    "plt.title('Review score en fonction du status de la commande', fontsize=14)\n"
   ]
  },
  {
   "cell_type": "markdown",
   "metadata": {},
   "source": [
    "Tant que les produits ne sont pas livrés, les review_score sont bas\n",
    "\n",
    "Il se peut que les clients qui annulent leur commande, ou qui restent en attent de livraison donnera un note plus bas jusqu'à ce que la commande arrive\n",
    "\n",
    "#### Supprime les commandes pas encore livrés\n",
    "\n",
    "- Si on segment sur les commandes pas livrés, on ne peut pas être sur que c'est representative, car les scores se modifie après livraison.\n"
   ]
  },
  {
   "cell_type": "code",
   "execution_count": 58,
   "metadata": {},
   "outputs": [
    {
     "name": "stdout",
     "output_type": "stream",
     "text": [
      "(96470, 8)\n"
     ]
    }
   ],
   "source": [
    "orders_delivered = orders[(orders['order_status'] == 'delivered') &\n",
    "                          (orders['order_delivered_customer_date'].notnull())]\n",
    "print(orders_delivered.shape)\n"
   ]
  },
  {
   "cell_type": "markdown",
   "metadata": {},
   "source": [
    "### Aggréger order_review par order_id\n",
    "\n",
    "On utilisera seulement le score moyenne par commande.\n",
    "\n",
    "Le perimetre de ce projet ne donne pas le temps pour analyser les texts des commentaires, qui peuvent nuancer les segments des clients.\n",
    "\n",
    "La présence des commentaires/titres peut être util pour distinguer les clients\n",
    "\n",
    "- Les clients qui laisse une commentaire sont peut-être plus engagé que ceux qui ont un simple note\n",
    "- Ceux qui donne une titre au revue, encore plus ?\n",
    "- on remplit les valeurs manquantes pour message et title avec '' pour concatener les commentaires\n"
   ]
  },
  {
   "cell_type": "code",
   "execution_count": 59,
   "metadata": {},
   "outputs": [
    {
     "data": {
      "text/html": [
       "<div>\n",
       "<style scoped>\n",
       "    .dataframe tbody tr th:only-of-type {\n",
       "        vertical-align: middle;\n",
       "    }\n",
       "\n",
       "    .dataframe tbody tr th {\n",
       "        vertical-align: top;\n",
       "    }\n",
       "\n",
       "    .dataframe thead th {\n",
       "        text-align: right;\n",
       "    }\n",
       "</style>\n",
       "<table border=\"1\" class=\"dataframe\">\n",
       "  <thead>\n",
       "    <tr style=\"text-align: right;\">\n",
       "      <th></th>\n",
       "      <th>order_id</th>\n",
       "      <th>review_score</th>\n",
       "      <th>review_nb_comments</th>\n",
       "      <th>review_nb_title</th>\n",
       "      <th>review_comment_message</th>\n",
       "      <th>review_comment_title</th>\n",
       "    </tr>\n",
       "  </thead>\n",
       "  <tbody>\n",
       "    <tr>\n",
       "      <th>43650</th>\n",
       "      <td>7144ca093cbdecfdfc3e76d49da6ffb9</td>\n",
       "      <td>2.50</td>\n",
       "      <td>2.00</td>\n",
       "      <td>2.00</td>\n",
       "      <td>Está faltando receber um produto: Pulseira Masculina de Couro Caveira Couro Legítimo + Pedra Preto 20 ; Recebi o produto errado.</td>\n",
       "      <td>Sem recomendação; Recomendo</td>\n",
       "    </tr>\n",
       "    <tr>\n",
       "      <th>50980</th>\n",
       "      <td>84aa61a900410cfe26b57337d376a1ae</td>\n",
       "      <td>5.00</td>\n",
       "      <td>2.00</td>\n",
       "      <td>2.00</td>\n",
       "      <td>Recomendo!; Recomendo!</td>\n",
       "      <td>Ótima; Ótima</td>\n",
       "    </tr>\n",
       "    <tr>\n",
       "      <th>43683</th>\n",
       "      <td>715b8576b74d53796bcbb107a201eb55</td>\n",
       "      <td>5.00</td>\n",
       "      <td>2.00</td>\n",
       "      <td>2.00</td>\n",
       "      <td>Produto lindo,adorei!!; Fiquei muito satisfeita com o produto,fiz um pedido especial para entrega ,e eles acolheram este pedido,que pra mim fez toda a diferença.Muito feliz obrigada nota 10.</td>\n",
       "      <td>super recomendo; super recomendo</td>\n",
       "    </tr>\n",
       "    <tr>\n",
       "      <th>2040</th>\n",
       "      <td>0544030711e50ec2cb6c15764d22891a</td>\n",
       "      <td>2.50</td>\n",
       "      <td>1.00</td>\n",
       "      <td>2.00</td>\n",
       "      <td>; Comprei duas válvulas solenóides iguais. Paguei o mesmo produto com quantidade 2 (dois). As válvulas são iguais, mas as roscas são diferentes. Uma é BSP, com passo igual a NPT, a outra tem passo maio</td>\n",
       "      <td>Não quero avaliar; É muito confusa.</td>\n",
       "    </tr>\n",
       "    <tr>\n",
       "      <th>74718</th>\n",
       "      <td>c1deab56eafcb4bec7703bbe7bd25137</td>\n",
       "      <td>3.00</td>\n",
       "      <td>2.00</td>\n",
       "      <td>2.00</td>\n",
       "      <td>produto fora da minha expectativa ; recomendo a loja</td>\n",
       "      <td>produto horrivel; bom</td>\n",
       "    </tr>\n",
       "  </tbody>\n",
       "</table>\n",
       "</div>"
      ],
      "text/plain": [
       "                               order_id  review_score  review_nb_comments  \\\n",
       "43650  7144ca093cbdecfdfc3e76d49da6ffb9          2.50                2.00   \n",
       "50980  84aa61a900410cfe26b57337d376a1ae          5.00                2.00   \n",
       "43683  715b8576b74d53796bcbb107a201eb55          5.00                2.00   \n",
       "2040   0544030711e50ec2cb6c15764d22891a          2.50                1.00   \n",
       "74718  c1deab56eafcb4bec7703bbe7bd25137          3.00                2.00   \n",
       "\n",
       "       review_nb_title  \\\n",
       "43650             2.00   \n",
       "50980             2.00   \n",
       "43683             2.00   \n",
       "2040              2.00   \n",
       "74718             2.00   \n",
       "\n",
       "                                                                                                                                                                                          review_comment_message  \\\n",
       "43650                                                                           Está faltando receber um produto: Pulseira Masculina de Couro Caveira Couro Legítimo + Pedra Preto 20 ; Recebi o produto errado.   \n",
       "50980                                                                                                                                                                                     Recomendo!; Recomendo!   \n",
       "43683             Produto lindo,adorei!!; Fiquei muito satisfeita com o produto,fiz um pedido especial para entrega ,e eles acolheram este pedido,que pra mim fez toda a diferença.Muito feliz obrigada nota 10.   \n",
       "2040   ; Comprei duas válvulas solenóides iguais. Paguei o mesmo produto com quantidade 2 (dois). As válvulas são iguais, mas as roscas são diferentes. Uma é BSP, com passo igual a NPT, a outra tem passo maio   \n",
       "74718                                                                                                                                                      produto fora da minha expectativa ; recomendo a loja    \n",
       "\n",
       "                      review_comment_title  \n",
       "43650          Sem recomendação; Recomendo  \n",
       "50980                         Ótima; Ótima  \n",
       "43683     super recomendo; super recomendo  \n",
       "2040   Não quero avaliar; É muito confusa.  \n",
       "74718               produto horrivel; bom   "
      ]
     },
     "execution_count": 59,
     "metadata": {},
     "output_type": "execute_result"
    }
   ],
   "source": [
    "for col in ['review_comment_message', 'review_comment_title']:\n",
    "    order_reviews[col] = order_reviews[col].fillna('')\n",
    "\n",
    "order_reviews['review_nb_comments'] = (\n",
    "    order_reviews['review_comment_message'] != '').astype(float)\n",
    "order_reviews['review_nb_title'] = (\n",
    "    order_reviews['review_comment_title'] != '').astype(float)\n",
    "\n",
    "\n",
    "def agg_join(x): return '; '.join(x)\n",
    "\n",
    "\n",
    "order_reviews_agg = order_reviews.groupby('order_id').agg({\n",
    "    'review_score': 'mean',\n",
    "    'review_nb_comments': 'sum',\n",
    "    'review_nb_title': 'sum',\n",
    "    'review_comment_message': agg_join,\n",
    "    'review_comment_title': agg_join,\n",
    "}).reset_index()\n",
    "\n",
    "order_reviews_agg.sort_values(by='review_nb_title', ascending=False).head()\n"
   ]
  },
  {
   "cell_type": "markdown",
   "metadata": {},
   "source": [
    "### Aggréger order_payments par order_id\n",
    "\n",
    "Pour eviter de créer plusieurs lignes sur join, il faut seulement un ligne par commande dans order_payments.\n",
    "\n",
    "Les indicateurs d'interesse sont:\n",
    "\n",
    "- payment_type\n",
    "- payment_value\n",
    "- payment_installments\n"
   ]
  },
  {
   "cell_type": "code",
   "execution_count": 60,
   "metadata": {},
   "outputs": [
    {
     "name": "stdout",
     "output_type": "stream",
     "text": [
      "(7407, 5)\n"
     ]
    },
    {
     "data": {
      "text/html": [
       "<div>\n",
       "<style scoped>\n",
       "    .dataframe tbody tr th:only-of-type {\n",
       "        vertical-align: middle;\n",
       "    }\n",
       "\n",
       "    .dataframe tbody tr th {\n",
       "        vertical-align: top;\n",
       "    }\n",
       "\n",
       "    .dataframe thead th {\n",
       "        text-align: right;\n",
       "    }\n",
       "</style>\n",
       "<table border=\"1\" class=\"dataframe\">\n",
       "  <thead>\n",
       "    <tr style=\"text-align: right;\">\n",
       "      <th></th>\n",
       "      <th>order_id</th>\n",
       "      <th>payment_sequential</th>\n",
       "      <th>payment_type</th>\n",
       "      <th>payment_installments</th>\n",
       "      <th>payment_value</th>\n",
       "    </tr>\n",
       "  </thead>\n",
       "  <tbody>\n",
       "    <tr>\n",
       "      <th>80856</th>\n",
       "      <td>0016dfedd97fc2950e388d2971d718c7</td>\n",
       "      <td>2</td>\n",
       "      <td>voucher</td>\n",
       "      <td>1</td>\n",
       "      <td>17.92</td>\n",
       "    </tr>\n",
       "    <tr>\n",
       "      <th>89575</th>\n",
       "      <td>0016dfedd97fc2950e388d2971d718c7</td>\n",
       "      <td>1</td>\n",
       "      <td>credit_card</td>\n",
       "      <td>5</td>\n",
       "      <td>52.63</td>\n",
       "    </tr>\n",
       "  </tbody>\n",
       "</table>\n",
       "</div>"
      ],
      "text/plain": [
       "                               order_id  payment_sequential payment_type  \\\n",
       "80856  0016dfedd97fc2950e388d2971d718c7                   2      voucher   \n",
       "89575  0016dfedd97fc2950e388d2971d718c7                   1  credit_card   \n",
       "\n",
       "       payment_installments  payment_value  \n",
       "80856                     1          17.92  \n",
       "89575                     5          52.63  "
      ]
     },
     "execution_count": 60,
     "metadata": {},
     "output_type": "execute_result"
    }
   ],
   "source": [
    "order_payment_dups = (order_payments[order_payments.duplicated(subset=['order_id'], keep=False)]\n",
    "                      .sort_values(by='order_id'))\n",
    "print(order_payment_dups.shape)\n",
    "order_payment_dups.head(2)\n"
   ]
  },
  {
   "cell_type": "markdown",
   "metadata": {},
   "source": [
    "On peut considerer :\n",
    "\n",
    "- que les 'voucher' sont payés immediatement (installment=0); donc\n",
    "- payment_installments = max(payment_installments) pour chaque commande\n",
    "\n",
    "Pour pouvoir fusionner avec les autres tables, on réduit cette table à un ligne par commande (création d'une nouvelle 'order_payments_agg'):\n"
   ]
  },
  {
   "cell_type": "code",
   "execution_count": 61,
   "metadata": {},
   "outputs": [
    {
     "name": "stdout",
     "output_type": "stream",
     "text": [
      "(99440, 6)\n",
      "(99440, 2)\n"
     ]
    },
    {
     "data": {
      "text/html": [
       "<div>\n",
       "<style scoped>\n",
       "    .dataframe tbody tr th:only-of-type {\n",
       "        vertical-align: middle;\n",
       "    }\n",
       "\n",
       "    .dataframe tbody tr th {\n",
       "        vertical-align: top;\n",
       "    }\n",
       "\n",
       "    .dataframe thead th {\n",
       "        text-align: right;\n",
       "    }\n",
       "</style>\n",
       "<table border=\"1\" class=\"dataframe\">\n",
       "  <thead>\n",
       "    <tr style=\"text-align: right;\">\n",
       "      <th></th>\n",
       "      <th>payment_installments</th>\n",
       "      <th>payment_type</th>\n",
       "      <th>boleto</th>\n",
       "      <th>credit_card</th>\n",
       "      <th>debit_card</th>\n",
       "      <th>not_defined</th>\n",
       "      <th>voucher</th>\n",
       "      <th>payment_value</th>\n",
       "    </tr>\n",
       "    <tr>\n",
       "      <th>order_id</th>\n",
       "      <th></th>\n",
       "      <th></th>\n",
       "      <th></th>\n",
       "      <th></th>\n",
       "      <th></th>\n",
       "      <th></th>\n",
       "      <th></th>\n",
       "      <th></th>\n",
       "    </tr>\n",
       "  </thead>\n",
       "  <tbody>\n",
       "    <tr>\n",
       "      <th>ff20ee702706d9e407a34de9fe2ff768</th>\n",
       "      <td>6</td>\n",
       "      <td>credit_card, voucher</td>\n",
       "      <td>0.00</td>\n",
       "      <td>132.10</td>\n",
       "      <td>0.00</td>\n",
       "      <td>0</td>\n",
       "      <td>50.00</td>\n",
       "      <td>182.10</td>\n",
       "    </tr>\n",
       "    <tr>\n",
       "      <th>ff7400d904161b62b6e830b3988f5cbd</th>\n",
       "      <td>1</td>\n",
       "      <td>credit_card, voucher</td>\n",
       "      <td>0.00</td>\n",
       "      <td>54.96</td>\n",
       "      <td>0.00</td>\n",
       "      <td>0</td>\n",
       "      <td>100.00</td>\n",
       "      <td>154.96</td>\n",
       "    </tr>\n",
       "    <tr>\n",
       "      <th>ff978de32e717acd3b5abe1fb069d2b6</th>\n",
       "      <td>1</td>\n",
       "      <td>voucher</td>\n",
       "      <td>0.00</td>\n",
       "      <td>0.00</td>\n",
       "      <td>0.00</td>\n",
       "      <td>0</td>\n",
       "      <td>49.14</td>\n",
       "      <td>49.14</td>\n",
       "    </tr>\n",
       "    <tr>\n",
       "      <th>ffa1dd97810de91a03abd7bd76d2fed1</th>\n",
       "      <td>1</td>\n",
       "      <td>credit_card, voucher</td>\n",
       "      <td>0.00</td>\n",
       "      <td>36.58</td>\n",
       "      <td>0.00</td>\n",
       "      <td>0</td>\n",
       "      <td>418.73</td>\n",
       "      <td>455.31</td>\n",
       "    </tr>\n",
       "    <tr>\n",
       "      <th>ffa39020fe7c8a3e907320e1bec4b985</th>\n",
       "      <td>1</td>\n",
       "      <td>credit_card, voucher</td>\n",
       "      <td>0.00</td>\n",
       "      <td>7.13</td>\n",
       "      <td>0.00</td>\n",
       "      <td>0</td>\n",
       "      <td>64.01</td>\n",
       "      <td>71.14</td>\n",
       "    </tr>\n",
       "  </tbody>\n",
       "</table>\n",
       "</div>"
      ],
      "text/plain": [
       "                                  payment_installments          payment_type  \\\n",
       "order_id                                                                       \n",
       "ff20ee702706d9e407a34de9fe2ff768                     6  credit_card, voucher   \n",
       "ff7400d904161b62b6e830b3988f5cbd                     1  credit_card, voucher   \n",
       "ff978de32e717acd3b5abe1fb069d2b6                     1               voucher   \n",
       "ffa1dd97810de91a03abd7bd76d2fed1                     1  credit_card, voucher   \n",
       "ffa39020fe7c8a3e907320e1bec4b985                     1  credit_card, voucher   \n",
       "\n",
       "                                  boleto  credit_card  debit_card  \\\n",
       "order_id                                                            \n",
       "ff20ee702706d9e407a34de9fe2ff768    0.00       132.10        0.00   \n",
       "ff7400d904161b62b6e830b3988f5cbd    0.00        54.96        0.00   \n",
       "ff978de32e717acd3b5abe1fb069d2b6    0.00         0.00        0.00   \n",
       "ffa1dd97810de91a03abd7bd76d2fed1    0.00        36.58        0.00   \n",
       "ffa39020fe7c8a3e907320e1bec4b985    0.00         7.13        0.00   \n",
       "\n",
       "                                  not_defined  voucher  payment_value  \n",
       "order_id                                                               \n",
       "ff20ee702706d9e407a34de9fe2ff768            0    50.00         182.10  \n",
       "ff7400d904161b62b6e830b3988f5cbd            0   100.00         154.96  \n",
       "ff978de32e717acd3b5abe1fb069d2b6            0    49.14          49.14  \n",
       "ffa1dd97810de91a03abd7bd76d2fed1            0   418.73         455.31  \n",
       "ffa39020fe7c8a3e907320e1bec4b985            0    64.01          71.14  "
      ]
     },
     "execution_count": 61,
     "metadata": {},
     "output_type": "execute_result"
    }
   ],
   "source": [
    "order_payments_piv = (pd.pivot_table(order_payments, index=['order_id'],\n",
    "                                     columns='payment_type', values='payment_value', fill_value=0,\n",
    "                                     aggfunc='sum', margins='row', margins_name=\"payment_value\")\n",
    "                      .reset_index().set_index('order_id').drop('payment_value', axis=0))\n",
    "print(order_payments_piv.shape)\n",
    "\n",
    "\n",
    "def agg_set(x): return ', '.join(sorted(list(set(x))))\n",
    "\n",
    "\n",
    "order_method = (order_payments.groupby('order_id').agg(\n",
    "    {'payment_installments': max, 'payment_type': agg_set}))\n",
    "order_method['payment_type'] = order_method['payment_type'].astype(str)\n",
    "print(order_method.shape)\n",
    "\n",
    "order_payments_agg = pd.merge(\n",
    "    order_method, order_payments_piv, on='order_id', how='inner')\n",
    "order_payments_agg[order_payments_agg['voucher'] > 0].tail()\n"
   ]
  },
  {
   "cell_type": "code",
   "execution_count": 62,
   "metadata": {},
   "outputs": [
    {
     "data": {
      "text/plain": [
       "credit_card                74259\n",
       "boleto                     19784\n",
       "credit_card, voucher        2245\n",
       "voucher                     1621\n",
       "debit_card                  1527\n",
       "not_defined                    3\n",
       "credit_card, debit_card        1\n",
       "Name: payment_type, dtype: int64"
      ]
     },
     "execution_count": 62,
     "metadata": {},
     "output_type": "execute_result"
    }
   ],
   "source": [
    "order_payments_agg['payment_type'].value_counts()\n"
   ]
  },
  {
   "cell_type": "code",
   "execution_count": 63,
   "metadata": {},
   "outputs": [
    {
     "name": "stdout",
     "output_type": "stream",
     "text": [
      "99440 registres\n"
     ]
    },
    {
     "data": {
      "text/html": [
       "<div>\n",
       "<style scoped>\n",
       "    .dataframe tbody tr th:only-of-type {\n",
       "        vertical-align: middle;\n",
       "    }\n",
       "\n",
       "    .dataframe tbody tr th {\n",
       "        vertical-align: top;\n",
       "    }\n",
       "\n",
       "    .dataframe thead th {\n",
       "        text-align: right;\n",
       "    }\n",
       "</style>\n",
       "<table border=\"1\" class=\"dataframe\">\n",
       "  <thead>\n",
       "    <tr style=\"text-align: right;\">\n",
       "      <th></th>\n",
       "      <th>% manquantes</th>\n",
       "      <th>unique</th>\n",
       "      <th>dtype</th>\n",
       "      <th>min</th>\n",
       "      <th>max</th>\n",
       "      <th>std</th>\n",
       "    </tr>\n",
       "    <tr>\n",
       "      <th>column</th>\n",
       "      <th></th>\n",
       "      <th></th>\n",
       "      <th></th>\n",
       "      <th></th>\n",
       "      <th></th>\n",
       "      <th></th>\n",
       "    </tr>\n",
       "  </thead>\n",
       "  <tbody>\n",
       "    <tr>\n",
       "      <th>payment_installments</th>\n",
       "      <td>0.00</td>\n",
       "      <td>24</td>\n",
       "      <td>int64</td>\n",
       "      <td>0</td>\n",
       "      <td>24</td>\n",
       "      <td>2.72</td>\n",
       "    </tr>\n",
       "    <tr>\n",
       "      <th>payment_type</th>\n",
       "      <td>0.00</td>\n",
       "      <td>7</td>\n",
       "      <td>object</td>\n",
       "      <td>boleto</td>\n",
       "      <td>voucher</td>\n",
       "      <td>nan</td>\n",
       "    </tr>\n",
       "    <tr>\n",
       "      <th>boleto</th>\n",
       "      <td>0.00</td>\n",
       "      <td>10542</td>\n",
       "      <td>float64</td>\n",
       "      <td>0.00</td>\n",
       "      <td>7274.88</td>\n",
       "      <td>111.48</td>\n",
       "    </tr>\n",
       "    <tr>\n",
       "      <th>credit_card</th>\n",
       "      <td>0.00</td>\n",
       "      <td>25430</td>\n",
       "      <td>float64</td>\n",
       "      <td>0.00</td>\n",
       "      <td>13664.08</td>\n",
       "      <td>207.84</td>\n",
       "    </tr>\n",
       "    <tr>\n",
       "      <th>debit_card</th>\n",
       "      <td>0.00</td>\n",
       "      <td>1382</td>\n",
       "      <td>float64</td>\n",
       "      <td>0.00</td>\n",
       "      <td>4445.50</td>\n",
       "      <td>35.16</td>\n",
       "    </tr>\n",
       "    <tr>\n",
       "      <th>not_defined</th>\n",
       "      <td>0.00</td>\n",
       "      <td>1</td>\n",
       "      <td>int64</td>\n",
       "      <td>0</td>\n",
       "      <td>0</td>\n",
       "      <td>0.00</td>\n",
       "    </tr>\n",
       "    <tr>\n",
       "      <th>voucher</th>\n",
       "      <td>0.00</td>\n",
       "      <td>2846</td>\n",
       "      <td>float64</td>\n",
       "      <td>0.00</td>\n",
       "      <td>3184.34</td>\n",
       "      <td>34.11</td>\n",
       "    </tr>\n",
       "    <tr>\n",
       "      <th>payment_value</th>\n",
       "      <td>0.00</td>\n",
       "      <td>28029</td>\n",
       "      <td>float64</td>\n",
       "      <td>0.00</td>\n",
       "      <td>13664.08</td>\n",
       "      <td>221.95</td>\n",
       "    </tr>\n",
       "  </tbody>\n",
       "</table>\n",
       "</div>"
      ],
      "text/plain": [
       "                      % manquantes  unique    dtype     min      max    std\n",
       "column                                                                     \n",
       "payment_installments          0.00      24    int64       0       24   2.72\n",
       "payment_type                  0.00       7   object  boleto  voucher    nan\n",
       "boleto                        0.00   10542  float64    0.00  7274.88 111.48\n",
       "credit_card                   0.00   25430  float64    0.00 13664.08 207.84\n",
       "debit_card                    0.00    1382  float64    0.00  4445.50  35.16\n",
       "not_defined                   0.00       1    int64       0        0   0.00\n",
       "voucher                       0.00    2846  float64    0.00  3184.34  34.11\n",
       "payment_value                 0.00   28029  float64    0.00 13664.08 221.95"
      ]
     },
     "execution_count": 63,
     "metadata": {},
     "output_type": "execute_result"
    }
   ],
   "source": [
    "decrire_dataframe(order_payments_agg)\n"
   ]
  },
  {
   "cell_type": "markdown",
   "metadata": {},
   "source": [
    "### Convertir zip_codes en object\n",
    "\n",
    "Maintenant que les latitudes et longitudes sont remplis, on peut convertir zip_code en object\n"
   ]
  },
  {
   "cell_type": "code",
   "execution_count": 64,
   "metadata": {},
   "outputs": [],
   "source": [
    "customers_geo['customer_zip_code_prefix'] = customers_geo['customer_zip_code_prefix'].astype(\n",
    "    object)\n",
    "sellers_geo['seller_zip_code_prefix'] = sellers_geo['seller_zip_code_prefix'].astype(\n",
    "    object)\n"
   ]
  },
  {
   "cell_type": "markdown",
   "metadata": {},
   "source": [
    "## 2.5 Fusionne des tables\n",
    "\n",
    "On peut créer des indicateurs individuellement, par des joins necessaire pour chaque indicateur. Pourtant, il sera dificile de verifier que les indicateurs font référence aux mêmes clients.\n",
    "\n",
    "Avec la quantité de données present, on peut fusionner (merge) les données de toutes les tables, pour ensuite pouvoir génerer les indicateurs nécessaire pour segmentation.\n",
    "\n",
    "Les nouvelles tables sont:\n",
    "\n",
    "- **commandes** - pour pouvoir aggréger order dates, payment types, reviews par unique customer_id\n",
    "- **commande_items** - pour aggréger catégories de produit, sellers, distances par unique customer_id\n",
    "- **clients** - accumulation des indicateurs par unique_customer_id, pour faire la segmentation des clients\n"
   ]
  },
  {
   "cell_type": "markdown",
   "metadata": {},
   "source": [
    "### Création de la table 'commandes'\n",
    "\n",
    "La fusion d'information sur les commandes (sans detailles des items de chaque commande) permet de faire un analyse RFM (Recency Frequency MonetaryValue), par exemple.\n"
   ]
  },
  {
   "cell_type": "code",
   "execution_count": 65,
   "metadata": {},
   "outputs": [
    {
     "name": "stdout",
     "output_type": "stream",
     "text": [
      "customers_geo.shape : (99441, 7)\n",
      "orders_delivered.shape : (96470, 8)\n",
      "order_reviews_agg.shape : (98673, 6)\n",
      "order_payments_agg.shape : (99440, 8)\n",
      "commandes.shape : (95824, 27)\n",
      "95824 registres\n"
     ]
    },
    {
     "data": {
      "text/html": [
       "<div>\n",
       "<style scoped>\n",
       "    .dataframe tbody tr th:only-of-type {\n",
       "        vertical-align: middle;\n",
       "    }\n",
       "\n",
       "    .dataframe tbody tr th {\n",
       "        vertical-align: top;\n",
       "    }\n",
       "\n",
       "    .dataframe thead th {\n",
       "        text-align: right;\n",
       "    }\n",
       "</style>\n",
       "<table border=\"1\" class=\"dataframe\">\n",
       "  <thead>\n",
       "    <tr style=\"text-align: right;\">\n",
       "      <th></th>\n",
       "      <th>% manquantes</th>\n",
       "      <th>unique</th>\n",
       "      <th>dtype</th>\n",
       "      <th>min</th>\n",
       "      <th>max</th>\n",
       "      <th>std</th>\n",
       "    </tr>\n",
       "    <tr>\n",
       "      <th>column</th>\n",
       "      <th></th>\n",
       "      <th></th>\n",
       "      <th></th>\n",
       "      <th></th>\n",
       "      <th></th>\n",
       "      <th></th>\n",
       "    </tr>\n",
       "  </thead>\n",
       "  <tbody>\n",
       "    <tr>\n",
       "      <th>order_approved_at</th>\n",
       "      <td>0.01</td>\n",
       "      <td>87719</td>\n",
       "      <td>object</td>\n",
       "      <td>NaN</td>\n",
       "      <td>NaN</td>\n",
       "      <td>nan</td>\n",
       "    </tr>\n",
       "    <tr>\n",
       "      <th>payment_installments</th>\n",
       "      <td>0.00</td>\n",
       "      <td>24</td>\n",
       "      <td>float64</td>\n",
       "      <td>0.00</td>\n",
       "      <td>24.00</td>\n",
       "      <td>2.71</td>\n",
       "    </tr>\n",
       "    <tr>\n",
       "      <th>boleto</th>\n",
       "      <td>0.00</td>\n",
       "      <td>10242</td>\n",
       "      <td>float64</td>\n",
       "      <td>0.00</td>\n",
       "      <td>7274.88</td>\n",
       "      <td>108.93</td>\n",
       "    </tr>\n",
       "    <tr>\n",
       "      <th>order_delivered_carrier_date</th>\n",
       "      <td>0.00</td>\n",
       "      <td>79604</td>\n",
       "      <td>object</td>\n",
       "      <td>NaN</td>\n",
       "      <td>NaN</td>\n",
       "      <td>nan</td>\n",
       "    </tr>\n",
       "    <tr>\n",
       "      <th>payment_value</th>\n",
       "      <td>0.00</td>\n",
       "      <td>27403</td>\n",
       "      <td>float64</td>\n",
       "      <td>9.59</td>\n",
       "      <td>13664.08</td>\n",
       "      <td>217.51</td>\n",
       "    </tr>\n",
       "    <tr>\n",
       "      <th>...</th>\n",
       "      <td>...</td>\n",
       "      <td>...</td>\n",
       "      <td>...</td>\n",
       "      <td>...</td>\n",
       "      <td>...</td>\n",
       "      <td>...</td>\n",
       "    </tr>\n",
       "    <tr>\n",
       "      <th>order_estimated_delivery_date</th>\n",
       "      <td>0.00</td>\n",
       "      <td>445</td>\n",
       "      <td>object</td>\n",
       "      <td>2016-10-04 00:00:00</td>\n",
       "      <td>2018-10-25 00:00:00</td>\n",
       "      <td>nan</td>\n",
       "    </tr>\n",
       "    <tr>\n",
       "      <th>order_delivered_customer_date</th>\n",
       "      <td>0.00</td>\n",
       "      <td>95016</td>\n",
       "      <td>object</td>\n",
       "      <td>2016-10-11 13:46:32</td>\n",
       "      <td>2018-10-17 13:22:46</td>\n",
       "      <td>nan</td>\n",
       "    </tr>\n",
       "    <tr>\n",
       "      <th>order_purchase_timestamp</th>\n",
       "      <td>0.00</td>\n",
       "      <td>95309</td>\n",
       "      <td>object</td>\n",
       "      <td>2016-09-15 12:16:38</td>\n",
       "      <td>2018-08-29 15:00:37</td>\n",
       "      <td>nan</td>\n",
       "    </tr>\n",
       "    <tr>\n",
       "      <th>order_status</th>\n",
       "      <td>0.00</td>\n",
       "      <td>1</td>\n",
       "      <td>object</td>\n",
       "      <td>delivered</td>\n",
       "      <td>delivered</td>\n",
       "      <td>nan</td>\n",
       "    </tr>\n",
       "    <tr>\n",
       "      <th>customer_lat</th>\n",
       "      <td>0.00</td>\n",
       "      <td>14803</td>\n",
       "      <td>float64</td>\n",
       "      <td>-33.69</td>\n",
       "      <td>3.84</td>\n",
       "      <td>5.59</td>\n",
       "    </tr>\n",
       "  </tbody>\n",
       "</table>\n",
       "<p>27 rows × 6 columns</p>\n",
       "</div>"
      ],
      "text/plain": [
       "                               % manquantes  unique    dtype  \\\n",
       "column                                                         \n",
       "order_approved_at                      0.01   87719   object   \n",
       "payment_installments                   0.00      24  float64   \n",
       "boleto                                 0.00   10242  float64   \n",
       "order_delivered_carrier_date           0.00   79604   object   \n",
       "payment_value                          0.00   27403  float64   \n",
       "...                                     ...     ...      ...   \n",
       "order_estimated_delivery_date          0.00     445   object   \n",
       "order_delivered_customer_date          0.00   95016   object   \n",
       "order_purchase_timestamp               0.00   95309   object   \n",
       "order_status                           0.00       1   object   \n",
       "customer_lat                           0.00   14803  float64   \n",
       "\n",
       "                                               min                  max    std  \n",
       "column                                                                          \n",
       "order_approved_at                              NaN                  NaN    nan  \n",
       "payment_installments                          0.00                24.00   2.71  \n",
       "boleto                                        0.00              7274.88 108.93  \n",
       "order_delivered_carrier_date                   NaN                  NaN    nan  \n",
       "payment_value                                 9.59             13664.08 217.51  \n",
       "...                                            ...                  ...    ...  \n",
       "order_estimated_delivery_date  2016-10-04 00:00:00  2018-10-25 00:00:00    nan  \n",
       "order_delivered_customer_date  2016-10-11 13:46:32  2018-10-17 13:22:46    nan  \n",
       "order_purchase_timestamp       2016-09-15 12:16:38  2018-08-29 15:00:37    nan  \n",
       "order_status                             delivered            delivered    nan  \n",
       "customer_lat                                -33.69                 3.84   5.59  \n",
       "\n",
       "[27 rows x 6 columns]"
      ]
     },
     "execution_count": 65,
     "metadata": {},
     "output_type": "execute_result"
    }
   ],
   "source": [
    "print(f'customers_geo.shape : {customers_geo.shape}')\n",
    "print(f'orders_delivered.shape : {orders_delivered.shape}')\n",
    "print(f'order_reviews_agg.shape : {order_reviews_agg.shape}')\n",
    "print(f'order_payments_agg.shape : {order_payments_agg.shape}')\n",
    "commandes = (orders_delivered\n",
    "             .merge(order_reviews_agg, on='order_id', how='inner')\n",
    "             .merge(order_payments_agg, on='order_id', how='left')\n",
    "             .merge(customers_geo, on='customer_id', how='left')\n",
    "             )\n",
    "\n",
    "print(f'commandes.shape : {commandes.shape}')\n",
    "decrire_dataframe(commandes).sort_values(by='% manquantes', ascending=False)\n"
   ]
  },
  {
   "cell_type": "markdown",
   "metadata": {},
   "source": [
    "#### Commandes - traitement des données manquantes\n",
    "\n",
    "La plupart des données manquantes sont pour les commandes pas livrés\n"
   ]
  },
  {
   "cell_type": "code",
   "execution_count": 66,
   "metadata": {},
   "outputs": [
    {
     "name": "stdout",
     "output_type": "stream",
     "text": [
      "16\n"
     ]
    },
    {
     "data": {
      "text/html": [
       "<div>\n",
       "<style scoped>\n",
       "    .dataframe tbody tr th:only-of-type {\n",
       "        vertical-align: middle;\n",
       "    }\n",
       "\n",
       "    .dataframe tbody tr th {\n",
       "        vertical-align: top;\n",
       "    }\n",
       "\n",
       "    .dataframe thead th {\n",
       "        text-align: right;\n",
       "    }\n",
       "</style>\n",
       "<table border=\"1\" class=\"dataframe\">\n",
       "  <thead>\n",
       "    <tr style=\"text-align: right;\">\n",
       "      <th></th>\n",
       "      <th>order_id</th>\n",
       "      <th>customer_id</th>\n",
       "      <th>order_status</th>\n",
       "      <th>order_purchase_timestamp</th>\n",
       "      <th>order_approved_at</th>\n",
       "      <th>order_delivered_carrier_date</th>\n",
       "      <th>order_delivered_customer_date</th>\n",
       "      <th>order_estimated_delivery_date</th>\n",
       "      <th>review_score</th>\n",
       "      <th>review_nb_comments</th>\n",
       "      <th>review_nb_title</th>\n",
       "      <th>review_comment_message</th>\n",
       "      <th>review_comment_title</th>\n",
       "      <th>payment_installments</th>\n",
       "      <th>payment_type</th>\n",
       "      <th>boleto</th>\n",
       "      <th>credit_card</th>\n",
       "      <th>debit_card</th>\n",
       "      <th>not_defined</th>\n",
       "      <th>voucher</th>\n",
       "      <th>payment_value</th>\n",
       "      <th>customer_unique_id</th>\n",
       "      <th>customer_zip_code_prefix</th>\n",
       "      <th>customer_city</th>\n",
       "      <th>customer_state</th>\n",
       "      <th>customer_lng</th>\n",
       "      <th>customer_lat</th>\n",
       "    </tr>\n",
       "  </thead>\n",
       "  <tbody>\n",
       "    <tr>\n",
       "      <th>5140</th>\n",
       "      <td>e04abd8149ef81b95221e88f6ed9ab6a</td>\n",
       "      <td>2127dc6603ac33544953ef05ec155771</td>\n",
       "      <td>delivered</td>\n",
       "      <td>2017-02-18 14:40:00</td>\n",
       "      <td>NaN</td>\n",
       "      <td>2017-02-23 12:04:47</td>\n",
       "      <td>2017-03-01 13:25:33</td>\n",
       "      <td>2017-03-17 00:00:00</td>\n",
       "      <td>4.00</td>\n",
       "      <td>1.00</td>\n",
       "      <td>0.00</td>\n",
       "      <td>Muita demora, mas, tudo ok.\\r\\nTerezinha</td>\n",
       "      <td></td>\n",
       "      <td>1.00</td>\n",
       "      <td>boleto</td>\n",
       "      <td>349.01</td>\n",
       "      <td>0.00</td>\n",
       "      <td>0.00</td>\n",
       "      <td>0.00</td>\n",
       "      <td>0.00</td>\n",
       "      <td>349.01</td>\n",
       "      <td>8a9a08c7ca8900a200d83cf838a07e0b</td>\n",
       "      <td>6708.00</td>\n",
       "      <td>cotia</td>\n",
       "      <td>SP</td>\n",
       "      <td>-46.85</td>\n",
       "      <td>-23.59</td>\n",
       "    </tr>\n",
       "    <tr>\n",
       "      <th>16014</th>\n",
       "      <td>8a9adc69528e1001fc68dd0aaebbb54a</td>\n",
       "      <td>4c1ccc74e00993733742a3c786dc3c1f</td>\n",
       "      <td>delivered</td>\n",
       "      <td>2017-02-18 12:45:31</td>\n",
       "      <td>NaN</td>\n",
       "      <td>2017-02-23 09:01:52</td>\n",
       "      <td>2017-03-02 10:05:06</td>\n",
       "      <td>2017-03-21 00:00:00</td>\n",
       "      <td>5.00</td>\n",
       "      <td>0.00</td>\n",
       "      <td>0.00</td>\n",
       "      <td></td>\n",
       "      <td></td>\n",
       "      <td>1.00</td>\n",
       "      <td>boleto</td>\n",
       "      <td>396.86</td>\n",
       "      <td>0.00</td>\n",
       "      <td>0.00</td>\n",
       "      <td>0.00</td>\n",
       "      <td>0.00</td>\n",
       "      <td>396.86</td>\n",
       "      <td>91efb7fcabc17925099dced52435837f</td>\n",
       "      <td>93548.00</td>\n",
       "      <td>novo hamburgo</td>\n",
       "      <td>RS</td>\n",
       "      <td>-51.12</td>\n",
       "      <td>-29.69</td>\n",
       "    </tr>\n",
       "    <tr>\n",
       "      <th>18390</th>\n",
       "      <td>7013bcfc1c97fe719a7b5e05e61c12db</td>\n",
       "      <td>2941af76d38100e0f8740a374f1a5dc3</td>\n",
       "      <td>delivered</td>\n",
       "      <td>2017-02-18 13:29:47</td>\n",
       "      <td>NaN</td>\n",
       "      <td>2017-02-22 16:25:25</td>\n",
       "      <td>2017-03-01 08:07:38</td>\n",
       "      <td>2017-03-17 00:00:00</td>\n",
       "      <td>5.00</td>\n",
       "      <td>0.00</td>\n",
       "      <td>0.00</td>\n",
       "      <td></td>\n",
       "      <td></td>\n",
       "      <td>1.00</td>\n",
       "      <td>boleto</td>\n",
       "      <td>65.52</td>\n",
       "      <td>0.00</td>\n",
       "      <td>0.00</td>\n",
       "      <td>0.00</td>\n",
       "      <td>0.00</td>\n",
       "      <td>65.52</td>\n",
       "      <td>e1f01a1bd6485e58ad3c769a5427d8a8</td>\n",
       "      <td>8230.00</td>\n",
       "      <td>sao paulo</td>\n",
       "      <td>SP</td>\n",
       "      <td>-46.45</td>\n",
       "      <td>-23.52</td>\n",
       "    </tr>\n",
       "    <tr>\n",
       "      <th>21869</th>\n",
       "      <td>5cf925b116421afa85ee25e99b4c34fb</td>\n",
       "      <td>29c35fc91fc13fb5073c8f30505d860d</td>\n",
       "      <td>delivered</td>\n",
       "      <td>2017-02-18 16:48:35</td>\n",
       "      <td>NaN</td>\n",
       "      <td>2017-02-22 11:23:10</td>\n",
       "      <td>2017-03-09 07:28:47</td>\n",
       "      <td>2017-03-31 00:00:00</td>\n",
       "      <td>5.00</td>\n",
       "      <td>0.00</td>\n",
       "      <td>0.00</td>\n",
       "      <td></td>\n",
       "      <td></td>\n",
       "      <td>1.00</td>\n",
       "      <td>boleto</td>\n",
       "      <td>106.81</td>\n",
       "      <td>0.00</td>\n",
       "      <td>0.00</td>\n",
       "      <td>0.00</td>\n",
       "      <td>0.00</td>\n",
       "      <td>106.81</td>\n",
       "      <td>7e1a5ca61b572d76b64b6688b9f96473</td>\n",
       "      <td>62700.00</td>\n",
       "      <td>caninde</td>\n",
       "      <td>CE</td>\n",
       "      <td>-39.31</td>\n",
       "      <td>-4.36</td>\n",
       "    </tr>\n",
       "    <tr>\n",
       "      <th>22345</th>\n",
       "      <td>12a95a3c06dbaec84bcfb0e2da5d228a</td>\n",
       "      <td>1e101e0daffaddce8159d25a8e53f2b2</td>\n",
       "      <td>delivered</td>\n",
       "      <td>2017-02-17 13:05:55</td>\n",
       "      <td>NaN</td>\n",
       "      <td>2017-02-22 11:23:11</td>\n",
       "      <td>2017-03-02 11:09:19</td>\n",
       "      <td>2017-03-20 00:00:00</td>\n",
       "      <td>5.00</td>\n",
       "      <td>0.00</td>\n",
       "      <td>0.00</td>\n",
       "      <td></td>\n",
       "      <td></td>\n",
       "      <td>1.00</td>\n",
       "      <td>boleto</td>\n",
       "      <td>95.76</td>\n",
       "      <td>0.00</td>\n",
       "      <td>0.00</td>\n",
       "      <td>0.00</td>\n",
       "      <td>0.00</td>\n",
       "      <td>95.76</td>\n",
       "      <td>c8822fce1d0bfa7ddf0da24fff947172</td>\n",
       "      <td>27945.00</td>\n",
       "      <td>macae</td>\n",
       "      <td>RJ</td>\n",
       "      <td>-41.80</td>\n",
       "      <td>-22.37</td>\n",
       "    </tr>\n",
       "  </tbody>\n",
       "</table>\n",
       "</div>"
      ],
      "text/plain": [
       "                               order_id                       customer_id  \\\n",
       "5140   e04abd8149ef81b95221e88f6ed9ab6a  2127dc6603ac33544953ef05ec155771   \n",
       "16014  8a9adc69528e1001fc68dd0aaebbb54a  4c1ccc74e00993733742a3c786dc3c1f   \n",
       "18390  7013bcfc1c97fe719a7b5e05e61c12db  2941af76d38100e0f8740a374f1a5dc3   \n",
       "21869  5cf925b116421afa85ee25e99b4c34fb  29c35fc91fc13fb5073c8f30505d860d   \n",
       "22345  12a95a3c06dbaec84bcfb0e2da5d228a  1e101e0daffaddce8159d25a8e53f2b2   \n",
       "\n",
       "      order_status order_purchase_timestamp order_approved_at  \\\n",
       "5140     delivered      2017-02-18 14:40:00               NaN   \n",
       "16014    delivered      2017-02-18 12:45:31               NaN   \n",
       "18390    delivered      2017-02-18 13:29:47               NaN   \n",
       "21869    delivered      2017-02-18 16:48:35               NaN   \n",
       "22345    delivered      2017-02-17 13:05:55               NaN   \n",
       "\n",
       "      order_delivered_carrier_date order_delivered_customer_date  \\\n",
       "5140           2017-02-23 12:04:47           2017-03-01 13:25:33   \n",
       "16014          2017-02-23 09:01:52           2017-03-02 10:05:06   \n",
       "18390          2017-02-22 16:25:25           2017-03-01 08:07:38   \n",
       "21869          2017-02-22 11:23:10           2017-03-09 07:28:47   \n",
       "22345          2017-02-22 11:23:11           2017-03-02 11:09:19   \n",
       "\n",
       "      order_estimated_delivery_date  review_score  review_nb_comments  \\\n",
       "5140            2017-03-17 00:00:00          4.00                1.00   \n",
       "16014           2017-03-21 00:00:00          5.00                0.00   \n",
       "18390           2017-03-17 00:00:00          5.00                0.00   \n",
       "21869           2017-03-31 00:00:00          5.00                0.00   \n",
       "22345           2017-03-20 00:00:00          5.00                0.00   \n",
       "\n",
       "       review_nb_title                    review_comment_message  \\\n",
       "5140              0.00  Muita demora, mas, tudo ok.\\r\\nTerezinha   \n",
       "16014             0.00                                             \n",
       "18390             0.00                                             \n",
       "21869             0.00                                             \n",
       "22345             0.00                                             \n",
       "\n",
       "      review_comment_title  payment_installments payment_type  boleto  \\\n",
       "5140                                        1.00       boleto  349.01   \n",
       "16014                                       1.00       boleto  396.86   \n",
       "18390                                       1.00       boleto   65.52   \n",
       "21869                                       1.00       boleto  106.81   \n",
       "22345                                       1.00       boleto   95.76   \n",
       "\n",
       "       credit_card  debit_card  not_defined  voucher  payment_value  \\\n",
       "5140          0.00        0.00         0.00     0.00         349.01   \n",
       "16014         0.00        0.00         0.00     0.00         396.86   \n",
       "18390         0.00        0.00         0.00     0.00          65.52   \n",
       "21869         0.00        0.00         0.00     0.00         106.81   \n",
       "22345         0.00        0.00         0.00     0.00          95.76   \n",
       "\n",
       "                     customer_unique_id customer_zip_code_prefix  \\\n",
       "5140   8a9a08c7ca8900a200d83cf838a07e0b                  6708.00   \n",
       "16014  91efb7fcabc17925099dced52435837f                 93548.00   \n",
       "18390  e1f01a1bd6485e58ad3c769a5427d8a8                  8230.00   \n",
       "21869  7e1a5ca61b572d76b64b6688b9f96473                 62700.00   \n",
       "22345  c8822fce1d0bfa7ddf0da24fff947172                 27945.00   \n",
       "\n",
       "       customer_city customer_state  customer_lng  customer_lat  \n",
       "5140           cotia             SP        -46.85        -23.59  \n",
       "16014  novo hamburgo             RS        -51.12        -29.69  \n",
       "18390      sao paulo             SP        -46.45        -23.52  \n",
       "21869        caninde             CE        -39.31         -4.36  \n",
       "22345          macae             RJ        -41.80        -22.37  "
      ]
     },
     "execution_count": 66,
     "metadata": {},
     "output_type": "execute_result"
    }
   ],
   "source": [
    "rows_missing_data = commandes[commandes.isna().any(axis=1)]\n",
    "print(len(rows_missing_data))\n",
    "rows_missing_data.head()\n"
   ]
  },
  {
   "cell_type": "markdown",
   "metadata": {},
   "source": [
    "#### Supprime les 16 registres avec données manquantes\n"
   ]
  },
  {
   "cell_type": "code",
   "execution_count": 67,
   "metadata": {},
   "outputs": [],
   "source": [
    "commandes = commandes.dropna()\n"
   ]
  },
  {
   "cell_type": "markdown",
   "metadata": {},
   "source": [
    "#### Convertir les colonnes datetime\n"
   ]
  },
  {
   "cell_type": "code",
   "execution_count": 68,
   "metadata": {},
   "outputs": [
    {
     "name": "stdout",
     "output_type": "stream",
     "text": [
      "<class 'pandas.core.frame.DataFrame'>\n",
      "Int64Index: 95808 entries, 0 to 95823\n",
      "Data columns (total 15 columns):\n",
      " #   Column                         Non-Null Count  Dtype         \n",
      "---  ------                         --------------  -----         \n",
      " 0   order_id                       95808 non-null  object        \n",
      " 1   customer_id                    95808 non-null  object        \n",
      " 2   order_status                   95808 non-null  object        \n",
      " 3   order_purchase_timestamp       95808 non-null  datetime64[ns]\n",
      " 4   order_approved_at              95808 non-null  datetime64[ns]\n",
      " 5   order_delivered_carrier_date   95808 non-null  datetime64[ns]\n",
      " 6   order_delivered_customer_date  95808 non-null  datetime64[ns]\n",
      " 7   order_estimated_delivery_date  95808 non-null  datetime64[ns]\n",
      " 8   review_comment_message         95808 non-null  object        \n",
      " 9   review_comment_title           95808 non-null  object        \n",
      " 10  payment_type                   95808 non-null  object        \n",
      " 11  customer_unique_id             95808 non-null  object        \n",
      " 12  customer_zip_code_prefix       95808 non-null  object        \n",
      " 13  customer_city                  95808 non-null  object        \n",
      " 14  customer_state                 95808 non-null  object        \n",
      "dtypes: datetime64[ns](5), object(10)\n",
      "memory usage: 11.7+ MB\n"
     ]
    }
   ],
   "source": [
    "date_cols = ['order_purchase_timestamp',\n",
    "             'order_approved_at', 'order_delivered_carrier_date',\n",
    "             'order_delivered_customer_date', 'order_estimated_delivery_date']\n",
    "\n",
    "for col in date_cols:\n",
    "    commandes[col] = pd.to_datetime(commandes[col], errors='coerce')\n",
    "\n",
    "commandes.select_dtypes(exclude='number').info()\n"
   ]
  },
  {
   "cell_type": "markdown",
   "metadata": {},
   "source": [
    "### Création de la table 'commande*items' (\\_items commandés*)\n",
    "\n",
    "On fusionne la table des commandes avec les items (le niveau plus atomique), à fin de pouvoir analyser, par exemple, pour chaque client:\n",
    "\n",
    "- les type de produits achétés\n",
    "- la distance entre vendeur et acheteur\n",
    "- la taille / poids des achats\n",
    "- l'influence de photos sur les achats\n"
   ]
  },
  {
   "cell_type": "code",
   "execution_count": 69,
   "metadata": {},
   "outputs": [
    {
     "name": "stdout",
     "output_type": "stream",
     "text": [
      "commandes.shape : (95808, 27)\n",
      "order_items.shape : (112650, 7)\n",
      "commande_items.shape (après merge order_items) : (109343, 33)\n",
      "commande_items.shape (après merge sellers) : (109343, 38)\n",
      "commande_items.shape (après merge products) : (109343, 47)\n",
      "109343 registres\n"
     ]
    },
    {
     "data": {
      "text/html": [
       "<div>\n",
       "<style scoped>\n",
       "    .dataframe tbody tr th:only-of-type {\n",
       "        vertical-align: middle;\n",
       "    }\n",
       "\n",
       "    .dataframe tbody tr th {\n",
       "        vertical-align: top;\n",
       "    }\n",
       "\n",
       "    .dataframe thead th {\n",
       "        text-align: right;\n",
       "    }\n",
       "</style>\n",
       "<table border=\"1\" class=\"dataframe\">\n",
       "  <thead>\n",
       "    <tr style=\"text-align: right;\">\n",
       "      <th></th>\n",
       "      <th>% manquantes</th>\n",
       "      <th>unique</th>\n",
       "      <th>dtype</th>\n",
       "      <th>min</th>\n",
       "      <th>max</th>\n",
       "      <th>std</th>\n",
       "    </tr>\n",
       "    <tr>\n",
       "      <th>column</th>\n",
       "      <th></th>\n",
       "      <th></th>\n",
       "      <th></th>\n",
       "      <th></th>\n",
       "      <th></th>\n",
       "      <th></th>\n",
       "    </tr>\n",
       "  </thead>\n",
       "  <tbody>\n",
       "    <tr>\n",
       "      <th>product_category_name_english</th>\n",
       "      <td>1.41</td>\n",
       "      <td>71</td>\n",
       "      <td>object</td>\n",
       "      <td>NaN</td>\n",
       "      <td>NaN</td>\n",
       "      <td>nan</td>\n",
       "    </tr>\n",
       "    <tr>\n",
       "      <th>product_photos_qty</th>\n",
       "      <td>1.39</td>\n",
       "      <td>19</td>\n",
       "      <td>float64</td>\n",
       "      <td>1.00</td>\n",
       "      <td>20.00</td>\n",
       "      <td>1.72</td>\n",
       "    </tr>\n",
       "    <tr>\n",
       "      <th>product_description_lenght</th>\n",
       "      <td>1.39</td>\n",
       "      <td>2942</td>\n",
       "      <td>float64</td>\n",
       "      <td>4.00</td>\n",
       "      <td>3992.00</td>\n",
       "      <td>651.17</td>\n",
       "    </tr>\n",
       "    <tr>\n",
       "      <th>product_name_lenght</th>\n",
       "      <td>1.39</td>\n",
       "      <td>65</td>\n",
       "      <td>float64</td>\n",
       "      <td>5.00</td>\n",
       "      <td>76.00</td>\n",
       "      <td>10.01</td>\n",
       "    </tr>\n",
       "    <tr>\n",
       "      <th>product_category_name</th>\n",
       "      <td>1.39</td>\n",
       "      <td>73</td>\n",
       "      <td>object</td>\n",
       "      <td>NaN</td>\n",
       "      <td>NaN</td>\n",
       "      <td>nan</td>\n",
       "    </tr>\n",
       "    <tr>\n",
       "      <th>...</th>\n",
       "      <td>...</td>\n",
       "      <td>...</td>\n",
       "      <td>...</td>\n",
       "      <td>...</td>\n",
       "      <td>...</td>\n",
       "      <td>...</td>\n",
       "    </tr>\n",
       "    <tr>\n",
       "      <th>not_defined</th>\n",
       "      <td>0.00</td>\n",
       "      <td>1</td>\n",
       "      <td>float64</td>\n",
       "      <td>0.00</td>\n",
       "      <td>0.00</td>\n",
       "      <td>0.00</td>\n",
       "    </tr>\n",
       "    <tr>\n",
       "      <th>voucher</th>\n",
       "      <td>0.00</td>\n",
       "      <td>2696</td>\n",
       "      <td>float64</td>\n",
       "      <td>0.00</td>\n",
       "      <td>1839.05</td>\n",
       "      <td>28.91</td>\n",
       "    </tr>\n",
       "    <tr>\n",
       "      <th>payment_value</th>\n",
       "      <td>0.00</td>\n",
       "      <td>27400</td>\n",
       "      <td>float64</td>\n",
       "      <td>9.59</td>\n",
       "      <td>13664.08</td>\n",
       "      <td>269.45</td>\n",
       "    </tr>\n",
       "    <tr>\n",
       "      <th>customer_unique_id</th>\n",
       "      <td>0.00</td>\n",
       "      <td>92732</td>\n",
       "      <td>object</td>\n",
       "      <td>0000366f3b9a7992bf8c76cfdf3221e2</td>\n",
       "      <td>ffffd2657e2aad2907e67c3e9daecbeb</td>\n",
       "      <td>nan</td>\n",
       "    </tr>\n",
       "    <tr>\n",
       "      <th>customer_city</th>\n",
       "      <td>0.00</td>\n",
       "      <td>4083</td>\n",
       "      <td>object</td>\n",
       "      <td>abadia dos dourados</td>\n",
       "      <td>zortea</td>\n",
       "      <td>nan</td>\n",
       "    </tr>\n",
       "  </tbody>\n",
       "</table>\n",
       "<p>47 rows × 6 columns</p>\n",
       "</div>"
      ],
      "text/plain": [
       "                               % manquantes  unique    dtype  \\\n",
       "column                                                         \n",
       "product_category_name_english          1.41      71   object   \n",
       "product_photos_qty                     1.39      19  float64   \n",
       "product_description_lenght             1.39    2942  float64   \n",
       "product_name_lenght                    1.39      65  float64   \n",
       "product_category_name                  1.39      73   object   \n",
       "...                                     ...     ...      ...   \n",
       "not_defined                            0.00       1  float64   \n",
       "voucher                                0.00    2696  float64   \n",
       "payment_value                          0.00   27400  float64   \n",
       "customer_unique_id                     0.00   92732   object   \n",
       "customer_city                          0.00    4083   object   \n",
       "\n",
       "                                                            min  \\\n",
       "column                                                            \n",
       "product_category_name_english                               NaN   \n",
       "product_photos_qty                                         1.00   \n",
       "product_description_lenght                                 4.00   \n",
       "product_name_lenght                                        5.00   \n",
       "product_category_name                                       NaN   \n",
       "...                                                         ...   \n",
       "not_defined                                                0.00   \n",
       "voucher                                                    0.00   \n",
       "payment_value                                              9.59   \n",
       "customer_unique_id             0000366f3b9a7992bf8c76cfdf3221e2   \n",
       "customer_city                               abadia dos dourados   \n",
       "\n",
       "                                                            max    std  \n",
       "column                                                                  \n",
       "product_category_name_english                               NaN    nan  \n",
       "product_photos_qty                                        20.00   1.72  \n",
       "product_description_lenght                              3992.00 651.17  \n",
       "product_name_lenght                                       76.00  10.01  \n",
       "product_category_name                                       NaN    nan  \n",
       "...                                                         ...    ...  \n",
       "not_defined                                                0.00   0.00  \n",
       "voucher                                                 1839.05  28.91  \n",
       "payment_value                                          13664.08 269.45  \n",
       "customer_unique_id             ffffd2657e2aad2907e67c3e9daecbeb    nan  \n",
       "customer_city                                            zortea    nan  \n",
       "\n",
       "[47 rows x 6 columns]"
      ]
     },
     "execution_count": 69,
     "metadata": {},
     "output_type": "execute_result"
    }
   ],
   "source": [
    "print(f'commandes.shape : {commandes.shape}')\n",
    "print(f'order_items.shape : {order_items.shape}')\n",
    "commande_items = commandes.merge(order_items, on='order_id', how='left')\n",
    "print(\n",
    "    f'commande_items.shape (après merge order_items) : {commande_items.shape}')\n",
    "\n",
    "commande_items = commande_items.merge(sellers_geo, on='seller_id', how='left')\n",
    "print(f'commande_items.shape (après merge sellers) : {commande_items.shape}')\n",
    "\n",
    "commande_items = commande_items.merge(products_en, on='product_id', how='left')\n",
    "print(f'commande_items.shape (après merge products) : {commande_items.shape}')\n",
    "\n",
    "decrire_dataframe(commande_items).sort_values(\n",
    "    by='% manquantes', ascending=False)\n"
   ]
  },
  {
   "cell_type": "markdown",
   "metadata": {},
   "source": [
    "### Items commandés - traitement des données manquantes\n"
   ]
  },
  {
   "cell_type": "code",
   "execution_count": 70,
   "metadata": {},
   "outputs": [
    {
     "data": {
      "text/plain": [
       "product_category_name            1524\n",
       "product_name_lenght              1524\n",
       "product_description_lenght       1524\n",
       "product_photos_qty               1524\n",
       "product_weight_g                   18\n",
       "product_length_cm                  18\n",
       "product_height_cm                  18\n",
       "product_width_cm                   18\n",
       "product_category_name_english    1546\n",
       "dtype: int64"
      ]
     },
     "execution_count": 70,
     "metadata": {},
     "output_type": "execute_result"
    }
   ],
   "source": [
    "missing = commande_items.columns[commande_items.isnull().any()]\n",
    "commande_items[missing].isna().sum()\n"
   ]
  },
  {
   "cell_type": "markdown",
   "metadata": {},
   "source": [
    "#### Remplir valeurs manquantes\n"
   ]
  },
  {
   "cell_type": "code",
   "execution_count": 71,
   "metadata": {},
   "outputs": [],
   "source": [
    "for col in ['product_category_name', 'product_category_name_english']:\n",
    "    commande_items[col] = commande_items[col].fillna('missing')\n",
    "\n",
    "commande_items = commande_items.fillna(0)\n"
   ]
  },
  {
   "cell_type": "markdown",
   "metadata": {},
   "source": [
    "#### Convertir colonnes en datetime\n"
   ]
  },
  {
   "cell_type": "code",
   "execution_count": 72,
   "metadata": {},
   "outputs": [],
   "source": [
    "item_date_cols = ['shipping_limit_date']\n",
    "for col in item_date_cols:\n",
    "    commande_items[col] = pd.to_datetime(commande_items[col], errors='coerce')\n"
   ]
  },
  {
   "cell_type": "code",
   "execution_count": 73,
   "metadata": {},
   "outputs": [
    {
     "data": {
      "text/plain": [
       "Series([], dtype: float64)"
      ]
     },
     "execution_count": 73,
     "metadata": {},
     "output_type": "execute_result"
    }
   ],
   "source": [
    "missing = commande_items.columns[commande_items.isnull().any()]\n",
    "commande_items[missing].isna().sum()\n"
   ]
  },
  {
   "cell_type": "markdown",
   "metadata": {},
   "source": [
    "### Création de la table 'clients' (RFM et autres indicateurs client)\n",
    "\n",
    "La table **clients** accumule les indicateurs par unique_customer_id, pour faire la segmentation des clients\n",
    "\n",
    "On commence par créer les indicateurs RFM\n"
   ]
  },
  {
   "cell_type": "markdown",
   "metadata": {},
   "source": [
    "#### Indicateurs RFM\n",
    "\n",
    "- Recency = date de la dernière achat (relative à la date à laquelle ce jeu de données a été enregistré)\n",
    "- Frequency = fréquence des achats\n",
    "- MonetaryValue = moyenne valeur des achats\n"
   ]
  },
  {
   "cell_type": "code",
   "execution_count": 74,
   "metadata": {},
   "outputs": [
    {
     "name": "stdout",
     "output_type": "stream",
     "text": [
      "2018-10-17 13:22:46\n",
      "2018-09-11 19:48:28\n",
      "2018-08-29 15:00:37\n"
     ]
    }
   ],
   "source": [
    "last_date = commandes['order_delivered_customer_date'].max()\n",
    "last_date_carrier = commandes['order_delivered_carrier_date'].max()\n",
    "last_date_purchase = commandes['order_purchase_timestamp'].max()\n",
    "print(last_date)\n",
    "print(last_date_carrier)\n",
    "print(last_date_purchase)\n"
   ]
  },
  {
   "cell_type": "code",
   "execution_count": 75,
   "metadata": {},
   "outputs": [
    {
     "data": {
      "text/html": [
       "<div>\n",
       "<style scoped>\n",
       "    .dataframe tbody tr th:only-of-type {\n",
       "        vertical-align: middle;\n",
       "    }\n",
       "\n",
       "    .dataframe tbody tr th {\n",
       "        vertical-align: top;\n",
       "    }\n",
       "\n",
       "    .dataframe thead th {\n",
       "        text-align: right;\n",
       "    }\n",
       "</style>\n",
       "<table border=\"1\" class=\"dataframe\">\n",
       "  <thead>\n",
       "    <tr style=\"text-align: right;\">\n",
       "      <th></th>\n",
       "      <th>dernier_achat</th>\n",
       "      <th>Frequency</th>\n",
       "      <th>MonetaryValue</th>\n",
       "      <th>Recency</th>\n",
       "    </tr>\n",
       "    <tr>\n",
       "      <th>customer_unique_id</th>\n",
       "      <th></th>\n",
       "      <th></th>\n",
       "      <th></th>\n",
       "      <th></th>\n",
       "    </tr>\n",
       "  </thead>\n",
       "  <tbody>\n",
       "    <tr>\n",
       "      <th>8d50f5eadf50201ccdcedfb9e2ac8455</th>\n",
       "      <td>2018-08-20 19:14:26</td>\n",
       "      <td>15</td>\n",
       "      <td>58.62</td>\n",
       "      <td>-58</td>\n",
       "    </tr>\n",
       "    <tr>\n",
       "      <th>3e43e6105506432c953e165fb2acf44c</th>\n",
       "      <td>2018-02-27 18:36:39</td>\n",
       "      <td>9</td>\n",
       "      <td>130.30</td>\n",
       "      <td>-232</td>\n",
       "    </tr>\n",
       "    <tr>\n",
       "      <th>ca77025e7201e3b30c44b472ff346268</th>\n",
       "      <td>2018-06-01 11:38:29</td>\n",
       "      <td>7</td>\n",
       "      <td>160.39</td>\n",
       "      <td>-139</td>\n",
       "    </tr>\n",
       "    <tr>\n",
       "      <th>1b6c7548a2a1f9037c1fd3ddfed95f33</th>\n",
       "      <td>2018-02-14 13:22:12</td>\n",
       "      <td>7</td>\n",
       "      <td>137.00</td>\n",
       "      <td>-246</td>\n",
       "    </tr>\n",
       "    <tr>\n",
       "      <th>6469f99c1f9dfae7733b25662e7f1782</th>\n",
       "      <td>2018-06-28 00:43:34</td>\n",
       "      <td>7</td>\n",
       "      <td>108.40</td>\n",
       "      <td>-112</td>\n",
       "    </tr>\n",
       "  </tbody>\n",
       "</table>\n",
       "</div>"
      ],
      "text/plain": [
       "                                       dernier_achat  Frequency  \\\n",
       "customer_unique_id                                                \n",
       "8d50f5eadf50201ccdcedfb9e2ac8455 2018-08-20 19:14:26         15   \n",
       "3e43e6105506432c953e165fb2acf44c 2018-02-27 18:36:39          9   \n",
       "ca77025e7201e3b30c44b472ff346268 2018-06-01 11:38:29          7   \n",
       "1b6c7548a2a1f9037c1fd3ddfed95f33 2018-02-14 13:22:12          7   \n",
       "6469f99c1f9dfae7733b25662e7f1782 2018-06-28 00:43:34          7   \n",
       "\n",
       "                                  MonetaryValue  Recency  \n",
       "customer_unique_id                                        \n",
       "8d50f5eadf50201ccdcedfb9e2ac8455          58.62      -58  \n",
       "3e43e6105506432c953e165fb2acf44c         130.30     -232  \n",
       "ca77025e7201e3b30c44b472ff346268         160.39     -139  \n",
       "1b6c7548a2a1f9037c1fd3ddfed95f33         137.00     -246  \n",
       "6469f99c1f9dfae7733b25662e7f1782         108.40     -112  "
      ]
     },
     "execution_count": 75,
     "metadata": {},
     "output_type": "execute_result"
    }
   ],
   "source": [
    "clients = commandes.groupby(\"customer_unique_id\").agg({\n",
    "    'order_purchase_timestamp': 'max',\n",
    "    'customer_id': 'count',\n",
    "    'payment_value': 'mean'\n",
    "})\n",
    "\n",
    "clients.columns = ['dernier_achat', 'Frequency', 'MonetaryValue']\n",
    "clients['Recency'] = (clients['dernier_achat'] - last_date).dt.days\n",
    "clients.sort_values(by='Frequency', ascending=False).head()\n"
   ]
  },
  {
   "cell_type": "markdown",
   "metadata": {},
   "source": [
    "# 3. Analyse Exploratoire\n"
   ]
  },
  {
   "cell_type": "markdown",
   "metadata": {},
   "source": [
    "## 3.1 Données numériques\n"
   ]
  },
  {
   "cell_type": "markdown",
   "metadata": {},
   "source": [
    "## 3.2 Données catégoriques\n"
   ]
  },
  {
   "cell_type": "code",
   "execution_count": null,
   "metadata": {},
   "outputs": [],
   "source": []
  },
  {
   "cell_type": "markdown",
   "metadata": {},
   "source": [
    "## 3.3 Associations entre variables catégoriques et numériques\n"
   ]
  },
  {
   "cell_type": "code",
   "execution_count": null,
   "metadata": {},
   "outputs": [],
   "source": []
  },
  {
   "cell_type": "markdown",
   "metadata": {},
   "source": [
    "# 4. Feature Engineering\n"
   ]
  },
  {
   "cell_type": "code",
   "execution_count": null,
   "metadata": {},
   "outputs": [],
   "source": []
  },
  {
   "cell_type": "markdown",
   "metadata": {},
   "source": [
    "## 4.1 Nouvelles 'features' catégoriques\n"
   ]
  },
  {
   "cell_type": "markdown",
   "metadata": {},
   "source": [
    "## 4.2 Nouvelles 'features' numériques\n"
   ]
  },
  {
   "cell_type": "markdown",
   "metadata": {},
   "source": [
    "## 4.3 Pipeline de Feature Engineering\n"
   ]
  },
  {
   "cell_type": "markdown",
   "metadata": {},
   "source": [
    "# 5. Enregistrement des données nettoyées\n"
   ]
  },
  {
   "cell_type": "markdown",
   "metadata": {},
   "source": [
    "## 5.1 Sommaire des données nettoyées\n"
   ]
  }
 ],
 "metadata": {
  "interpreter": {
   "hash": "08f54268de9884c973a82c2c5267bbf1de8fae7577a142dd199c5c3f90c0dd65"
  },
  "kernelspec": {
   "display_name": "Python 3.7.0 ('OC_3')",
   "language": "python",
   "name": "python3"
  },
  "language_info": {
   "codemirror_mode": {
    "name": "ipython",
    "version": 3
   },
   "file_extension": ".py",
   "mimetype": "text/x-python",
   "name": "python",
   "nbconvert_exporter": "python",
   "pygments_lexer": "ipython3",
   "version": "3.7.0"
  },
  "orig_nbformat": 4
 },
 "nbformat": 4,
 "nbformat_minor": 2
}
