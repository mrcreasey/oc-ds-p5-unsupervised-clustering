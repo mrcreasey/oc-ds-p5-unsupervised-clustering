{
 "cells": [
  {
   "cell_type": "markdown",
   "metadata": {},
   "source": [
    "# Segmentez des clients d'un site e-commerce\n",
    "\n",
    "- **Projet 5 du parcours « Data Scientist » d’OpenClassrooms**\n",
    "- **Mark Creasey**\n",
    "\n",
    "## Partie 1 : Nettoyage et analyse exploratoire des données\n",
    "\n",
    "<img  width=\"76\" height=\"30\" src=\"https://olist.com/wp-custom/themes/olist20/assets/img/brand.svg\" alt=\"Logo olist\">\n"
   ]
  },
  {
   "cell_type": "markdown",
   "metadata": {},
   "source": [
    "<!--TABLE OF CONTENTS-->\n",
    "\n",
    "- [1. Compréhension du problème](#1.-Compréhension-du-problème)\n",
    "  - [1.1 Mission](#1.1-Mission)\n",
    "  - [1.2 Requirements : Bibliothèques utilisées dans ce notebook](#1.2-Requirements-:-Bibliothèques-utilisées-dans-ce-notebook)\n",
    "  - [1.3 Des fonctions utilitaires](#1.3-Des-fonctions-utilitaires)\n",
    "  - [1.4 Des routines statistiques](#1.4-Des-routines-statistiques)\n",
    "- [2. Import et nettoyage des données](#2.-Import-et-nettoyage-des-données)\n",
    "  - [2.1 Description des données (metadata)](<#2.1-Description-des-données-(metadata)>)\n",
    "  - [2.2 Import des données](#2.2-Import-des-données)\n",
    "  - [2.3 Description de données (après import)](<#2.3-Description-de-données-(après-import)>)\n",
    "  - [2.4 Nettoyage des données](#2.4-Nettoyage-des-données)\n",
    "- [3. Analyse Exploratoire](#3.-Analyse-Exploratoire)\n",
    "  - [3.1 Données numériques](#3.1-Données-numériques)\n",
    "  - [3.2 Données catégoriques](#3.2-Données-catégoriques)\n",
    "  - [3.3 Associations entre variables catégoriques et numériques](#3.3-Associations-entre-variables-catégoriques-et-numériques)\n",
    "- [4. Feature Engineering](#4.-Feature-Engineering)\n",
    "  - [4.1 Nouvelles 'features' catégoriques](#4.1-Nouvelles-'features'-catégoriques)\n",
    "  - [4.2 Nouvelles 'features' numériques](#4.2-Nouvelles-'features'-numériques)\n",
    "- [5. Enregistrement des données nettoyées](#5.-Enregistrement-des-données-nettoyées)\n",
    "  - [5.1 Sommaire des données nettoyées](#5.1-Sommaire-des-données-nettoyées)\n"
   ]
  },
  {
   "cell_type": "markdown",
   "metadata": {},
   "source": [
    "# 1. Compréhension du problème\n",
    "\n",
    "## 1.1 Mission\n",
    "\n",
    "[Olist](https://olist.com/), une entreprise brésilienne qui propose une solution de vente sur les\n",
    "marketplaces en ligne, souhaite une **segmentation des clients** que ses équipes d'e-commerce pourront\n",
    "utiliser au quotidien pour leurs campagnes de communication.\n",
    "\n",
    "- **comprendre les différents types d'utilisateurs**, grâce à leur comportement et à leurs données\n",
    "  personnelles, en regroupant des clients de profils similaires. Ces catégories pourront être\n",
    "  utilisées par l’équipe Marketing pour mieux communiquer.\n",
    "\n",
    "- **fournir à l’équipe marketing une description actionable** de votre segmentation et de sa logique\n",
    "  sous-jacente pour une utilisation optimale\n",
    "\n",
    "- **une proposition de contrat de maintenance**, (fréquence à laquelle la segmentation doit être\n",
    "  mise à jour pour rester pertinente), basée sur une analyse de la stabilité des segments au cours\n",
    "  du temps.\n"
   ]
  },
  {
   "cell_type": "markdown",
   "metadata": {},
   "source": [
    "### Indicateurs pour segmenter les clients\n",
    "\n",
    "#### Segmentation RFM\n",
    "\n",
    "Pour établir des segments de clients homogènes, la [segmentation RFM](https://www.definitions-marketing.com/definition/segmentation-rfm/) prend en compte:\n",
    "\n",
    "- la **Récence** (date de la dernière commande);\n",
    "- la **Fréquence** des commandes; et\n",
    "- le **Montant** (de la dernière commande ou sur une période donnée)\n",
    "\n",
    "La segmentation RFM permet de cibler les offres, d'établir des segments basés sur la valeur des clients et de prévenir l'attrition en identifiant des segments à risque.\n"
   ]
  },
  {
   "cell_type": "markdown",
   "metadata": {},
   "source": [
    "#### Autres indicateurs possibles\n",
    "\n",
    "On peut aussi segmenter les clients sur d'autres indicateurs :\n",
    "\n",
    "- leur **satisfaction** sur les commandes\n",
    "- la **catégorie de produits** qu'ils commande (est-ce qu'il y a certains catégories plus satisfaisant que d'autres?)\n",
    "- la **rapidité de livraison** des commandes (est-ce que les clients qui habite près des vendeurs ont un comportement diffèrent que les clients plus loin de leur commande ?)\n",
    "- les **vendeurs** qu'ils adoptent (est-ce qu'il y a un rélation entre clients étoiles et certains vendeurs?)\n"
   ]
  },
  {
   "cell_type": "markdown",
   "metadata": {},
   "source": [
    "### Objectives d'analyse exploratoire\n",
    "\n",
    "- Connaitre les données\n",
    "- Nettoyer les données\n",
    "- Identifier les indicateurs actionable\n",
    "- Créer des nouvelles features / indicateurs si besoin\n"
   ]
  },
  {
   "cell_type": "markdown",
   "metadata": {},
   "source": [
    "## 1.2 Requirements : Bibliothèques utilisées dans ce notebook\n",
    "\n",
    "- voir [`requirements.txt`](./requirements.txt) pour les versions des bibliothèques testées avec ce notebook\n"
   ]
  },
  {
   "cell_type": "code",
   "execution_count": 1,
   "metadata": {},
   "outputs": [],
   "source": [
    "# si ce notebook ne marche pas avec les versions\n",
    "# des bibliothèques dans votre environnement, alors\n",
    "# decommentarise la ligne suivant pour des versions testées:\n",
    "\n",
    "# %pip install -r requirements.txt\n"
   ]
  },
  {
   "cell_type": "code",
   "execution_count": 2,
   "metadata": {},
   "outputs": [],
   "source": [
    "def install_libraries(required={}) -> None:\n",
    "    \"\"\"\n",
    "    Installation des bibliothèques manquantes\n",
    "    https://stackoverflow.com/questions/44210656/\n",
    "    \"\"\"\n",
    "    import sys\n",
    "    import subprocess\n",
    "    import pkg_resources\n",
    "    installed = {pkg.key for pkg in pkg_resources.working_set}\n",
    "    missing = set(required) - set(installed)\n",
    "    if missing:\n",
    "        print(f'missing libraries: {missing}')\n",
    "        python = sys.executable\n",
    "        subprocess.check_call([python, '-m', 'pip', 'install', *missing],\n",
    "                              stdout=subprocess.DEVNULL)\n",
    "\n",
    "\n",
    "required_libraries = {'numpy', 'pandas', 'matplotlib', 'seaborn',\n",
    "                      'scipy', 'scikit-learn', 'statsmodels',\n",
    "                      'missingno', 'dython'}\n",
    "install_libraries(required_libraries)\n"
   ]
  },
  {
   "cell_type": "markdown",
   "metadata": {},
   "source": [
    "### 1.2.1 Import des bibliothèques\n"
   ]
  },
  {
   "cell_type": "code",
   "execution_count": 3,
   "metadata": {},
   "outputs": [],
   "source": [
    "import os\n",
    "import json\n",
    "import numpy as np\n",
    "import pandas as pd\n",
    "import matplotlib.pyplot as plt\n",
    "import seaborn as sns\n",
    "import scipy\n",
    "import missingno as msno\n",
    "import sklearn\n",
    "import dython\n",
    "# pour calculer VIF -Variance Influence Factor\n",
    "from sklearn.linear_model import LinearRegression\n",
    "# correlations catégoriques (Cramers V, Theils U)\n",
    "from dython.nominal import associations\n"
   ]
  },
  {
   "cell_type": "markdown",
   "metadata": {},
   "source": [
    "### 1.2.2 Liste des versions des bibliothèques utilisées\n"
   ]
  },
  {
   "cell_type": "code",
   "execution_count": 4,
   "metadata": {},
   "outputs": [
    {
     "name": "stdout",
     "output_type": "stream",
     "text": [
      "versions des bibliothèques utilisées:\n",
      "json==2.0.9; numpy==1.21.5; pandas==1.1.5; seaborn==0.11.2; scipy==1.7.3; missingno==0.5.0; sklearn==1.0.2; dython==0.6.8\n"
     ]
    }
   ],
   "source": [
    "from platform import python_version\n",
    "\n",
    "python_version()\n",
    "print('versions des bibliothèques utilisées:')\n",
    "print('; '.join(f'{m.__name__}=={m.__version__}' for m in globals(\n",
    ").values() if getattr(m, '__version__', None)))\n"
   ]
  },
  {
   "cell_type": "markdown",
   "metadata": {},
   "source": [
    "### 1.2.3 Configuration défauts d'affichage\n"
   ]
  },
  {
   "cell_type": "code",
   "execution_count": 5,
   "metadata": {},
   "outputs": [],
   "source": [
    "pd.set_option('display.max_columns', 200)  # pour afficher toutes les colonnes\n",
    "pd.set_option('display.max_rows', 10)  # pour afficher max 10 lignes\n",
    "pd.set_option('display.max_colwidth', 800)  # pour afficher toutes la text\n",
    "pd.set_option('display.precision', 2)\n",
    "pd.options.display.float_format = '{:.2f}'.format  # currency, lat,lng\n",
    "\n",
    "%matplotlib inline\n",
    "sns.set_theme(style=\"white\", context=\"notebook\")\n",
    "sns.set_color_codes(\"pastel\")\n",
    "sns.set_palette(\"tab20\")\n"
   ]
  },
  {
   "cell_type": "markdown",
   "metadata": {},
   "source": [
    "## 1.3 Des fonctions utilitaires\n",
    "\n",
    "### 1.3.1 Enregistrement des graphiques\n",
    "\n",
    "Pour enregistrer les graphiques, define **`SAVE_IMAGES = True`**\n"
   ]
  },
  {
   "cell_type": "code",
   "execution_count": 6,
   "metadata": {},
   "outputs": [],
   "source": [
    "SAVE_IMAGES = True\n",
    "IMAGE_FOLDER = './images/notebook'\n",
    "if not os.path.exists(IMAGE_FOLDER):\n",
    "    os.makedirs(IMAGE_FOLDER)\n"
   ]
  },
  {
   "cell_type": "code",
   "execution_count": 7,
   "metadata": {},
   "outputs": [],
   "source": [
    "def to_png(fig_name=None) -> None:\n",
    "    \"\"\"\n",
    "    Enregistre l'image dans un fichier,\n",
    "    il faut appeler avant plt.show() pour pouvoir ajuster la taille de l'image\n",
    "    avec bbox_inches=tight pour être sûr d'inclure le titre / legend entier.\n",
    "    \"\"\"\n",
    "\n",
    "    def get_title():\n",
    "        if plt.gcf()._suptitle is None:  # noqa\n",
    "            return plt.gca().get_title()\n",
    "        else:\n",
    "            return plt.gcf()._suptitle.get_text()  # noqa\n",
    "\n",
    "    if SAVE_IMAGES:\n",
    "        if fig_name is None:\n",
    "            fig_name = get_title()\n",
    "        elif len(fig_name) < 9:\n",
    "            fig_name = f'{fig_name}_{get_title()}'\n",
    "        fig_name = fig_name.replace(' ', '_').replace(':', '-').replace(\n",
    "            '.', '-').replace('/', '_').replace('>', 'gt.').replace('<', 'lt.')\n",
    "        print(f'\"{fig_name}.png\"')\n",
    "        plt.gcf().savefig(\n",
    "            f'{IMAGE_FOLDER}/{fig_name}.png', bbox_inches='tight')\n"
   ]
  },
  {
   "cell_type": "markdown",
   "metadata": {},
   "source": [
    "### 1.3.2 Vérifier que les colonnes sont dans le dataframe\n",
    "\n",
    "- sans changer l'ordre des colonnes\n"
   ]
  },
  {
   "cell_type": "code",
   "execution_count": 8,
   "metadata": {},
   "outputs": [],
   "source": [
    "def cols_in_df(df: pd.DataFrame, colonnes: list = None) -> list:\n",
    "    \"\"\"Procedure pour retourner les colonnes existantes dans le dataframe dans la même ordre.\n",
    "    Utiliser pour assurer que les colonnes existe.\n",
    "    \"\"\"\n",
    "    ret_cols = []\n",
    "    for col in colonnes:\n",
    "        if col in df.columns:\n",
    "            ret_cols.append(col)\n",
    "    return ret_cols\n"
   ]
  },
  {
   "cell_type": "markdown",
   "metadata": {},
   "source": [
    "# 2. Import et nettoyage des données\n",
    "\n",
    "Olist a fournit une [base de données](https://www.kaggle.com/olistbr/brazilian-ecommerce) anonymisée\n",
    "comportant des informations sur l’historique de commandes, les produits achetés, les commentaires de\n",
    "satisfaction, et la localisation des clients depuis janvier 2017.\n"
   ]
  },
  {
   "cell_type": "markdown",
   "metadata": {},
   "source": [
    "## 2.1 Description des données (metadata)\n",
    "\n",
    "Le data schema et déscription des champs sont fournis à la même [adresse](https://www.kaggle.com/olistbr/brazilian-ecommerce) que les données:\n",
    "\n",
    "<img width=\"564\" height=\"339\" alt=\"Data Schema\" src=\"https://i.imgur.com/HRhd2Y0.png\">\n"
   ]
  },
  {
   "cell_type": "markdown",
   "metadata": {},
   "source": [
    "## 2.2 Import des données\n"
   ]
  },
  {
   "cell_type": "code",
   "execution_count": 9,
   "metadata": {},
   "outputs": [
    {
     "name": "stdout",
     "output_type": "stream",
     "text": [
      "customers.shape = (99441, 5); columns : ['customer_id', 'customer_unique_id', 'customer_zip_code_prefix', 'customer_city', 'customer_state']\n"
     ]
    },
    {
     "data": {
      "text/html": [
       "<div>\n",
       "<style scoped>\n",
       "    .dataframe tbody tr th:only-of-type {\n",
       "        vertical-align: middle;\n",
       "    }\n",
       "\n",
       "    .dataframe tbody tr th {\n",
       "        vertical-align: top;\n",
       "    }\n",
       "\n",
       "    .dataframe thead th {\n",
       "        text-align: right;\n",
       "    }\n",
       "</style>\n",
       "<table border=\"1\" class=\"dataframe\">\n",
       "  <thead>\n",
       "    <tr style=\"text-align: right;\">\n",
       "      <th></th>\n",
       "      <th>customer_id</th>\n",
       "      <th>customer_unique_id</th>\n",
       "      <th>customer_zip_code_prefix</th>\n",
       "      <th>customer_city</th>\n",
       "      <th>customer_state</th>\n",
       "    </tr>\n",
       "  </thead>\n",
       "  <tbody>\n",
       "    <tr>\n",
       "      <th>0</th>\n",
       "      <td>06b8999e2fba1a1fbc88172c00ba8bc7</td>\n",
       "      <td>861eff4711a542e4b93843c6dd7febb0</td>\n",
       "      <td>14409</td>\n",
       "      <td>franca</td>\n",
       "      <td>SP</td>\n",
       "    </tr>\n",
       "    <tr>\n",
       "      <th>1</th>\n",
       "      <td>18955e83d337fd6b2def6b18a428ac77</td>\n",
       "      <td>290c77bc529b7ac935b93aa66c333dc3</td>\n",
       "      <td>9790</td>\n",
       "      <td>sao bernardo do campo</td>\n",
       "      <td>SP</td>\n",
       "    </tr>\n",
       "    <tr>\n",
       "      <th>2</th>\n",
       "      <td>4e7b3e00288586ebd08712fdd0374a03</td>\n",
       "      <td>060e732b5b29e8181a18229c7b0b2b5e</td>\n",
       "      <td>1151</td>\n",
       "      <td>sao paulo</td>\n",
       "      <td>SP</td>\n",
       "    </tr>\n",
       "    <tr>\n",
       "      <th>3</th>\n",
       "      <td>b2b6027bc5c5109e529d4dc6358b12c3</td>\n",
       "      <td>259dac757896d24d7702b9acbbff3f3c</td>\n",
       "      <td>8775</td>\n",
       "      <td>mogi das cruzes</td>\n",
       "      <td>SP</td>\n",
       "    </tr>\n",
       "    <tr>\n",
       "      <th>4</th>\n",
       "      <td>4f2d8ab171c80ec8364f7c12e35b23ad</td>\n",
       "      <td>345ecd01c38d18a9036ed96c73b8d066</td>\n",
       "      <td>13056</td>\n",
       "      <td>campinas</td>\n",
       "      <td>SP</td>\n",
       "    </tr>\n",
       "  </tbody>\n",
       "</table>\n",
       "</div>"
      ],
      "text/plain": [
       "                        customer_id                customer_unique_id  \\\n",
       "0  06b8999e2fba1a1fbc88172c00ba8bc7  861eff4711a542e4b93843c6dd7febb0   \n",
       "1  18955e83d337fd6b2def6b18a428ac77  290c77bc529b7ac935b93aa66c333dc3   \n",
       "2  4e7b3e00288586ebd08712fdd0374a03  060e732b5b29e8181a18229c7b0b2b5e   \n",
       "3  b2b6027bc5c5109e529d4dc6358b12c3  259dac757896d24d7702b9acbbff3f3c   \n",
       "4  4f2d8ab171c80ec8364f7c12e35b23ad  345ecd01c38d18a9036ed96c73b8d066   \n",
       "\n",
       "   customer_zip_code_prefix          customer_city customer_state  \n",
       "0                     14409                 franca             SP  \n",
       "1                      9790  sao bernardo do campo             SP  \n",
       "2                      1151              sao paulo             SP  \n",
       "3                      8775        mogi das cruzes             SP  \n",
       "4                     13056               campinas             SP  "
      ]
     },
     "execution_count": 9,
     "metadata": {},
     "output_type": "execute_result"
    }
   ],
   "source": [
    "DATA_DIR = 'data/raw'\n",
    "\n",
    "\n",
    "def load_dataset(set_name='customers'):\n",
    "    filename = f'{DATA_DIR}/olist_{set_name}_dataset.csv'\n",
    "    df = pd.read_csv(filename)\n",
    "    print(f'{set_name}.shape = {df.shape}; columns : {list(df.columns)}')\n",
    "    return df\n",
    "\n",
    "\n",
    "customers = load_dataset('customers')\n",
    "\n",
    "customers.head()\n"
   ]
  },
  {
   "cell_type": "markdown",
   "metadata": {},
   "source": [
    "## Chargé les autres datasets\n"
   ]
  },
  {
   "cell_type": "code",
   "execution_count": 10,
   "metadata": {},
   "outputs": [
    {
     "name": "stdout",
     "output_type": "stream",
     "text": [
      "geolocation.shape = (1000163, 5); columns : ['geolocation_zip_code_prefix', 'geolocation_lat', 'geolocation_lng', 'geolocation_city', 'geolocation_state']\n",
      "order_items.shape = (112650, 7); columns : ['order_id', 'order_item_id', 'product_id', 'seller_id', 'shipping_limit_date', 'price', 'freight_value']\n",
      "order_payments.shape = (103886, 5); columns : ['order_id', 'payment_sequential', 'payment_type', 'payment_installments', 'payment_value']\n",
      "order_reviews.shape = (99224, 7); columns : ['review_id', 'order_id', 'review_score', 'review_comment_title', 'review_comment_message', 'review_creation_date', 'review_answer_timestamp']\n",
      "orders.shape = (99441, 8); columns : ['order_id', 'customer_id', 'order_status', 'order_purchase_timestamp', 'order_approved_at', 'order_delivered_carrier_date', 'order_delivered_customer_date', 'order_estimated_delivery_date']\n",
      "products.shape = (32951, 9); columns : ['product_id', 'product_category_name', 'product_name_lenght', 'product_description_lenght', 'product_photos_qty', 'product_weight_g', 'product_length_cm', 'product_height_cm', 'product_width_cm']\n",
      "sellers.shape = (3095, 4); columns : ['seller_id', 'seller_zip_code_prefix', 'seller_city', 'seller_state']\n"
     ]
    }
   ],
   "source": [
    "geolocation = load_dataset('geolocation')\n",
    "order_items = load_dataset('order_items')\n",
    "order_payments = load_dataset('order_payments')\n",
    "order_reviews = load_dataset('order_reviews')\n",
    "orders = load_dataset('orders')\n",
    "products = load_dataset('products')\n",
    "sellers = load_dataset('sellers')\n",
    "product_category_names = pd.read_csv(\n",
    "    'data/raw/product_category_name_translation.csv')\n"
   ]
  },
  {
   "cell_type": "markdown",
   "metadata": {},
   "source": [
    "## 2.3 Description de données (après import)\n"
   ]
  },
  {
   "cell_type": "code",
   "execution_count": 11,
   "metadata": {},
   "outputs": [],
   "source": [
    "def decrire_dataframe(df: pd.DataFrame):\n",
    "    \"\"\"Retourner un dataframe avec des informations sur les colonnes d'un dataframe\"\"\"\n",
    "    print(f'{df.shape[0]} registres')\n",
    "    ret = df.columns.to_frame(name=\"column\").set_index('column')\n",
    "    ret['% manquantes'] = df.isna().mean()\n",
    "    ret['unique'] = df.nunique()\n",
    "    ret['dtype'] = df.dtypes\n",
    "    ret['min'] = df.min()\n",
    "    ret['max'] = df.max()\n",
    "    ret['std'] = df.std()\n",
    "    return ret\n"
   ]
  },
  {
   "cell_type": "markdown",
   "metadata": {},
   "source": [
    "### Customers\n"
   ]
  },
  {
   "cell_type": "code",
   "execution_count": 12,
   "metadata": {},
   "outputs": [
    {
     "name": "stdout",
     "output_type": "stream",
     "text": [
      "99441 registres\n"
     ]
    },
    {
     "data": {
      "text/html": [
       "<div>\n",
       "<style scoped>\n",
       "    .dataframe tbody tr th:only-of-type {\n",
       "        vertical-align: middle;\n",
       "    }\n",
       "\n",
       "    .dataframe tbody tr th {\n",
       "        vertical-align: top;\n",
       "    }\n",
       "\n",
       "    .dataframe thead th {\n",
       "        text-align: right;\n",
       "    }\n",
       "</style>\n",
       "<table border=\"1\" class=\"dataframe\">\n",
       "  <thead>\n",
       "    <tr style=\"text-align: right;\">\n",
       "      <th></th>\n",
       "      <th>% manquantes</th>\n",
       "      <th>unique</th>\n",
       "      <th>dtype</th>\n",
       "      <th>min</th>\n",
       "      <th>max</th>\n",
       "      <th>std</th>\n",
       "    </tr>\n",
       "    <tr>\n",
       "      <th>column</th>\n",
       "      <th></th>\n",
       "      <th></th>\n",
       "      <th></th>\n",
       "      <th></th>\n",
       "      <th></th>\n",
       "      <th></th>\n",
       "    </tr>\n",
       "  </thead>\n",
       "  <tbody>\n",
       "    <tr>\n",
       "      <th>customer_id</th>\n",
       "      <td>0.00</td>\n",
       "      <td>99441</td>\n",
       "      <td>object</td>\n",
       "      <td>00012a2ce6f8dcda20d059ce98491703</td>\n",
       "      <td>ffffe8b65bbe3087b653a978c870db99</td>\n",
       "      <td>nan</td>\n",
       "    </tr>\n",
       "    <tr>\n",
       "      <th>customer_unique_id</th>\n",
       "      <td>0.00</td>\n",
       "      <td>96096</td>\n",
       "      <td>object</td>\n",
       "      <td>0000366f3b9a7992bf8c76cfdf3221e2</td>\n",
       "      <td>ffffd2657e2aad2907e67c3e9daecbeb</td>\n",
       "      <td>nan</td>\n",
       "    </tr>\n",
       "    <tr>\n",
       "      <th>customer_zip_code_prefix</th>\n",
       "      <td>0.00</td>\n",
       "      <td>14994</td>\n",
       "      <td>int64</td>\n",
       "      <td>1003</td>\n",
       "      <td>99990</td>\n",
       "      <td>29797.94</td>\n",
       "    </tr>\n",
       "    <tr>\n",
       "      <th>customer_city</th>\n",
       "      <td>0.00</td>\n",
       "      <td>4119</td>\n",
       "      <td>object</td>\n",
       "      <td>abadia dos dourados</td>\n",
       "      <td>zortea</td>\n",
       "      <td>nan</td>\n",
       "    </tr>\n",
       "    <tr>\n",
       "      <th>customer_state</th>\n",
       "      <td>0.00</td>\n",
       "      <td>27</td>\n",
       "      <td>object</td>\n",
       "      <td>AC</td>\n",
       "      <td>TO</td>\n",
       "      <td>nan</td>\n",
       "    </tr>\n",
       "  </tbody>\n",
       "</table>\n",
       "</div>"
      ],
      "text/plain": [
       "                          % manquantes  unique   dtype  \\\n",
       "column                                                   \n",
       "customer_id                       0.00   99441  object   \n",
       "customer_unique_id                0.00   96096  object   \n",
       "customer_zip_code_prefix          0.00   14994   int64   \n",
       "customer_city                     0.00    4119  object   \n",
       "customer_state                    0.00      27  object   \n",
       "\n",
       "                                                       min  \\\n",
       "column                                                       \n",
       "customer_id               00012a2ce6f8dcda20d059ce98491703   \n",
       "customer_unique_id        0000366f3b9a7992bf8c76cfdf3221e2   \n",
       "customer_zip_code_prefix                              1003   \n",
       "customer_city                          abadia dos dourados   \n",
       "customer_state                                          AC   \n",
       "\n",
       "                                                       max      std  \n",
       "column                                                               \n",
       "customer_id               ffffe8b65bbe3087b653a978c870db99      nan  \n",
       "customer_unique_id        ffffd2657e2aad2907e67c3e9daecbeb      nan  \n",
       "customer_zip_code_prefix                             99990 29797.94  \n",
       "customer_city                                       zortea      nan  \n",
       "customer_state                                          TO      nan  "
      ]
     },
     "execution_count": 12,
     "metadata": {},
     "output_type": "execute_result"
    }
   ],
   "source": [
    "decrire_dataframe(customers)\n"
   ]
  },
  {
   "cell_type": "markdown",
   "metadata": {},
   "source": [
    "#### Combien de clients ont plus d'un 'customer_id'?\n"
   ]
  },
  {
   "cell_type": "code",
   "execution_count": 13,
   "metadata": {},
   "outputs": [
    {
     "data": {
      "text/plain": [
       "customer_id\n",
       "1              93099\n",
       "2               2745\n",
       "3                203\n",
       "4                 30\n",
       "5                  8\n",
       "6                  6\n",
       "7                  3\n",
       "17                 1\n",
       "9                  1\n",
       "dtype: int64"
      ]
     },
     "execution_count": 13,
     "metadata": {},
     "output_type": "execute_result"
    }
   ],
   "source": [
    "customers[['customer_id', 'customer_unique_id']].groupby(\n",
    "    'customer_unique_id').agg('count').value_counts()\n"
   ]
  },
  {
   "cell_type": "markdown",
   "metadata": {},
   "source": [
    "#### Qualité des données customer\n",
    "\n",
    "- 100% remplis\n",
    "- utilise 'customer_unique_id' pour identifier chaque client, car environ 3000 clients ont plusieurs 'customer_id'\n",
    "- besoin de merge avec **geolocation** pour savoir la localisation des clients\n"
   ]
  },
  {
   "cell_type": "markdown",
   "metadata": {},
   "source": [
    "### Geolocation\n"
   ]
  },
  {
   "cell_type": "code",
   "execution_count": 14,
   "metadata": {},
   "outputs": [
    {
     "name": "stdout",
     "output_type": "stream",
     "text": [
      "1000163 registres\n"
     ]
    },
    {
     "data": {
      "text/html": [
       "<div>\n",
       "<style scoped>\n",
       "    .dataframe tbody tr th:only-of-type {\n",
       "        vertical-align: middle;\n",
       "    }\n",
       "\n",
       "    .dataframe tbody tr th {\n",
       "        vertical-align: top;\n",
       "    }\n",
       "\n",
       "    .dataframe thead th {\n",
       "        text-align: right;\n",
       "    }\n",
       "</style>\n",
       "<table border=\"1\" class=\"dataframe\">\n",
       "  <thead>\n",
       "    <tr style=\"text-align: right;\">\n",
       "      <th></th>\n",
       "      <th>% manquantes</th>\n",
       "      <th>unique</th>\n",
       "      <th>dtype</th>\n",
       "      <th>min</th>\n",
       "      <th>max</th>\n",
       "      <th>std</th>\n",
       "    </tr>\n",
       "    <tr>\n",
       "      <th>column</th>\n",
       "      <th></th>\n",
       "      <th></th>\n",
       "      <th></th>\n",
       "      <th></th>\n",
       "      <th></th>\n",
       "      <th></th>\n",
       "    </tr>\n",
       "  </thead>\n",
       "  <tbody>\n",
       "    <tr>\n",
       "      <th>geolocation_zip_code_prefix</th>\n",
       "      <td>0.00</td>\n",
       "      <td>19015</td>\n",
       "      <td>int64</td>\n",
       "      <td>1001</td>\n",
       "      <td>99990</td>\n",
       "      <td>30549.34</td>\n",
       "    </tr>\n",
       "    <tr>\n",
       "      <th>geolocation_lat</th>\n",
       "      <td>0.00</td>\n",
       "      <td>717358</td>\n",
       "      <td>float64</td>\n",
       "      <td>-36.61</td>\n",
       "      <td>45.07</td>\n",
       "      <td>5.72</td>\n",
       "    </tr>\n",
       "    <tr>\n",
       "      <th>geolocation_lng</th>\n",
       "      <td>0.00</td>\n",
       "      <td>717613</td>\n",
       "      <td>float64</td>\n",
       "      <td>-101.47</td>\n",
       "      <td>121.11</td>\n",
       "      <td>4.27</td>\n",
       "    </tr>\n",
       "    <tr>\n",
       "      <th>geolocation_city</th>\n",
       "      <td>0.00</td>\n",
       "      <td>8011</td>\n",
       "      <td>object</td>\n",
       "      <td>* cidade</td>\n",
       "      <td>óleo</td>\n",
       "      <td>nan</td>\n",
       "    </tr>\n",
       "    <tr>\n",
       "      <th>geolocation_state</th>\n",
       "      <td>0.00</td>\n",
       "      <td>27</td>\n",
       "      <td>object</td>\n",
       "      <td>AC</td>\n",
       "      <td>TO</td>\n",
       "      <td>nan</td>\n",
       "    </tr>\n",
       "  </tbody>\n",
       "</table>\n",
       "</div>"
      ],
      "text/plain": [
       "                             % manquantes  unique    dtype       min    max  \\\n",
       "column                                                                        \n",
       "geolocation_zip_code_prefix          0.00   19015    int64      1001  99990   \n",
       "geolocation_lat                      0.00  717358  float64    -36.61  45.07   \n",
       "geolocation_lng                      0.00  717613  float64   -101.47 121.11   \n",
       "geolocation_city                     0.00    8011   object  * cidade   óleo   \n",
       "geolocation_state                    0.00      27   object        AC     TO   \n",
       "\n",
       "                                 std  \n",
       "column                                \n",
       "geolocation_zip_code_prefix 30549.34  \n",
       "geolocation_lat                 5.72  \n",
       "geolocation_lng                 4.27  \n",
       "geolocation_city                 nan  \n",
       "geolocation_state                nan  "
      ]
     },
     "execution_count": 14,
     "metadata": {},
     "output_type": "execute_result"
    }
   ],
   "source": [
    "decrire_dataframe(geolocation)\n"
   ]
  },
  {
   "cell_type": "code",
   "execution_count": 15,
   "metadata": {},
   "outputs": [
    {
     "data": {
      "text/plain": [
       "<matplotlib.legend.Legend at 0x25e342be400>"
      ]
     },
     "execution_count": 15,
     "metadata": {},
     "output_type": "execute_result"
    },
    {
     "data": {
      "image/png": "[encoded data removed]",
      "text/plain": [
       "<Figure size 360x360 with 1 Axes>"
      ]
     },
     "metadata": {},
     "output_type": "display_data"
    }
   ],
   "source": [
    "plt.figure(figsize=(5,5))\n",
    "sns.scatterplot(data=geolocation.sample(50000, random_state=0),\n",
    "                x='geolocation_lng', y='geolocation_lat', hue='geolocation_state')\n",
    "plt.legend(bbox_to_anchor=(1.5, 0.5), loc=5, ncol=2)\n"
   ]
  },
  {
   "cell_type": "markdown",
   "metadata": {},
   "source": [
    "#### Geolocation : qualité des données\n",
    "\n",
    "- les 'states' sont 100% remplies; il y a 27 unités fédératives au brésil\n",
    "- les 'city' ne sont pas toujours des vraies villes\n",
    "- les latitudes ne sont pas toujours en brésil ([5°16'20\" Nord à 33°44'32\" Sud de latitude](https://fr.wikipedia.org/wiki/G%C3%A9ographie_du_Br%C3%A9sil#Situation_et_%C3%A9tendue))\n",
    "- les longitudes ne sont pas toujours en brésil ([34°47'30\" Ouest à 73°59'32\" Ouest de longitude](https://fr.wikipedia.org/wiki/G%C3%A9ographie_du_Br%C3%A9sil#Situation_et_%C3%A9tendue))\n",
    "- Ce n'est pas clair pourquoi il y a environ 75 (lat,lng) pour chaque zip code - les (lat,lng) des adresses dans chaque zip ?\n"
   ]
  },
  {
   "cell_type": "markdown",
   "metadata": {},
   "source": [
    "#### Geolocations hors brésil\n"
   ]
  },
  {
   "cell_type": "code",
   "execution_count": 16,
   "metadata": {},
   "outputs": [
    {
     "name": "stdout",
     "output_type": "stream",
     "text": [
      "trop au nord  (26, 5)\n",
      "trop au sud  (5, 5)\n",
      "trop à l'est (33, 5)\n",
      "trop à l'ouest (4, 5)\n"
     ]
    },
    {
     "data": {
      "text/plain": [
       "(42, 5)"
      ]
     },
     "execution_count": 16,
     "metadata": {},
     "output_type": "execute_result"
    }
   ],
   "source": [
    "print('trop au nord ', geolocation[geolocation['geolocation_lat'] > 5.3].shape)\n",
    "print('trop au sud ',\n",
    "      geolocation[geolocation['geolocation_lat'] < -33.75].shape)\n",
    "print(\"trop à l'est\",\n",
    "      geolocation[geolocation['geolocation_lng'] > -34.7].shape)\n",
    "print(\"trop à l'ouest\",\n",
    "      geolocation[geolocation['geolocation_lng'] < -74].shape)\n",
    "\n",
    "mask_lat = (geolocation['geolocation_lat'] > 5.3) | (\n",
    "    geolocation['geolocation_lat'] < -33.75)\n",
    "mask_lng = (geolocation['geolocation_lng'] > -\n",
    "            34.7) | (geolocation['geolocation_lng'] < -74)\n",
    "hors_bresil = geolocation[mask_lat | mask_lng]\n",
    "hors_bresil.shape\n"
   ]
  },
  {
   "cell_type": "markdown",
   "metadata": {},
   "source": [
    "Eliminer les outliers de (lat,lng) dans les zipcodes\n"
   ]
  },
  {
   "cell_type": "code",
   "execution_count": 17,
   "metadata": {},
   "outputs": [
    {
     "data": {
      "text/plain": [
       "Text(0.5, 1.0, 'Latitudes et longitudes de zip_code_prefix 22210 (Flamengo, Rio de Janeiro)')"
      ]
     },
     "execution_count": 17,
     "metadata": {},
     "output_type": "execute_result"
    },
    {
     "data": {
      "image/png": "[encoded data removed]",
      "text/plain": [
       "<Figure size 432x288 with 1 Axes>"
      ]
     },
     "metadata": {},
     "output_type": "display_data"
    }
   ],
   "source": [
    "flamengo = geolocation[geolocation['geolocation_zip_code_prefix'] == 22210]\n",
    "sns.scatterplot(data=flamengo, x='geolocation_lat',y='geolocation_lng')\n",
    "plt.title('Latitudes et longitudes de zip_code_prefix 22210 (Flamengo, Rio de Janeiro)')\n"
   ]
  },
  {
   "cell_type": "markdown",
   "metadata": {},
   "source": [
    "#### Créer geolocations uniques des zipcodes\n",
    "\n",
    "Les données sont anonymisées, donc on prend la médiane des (lat,lng) pour chaque zip code, après avoir éliminé les 42 registres avec coordonées hors bresil (la mèdiane doit éliminer l'effet de quelques erreurs de lat,lng pour chaque zipcode)\n"
   ]
  },
  {
   "cell_type": "code",
   "execution_count": 18,
   "metadata": {},
   "outputs": [
    {
     "name": "stdout",
     "output_type": "stream",
     "text": [
      "(19018, 5)\n",
      "19018 registres\n"
     ]
    },
    {
     "data": {
      "text/html": [
       "<div>\n",
       "<style scoped>\n",
       "    .dataframe tbody tr th:only-of-type {\n",
       "        vertical-align: middle;\n",
       "    }\n",
       "\n",
       "    .dataframe tbody tr th {\n",
       "        vertical-align: top;\n",
       "    }\n",
       "\n",
       "    .dataframe thead th {\n",
       "        text-align: right;\n",
       "    }\n",
       "</style>\n",
       "<table border=\"1\" class=\"dataframe\">\n",
       "  <thead>\n",
       "    <tr style=\"text-align: right;\">\n",
       "      <th></th>\n",
       "      <th>% manquantes</th>\n",
       "      <th>unique</th>\n",
       "      <th>dtype</th>\n",
       "      <th>min</th>\n",
       "      <th>max</th>\n",
       "      <th>std</th>\n",
       "    </tr>\n",
       "    <tr>\n",
       "      <th>column</th>\n",
       "      <th></th>\n",
       "      <th></th>\n",
       "      <th></th>\n",
       "      <th></th>\n",
       "      <th></th>\n",
       "      <th></th>\n",
       "    </tr>\n",
       "  </thead>\n",
       "  <tbody>\n",
       "    <tr>\n",
       "      <th>geolocation_zip_code_prefix</th>\n",
       "      <td>0.00</td>\n",
       "      <td>19010</td>\n",
       "      <td>int64</td>\n",
       "      <td>1001</td>\n",
       "      <td>99990</td>\n",
       "      <td>30904.84</td>\n",
       "    </tr>\n",
       "    <tr>\n",
       "      <th>geolocation_state</th>\n",
       "      <td>0.00</td>\n",
       "      <td>27</td>\n",
       "      <td>object</td>\n",
       "      <td>AC</td>\n",
       "      <td>TO</td>\n",
       "      <td>nan</td>\n",
       "    </tr>\n",
       "    <tr>\n",
       "      <th>geolocation_lat</th>\n",
       "      <td>0.00</td>\n",
       "      <td>18993</td>\n",
       "      <td>float64</td>\n",
       "      <td>-33.69</td>\n",
       "      <td>4.48</td>\n",
       "      <td>7.24</td>\n",
       "    </tr>\n",
       "    <tr>\n",
       "      <th>geolocation_lng</th>\n",
       "      <td>0.00</td>\n",
       "      <td>18993</td>\n",
       "      <td>float64</td>\n",
       "      <td>-72.91</td>\n",
       "      <td>-34.80</td>\n",
       "      <td>5.20</td>\n",
       "    </tr>\n",
       "    <tr>\n",
       "      <th>count</th>\n",
       "      <td>0.00</td>\n",
       "      <td>483</td>\n",
       "      <td>int64</td>\n",
       "      <td>1</td>\n",
       "      <td>1146</td>\n",
       "      <td>72.06</td>\n",
       "    </tr>\n",
       "  </tbody>\n",
       "</table>\n",
       "</div>"
      ],
      "text/plain": [
       "                             % manquantes  unique    dtype    min    max  \\\n",
       "column                                                                     \n",
       "geolocation_zip_code_prefix          0.00   19010    int64   1001  99990   \n",
       "geolocation_state                    0.00      27   object     AC     TO   \n",
       "geolocation_lat                      0.00   18993  float64 -33.69   4.48   \n",
       "geolocation_lng                      0.00   18993  float64 -72.91 -34.80   \n",
       "count                                0.00     483    int64      1   1146   \n",
       "\n",
       "                                 std  \n",
       "column                                \n",
       "geolocation_zip_code_prefix 30904.84  \n",
       "geolocation_state                nan  \n",
       "geolocation_lat                 7.24  \n",
       "geolocation_lng                 5.20  \n",
       "count                          72.06  "
      ]
     },
     "execution_count": 18,
     "metadata": {},
     "output_type": "execute_result"
    }
   ],
   "source": [
    "geoloc: pd.DataFrame = (geolocation\n",
    "                        .drop(hors_bresil.index)\n",
    "                        .groupby(['geolocation_zip_code_prefix', 'geolocation_state'])\n",
    "                        .agg({'geolocation_lat': 'median', 'geolocation_lng': 'median', 'geolocation_city': 'count'})\n",
    "                        .rename(columns={'geolocation_city': 'count'})\n",
    "                        .reset_index())\n",
    "print(geoloc.shape)\n",
    "decrire_dataframe(geoloc)\n"
   ]
  },
  {
   "cell_type": "markdown",
   "metadata": {},
   "source": [
    "Il y a 8 zipcodes avec duplicates :\n"
   ]
  },
  {
   "cell_type": "code",
   "execution_count": 19,
   "metadata": {},
   "outputs": [
    {
     "data": {
      "text/html": [
       "<div>\n",
       "<style scoped>\n",
       "    .dataframe tbody tr th:only-of-type {\n",
       "        vertical-align: middle;\n",
       "    }\n",
       "\n",
       "    .dataframe tbody tr th {\n",
       "        vertical-align: top;\n",
       "    }\n",
       "\n",
       "    .dataframe thead th {\n",
       "        text-align: right;\n",
       "    }\n",
       "</style>\n",
       "<table border=\"1\" class=\"dataframe\">\n",
       "  <thead>\n",
       "    <tr style=\"text-align: right;\">\n",
       "      <th></th>\n",
       "      <th>geolocation_zip_code_prefix</th>\n",
       "      <th>geolocation_state</th>\n",
       "      <th>geolocation_lat</th>\n",
       "      <th>geolocation_lng</th>\n",
       "      <th>count</th>\n",
       "    </tr>\n",
       "  </thead>\n",
       "  <tbody>\n",
       "    <tr>\n",
       "      <th>367</th>\n",
       "      <td>2116</td>\n",
       "      <td>RN</td>\n",
       "      <td>-23.52</td>\n",
       "      <td>-46.58</td>\n",
       "      <td>1</td>\n",
       "    </tr>\n",
       "    <tr>\n",
       "      <th>368</th>\n",
       "      <td>2116</td>\n",
       "      <td>SP</td>\n",
       "      <td>-23.52</td>\n",
       "      <td>-46.58</td>\n",
       "      <td>12</td>\n",
       "    </tr>\n",
       "    <tr>\n",
       "      <th>1669</th>\n",
       "      <td>4011</td>\n",
       "      <td>AC</td>\n",
       "      <td>-23.58</td>\n",
       "      <td>-46.65</td>\n",
       "      <td>1</td>\n",
       "    </tr>\n",
       "    <tr>\n",
       "      <th>1670</th>\n",
       "      <td>4011</td>\n",
       "      <td>SP</td>\n",
       "      <td>-23.58</td>\n",
       "      <td>-46.64</td>\n",
       "      <td>178</td>\n",
       "    </tr>\n",
       "    <tr>\n",
       "      <th>6507</th>\n",
       "      <td>21550</td>\n",
       "      <td>AC</td>\n",
       "      <td>-22.86</td>\n",
       "      <td>-43.35</td>\n",
       "      <td>1</td>\n",
       "    </tr>\n",
       "    <tr>\n",
       "      <th>6508</th>\n",
       "      <td>21550</td>\n",
       "      <td>RJ</td>\n",
       "      <td>-22.86</td>\n",
       "      <td>-43.35</td>\n",
       "      <td>170</td>\n",
       "    </tr>\n",
       "    <tr>\n",
       "      <th>6698</th>\n",
       "      <td>23056</td>\n",
       "      <td>AC</td>\n",
       "      <td>-22.92</td>\n",
       "      <td>-43.61</td>\n",
       "      <td>1</td>\n",
       "    </tr>\n",
       "    <tr>\n",
       "      <th>6699</th>\n",
       "      <td>23056</td>\n",
       "      <td>RJ</td>\n",
       "      <td>-22.92</td>\n",
       "      <td>-43.61</td>\n",
       "      <td>60</td>\n",
       "    </tr>\n",
       "  </tbody>\n",
       "</table>\n",
       "</div>"
      ],
      "text/plain": [
       "      geolocation_zip_code_prefix geolocation_state  geolocation_lat  \\\n",
       "367                          2116                RN           -23.52   \n",
       "368                          2116                SP           -23.52   \n",
       "1669                         4011                AC           -23.58   \n",
       "1670                         4011                SP           -23.58   \n",
       "6507                        21550                AC           -22.86   \n",
       "6508                        21550                RJ           -22.86   \n",
       "6698                        23056                AC           -22.92   \n",
       "6699                        23056                RJ           -22.92   \n",
       "\n",
       "      geolocation_lng  count  \n",
       "367            -46.58      1  \n",
       "368            -46.58     12  \n",
       "1669           -46.65      1  \n",
       "1670           -46.64    178  \n",
       "6507           -43.35      1  \n",
       "6508           -43.35    170  \n",
       "6698           -43.61      1  \n",
       "6699           -43.61     60  "
      ]
     },
     "execution_count": 19,
     "metadata": {},
     "output_type": "execute_result"
    }
   ],
   "source": [
    "geoloc_dups = geoloc[geoloc.duplicated(\n",
    "    keep=False, subset=['geolocation_zip_code_prefix'])]\n",
    "geoloc_dups.head(8)\n"
   ]
  },
  {
   "cell_type": "markdown",
   "metadata": {},
   "source": [
    "Supprime les zipcodes duplicates ou il y a moins d'entrées\n"
   ]
  },
  {
   "cell_type": "code",
   "execution_count": 20,
   "metadata": {},
   "outputs": [
    {
     "name": "stdout",
     "output_type": "stream",
     "text": [
      "19010 registres\n"
     ]
    },
    {
     "data": {
      "text/html": [
       "<div>\n",
       "<style scoped>\n",
       "    .dataframe tbody tr th:only-of-type {\n",
       "        vertical-align: middle;\n",
       "    }\n",
       "\n",
       "    .dataframe tbody tr th {\n",
       "        vertical-align: top;\n",
       "    }\n",
       "\n",
       "    .dataframe thead th {\n",
       "        text-align: right;\n",
       "    }\n",
       "</style>\n",
       "<table border=\"1\" class=\"dataframe\">\n",
       "  <thead>\n",
       "    <tr style=\"text-align: right;\">\n",
       "      <th></th>\n",
       "      <th>% manquantes</th>\n",
       "      <th>unique</th>\n",
       "      <th>dtype</th>\n",
       "      <th>min</th>\n",
       "      <th>max</th>\n",
       "      <th>std</th>\n",
       "    </tr>\n",
       "    <tr>\n",
       "      <th>column</th>\n",
       "      <th></th>\n",
       "      <th></th>\n",
       "      <th></th>\n",
       "      <th></th>\n",
       "      <th></th>\n",
       "      <th></th>\n",
       "    </tr>\n",
       "  </thead>\n",
       "  <tbody>\n",
       "    <tr>\n",
       "      <th>geolocation_zip_code_prefix</th>\n",
       "      <td>0.00</td>\n",
       "      <td>19010</td>\n",
       "      <td>int64</td>\n",
       "      <td>1001</td>\n",
       "      <td>99990</td>\n",
       "      <td>30903.69</td>\n",
       "    </tr>\n",
       "    <tr>\n",
       "      <th>geolocation_state</th>\n",
       "      <td>0.00</td>\n",
       "      <td>27</td>\n",
       "      <td>object</td>\n",
       "      <td>AC</td>\n",
       "      <td>TO</td>\n",
       "      <td>nan</td>\n",
       "    </tr>\n",
       "    <tr>\n",
       "      <th>geolocation_lat</th>\n",
       "      <td>0.00</td>\n",
       "      <td>18985</td>\n",
       "      <td>float64</td>\n",
       "      <td>-33.69</td>\n",
       "      <td>4.48</td>\n",
       "      <td>7.24</td>\n",
       "    </tr>\n",
       "    <tr>\n",
       "      <th>geolocation_lng</th>\n",
       "      <td>0.00</td>\n",
       "      <td>18985</td>\n",
       "      <td>float64</td>\n",
       "      <td>-72.91</td>\n",
       "      <td>-34.80</td>\n",
       "      <td>5.20</td>\n",
       "    </tr>\n",
       "    <tr>\n",
       "      <th>count</th>\n",
       "      <td>0.00</td>\n",
       "      <td>483</td>\n",
       "      <td>int64</td>\n",
       "      <td>1</td>\n",
       "      <td>1146</td>\n",
       "      <td>72.06</td>\n",
       "    </tr>\n",
       "  </tbody>\n",
       "</table>\n",
       "</div>"
      ],
      "text/plain": [
       "                             % manquantes  unique    dtype    min    max  \\\n",
       "column                                                                     \n",
       "geolocation_zip_code_prefix          0.00   19010    int64   1001  99990   \n",
       "geolocation_state                    0.00      27   object     AC     TO   \n",
       "geolocation_lat                      0.00   18985  float64 -33.69   4.48   \n",
       "geolocation_lng                      0.00   18985  float64 -72.91 -34.80   \n",
       "count                                0.00     483    int64      1   1146   \n",
       "\n",
       "                                 std  \n",
       "column                                \n",
       "geolocation_zip_code_prefix 30903.69  \n",
       "geolocation_state                nan  \n",
       "geolocation_lat                 7.24  \n",
       "geolocation_lng                 5.20  \n",
       "count                          72.06  "
      ]
     },
     "execution_count": 20,
     "metadata": {},
     "output_type": "execute_result"
    }
   ],
   "source": [
    "geoloc = geoloc.sort_values(by='count', ascending=False).drop_duplicates(\n",
    "    keep='first', subset='geolocation_zip_code_prefix')\n",
    "decrire_dataframe(geoloc)\n"
   ]
  },
  {
   "cell_type": "code",
   "execution_count": 21,
   "metadata": {},
   "outputs": [
    {
     "data": {
      "text/plain": [
       "Text(0.5, 1.0, 'Localisation des zipcodes')"
      ]
     },
     "execution_count": 21,
     "metadata": {},
     "output_type": "execute_result"
    },
    {
     "data": {
      "image/png": "[encoded data removed]",
      "text/plain": [
       "<Figure size 360x360 with 1 Axes>"
      ]
     },
     "metadata": {},
     "output_type": "display_data"
    }
   ],
   "source": [
    "hue_order = sorted(geoloc['geolocation_state'].unique())\n",
    "plt.figure(figsize=(5,5))\n",
    "sns.scatterplot(data=geoloc, x='geolocation_lng', y='geolocation_lat',\n",
    "                hue='geolocation_state', hue_order=hue_order, palette='nipy_spectral')\n",
    "plt.legend(title='Etat',bbox_to_anchor=(1.5, 0.5), loc=5, ncol=2)\n",
    "plt.title('Localisation des zipcodes', fontsize=14)\n"
   ]
  },
  {
   "cell_type": "markdown",
   "metadata": {},
   "source": [
    "### Order items\n"
   ]
  },
  {
   "cell_type": "code",
   "execution_count": 22,
   "metadata": {},
   "outputs": [
    {
     "name": "stdout",
     "output_type": "stream",
     "text": [
      "112650 registres\n"
     ]
    },
    {
     "data": {
      "text/html": [
       "<div>\n",
       "<style scoped>\n",
       "    .dataframe tbody tr th:only-of-type {\n",
       "        vertical-align: middle;\n",
       "    }\n",
       "\n",
       "    .dataframe tbody tr th {\n",
       "        vertical-align: top;\n",
       "    }\n",
       "\n",
       "    .dataframe thead th {\n",
       "        text-align: right;\n",
       "    }\n",
       "</style>\n",
       "<table border=\"1\" class=\"dataframe\">\n",
       "  <thead>\n",
       "    <tr style=\"text-align: right;\">\n",
       "      <th></th>\n",
       "      <th>% manquantes</th>\n",
       "      <th>unique</th>\n",
       "      <th>dtype</th>\n",
       "      <th>min</th>\n",
       "      <th>max</th>\n",
       "      <th>std</th>\n",
       "    </tr>\n",
       "    <tr>\n",
       "      <th>column</th>\n",
       "      <th></th>\n",
       "      <th></th>\n",
       "      <th></th>\n",
       "      <th></th>\n",
       "      <th></th>\n",
       "      <th></th>\n",
       "    </tr>\n",
       "  </thead>\n",
       "  <tbody>\n",
       "    <tr>\n",
       "      <th>order_id</th>\n",
       "      <td>0.00</td>\n",
       "      <td>98666</td>\n",
       "      <td>object</td>\n",
       "      <td>00010242fe8c5a6d1ba2dd792cb16214</td>\n",
       "      <td>fffe41c64501cc87c801fd61db3f6244</td>\n",
       "      <td>nan</td>\n",
       "    </tr>\n",
       "    <tr>\n",
       "      <th>order_item_id</th>\n",
       "      <td>0.00</td>\n",
       "      <td>21</td>\n",
       "      <td>int64</td>\n",
       "      <td>1</td>\n",
       "      <td>21</td>\n",
       "      <td>0.71</td>\n",
       "    </tr>\n",
       "    <tr>\n",
       "      <th>product_id</th>\n",
       "      <td>0.00</td>\n",
       "      <td>32951</td>\n",
       "      <td>object</td>\n",
       "      <td>00066f42aeeb9f3007548bb9d3f33c38</td>\n",
       "      <td>fffe9eeff12fcbd74a2f2b007dde0c58</td>\n",
       "      <td>nan</td>\n",
       "    </tr>\n",
       "    <tr>\n",
       "      <th>seller_id</th>\n",
       "      <td>0.00</td>\n",
       "      <td>3095</td>\n",
       "      <td>object</td>\n",
       "      <td>0015a82c2db000af6aaaf3ae2ecb0532</td>\n",
       "      <td>ffff564a4f9085cd26170f4732393726</td>\n",
       "      <td>nan</td>\n",
       "    </tr>\n",
       "    <tr>\n",
       "      <th>shipping_limit_date</th>\n",
       "      <td>0.00</td>\n",
       "      <td>93318</td>\n",
       "      <td>object</td>\n",
       "      <td>2016-09-19 00:15:34</td>\n",
       "      <td>2020-04-09 22:35:08</td>\n",
       "      <td>nan</td>\n",
       "    </tr>\n",
       "    <tr>\n",
       "      <th>price</th>\n",
       "      <td>0.00</td>\n",
       "      <td>5968</td>\n",
       "      <td>float64</td>\n",
       "      <td>0.85</td>\n",
       "      <td>6735.00</td>\n",
       "      <td>183.63</td>\n",
       "    </tr>\n",
       "    <tr>\n",
       "      <th>freight_value</th>\n",
       "      <td>0.00</td>\n",
       "      <td>6999</td>\n",
       "      <td>float64</td>\n",
       "      <td>0.00</td>\n",
       "      <td>409.68</td>\n",
       "      <td>15.81</td>\n",
       "    </tr>\n",
       "  </tbody>\n",
       "</table>\n",
       "</div>"
      ],
      "text/plain": [
       "                     % manquantes  unique    dtype  \\\n",
       "column                                               \n",
       "order_id                     0.00   98666   object   \n",
       "order_item_id                0.00      21    int64   \n",
       "product_id                   0.00   32951   object   \n",
       "seller_id                    0.00    3095   object   \n",
       "shipping_limit_date          0.00   93318   object   \n",
       "price                        0.00    5968  float64   \n",
       "freight_value                0.00    6999  float64   \n",
       "\n",
       "                                                  min  \\\n",
       "column                                                  \n",
       "order_id             00010242fe8c5a6d1ba2dd792cb16214   \n",
       "order_item_id                                       1   \n",
       "product_id           00066f42aeeb9f3007548bb9d3f33c38   \n",
       "seller_id            0015a82c2db000af6aaaf3ae2ecb0532   \n",
       "shipping_limit_date               2016-09-19 00:15:34   \n",
       "price                                            0.85   \n",
       "freight_value                                    0.00   \n",
       "\n",
       "                                                  max    std  \n",
       "column                                                        \n",
       "order_id             fffe41c64501cc87c801fd61db3f6244    nan  \n",
       "order_item_id                                      21   0.71  \n",
       "product_id           fffe9eeff12fcbd74a2f2b007dde0c58    nan  \n",
       "seller_id            ffff564a4f9085cd26170f4732393726    nan  \n",
       "shipping_limit_date               2020-04-09 22:35:08    nan  \n",
       "price                                         6735.00 183.63  \n",
       "freight_value                                  409.68  15.81  "
      ]
     },
     "execution_count": 22,
     "metadata": {},
     "output_type": "execute_result"
    }
   ],
   "source": [
    "decrire_dataframe(order_items)\n"
   ]
  },
  {
   "cell_type": "code",
   "execution_count": 23,
   "metadata": {},
   "outputs": [
    {
     "data": {
      "text/plain": [
       "0"
      ]
     },
     "execution_count": 23,
     "metadata": {},
     "output_type": "execute_result"
    }
   ],
   "source": [
    "order_items.duplicated(subset=['order_id', 'order_item_id']).sum()\n"
   ]
  },
  {
   "cell_type": "markdown",
   "metadata": {},
   "source": [
    "#### Qualité des données order items\n",
    "\n",
    "- Aucun donnée manquante\n",
    "- pas de dupliquées\n",
    "- prix entre 0.85 et 6735\n",
    "- Données atomiques - lien entre client et vendeur\n"
   ]
  },
  {
   "cell_type": "markdown",
   "metadata": {},
   "source": [
    "### Order payments\n"
   ]
  },
  {
   "cell_type": "code",
   "execution_count": 24,
   "metadata": {},
   "outputs": [
    {
     "name": "stdout",
     "output_type": "stream",
     "text": [
      "103886 registres\n"
     ]
    },
    {
     "data": {
      "text/html": [
       "<div>\n",
       "<style scoped>\n",
       "    .dataframe tbody tr th:only-of-type {\n",
       "        vertical-align: middle;\n",
       "    }\n",
       "\n",
       "    .dataframe tbody tr th {\n",
       "        vertical-align: top;\n",
       "    }\n",
       "\n",
       "    .dataframe thead th {\n",
       "        text-align: right;\n",
       "    }\n",
       "</style>\n",
       "<table border=\"1\" class=\"dataframe\">\n",
       "  <thead>\n",
       "    <tr style=\"text-align: right;\">\n",
       "      <th></th>\n",
       "      <th>% manquantes</th>\n",
       "      <th>unique</th>\n",
       "      <th>dtype</th>\n",
       "      <th>min</th>\n",
       "      <th>max</th>\n",
       "      <th>std</th>\n",
       "    </tr>\n",
       "    <tr>\n",
       "      <th>column</th>\n",
       "      <th></th>\n",
       "      <th></th>\n",
       "      <th></th>\n",
       "      <th></th>\n",
       "      <th></th>\n",
       "      <th></th>\n",
       "    </tr>\n",
       "  </thead>\n",
       "  <tbody>\n",
       "    <tr>\n",
       "      <th>order_id</th>\n",
       "      <td>0.00</td>\n",
       "      <td>99440</td>\n",
       "      <td>object</td>\n",
       "      <td>00010242fe8c5a6d1ba2dd792cb16214</td>\n",
       "      <td>fffe41c64501cc87c801fd61db3f6244</td>\n",
       "      <td>nan</td>\n",
       "    </tr>\n",
       "    <tr>\n",
       "      <th>payment_sequential</th>\n",
       "      <td>0.00</td>\n",
       "      <td>29</td>\n",
       "      <td>int64</td>\n",
       "      <td>1</td>\n",
       "      <td>29</td>\n",
       "      <td>0.71</td>\n",
       "    </tr>\n",
       "    <tr>\n",
       "      <th>payment_type</th>\n",
       "      <td>0.00</td>\n",
       "      <td>5</td>\n",
       "      <td>object</td>\n",
       "      <td>boleto</td>\n",
       "      <td>voucher</td>\n",
       "      <td>nan</td>\n",
       "    </tr>\n",
       "    <tr>\n",
       "      <th>payment_installments</th>\n",
       "      <td>0.00</td>\n",
       "      <td>24</td>\n",
       "      <td>int64</td>\n",
       "      <td>0</td>\n",
       "      <td>24</td>\n",
       "      <td>2.69</td>\n",
       "    </tr>\n",
       "    <tr>\n",
       "      <th>payment_value</th>\n",
       "      <td>0.00</td>\n",
       "      <td>29077</td>\n",
       "      <td>float64</td>\n",
       "      <td>0.00</td>\n",
       "      <td>13664.08</td>\n",
       "      <td>217.49</td>\n",
       "    </tr>\n",
       "  </tbody>\n",
       "</table>\n",
       "</div>"
      ],
      "text/plain": [
       "                      % manquantes  unique    dtype  \\\n",
       "column                                                \n",
       "order_id                      0.00   99440   object   \n",
       "payment_sequential            0.00      29    int64   \n",
       "payment_type                  0.00       5   object   \n",
       "payment_installments          0.00      24    int64   \n",
       "payment_value                 0.00   29077  float64   \n",
       "\n",
       "                                                   min  \\\n",
       "column                                                   \n",
       "order_id              00010242fe8c5a6d1ba2dd792cb16214   \n",
       "payment_sequential                                   1   \n",
       "payment_type                                    boleto   \n",
       "payment_installments                                 0   \n",
       "payment_value                                     0.00   \n",
       "\n",
       "                                                   max    std  \n",
       "column                                                         \n",
       "order_id              fffe41c64501cc87c801fd61db3f6244    nan  \n",
       "payment_sequential                                  29   0.71  \n",
       "payment_type                                   voucher    nan  \n",
       "payment_installments                                24   2.69  \n",
       "payment_value                                 13664.08 217.49  "
      ]
     },
     "execution_count": 24,
     "metadata": {},
     "output_type": "execute_result"
    }
   ],
   "source": [
    "decrire_dataframe(order_payments)\n"
   ]
  },
  {
   "cell_type": "code",
   "execution_count": 25,
   "metadata": {},
   "outputs": [
    {
     "data": {
      "text/plain": [
       "9"
      ]
     },
     "execution_count": 25,
     "metadata": {},
     "output_type": "execute_result"
    }
   ],
   "source": [
    "len(order_payments[order_payments['payment_value'] == 0])\n"
   ]
  },
  {
   "cell_type": "code",
   "execution_count": 26,
   "metadata": {},
   "outputs": [
    {
     "data": {
      "text/plain": [
       "payment_type                 \n",
       "{'credit_card'}                  74259\n",
       "{'boleto'}                       19784\n",
       "{'voucher', 'credit_card'}        2245\n",
       "{'voucher'}                       1621\n",
       "{'debit_card'}                    1527\n",
       "{'not_defined'}                      3\n",
       "{'debit_card', 'credit_card'}        1\n",
       "dtype: int64"
      ]
     },
     "execution_count": 26,
     "metadata": {},
     "output_type": "execute_result"
    }
   ],
   "source": [
    "order_payments.groupby('order_id').agg(\n",
    "    {'payment_type': set}).astype(str).value_counts()\n"
   ]
  },
  {
   "cell_type": "code",
   "execution_count": 27,
   "metadata": {},
   "outputs": [
    {
     "data": {
      "text/html": [
       "<div>\n",
       "<style scoped>\n",
       "    .dataframe tbody tr th:only-of-type {\n",
       "        vertical-align: middle;\n",
       "    }\n",
       "\n",
       "    .dataframe tbody tr th {\n",
       "        vertical-align: top;\n",
       "    }\n",
       "\n",
       "    .dataframe thead th {\n",
       "        text-align: right;\n",
       "    }\n",
       "</style>\n",
       "<table border=\"1\" class=\"dataframe\">\n",
       "  <thead>\n",
       "    <tr style=\"text-align: right;\">\n",
       "      <th></th>\n",
       "      <th>payment_value</th>\n",
       "    </tr>\n",
       "    <tr>\n",
       "      <th>payment_type</th>\n",
       "      <th></th>\n",
       "    </tr>\n",
       "  </thead>\n",
       "  <tbody>\n",
       "    <tr>\n",
       "      <th>credit_card</th>\n",
       "      <td>12542084.19</td>\n",
       "    </tr>\n",
       "    <tr>\n",
       "      <th>boleto</th>\n",
       "      <td>2869361.27</td>\n",
       "    </tr>\n",
       "    <tr>\n",
       "      <th>voucher</th>\n",
       "      <td>379436.87</td>\n",
       "    </tr>\n",
       "    <tr>\n",
       "      <th>debit_card</th>\n",
       "      <td>217989.79</td>\n",
       "    </tr>\n",
       "    <tr>\n",
       "      <th>not_defined</th>\n",
       "      <td>0.00</td>\n",
       "    </tr>\n",
       "  </tbody>\n",
       "</table>\n",
       "</div>"
      ],
      "text/plain": [
       "              payment_value\n",
       "payment_type               \n",
       "credit_card     12542084.19\n",
       "boleto           2869361.27\n",
       "voucher           379436.87\n",
       "debit_card        217989.79\n",
       "not_defined            0.00"
      ]
     },
     "execution_count": 27,
     "metadata": {},
     "output_type": "execute_result"
    }
   ],
   "source": [
    "order_payments.groupby('payment_type').agg(\n",
    "    {'payment_value': sum}).sort_values(by='payment_value', ascending=False)\n"
   ]
  },
  {
   "cell_type": "markdown",
   "metadata": {},
   "source": [
    "#### Qualité des données order payments\n",
    "\n",
    "- aucune donnée manquante\n",
    "- pas clair quand le payment a été effectué\n",
    "- besoin d'aggreger payment_value pour savoir si c'est égal au valeur d'achat\n"
   ]
  },
  {
   "cell_type": "markdown",
   "metadata": {},
   "source": [
    "### Order reviews\n"
   ]
  },
  {
   "cell_type": "code",
   "execution_count": 28,
   "metadata": {},
   "outputs": [
    {
     "name": "stdout",
     "output_type": "stream",
     "text": [
      "99224 registres\n"
     ]
    },
    {
     "data": {
      "text/html": [
       "<div>\n",
       "<style scoped>\n",
       "    .dataframe tbody tr th:only-of-type {\n",
       "        vertical-align: middle;\n",
       "    }\n",
       "\n",
       "    .dataframe tbody tr th {\n",
       "        vertical-align: top;\n",
       "    }\n",
       "\n",
       "    .dataframe thead th {\n",
       "        text-align: right;\n",
       "    }\n",
       "</style>\n",
       "<table border=\"1\" class=\"dataframe\">\n",
       "  <thead>\n",
       "    <tr style=\"text-align: right;\">\n",
       "      <th></th>\n",
       "      <th>% manquantes</th>\n",
       "      <th>unique</th>\n",
       "      <th>dtype</th>\n",
       "      <th>min</th>\n",
       "      <th>max</th>\n",
       "      <th>std</th>\n",
       "    </tr>\n",
       "    <tr>\n",
       "      <th>column</th>\n",
       "      <th></th>\n",
       "      <th></th>\n",
       "      <th></th>\n",
       "      <th></th>\n",
       "      <th></th>\n",
       "      <th></th>\n",
       "    </tr>\n",
       "  </thead>\n",
       "  <tbody>\n",
       "    <tr>\n",
       "      <th>review_id</th>\n",
       "      <td>0.00</td>\n",
       "      <td>98410</td>\n",
       "      <td>object</td>\n",
       "      <td>0001239bc1de2e33cb583967c2ca4c67</td>\n",
       "      <td>fffefe7a48d22f7b32046421062219d1</td>\n",
       "      <td>nan</td>\n",
       "    </tr>\n",
       "    <tr>\n",
       "      <th>order_id</th>\n",
       "      <td>0.00</td>\n",
       "      <td>98673</td>\n",
       "      <td>object</td>\n",
       "      <td>00010242fe8c5a6d1ba2dd792cb16214</td>\n",
       "      <td>fffe41c64501cc87c801fd61db3f6244</td>\n",
       "      <td>nan</td>\n",
       "    </tr>\n",
       "    <tr>\n",
       "      <th>review_score</th>\n",
       "      <td>0.00</td>\n",
       "      <td>5</td>\n",
       "      <td>int64</td>\n",
       "      <td>1</td>\n",
       "      <td>5</td>\n",
       "      <td>1.35</td>\n",
       "    </tr>\n",
       "    <tr>\n",
       "      <th>review_comment_title</th>\n",
       "      <td>0.88</td>\n",
       "      <td>4527</td>\n",
       "      <td>object</td>\n",
       "      <td>NaN</td>\n",
       "      <td>NaN</td>\n",
       "      <td>nan</td>\n",
       "    </tr>\n",
       "    <tr>\n",
       "      <th>review_comment_message</th>\n",
       "      <td>0.59</td>\n",
       "      <td>36159</td>\n",
       "      <td>object</td>\n",
       "      <td>NaN</td>\n",
       "      <td>NaN</td>\n",
       "      <td>nan</td>\n",
       "    </tr>\n",
       "    <tr>\n",
       "      <th>review_creation_date</th>\n",
       "      <td>0.00</td>\n",
       "      <td>636</td>\n",
       "      <td>object</td>\n",
       "      <td>2016-10-02 00:00:00</td>\n",
       "      <td>2018-08-31 00:00:00</td>\n",
       "      <td>nan</td>\n",
       "    </tr>\n",
       "    <tr>\n",
       "      <th>review_answer_timestamp</th>\n",
       "      <td>0.00</td>\n",
       "      <td>98248</td>\n",
       "      <td>object</td>\n",
       "      <td>2016-10-07 18:32:28</td>\n",
       "      <td>2018-10-29 12:27:35</td>\n",
       "      <td>nan</td>\n",
       "    </tr>\n",
       "  </tbody>\n",
       "</table>\n",
       "</div>"
      ],
      "text/plain": [
       "                         % manquantes  unique   dtype  \\\n",
       "column                                                  \n",
       "review_id                        0.00   98410  object   \n",
       "order_id                         0.00   98673  object   \n",
       "review_score                     0.00       5   int64   \n",
       "review_comment_title             0.88    4527  object   \n",
       "review_comment_message           0.59   36159  object   \n",
       "review_creation_date             0.00     636  object   \n",
       "review_answer_timestamp          0.00   98248  object   \n",
       "\n",
       "                                                      min  \\\n",
       "column                                                      \n",
       "review_id                0001239bc1de2e33cb583967c2ca4c67   \n",
       "order_id                 00010242fe8c5a6d1ba2dd792cb16214   \n",
       "review_score                                            1   \n",
       "review_comment_title                                  NaN   \n",
       "review_comment_message                                NaN   \n",
       "review_creation_date                  2016-10-02 00:00:00   \n",
       "review_answer_timestamp               2016-10-07 18:32:28   \n",
       "\n",
       "                                                      max  std  \n",
       "column                                                          \n",
       "review_id                fffefe7a48d22f7b32046421062219d1  nan  \n",
       "order_id                 fffe41c64501cc87c801fd61db3f6244  nan  \n",
       "review_score                                            5 1.35  \n",
       "review_comment_title                                  NaN  nan  \n",
       "review_comment_message                                NaN  nan  \n",
       "review_creation_date                  2018-08-31 00:00:00  nan  \n",
       "review_answer_timestamp               2018-10-29 12:27:35  nan  "
      ]
     },
     "execution_count": 28,
     "metadata": {},
     "output_type": "execute_result"
    }
   ],
   "source": [
    "decrire_dataframe(order_reviews)\n"
   ]
  },
  {
   "cell_type": "code",
   "execution_count": 29,
   "metadata": {},
   "outputs": [
    {
     "data": {
      "text/plain": [
       "review_id\n",
       "1            98126\n",
       "2              543\n",
       "3                4\n",
       "dtype: int64"
      ]
     },
     "execution_count": 29,
     "metadata": {},
     "output_type": "execute_result"
    }
   ],
   "source": [
    "order_reviews.groupby('order_id').agg(\n",
    "    {'review_id': 'count'}).astype(str).value_counts()\n"
   ]
  },
  {
   "cell_type": "code",
   "execution_count": 30,
   "metadata": {},
   "outputs": [
    {
     "data": {
      "text/plain": [
       "Text(0.5, 1.0, 'Distribution du score des revues')"
      ]
     },
     "execution_count": 30,
     "metadata": {},
     "output_type": "execute_result"
    },
    {
     "data": {
      "image/png": "[encoded data removed]",
      "text/plain": [
       "<Figure size 432x288 with 1 Axes>"
      ]
     },
     "metadata": {},
     "output_type": "display_data"
    }
   ],
   "source": [
    "sns.countplot(data=order_reviews, x='review_score')\n",
    "plt.title('Distribution du score des revues')\n"
   ]
  },
  {
   "cell_type": "markdown",
   "metadata": {},
   "source": [
    "#### Qualité des données de 'review score':\n",
    "\n",
    "- 98673 unique order_id (comparé avec 98666 unique order_id dans order_items)\n",
    "- aucune données manquantes dans colonne score\n",
    "- jusqu'à 3 revues par commande, mais moins de 0.5% des commandes ont plus d'un revue\n",
    "- environ 40% des commandes contient un revue, seulement 10% contient un titre\n",
    "\n",
    "Dans le perimetre de ce projet (segmentation des clients), on retient seulement le score pour chaque commande\n"
   ]
  },
  {
   "cell_type": "markdown",
   "metadata": {},
   "source": [
    "### Orders (commandes)\n"
   ]
  },
  {
   "cell_type": "code",
   "execution_count": 31,
   "metadata": {},
   "outputs": [
    {
     "name": "stdout",
     "output_type": "stream",
     "text": [
      "99441 registres\n"
     ]
    },
    {
     "data": {
      "text/html": [
       "<div>\n",
       "<style scoped>\n",
       "    .dataframe tbody tr th:only-of-type {\n",
       "        vertical-align: middle;\n",
       "    }\n",
       "\n",
       "    .dataframe tbody tr th {\n",
       "        vertical-align: top;\n",
       "    }\n",
       "\n",
       "    .dataframe thead th {\n",
       "        text-align: right;\n",
       "    }\n",
       "</style>\n",
       "<table border=\"1\" class=\"dataframe\">\n",
       "  <thead>\n",
       "    <tr style=\"text-align: right;\">\n",
       "      <th></th>\n",
       "      <th>% manquantes</th>\n",
       "      <th>unique</th>\n",
       "      <th>dtype</th>\n",
       "      <th>min</th>\n",
       "      <th>max</th>\n",
       "      <th>std</th>\n",
       "    </tr>\n",
       "    <tr>\n",
       "      <th>column</th>\n",
       "      <th></th>\n",
       "      <th></th>\n",
       "      <th></th>\n",
       "      <th></th>\n",
       "      <th></th>\n",
       "      <th></th>\n",
       "    </tr>\n",
       "  </thead>\n",
       "  <tbody>\n",
       "    <tr>\n",
       "      <th>order_id</th>\n",
       "      <td>0.00</td>\n",
       "      <td>99441</td>\n",
       "      <td>object</td>\n",
       "      <td>nan</td>\n",
       "      <td>nan</td>\n",
       "      <td>nan</td>\n",
       "    </tr>\n",
       "    <tr>\n",
       "      <th>customer_id</th>\n",
       "      <td>0.00</td>\n",
       "      <td>99441</td>\n",
       "      <td>object</td>\n",
       "      <td>nan</td>\n",
       "      <td>nan</td>\n",
       "      <td>nan</td>\n",
       "    </tr>\n",
       "    <tr>\n",
       "      <th>order_status</th>\n",
       "      <td>0.00</td>\n",
       "      <td>8</td>\n",
       "      <td>object</td>\n",
       "      <td>nan</td>\n",
       "      <td>nan</td>\n",
       "      <td>nan</td>\n",
       "    </tr>\n",
       "    <tr>\n",
       "      <th>order_purchase_timestamp</th>\n",
       "      <td>0.00</td>\n",
       "      <td>98875</td>\n",
       "      <td>object</td>\n",
       "      <td>nan</td>\n",
       "      <td>nan</td>\n",
       "      <td>nan</td>\n",
       "    </tr>\n",
       "    <tr>\n",
       "      <th>order_approved_at</th>\n",
       "      <td>0.00</td>\n",
       "      <td>90733</td>\n",
       "      <td>object</td>\n",
       "      <td>nan</td>\n",
       "      <td>nan</td>\n",
       "      <td>nan</td>\n",
       "    </tr>\n",
       "    <tr>\n",
       "      <th>order_delivered_carrier_date</th>\n",
       "      <td>0.02</td>\n",
       "      <td>81018</td>\n",
       "      <td>object</td>\n",
       "      <td>nan</td>\n",
       "      <td>nan</td>\n",
       "      <td>nan</td>\n",
       "    </tr>\n",
       "    <tr>\n",
       "      <th>order_delivered_customer_date</th>\n",
       "      <td>0.03</td>\n",
       "      <td>95664</td>\n",
       "      <td>object</td>\n",
       "      <td>nan</td>\n",
       "      <td>nan</td>\n",
       "      <td>nan</td>\n",
       "    </tr>\n",
       "    <tr>\n",
       "      <th>order_estimated_delivery_date</th>\n",
       "      <td>0.00</td>\n",
       "      <td>459</td>\n",
       "      <td>object</td>\n",
       "      <td>nan</td>\n",
       "      <td>nan</td>\n",
       "      <td>nan</td>\n",
       "    </tr>\n",
       "  </tbody>\n",
       "</table>\n",
       "</div>"
      ],
      "text/plain": [
       "                               % manquantes  unique   dtype  min  max  std\n",
       "column                                                                    \n",
       "order_id                               0.00   99441  object  nan  nan  nan\n",
       "customer_id                            0.00   99441  object  nan  nan  nan\n",
       "order_status                           0.00       8  object  nan  nan  nan\n",
       "order_purchase_timestamp               0.00   98875  object  nan  nan  nan\n",
       "order_approved_at                      0.00   90733  object  nan  nan  nan\n",
       "order_delivered_carrier_date           0.02   81018  object  nan  nan  nan\n",
       "order_delivered_customer_date          0.03   95664  object  nan  nan  nan\n",
       "order_estimated_delivery_date          0.00     459  object  nan  nan  nan"
      ]
     },
     "execution_count": 31,
     "metadata": {},
     "output_type": "execute_result"
    }
   ],
   "source": [
    "decrire_dataframe(orders)\n"
   ]
  },
  {
   "cell_type": "code",
   "execution_count": 32,
   "metadata": {},
   "outputs": [
    {
     "data": {
      "text/plain": [
       "delivered      96478\n",
       "shipped         1107\n",
       "canceled         625\n",
       "unavailable      609\n",
       "invoiced         314\n",
       "processing       301\n",
       "created            5\n",
       "approved           2\n",
       "Name: order_status, dtype: int64"
      ]
     },
     "execution_count": 32,
     "metadata": {},
     "output_type": "execute_result"
    }
   ],
   "source": [
    "orders['order_status'].value_counts()\n"
   ]
  },
  {
   "cell_type": "code",
   "execution_count": 33,
   "metadata": {},
   "outputs": [
    {
     "data": {
      "text/html": [
       "<div>\n",
       "<style scoped>\n",
       "    .dataframe tbody tr th:only-of-type {\n",
       "        vertical-align: middle;\n",
       "    }\n",
       "\n",
       "    .dataframe tbody tr th {\n",
       "        vertical-align: top;\n",
       "    }\n",
       "\n",
       "    .dataframe thead th {\n",
       "        text-align: right;\n",
       "    }\n",
       "</style>\n",
       "<table border=\"1\" class=\"dataframe\">\n",
       "  <thead>\n",
       "    <tr style=\"text-align: right;\">\n",
       "      <th></th>\n",
       "      <th>order_id</th>\n",
       "      <th>customer_id</th>\n",
       "      <th>order_status</th>\n",
       "      <th>order_purchase_timestamp</th>\n",
       "      <th>order_approved_at</th>\n",
       "      <th>order_delivered_carrier_date</th>\n",
       "      <th>order_delivered_customer_date</th>\n",
       "      <th>order_estimated_delivery_date</th>\n",
       "    </tr>\n",
       "  </thead>\n",
       "  <tbody>\n",
       "    <tr>\n",
       "      <th>6</th>\n",
       "      <td>136cce7faa42fdb2cefd53fdc79a6098</td>\n",
       "      <td>ed0271e0b7da060a393796590e7b737a</td>\n",
       "      <td>invoiced</td>\n",
       "      <td>2017-04-11 12:22:08</td>\n",
       "      <td>2017-04-13 13:25:17</td>\n",
       "      <td>NaN</td>\n",
       "      <td>NaN</td>\n",
       "      <td>2017-05-09 00:00:00</td>\n",
       "    </tr>\n",
       "    <tr>\n",
       "      <th>44</th>\n",
       "      <td>ee64d42b8cf066f35eac1cf57de1aa85</td>\n",
       "      <td>caded193e8e47b8362864762a83db3c5</td>\n",
       "      <td>shipped</td>\n",
       "      <td>2018-06-04 16:44:48</td>\n",
       "      <td>2018-06-05 04:31:18</td>\n",
       "      <td>2018-06-05 14:32:00</td>\n",
       "      <td>NaN</td>\n",
       "      <td>2018-06-28 00:00:00</td>\n",
       "    </tr>\n",
       "    <tr>\n",
       "      <th>103</th>\n",
       "      <td>0760a852e4e9d89eb77bf631eaaf1c84</td>\n",
       "      <td>d2a79636084590b7465af8ab374a8cf5</td>\n",
       "      <td>invoiced</td>\n",
       "      <td>2018-08-03 17:44:42</td>\n",
       "      <td>2018-08-07 06:15:14</td>\n",
       "      <td>NaN</td>\n",
       "      <td>NaN</td>\n",
       "      <td>2018-08-21 00:00:00</td>\n",
       "    </tr>\n",
       "    <tr>\n",
       "      <th>128</th>\n",
       "      <td>15bed8e2fec7fdbadb186b57c46c92f2</td>\n",
       "      <td>f3f0e613e0bdb9c7cee75504f0f90679</td>\n",
       "      <td>processing</td>\n",
       "      <td>2017-09-03 14:22:03</td>\n",
       "      <td>2017-09-03 14:30:09</td>\n",
       "      <td>NaN</td>\n",
       "      <td>NaN</td>\n",
       "      <td>2017-10-03 00:00:00</td>\n",
       "    </tr>\n",
       "    <tr>\n",
       "      <th>154</th>\n",
       "      <td>6942b8da583c2f9957e990d028607019</td>\n",
       "      <td>52006a9383bf149a4fb24226b173106f</td>\n",
       "      <td>shipped</td>\n",
       "      <td>2018-01-10 11:33:07</td>\n",
       "      <td>2018-01-11 02:32:30</td>\n",
       "      <td>2018-01-11 19:39:23</td>\n",
       "      <td>NaN</td>\n",
       "      <td>2018-02-07 00:00:00</td>\n",
       "    </tr>\n",
       "  </tbody>\n",
       "</table>\n",
       "</div>"
      ],
      "text/plain": [
       "                             order_id                       customer_id  \\\n",
       "6    136cce7faa42fdb2cefd53fdc79a6098  ed0271e0b7da060a393796590e7b737a   \n",
       "44   ee64d42b8cf066f35eac1cf57de1aa85  caded193e8e47b8362864762a83db3c5   \n",
       "103  0760a852e4e9d89eb77bf631eaaf1c84  d2a79636084590b7465af8ab374a8cf5   \n",
       "128  15bed8e2fec7fdbadb186b57c46c92f2  f3f0e613e0bdb9c7cee75504f0f90679   \n",
       "154  6942b8da583c2f9957e990d028607019  52006a9383bf149a4fb24226b173106f   \n",
       "\n",
       "    order_status order_purchase_timestamp    order_approved_at  \\\n",
       "6       invoiced      2017-04-11 12:22:08  2017-04-13 13:25:17   \n",
       "44       shipped      2018-06-04 16:44:48  2018-06-05 04:31:18   \n",
       "103     invoiced      2018-08-03 17:44:42  2018-08-07 06:15:14   \n",
       "128   processing      2017-09-03 14:22:03  2017-09-03 14:30:09   \n",
       "154      shipped      2018-01-10 11:33:07  2018-01-11 02:32:30   \n",
       "\n",
       "    order_delivered_carrier_date order_delivered_customer_date  \\\n",
       "6                            NaN                           NaN   \n",
       "44           2018-06-05 14:32:00                           NaN   \n",
       "103                          NaN                           NaN   \n",
       "128                          NaN                           NaN   \n",
       "154          2018-01-11 19:39:23                           NaN   \n",
       "\n",
       "    order_estimated_delivery_date  \n",
       "6             2017-05-09 00:00:00  \n",
       "44            2018-06-28 00:00:00  \n",
       "103           2018-08-21 00:00:00  \n",
       "128           2017-10-03 00:00:00  \n",
       "154           2018-02-07 00:00:00  "
      ]
     },
     "execution_count": 33,
     "metadata": {},
     "output_type": "execute_result"
    }
   ],
   "source": [
    "orders[orders['order_status'] != 'delivered'].head()\n"
   ]
  },
  {
   "cell_type": "code",
   "execution_count": 34,
   "metadata": {},
   "outputs": [
    {
     "name": "stdout",
     "output_type": "stream",
     "text": [
      "96478 registres\n"
     ]
    },
    {
     "data": {
      "text/html": [
       "<div>\n",
       "<style scoped>\n",
       "    .dataframe tbody tr th:only-of-type {\n",
       "        vertical-align: middle;\n",
       "    }\n",
       "\n",
       "    .dataframe tbody tr th {\n",
       "        vertical-align: top;\n",
       "    }\n",
       "\n",
       "    .dataframe thead th {\n",
       "        text-align: right;\n",
       "    }\n",
       "</style>\n",
       "<table border=\"1\" class=\"dataframe\">\n",
       "  <thead>\n",
       "    <tr style=\"text-align: right;\">\n",
       "      <th></th>\n",
       "      <th>% manquantes</th>\n",
       "      <th>unique</th>\n",
       "      <th>dtype</th>\n",
       "      <th>min</th>\n",
       "      <th>max</th>\n",
       "      <th>std</th>\n",
       "    </tr>\n",
       "    <tr>\n",
       "      <th>column</th>\n",
       "      <th></th>\n",
       "      <th></th>\n",
       "      <th></th>\n",
       "      <th></th>\n",
       "      <th></th>\n",
       "      <th></th>\n",
       "    </tr>\n",
       "  </thead>\n",
       "  <tbody>\n",
       "    <tr>\n",
       "      <th>order_id</th>\n",
       "      <td>0.00</td>\n",
       "      <td>96478</td>\n",
       "      <td>object</td>\n",
       "      <td>nan</td>\n",
       "      <td>nan</td>\n",
       "      <td>nan</td>\n",
       "    </tr>\n",
       "    <tr>\n",
       "      <th>customer_id</th>\n",
       "      <td>0.00</td>\n",
       "      <td>96478</td>\n",
       "      <td>object</td>\n",
       "      <td>nan</td>\n",
       "      <td>nan</td>\n",
       "      <td>nan</td>\n",
       "    </tr>\n",
       "    <tr>\n",
       "      <th>order_status</th>\n",
       "      <td>0.00</td>\n",
       "      <td>1</td>\n",
       "      <td>object</td>\n",
       "      <td>nan</td>\n",
       "      <td>nan</td>\n",
       "      <td>nan</td>\n",
       "    </tr>\n",
       "    <tr>\n",
       "      <th>order_purchase_timestamp</th>\n",
       "      <td>0.00</td>\n",
       "      <td>95956</td>\n",
       "      <td>object</td>\n",
       "      <td>nan</td>\n",
       "      <td>nan</td>\n",
       "      <td>nan</td>\n",
       "    </tr>\n",
       "    <tr>\n",
       "      <th>order_approved_at</th>\n",
       "      <td>0.00</td>\n",
       "      <td>88274</td>\n",
       "      <td>object</td>\n",
       "      <td>nan</td>\n",
       "      <td>nan</td>\n",
       "      <td>nan</td>\n",
       "    </tr>\n",
       "    <tr>\n",
       "      <th>order_delivered_carrier_date</th>\n",
       "      <td>0.00</td>\n",
       "      <td>80106</td>\n",
       "      <td>object</td>\n",
       "      <td>nan</td>\n",
       "      <td>nan</td>\n",
       "      <td>nan</td>\n",
       "    </tr>\n",
       "    <tr>\n",
       "      <th>order_delivered_customer_date</th>\n",
       "      <td>0.00</td>\n",
       "      <td>95658</td>\n",
       "      <td>object</td>\n",
       "      <td>nan</td>\n",
       "      <td>nan</td>\n",
       "      <td>nan</td>\n",
       "    </tr>\n",
       "    <tr>\n",
       "      <th>order_estimated_delivery_date</th>\n",
       "      <td>0.00</td>\n",
       "      <td>445</td>\n",
       "      <td>object</td>\n",
       "      <td>nan</td>\n",
       "      <td>nan</td>\n",
       "      <td>nan</td>\n",
       "    </tr>\n",
       "  </tbody>\n",
       "</table>\n",
       "</div>"
      ],
      "text/plain": [
       "                               % manquantes  unique   dtype  min  max  std\n",
       "column                                                                    \n",
       "order_id                               0.00   96478  object  nan  nan  nan\n",
       "customer_id                            0.00   96478  object  nan  nan  nan\n",
       "order_status                           0.00       1  object  nan  nan  nan\n",
       "order_purchase_timestamp               0.00   95956  object  nan  nan  nan\n",
       "order_approved_at                      0.00   88274  object  nan  nan  nan\n",
       "order_delivered_carrier_date           0.00   80106  object  nan  nan  nan\n",
       "order_delivered_customer_date          0.00   95658  object  nan  nan  nan\n",
       "order_estimated_delivery_date          0.00     445  object  nan  nan  nan"
      ]
     },
     "execution_count": 34,
     "metadata": {},
     "output_type": "execute_result"
    }
   ],
   "source": [
    "decrire_dataframe(orders[orders['order_status'] == 'delivered'])\n"
   ]
  },
  {
   "cell_type": "markdown",
   "metadata": {},
   "source": [
    "#### Qualité de données des commandes\n",
    "\n",
    "- autant de clients uniques que commandes\n",
    "- aucune données manquantes pour les commandes livrés\n",
    "- pour les commandes pas livrés, les données manquantes sont expliqués par le non-livraison\n",
    "\n",
    "- les produits non-livrés seront plus complexe à analyser.\n"
   ]
  },
  {
   "cell_type": "markdown",
   "metadata": {},
   "source": [
    "### Products (et product category names)\n"
   ]
  },
  {
   "cell_type": "code",
   "execution_count": 35,
   "metadata": {},
   "outputs": [
    {
     "name": "stdout",
     "output_type": "stream",
     "text": [
      "32951 registres\n"
     ]
    },
    {
     "data": {
      "text/html": [
       "<div>\n",
       "<style scoped>\n",
       "    .dataframe tbody tr th:only-of-type {\n",
       "        vertical-align: middle;\n",
       "    }\n",
       "\n",
       "    .dataframe tbody tr th {\n",
       "        vertical-align: top;\n",
       "    }\n",
       "\n",
       "    .dataframe thead th {\n",
       "        text-align: right;\n",
       "    }\n",
       "</style>\n",
       "<table border=\"1\" class=\"dataframe\">\n",
       "  <thead>\n",
       "    <tr style=\"text-align: right;\">\n",
       "      <th></th>\n",
       "      <th>% manquantes</th>\n",
       "      <th>unique</th>\n",
       "      <th>dtype</th>\n",
       "      <th>min</th>\n",
       "      <th>max</th>\n",
       "      <th>std</th>\n",
       "    </tr>\n",
       "    <tr>\n",
       "      <th>column</th>\n",
       "      <th></th>\n",
       "      <th></th>\n",
       "      <th></th>\n",
       "      <th></th>\n",
       "      <th></th>\n",
       "      <th></th>\n",
       "    </tr>\n",
       "  </thead>\n",
       "  <tbody>\n",
       "    <tr>\n",
       "      <th>product_id</th>\n",
       "      <td>0.00</td>\n",
       "      <td>32951</td>\n",
       "      <td>object</td>\n",
       "      <td>00066f42aeeb9f3007548bb9d3f33c38</td>\n",
       "      <td>fffe9eeff12fcbd74a2f2b007dde0c58</td>\n",
       "      <td>nan</td>\n",
       "    </tr>\n",
       "    <tr>\n",
       "      <th>product_category_name</th>\n",
       "      <td>0.02</td>\n",
       "      <td>73</td>\n",
       "      <td>object</td>\n",
       "      <td>NaN</td>\n",
       "      <td>NaN</td>\n",
       "      <td>nan</td>\n",
       "    </tr>\n",
       "    <tr>\n",
       "      <th>product_name_lenght</th>\n",
       "      <td>0.02</td>\n",
       "      <td>66</td>\n",
       "      <td>float64</td>\n",
       "      <td>5.00</td>\n",
       "      <td>76.00</td>\n",
       "      <td>10.25</td>\n",
       "    </tr>\n",
       "    <tr>\n",
       "      <th>product_description_lenght</th>\n",
       "      <td>0.02</td>\n",
       "      <td>2960</td>\n",
       "      <td>float64</td>\n",
       "      <td>4.00</td>\n",
       "      <td>3992.00</td>\n",
       "      <td>635.12</td>\n",
       "    </tr>\n",
       "    <tr>\n",
       "      <th>product_photos_qty</th>\n",
       "      <td>0.02</td>\n",
       "      <td>19</td>\n",
       "      <td>float64</td>\n",
       "      <td>1.00</td>\n",
       "      <td>20.00</td>\n",
       "      <td>1.74</td>\n",
       "    </tr>\n",
       "    <tr>\n",
       "      <th>product_weight_g</th>\n",
       "      <td>0.00</td>\n",
       "      <td>2204</td>\n",
       "      <td>float64</td>\n",
       "      <td>0.00</td>\n",
       "      <td>40425.00</td>\n",
       "      <td>4282.04</td>\n",
       "    </tr>\n",
       "    <tr>\n",
       "      <th>product_length_cm</th>\n",
       "      <td>0.00</td>\n",
       "      <td>99</td>\n",
       "      <td>float64</td>\n",
       "      <td>7.00</td>\n",
       "      <td>105.00</td>\n",
       "      <td>16.91</td>\n",
       "    </tr>\n",
       "    <tr>\n",
       "      <th>product_height_cm</th>\n",
       "      <td>0.00</td>\n",
       "      <td>102</td>\n",
       "      <td>float64</td>\n",
       "      <td>2.00</td>\n",
       "      <td>105.00</td>\n",
       "      <td>13.64</td>\n",
       "    </tr>\n",
       "    <tr>\n",
       "      <th>product_width_cm</th>\n",
       "      <td>0.00</td>\n",
       "      <td>95</td>\n",
       "      <td>float64</td>\n",
       "      <td>6.00</td>\n",
       "      <td>118.00</td>\n",
       "      <td>12.08</td>\n",
       "    </tr>\n",
       "  </tbody>\n",
       "</table>\n",
       "</div>"
      ],
      "text/plain": [
       "                            % manquantes  unique    dtype  \\\n",
       "column                                                      \n",
       "product_id                          0.00   32951   object   \n",
       "product_category_name               0.02      73   object   \n",
       "product_name_lenght                 0.02      66  float64   \n",
       "product_description_lenght          0.02    2960  float64   \n",
       "product_photos_qty                  0.02      19  float64   \n",
       "product_weight_g                    0.00    2204  float64   \n",
       "product_length_cm                   0.00      99  float64   \n",
       "product_height_cm                   0.00     102  float64   \n",
       "product_width_cm                    0.00      95  float64   \n",
       "\n",
       "                                                         min  \\\n",
       "column                                                         \n",
       "product_id                  00066f42aeeb9f3007548bb9d3f33c38   \n",
       "product_category_name                                    NaN   \n",
       "product_name_lenght                                     5.00   \n",
       "product_description_lenght                              4.00   \n",
       "product_photos_qty                                      1.00   \n",
       "product_weight_g                                        0.00   \n",
       "product_length_cm                                       7.00   \n",
       "product_height_cm                                       2.00   \n",
       "product_width_cm                                        6.00   \n",
       "\n",
       "                                                         max     std  \n",
       "column                                                                \n",
       "product_id                  fffe9eeff12fcbd74a2f2b007dde0c58     nan  \n",
       "product_category_name                                    NaN     nan  \n",
       "product_name_lenght                                    76.00   10.25  \n",
       "product_description_lenght                           3992.00  635.12  \n",
       "product_photos_qty                                     20.00    1.74  \n",
       "product_weight_g                                    40425.00 4282.04  \n",
       "product_length_cm                                     105.00   16.91  \n",
       "product_height_cm                                     105.00   13.64  \n",
       "product_width_cm                                      118.00   12.08  "
      ]
     },
     "execution_count": 35,
     "metadata": {},
     "output_type": "execute_result"
    }
   ],
   "source": [
    "decrire_dataframe(products)\n"
   ]
  },
  {
   "cell_type": "code",
   "execution_count": 36,
   "metadata": {},
   "outputs": [
    {
     "data": {
      "text/html": [
       "<div>\n",
       "<style scoped>\n",
       "    .dataframe tbody tr th:only-of-type {\n",
       "        vertical-align: middle;\n",
       "    }\n",
       "\n",
       "    .dataframe tbody tr th {\n",
       "        vertical-align: top;\n",
       "    }\n",
       "\n",
       "    .dataframe thead th {\n",
       "        text-align: right;\n",
       "    }\n",
       "</style>\n",
       "<table border=\"1\" class=\"dataframe\">\n",
       "  <thead>\n",
       "    <tr style=\"text-align: right;\">\n",
       "      <th></th>\n",
       "      <th>product_id</th>\n",
       "      <th>product_category_name</th>\n",
       "      <th>product_name_lenght</th>\n",
       "      <th>product_description_lenght</th>\n",
       "      <th>product_photos_qty</th>\n",
       "      <th>product_weight_g</th>\n",
       "      <th>product_length_cm</th>\n",
       "      <th>product_height_cm</th>\n",
       "      <th>product_width_cm</th>\n",
       "    </tr>\n",
       "  </thead>\n",
       "  <tbody>\n",
       "    <tr>\n",
       "      <th>105</th>\n",
       "      <td>a41e356c76fab66334f36de622ecbd3a</td>\n",
       "      <td>NaN</td>\n",
       "      <td>nan</td>\n",
       "      <td>nan</td>\n",
       "      <td>nan</td>\n",
       "      <td>650.00</td>\n",
       "      <td>17.00</td>\n",
       "      <td>14.00</td>\n",
       "      <td>12.00</td>\n",
       "    </tr>\n",
       "    <tr>\n",
       "      <th>128</th>\n",
       "      <td>d8dee61c2034d6d075997acef1870e9b</td>\n",
       "      <td>NaN</td>\n",
       "      <td>nan</td>\n",
       "      <td>nan</td>\n",
       "      <td>nan</td>\n",
       "      <td>300.00</td>\n",
       "      <td>16.00</td>\n",
       "      <td>7.00</td>\n",
       "      <td>20.00</td>\n",
       "    </tr>\n",
       "    <tr>\n",
       "      <th>145</th>\n",
       "      <td>56139431d72cd51f19eb9f7dae4d1617</td>\n",
       "      <td>NaN</td>\n",
       "      <td>nan</td>\n",
       "      <td>nan</td>\n",
       "      <td>nan</td>\n",
       "      <td>200.00</td>\n",
       "      <td>20.00</td>\n",
       "      <td>20.00</td>\n",
       "      <td>20.00</td>\n",
       "    </tr>\n",
       "    <tr>\n",
       "      <th>154</th>\n",
       "      <td>46b48281eb6d663ced748f324108c733</td>\n",
       "      <td>NaN</td>\n",
       "      <td>nan</td>\n",
       "      <td>nan</td>\n",
       "      <td>nan</td>\n",
       "      <td>18500.00</td>\n",
       "      <td>41.00</td>\n",
       "      <td>30.00</td>\n",
       "      <td>41.00</td>\n",
       "    </tr>\n",
       "    <tr>\n",
       "      <th>197</th>\n",
       "      <td>5fb61f482620cb672f5e586bb132eae9</td>\n",
       "      <td>NaN</td>\n",
       "      <td>nan</td>\n",
       "      <td>nan</td>\n",
       "      <td>nan</td>\n",
       "      <td>300.00</td>\n",
       "      <td>35.00</td>\n",
       "      <td>7.00</td>\n",
       "      <td>12.00</td>\n",
       "    </tr>\n",
       "  </tbody>\n",
       "</table>\n",
       "</div>"
      ],
      "text/plain": [
       "                           product_id product_category_name  \\\n",
       "105  a41e356c76fab66334f36de622ecbd3a                   NaN   \n",
       "128  d8dee61c2034d6d075997acef1870e9b                   NaN   \n",
       "145  56139431d72cd51f19eb9f7dae4d1617                   NaN   \n",
       "154  46b48281eb6d663ced748f324108c733                   NaN   \n",
       "197  5fb61f482620cb672f5e586bb132eae9                   NaN   \n",
       "\n",
       "     product_name_lenght  product_description_lenght  product_photos_qty  \\\n",
       "105                  nan                         nan                 nan   \n",
       "128                  nan                         nan                 nan   \n",
       "145                  nan                         nan                 nan   \n",
       "154                  nan                         nan                 nan   \n",
       "197                  nan                         nan                 nan   \n",
       "\n",
       "     product_weight_g  product_length_cm  product_height_cm  product_width_cm  \n",
       "105            650.00              17.00              14.00             12.00  \n",
       "128            300.00              16.00               7.00             20.00  \n",
       "145            200.00              20.00              20.00             20.00  \n",
       "154          18500.00              41.00              30.00             41.00  \n",
       "197            300.00              35.00               7.00             12.00  "
      ]
     },
     "execution_count": 36,
     "metadata": {},
     "output_type": "execute_result"
    }
   ],
   "source": [
    "products[products['product_category_name'].isna()].head()\n"
   ]
  },
  {
   "cell_type": "code",
   "execution_count": 37,
   "metadata": {},
   "outputs": [
    {
     "data": {
      "text/plain": [
       "cama_mesa_banho          9.37\n",
       "esporte_lazer           18.23\n",
       "moveis_decoracao        26.45\n",
       "beleza_saude            34.00\n",
       "utilidades_domesticas   41.22\n",
       "Name: product_category_name, dtype: float64"
      ]
     },
     "execution_count": 37,
     "metadata": {},
     "output_type": "execute_result"
    }
   ],
   "source": [
    "products['product_category_name'].value_counts(\n",
    "    normalize=True).cumsum().head()*100\n"
   ]
  },
  {
   "cell_type": "code",
   "execution_count": 38,
   "metadata": {},
   "outputs": [
    {
     "data": {
      "text/plain": [
       "casa_conforto_2                 0.02\n",
       "fashion_roupa_infanto_juvenil   0.02\n",
       "pc_gamer                        0.01\n",
       "seguros_e_servicos              0.01\n",
       "cds_dvds_musicais               0.00\n",
       "Name: product_category_name, dtype: float64"
      ]
     },
     "execution_count": 38,
     "metadata": {},
     "output_type": "execute_result"
    }
   ],
   "source": [
    "products['product_category_name'].value_counts(normalize=True).tail()*100\n"
   ]
  },
  {
   "cell_type": "markdown",
   "metadata": {},
   "source": [
    "#### Qualité des données 'products'\n",
    "\n",
    "- 2% des produits n'ont pas de catégorie ni description\n",
    "- 73 catégories differents, 5 catégories contient 40% des produits\n",
    "- peut-être vaut le coup de cluster les catégories des produits?\n"
   ]
  },
  {
   "cell_type": "markdown",
   "metadata": {},
   "source": [
    "### Sellers\n",
    "\n"
   ]
  },
  {
   "cell_type": "code",
   "execution_count": 39,
   "metadata": {},
   "outputs": [
    {
     "name": "stdout",
     "output_type": "stream",
     "text": [
      "3095 registres\n"
     ]
    },
    {
     "data": {
      "text/html": [
       "<div>\n",
       "<style scoped>\n",
       "    .dataframe tbody tr th:only-of-type {\n",
       "        vertical-align: middle;\n",
       "    }\n",
       "\n",
       "    .dataframe tbody tr th {\n",
       "        vertical-align: top;\n",
       "    }\n",
       "\n",
       "    .dataframe thead th {\n",
       "        text-align: right;\n",
       "    }\n",
       "</style>\n",
       "<table border=\"1\" class=\"dataframe\">\n",
       "  <thead>\n",
       "    <tr style=\"text-align: right;\">\n",
       "      <th></th>\n",
       "      <th>% manquantes</th>\n",
       "      <th>unique</th>\n",
       "      <th>dtype</th>\n",
       "      <th>min</th>\n",
       "      <th>max</th>\n",
       "      <th>std</th>\n",
       "    </tr>\n",
       "    <tr>\n",
       "      <th>column</th>\n",
       "      <th></th>\n",
       "      <th></th>\n",
       "      <th></th>\n",
       "      <th></th>\n",
       "      <th></th>\n",
       "      <th></th>\n",
       "    </tr>\n",
       "  </thead>\n",
       "  <tbody>\n",
       "    <tr>\n",
       "      <th>seller_id</th>\n",
       "      <td>0.00</td>\n",
       "      <td>3095</td>\n",
       "      <td>object</td>\n",
       "      <td>0015a82c2db000af6aaaf3ae2ecb0532</td>\n",
       "      <td>ffff564a4f9085cd26170f4732393726</td>\n",
       "      <td>nan</td>\n",
       "    </tr>\n",
       "    <tr>\n",
       "      <th>seller_zip_code_prefix</th>\n",
       "      <td>0.00</td>\n",
       "      <td>2246</td>\n",
       "      <td>int64</td>\n",
       "      <td>1001</td>\n",
       "      <td>99730</td>\n",
       "      <td>32713.45</td>\n",
       "    </tr>\n",
       "    <tr>\n",
       "      <th>seller_city</th>\n",
       "      <td>0.00</td>\n",
       "      <td>611</td>\n",
       "      <td>object</td>\n",
       "      <td>04482255</td>\n",
       "      <td>xaxim</td>\n",
       "      <td>nan</td>\n",
       "    </tr>\n",
       "    <tr>\n",
       "      <th>seller_state</th>\n",
       "      <td>0.00</td>\n",
       "      <td>23</td>\n",
       "      <td>object</td>\n",
       "      <td>AC</td>\n",
       "      <td>SP</td>\n",
       "      <td>nan</td>\n",
       "    </tr>\n",
       "  </tbody>\n",
       "</table>\n",
       "</div>"
      ],
      "text/plain": [
       "                        % manquantes  unique   dtype  \\\n",
       "column                                                 \n",
       "seller_id                       0.00    3095  object   \n",
       "seller_zip_code_prefix          0.00    2246   int64   \n",
       "seller_city                     0.00     611  object   \n",
       "seller_state                    0.00      23  object   \n",
       "\n",
       "                                                     min  \\\n",
       "column                                                     \n",
       "seller_id               0015a82c2db000af6aaaf3ae2ecb0532   \n",
       "seller_zip_code_prefix                              1001   \n",
       "seller_city                                     04482255   \n",
       "seller_state                                          AC   \n",
       "\n",
       "                                                     max      std  \n",
       "column                                                             \n",
       "seller_id               ffff564a4f9085cd26170f4732393726      nan  \n",
       "seller_zip_code_prefix                             99730 32713.45  \n",
       "seller_city                                        xaxim      nan  \n",
       "seller_state                                          SP      nan  "
      ]
     },
     "execution_count": 39,
     "metadata": {},
     "output_type": "execute_result"
    }
   ],
   "source": [
    "decrire_dataframe(sellers)"
   ]
  },
  {
   "cell_type": "markdown",
   "metadata": {},
   "source": [
    "#### Qualité de données 'sellers'\n",
    "- aucune données manquantes\n",
    "- la ville n'est pas toujours une vraie ville\n",
    "- environ un vendeur pour chaque 25 commandes\n",
    "- besoin de merge avec geolocation pour savoir la localisation du vendeur"
   ]
  },
  {
   "cell_type": "markdown",
   "metadata": {},
   "source": [
    "## 2.4 Nettoyage des données\n",
    "\n",
    "### Fusionne des tables\n",
    "\n",
    "On essaie de fusionner (merge) les données de plusieurs tables, pour ensuite pouvoir génerer les indicateurs nécessaire pour segmentation.\n",
    "\n",
    "On fait la merge finale sur order_items"
   ]
  },
  {
   "cell_type": "markdown",
   "metadata": {},
   "source": [
    "#### Geolocation des clients"
   ]
  },
  {
   "cell_type": "code",
   "execution_count": 40,
   "metadata": {},
   "outputs": [
    {
     "data": {
      "text/plain": [
       "Text(0.5, 1.0, 'Localisation des clients')"
      ]
     },
     "execution_count": 40,
     "metadata": {},
     "output_type": "execute_result"
    },
    {
     "data": {
      "image/png": "[encoded data removed]",
      "text/plain": [
       "<Figure size 360x360 with 1 Axes>"
      ]
     },
     "metadata": {},
     "output_type": "display_data"
    }
   ],
   "source": [
    "geolocal=geoloc[['geolocation_zip_code_prefix','geolocation_lng','geolocation_lat']]\n",
    "geolocal.columns=['customer_zip_code_prefix','customer_lng','customer_lat']\n",
    "customers_geo = customers.merge(geolocal, on='customer_zip_code_prefix')\n",
    "plt.figure(figsize=(5,5))\n",
    "sns.scatterplot(data=customers_geo,x='customer_lng', y='customer_lat', hue='customer_state')\n",
    "plt.legend(title='Etat', bbox_to_anchor=(1.5, 0.5), loc=5, ncol=2)\n",
    "plt.title('Localisation des clients', fontsize=14)"
   ]
  },
  {
   "cell_type": "markdown",
   "metadata": {},
   "source": [
    "#### Geolocation des vendeurs"
   ]
  },
  {
   "cell_type": "code",
   "execution_count": 41,
   "metadata": {},
   "outputs": [
    {
     "data": {
      "text/plain": [
       "Text(0.5, 1.0, 'Localisation des vendeurs')"
      ]
     },
     "execution_count": 41,
     "metadata": {},
     "output_type": "execute_result"
    },
    {
     "data": {
      "image/png": "[encoded data removed]",
      "text/plain": [
       "<Figure size 360x360 with 1 Axes>"
      ]
     },
     "metadata": {},
     "output_type": "display_data"
    }
   ],
   "source": [
    "geolocal.columns=['seller_zip_code_prefix','seller_lng','seller_lat']\n",
    "sellers_geo = sellers.merge(geolocal, on='seller_zip_code_prefix')\n",
    "plt.figure(figsize=(5,5))\n",
    "sns.scatterplot(data=sellers_geo,x='seller_lng', y='seller_lat', hue='seller_state')\n",
    "plt.legend(title='Etat', bbox_to_anchor=(1.5, 0.5), loc=5, ncol=2)\n",
    "plt.title('Localisation des vendeurs', fontsize=14)"
   ]
  },
  {
   "cell_type": "markdown",
   "metadata": {},
   "source": [
    "# 3. Analyse Exploratoire\n"
   ]
  },
  {
   "cell_type": "markdown",
   "metadata": {},
   "source": [
    "## 3.1 Données numériques\n"
   ]
  },
  {
   "cell_type": "markdown",
   "metadata": {},
   "source": [
    "## 3.2 Données catégoriques\n"
   ]
  },
  {
   "cell_type": "markdown",
   "metadata": {},
   "source": [
    "## 3.3 Associations entre variables catégoriques et numériques\n"
   ]
  },
  {
   "cell_type": "markdown",
   "metadata": {},
   "source": [
    "# 4. Feature Engineering\n"
   ]
  },
  {
   "cell_type": "markdown",
   "metadata": {},
   "source": [
    "## 4.1 Nouvelles 'features' catégoriques\n"
   ]
  },
  {
   "cell_type": "markdown",
   "metadata": {},
   "source": [
    "## 4.2 Nouvelles 'features' numériques\n"
   ]
  },
  {
   "cell_type": "markdown",
   "metadata": {},
   "source": [
    "## 4.3 Pipeline de Feature Engineering\n"
   ]
  },
  {
   "cell_type": "markdown",
   "metadata": {},
   "source": [
    "# 5. Enregistrement des données nettoyées\n"
   ]
  },
  {
   "cell_type": "markdown",
   "metadata": {},
   "source": [
    "## 5.1 Sommaire des données nettoyées\n"
   ]
  }
 ],
 "metadata": {
  "interpreter": {
   "hash": "08f54268de9884c973a82c2c5267bbf1de8fae7577a142dd199c5c3f90c0dd65"
  },
  "kernelspec": {
   "display_name": "Python 3.7.0 ('OC_3')",
   "language": "python",
   "name": "python3"
  },
  "language_info": {
   "codemirror_mode": {
    "name": "ipython",
    "version": 3
   },
   "file_extension": ".py",
   "mimetype": "text/x-python",
   "name": "python",
   "nbconvert_exporter": "python",
   "pygments_lexer": "ipython3",
   "version": "3.7.0"
  },
  "orig_nbformat": 4
 },
 "nbformat": 4,
 "nbformat_minor": 2
}
