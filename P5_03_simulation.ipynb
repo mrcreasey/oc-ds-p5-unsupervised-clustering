{
 "cells": [
  {
   "cell_type": "markdown",
   "metadata": {},
   "source": [
    "# Segmentez des clients d'un site e-commerce\n",
    "\n",
    "- **Projet 5 du parcours « Data Scientist » d’OpenClassrooms**\n",
    "- **Mark Creasey**\n",
    "\n",
    "## Partie 3 : Simulation de la stabilité des segments au cours du temps\n",
    "\n",
    "<img  width=\"76\" height=\"30\" src=\"https://olist.com/wp-custom/themes/olist20/assets/img/brand.svg\" alt=\"Logo olist\">\n"
   ]
  },
  {
   "cell_type": "markdown",
   "metadata": {},
   "source": [
    "## 1.2 Rappel de la mission\n",
    "\n",
    "[Olist](https://olist.com/), une entreprise brésilienne qui propose une solution de vente sur les\n",
    "marketplaces en ligne, souhaite une **segmentation des clients** que ses équipes d'e-commerce pourront\n",
    "utiliser au quotidien pour leurs campagnes de communication.\n",
    "\n",
    "- **comprendre les différents types d'utilisateurs**, grâce à leur comportement et à leurs données\n",
    "  personnelles, en regroupant des clients de profils similaires. Ces catégories pourront être\n",
    "  utilisées par l’équipe Marketing pour mieux communiquer.\n",
    "\n",
    "- **fournir à l’équipe marketing une description actionable** de votre segmentation et de sa logique\n",
    "  sous-jacente pour une utilisation optimale\n",
    "\n",
    "- **une proposition de contrat de maintenance**, (fréquence à laquelle la segmentation doit être\n",
    "  mise à jour pour rester pertinente), basée sur une analyse de la stabilité des segments au cours\n",
    "  du temps.\n"
   ]
  },
  {
   "cell_type": "markdown",
   "metadata": {},
   "source": [
    "## 1.2 Requirements : Bibliothèques utilisées dans ce notebook\n",
    "\n",
    "- voir [`requirements.txt`](./requirements.txt) pour les versions des bibliothèques testées avec ce notebook\n"
   ]
  },
  {
   "cell_type": "code",
   "execution_count": 1,
   "metadata": {},
   "outputs": [],
   "source": [
    "# si ce notebook ne marche pas avec les versions\n",
    "# des bibliothèques dans votre environnement, alors\n",
    "# decommentarise la ligne suivant pour des versions testées:\n",
    "\n",
    "# %pip install -r requirements.txt\n"
   ]
  },
  {
   "cell_type": "code",
   "execution_count": 2,
   "metadata": {},
   "outputs": [],
   "source": [
    "def install_libraries(required={}) -> None:\n",
    "    \"\"\"\n",
    "    Installation des bibliothèques manquantes\n",
    "    https://stackoverflow.com/questions/44210656/\n",
    "    \"\"\"\n",
    "    import sys\n",
    "    import subprocess\n",
    "    import pkg_resources\n",
    "    installed = {pkg.key for pkg in pkg_resources.working_set}\n",
    "    missing = set(required) - set(installed)\n",
    "    if missing:\n",
    "        print(f'missing libraries: {missing}')\n",
    "        python = sys.executable\n",
    "        subprocess.check_call([python, '-m', 'pip', 'install', *missing],\n",
    "                              stdout=subprocess.DEVNULL)\n",
    "\n",
    "\n",
    "required_libraries = {'numpy', 'pandas', 'matplotlib', 'seaborn',\n",
    "                      'scipy', 'scikit-learn', 'statsmodels',\n",
    "                      'missingno', 'dython', 'squarify', 'yellowbrick', 'plotly'}\n",
    "install_libraries(required_libraries)\n"
   ]
  },
  {
   "cell_type": "markdown",
   "metadata": {},
   "source": [
    "### 1.2.1 Import des bibliothèques\n"
   ]
  },
  {
   "cell_type": "code",
   "execution_count": 3,
   "metadata": {},
   "outputs": [],
   "source": [
    "import os\n",
    "import numpy as np\n",
    "import pandas as pd\n",
    "import matplotlib.pyplot as plt\n",
    "import seaborn as sns\n",
    "import scipy\n",
    "import missingno as msno\n",
    "import sklearn\n",
    "import dython\n",
    "import squarify\n",
    "import plotly.express as px\n",
    "import warnings\n",
    "warnings.simplefilter(action='ignore', category=FutureWarning)\n"
   ]
  },
  {
   "cell_type": "markdown",
   "metadata": {},
   "source": [
    "### 1.2.2 Liste des versions des bibliothèques utilisées\n"
   ]
  },
  {
   "cell_type": "code",
   "execution_count": 4,
   "metadata": {},
   "outputs": [
    {
     "name": "stdout",
     "output_type": "stream",
     "text": [
      "versions des bibliothèques utilisées:\n",
      "numpy==1.21.5; pandas==1.1.5; seaborn==0.11.2; scipy==1.7.3; missingno==0.5.0; sklearn==1.0.2; dython==0.6.8\n"
     ]
    }
   ],
   "source": [
    "from platform import python_version\n",
    "\n",
    "python_version()\n",
    "print('versions des bibliothèques utilisées:')\n",
    "print('; '.join(f'{m.__name__}=={m.__version__}' for m in globals(\n",
    ").values() if getattr(m, '__version__', None)))\n"
   ]
  },
  {
   "cell_type": "markdown",
   "metadata": {},
   "source": [
    "### 1.2.3 Configuration défauts d'affichage\n"
   ]
  },
  {
   "cell_type": "code",
   "execution_count": 5,
   "metadata": {},
   "outputs": [],
   "source": [
    "from sklearn import set_config\n",
    "pd.set_option('display.max_columns', 200)  # pour afficher toutes les colonnes\n",
    "pd.set_option('display.max_rows', 20)  # pour afficher max 10 lignes\n",
    "pd.set_option('display.max_colwidth', 800)  # pour afficher toutes la text\n",
    "pd.set_option('display.precision', 2)\n",
    "pd.options.display.float_format = '{:.2f}'.format  # currency, lat,lng\n",
    "\n",
    "%matplotlib inline\n",
    "sns.set_theme(style=\"white\", context=\"notebook\")\n",
    "sns.set_color_codes(\"pastel\")\n",
    "sns.set_palette(\"tab10\")\n",
    "\n",
    "set_config(display='diagram')\n",
    "# displays HTML representation in a jupyter context\n",
    "\n",
    "# Set random_state pour réproduire les resultats\n",
    "# Pour des resultats différents sur chaque execution, set RANDOM_STATE=None\n",
    "\n",
    "RANDOM_STATE = 0\n"
   ]
  },
  {
   "cell_type": "markdown",
   "metadata": {},
   "source": [
    "## 1.3 Des fonctions utilitaires\n",
    "\n",
    "### 1.3.1 Enregistrement des graphiques\n",
    "\n",
    "Pour enregistrer les graphiques, define **`SAVE_IMAGES = True`**\n"
   ]
  },
  {
   "cell_type": "code",
   "execution_count": 6,
   "metadata": {},
   "outputs": [],
   "source": [
    "SAVE_IMAGES = True\n",
    "IMAGE_FOLDER = './images/simulation'\n",
    "if not os.path.exists(IMAGE_FOLDER):\n",
    "    os.makedirs(IMAGE_FOLDER)\n"
   ]
  },
  {
   "cell_type": "code",
   "execution_count": 7,
   "metadata": {},
   "outputs": [],
   "source": [
    "def to_png(fig_name=None) -> None:\n",
    "    \"\"\"\n",
    "    Enregistre l'image dans un fichier,\n",
    "    il faut appeler avant plt.show() pour pouvoir ajuster la taille de l'image\n",
    "    avec bbox_inches=tight pour être sûr d'inclure le titre / legend entier.\n",
    "    \"\"\"\n",
    "\n",
    "    def get_title():\n",
    "        if plt.gcf()._suptitle is None:  # noqa\n",
    "            return plt.gca().get_title()\n",
    "        else:\n",
    "            return plt.gcf()._suptitle.get_text()  # noqa\n",
    "\n",
    "    if SAVE_IMAGES:\n",
    "        if fig_name is None:\n",
    "            fig_name = get_title()\n",
    "        elif len(fig_name) < 9:\n",
    "            fig_name = f'{fig_name}_{get_title()}'\n",
    "        fig_name = fig_name.replace(' ', '_').replace(':', '-').replace(\n",
    "            '.', '-').replace('/', '_').replace('>', 'gt.').replace('<', 'lt.')\n",
    "        print(f'\"{fig_name}.png\"')\n",
    "        plt.gcf().savefig(\n",
    "            f'{IMAGE_FOLDER}/{fig_name}.png', bbox_inches='tight')\n"
   ]
  },
  {
   "cell_type": "markdown",
   "metadata": {},
   "source": [
    "### 1.3.2 Vérifier que les colonnes sont dans le dataframe\n",
    "\n",
    "- sans changer l'ordre des colonnes\n"
   ]
  },
  {
   "cell_type": "code",
   "execution_count": 8,
   "metadata": {},
   "outputs": [],
   "source": [
    "def cols_in_df(df: pd.DataFrame, colonnes: list = None) -> list:\n",
    "    \"\"\"Procedure pour retourner les colonnes existantes dans le dataframe dans la même ordre.\n",
    "    Utiliser pour assurer que les colonnes existe.\n",
    "    \"\"\"\n",
    "    ret_cols = []\n",
    "    for col in colonnes:\n",
    "        if col in df.columns:\n",
    "            ret_cols.append(col)\n",
    "    return ret_cols\n"
   ]
  },
  {
   "cell_type": "markdown",
   "metadata": {},
   "source": [
    "### 1.3.3 Constants\n"
   ]
  },
  {
   "cell_type": "code",
   "execution_count": 9,
   "metadata": {},
   "outputs": [],
   "source": [
    "CLUSTER_COL='cluster_id'"
   ]
  },
  {
   "cell_type": "markdown",
   "metadata": {},
   "source": [
    "# 2. Evaluation de la stabilité\n",
    "\n",
    "- L’objectif est de déterminer au bout de **combien de temps**\n",
    "\n",
    "  - le modèle de clustering entraîné initialement proposé (donc « fit ») devient obsolète\n",
    "  - (quand les prédictions, « predict », ne sont plus pertinentes),\n",
    "  - nécessitant d’entraîner un nouveau modèle de clustering.\n",
    "\n",
    "- Il s’agit de comparer\n",
    "\n",
    "  - les numéros de clusters à t1 du fichier F1, selon que l’on utilise le modèle initial créé à\n",
    "    t0(M0) via un « predict », ou le modèle créé à t1 via un « fit ».\n",
    "\n",
    "- Il s’agit donc :\n",
    "  - de simuler plusieurs périodes t1, T2 à Tt, et\n",
    "  - d’afficher l’évolution de l’ARI.\n",
    "- Si l’ARI passe en dessous de 0.8 (correspond environ à 0,9 en accuracy)\n",
    "  - il est sûrement pertinent de reproposer un entraînement de modèle au client.\n"
   ]
  },
  {
   "cell_type": "markdown",
   "metadata": {},
   "source": [
    "### Step 1: Les périods de temps\n"
   ]
  },
  {
   "cell_type": "code",
   "execution_count": 10,
   "metadata": {},
   "outputs": [
    {
     "data": {
      "text/html": [
       "<div>\n",
       "<style scoped>\n",
       "    .dataframe tbody tr th:only-of-type {\n",
       "        vertical-align: middle;\n",
       "    }\n",
       "\n",
       "    .dataframe tbody tr th {\n",
       "        vertical-align: top;\n",
       "    }\n",
       "\n",
       "    .dataframe thead th {\n",
       "        text-align: right;\n",
       "    }\n",
       "</style>\n",
       "<table border=\"1\" class=\"dataframe\">\n",
       "  <thead>\n",
       "    <tr style=\"text-align: right;\">\n",
       "      <th></th>\n",
       "      <th>customer_unique_id</th>\n",
       "      <th>dernier_achat</th>\n",
       "      <th>Frequency</th>\n",
       "      <th>MonetaryValue</th>\n",
       "      <th>Recency</th>\n",
       "      <th>mean_nb_payments</th>\n",
       "      <th>review_score</th>\n",
       "      <th>delivery_time</th>\n",
       "      <th>delivery_delay</th>\n",
       "      <th>distance_customer_seller</th>\n",
       "      <th>freight_percent</th>\n",
       "      <th>payment_mode</th>\n",
       "      <th>favourite_category</th>\n",
       "      <th>time_of_day</th>\n",
       "      <th>weekday</th>\n",
       "      <th>products_per_order</th>\n",
       "    </tr>\n",
       "  </thead>\n",
       "  <tbody>\n",
       "    <tr>\n",
       "      <th>0</th>\n",
       "      <td>0000366f3b9a7992bf8c76cfdf3221e2</td>\n",
       "      <td>2018-05-10 10:56:27</td>\n",
       "      <td>1</td>\n",
       "      <td>141.90</td>\n",
       "      <td>160</td>\n",
       "      <td>8.00</td>\n",
       "      <td>5.00</td>\n",
       "      <td>6.00</td>\n",
       "      <td>-4.00</td>\n",
       "      <td>110.59</td>\n",
       "      <td>0.08</td>\n",
       "      <td>credit_card</td>\n",
       "      <td>bed_bath</td>\n",
       "      <td>10.00</td>\n",
       "      <td>3.00</td>\n",
       "      <td>1.00</td>\n",
       "    </tr>\n",
       "    <tr>\n",
       "      <th>1</th>\n",
       "      <td>0000b849f77a49e4a4ce2b2a4ca5be3f</td>\n",
       "      <td>2018-05-07 11:11:27</td>\n",
       "      <td>1</td>\n",
       "      <td>27.19</td>\n",
       "      <td>163</td>\n",
       "      <td>1.00</td>\n",
       "      <td>4.00</td>\n",
       "      <td>3.00</td>\n",
       "      <td>-4.00</td>\n",
       "      <td>22.19</td>\n",
       "      <td>0.30</td>\n",
       "      <td>credit_card</td>\n",
       "      <td>health_parfum</td>\n",
       "      <td>11.00</td>\n",
       "      <td>0.00</td>\n",
       "      <td>1.00</td>\n",
       "    </tr>\n",
       "    <tr>\n",
       "      <th>2</th>\n",
       "      <td>0000f46a3911fa3c0805444483337064</td>\n",
       "      <td>2017-03-10 21:05:03</td>\n",
       "      <td>1</td>\n",
       "      <td>86.22</td>\n",
       "      <td>585</td>\n",
       "      <td>8.00</td>\n",
       "      <td>3.00</td>\n",
       "      <td>25.00</td>\n",
       "      <td>-2.00</td>\n",
       "      <td>516.69</td>\n",
       "      <td>0.20</td>\n",
       "      <td>credit_card</td>\n",
       "      <td>office_tech</td>\n",
       "      <td>21.00</td>\n",
       "      <td>4.00</td>\n",
       "      <td>1.00</td>\n",
       "    </tr>\n",
       "    <tr>\n",
       "      <th>3</th>\n",
       "      <td>0000f6ccb0745a6a4b88665a16c9f078</td>\n",
       "      <td>2017-10-12 20:29:41</td>\n",
       "      <td>1</td>\n",
       "      <td>43.62</td>\n",
       "      <td>369</td>\n",
       "      <td>4.00</td>\n",
       "      <td>4.00</td>\n",
       "      <td>20.00</td>\n",
       "      <td>-11.00</td>\n",
       "      <td>2480.13</td>\n",
       "      <td>0.40</td>\n",
       "      <td>credit_card</td>\n",
       "      <td>office_tech</td>\n",
       "      <td>20.00</td>\n",
       "      <td>3.00</td>\n",
       "      <td>1.00</td>\n",
       "    </tr>\n",
       "    <tr>\n",
       "      <th>4</th>\n",
       "      <td>0004aac84e0df4da2b147fca70cf8255</td>\n",
       "      <td>2017-11-14 19:45:42</td>\n",
       "      <td>1</td>\n",
       "      <td>196.89</td>\n",
       "      <td>336</td>\n",
       "      <td>6.00</td>\n",
       "      <td>5.00</td>\n",
       "      <td>13.00</td>\n",
       "      <td>-7.00</td>\n",
       "      <td>154.40</td>\n",
       "      <td>0.09</td>\n",
       "      <td>credit_card</td>\n",
       "      <td>office_tech</td>\n",
       "      <td>19.00</td>\n",
       "      <td>1.00</td>\n",
       "      <td>1.00</td>\n",
       "    </tr>\n",
       "  </tbody>\n",
       "</table>\n",
       "</div>"
      ],
      "text/plain": [
       "                 customer_unique_id        dernier_achat  Frequency  \\\n",
       "0  0000366f3b9a7992bf8c76cfdf3221e2  2018-05-10 10:56:27          1   \n",
       "1  0000b849f77a49e4a4ce2b2a4ca5be3f  2018-05-07 11:11:27          1   \n",
       "2  0000f46a3911fa3c0805444483337064  2017-03-10 21:05:03          1   \n",
       "3  0000f6ccb0745a6a4b88665a16c9f078  2017-10-12 20:29:41          1   \n",
       "4  0004aac84e0df4da2b147fca70cf8255  2017-11-14 19:45:42          1   \n",
       "\n",
       "   MonetaryValue  Recency  mean_nb_payments  review_score  delivery_time  \\\n",
       "0         141.90      160              8.00          5.00           6.00   \n",
       "1          27.19      163              1.00          4.00           3.00   \n",
       "2          86.22      585              8.00          3.00          25.00   \n",
       "3          43.62      369              4.00          4.00          20.00   \n",
       "4         196.89      336              6.00          5.00          13.00   \n",
       "\n",
       "   delivery_delay  distance_customer_seller  freight_percent payment_mode  \\\n",
       "0           -4.00                    110.59             0.08  credit_card   \n",
       "1           -4.00                     22.19             0.30  credit_card   \n",
       "2           -2.00                    516.69             0.20  credit_card   \n",
       "3          -11.00                   2480.13             0.40  credit_card   \n",
       "4           -7.00                    154.40             0.09  credit_card   \n",
       "\n",
       "  favourite_category  time_of_day  weekday  products_per_order  \n",
       "0           bed_bath        10.00     3.00                1.00  \n",
       "1      health_parfum        11.00     0.00                1.00  \n",
       "2        office_tech        21.00     4.00                1.00  \n",
       "3        office_tech        20.00     3.00                1.00  \n",
       "4        office_tech        19.00     1.00                1.00  "
      ]
     },
     "execution_count": 10,
     "metadata": {},
     "output_type": "execute_result"
    }
   ],
   "source": [
    "OUT_DIR = 'data/out'\n",
    "df_clients = pd.read_csv(f'{OUT_DIR}/clients.csv')\n",
    "df_clients.head()\n"
   ]
  },
  {
   "cell_type": "code",
   "execution_count": 11,
   "metadata": {},
   "outputs": [
    {
     "name": "stdout",
     "output_type": "stream",
     "text": [
      "2016-10-03 16:56:50\n",
      "2018-08-29 15:00:37\n",
      "object\n"
     ]
    }
   ],
   "source": [
    "print(df_clients['dernier_achat'].min())\n",
    "print(df_clients['dernier_achat'].max())\n",
    "print(df_clients['dernier_achat'].dtype)\n"
   ]
  },
  {
   "cell_type": "code",
   "execution_count": 12,
   "metadata": {},
   "outputs": [
    {
     "name": "stdout",
     "output_type": "stream",
     "text": [
      "datetime64[ns]\n"
     ]
    }
   ],
   "source": [
    "df_clients['dernier_achat'] = pd.to_datetime(df_clients['dernier_achat'])\n",
    "print(df_clients['dernier_achat'].dtype)\n"
   ]
  },
  {
   "cell_type": "code",
   "execution_count": 13,
   "metadata": {},
   "outputs": [
    {
     "data": {
      "image/png": "[encoded data removed]",
      "text/plain": [
       "<Figure size 432x288 with 1 Axes>"
      ]
     },
     "metadata": {},
     "output_type": "display_data"
    }
   ],
   "source": [
    "df_clients['date'] = df_clients['dernier_achat'].dt.date\n",
    "df_clients.groupby('date')['customer_unique_id'].count().plot(kind='line')\n",
    "plt.xticks(rotation=90)\n",
    "plt.show()\n"
   ]
  },
  {
   "cell_type": "code",
   "execution_count": 14,
   "metadata": {},
   "outputs": [
    {
     "data": {
      "image/png": "[encoded data removed]",
      "text/plain": [
       "<Figure size 432x288 with 1 Axes>"
      ]
     },
     "metadata": {},
     "output_type": "display_data"
    }
   ],
   "source": [
    "df_clients['year_month'] = df_clients['dernier_achat'].dt.strftime('%Y_%m')\n",
    "df_clients.groupby('year_month')['customer_unique_id'].count().plot(kind='bar')\n",
    "plt.xticks(rotation=90)\n",
    "plt.show()"
   ]
  },
  {
   "cell_type": "markdown",
   "metadata": {},
   "source": [
    "Les données entières sont disponibles pour 18 mois, du 01/01/2017 à 01/08/2018 (données avant janvier 2017 sont trop éparses; données d'aout 2018 ne sont pas complets car il y a les achats pas encore livrés)\n",
    "\n",
    "On va comparer des prévisions basé sur 12 mois de données, pour minimiser les fluctuations sasonales\n",
    "\n",
    "Pour éviter l'influence des outliers sur les prévisions, on va utiliser l'isolation forest pour les éxclure de fit de clustering.\n"
   ]
  },
  {
   "cell_type": "markdown",
   "metadata": {},
   "source": [
    "\n",
    "## Evaluation de **la stabilité des clusters**\n",
    "\n",
    "Pour la stabilité des clusters, on va comparer les _**fitted clusters à t(0)**_ de **données t0: de 01/08/2017 à 01/08/2018** avec les _**fitted clusters à t(N mois)**_ des données annuelles à 1, 3 ou 6 mois posterieurs:\n",
    "\n",
    "- **predict_t0** = model_t0.fit(t0).labels_ : clusters à 01/02/2018 (basé sur 12 mois de **données t6 de 01/02/2017 à 01/02/2018**)\n",
    "- **predict_t1** = model_t1.fit(t1).labels_ : clusters à 01/03/2018 (basé sur 12 mois de **données t1 de 01/03/2017 à 01/03/2018**)\n",
    "- **predict_t3** = model_t3.fit(t3).labels_ : clusters à 01/05/2018 (basé sur 12 mois de **données t3 de 01/05/2017 à 01/05/2018**)\n",
    "- **predict_t6** = model_t6.fit(t6).labels_ : clusters à 01/08/2018 (basé sur 12 mois de **données t6 de 01/08/2017 à 01/08/2018**)\n"
   ]
  },
  {
   "cell_type": "markdown",
   "metadata": {},
   "source": [
    "#### Set index to customer_unique_id\n"
   ]
  },
  {
   "cell_type": "code",
   "execution_count": 15,
   "metadata": {},
   "outputs": [],
   "source": [
    "df_clients = df_clients.set_index('customer_unique_id')\n"
   ]
  },
  {
   "cell_type": "code",
   "execution_count": 16,
   "metadata": {},
   "outputs": [
    {
     "name": "stdout",
     "output_type": "stream",
     "text": [
      "t0 : 01-02-2017\n",
      "t1 : 01-03-2017\n",
      "t2 : 01-04-2017\n",
      "t3 : 01-05-2017\n",
      "t4 : 01-06-2017\n",
      "t5 : 01-07-2017\n",
      "t6 : 01-08-2017\n"
     ]
    }
   ],
   "source": [
    "from datetime import datetime\n",
    "# t0\n",
    "START_DATE: datetime = pd.to_datetime('01/02/2017', format='%d/%m/%Y')\n",
    "\n",
    "def one_year_dataset(df, start_date=START_DATE, nom_col='t0', date_col='dernier_achat'):\n",
    "    end_date = start_date.replace(year=start_date.year+1)\n",
    "    # print(f'data from {start_date:%d-%m-%Y} to {end_date:%d-%m-%Y}')\n",
    "    df=df.copy()\n",
    "    df[nom_col] = ((df[date_col] > start_date) & (df[date_col] < end_date))\n",
    "    return df\n",
    "\n",
    "dates={}\n",
    "for i in range(0,7):\n",
    "    dates[f't{i}']=START_DATE+ pd.DateOffset(months=i)\n",
    "\n",
    "for key in dates:\n",
    "    print(f'{key} : {dates[key]:%d-%m-%Y}')\n"
   ]
  },
  {
   "cell_type": "code",
   "execution_count": 17,
   "metadata": {},
   "outputs": [
    {
     "name": "stdout",
     "output_type": "stream",
     "text": [
      "t0 : from 01-02-2017 to 31-01-2018\n",
      "t1 : from 01-03-2017 to 28-02-2018\n",
      "t2 : from 01-04-2017 to 31-03-2018\n",
      "t3 : from 01-05-2017 to 30-04-2018\n",
      "t4 : from 01-06-2017 to 31-05-2018\n",
      "t5 : from 01-07-2017 to 30-06-2018\n",
      "t6 : from 01-08-2017 to 31-07-2018\n"
     ]
    },
    {
     "data": {
      "text/html": [
       "<div>\n",
       "<style scoped>\n",
       "    .dataframe tbody tr th:only-of-type {\n",
       "        vertical-align: middle;\n",
       "    }\n",
       "\n",
       "    .dataframe tbody tr th {\n",
       "        vertical-align: top;\n",
       "    }\n",
       "\n",
       "    .dataframe thead th {\n",
       "        text-align: right;\n",
       "    }\n",
       "</style>\n",
       "<table border=\"1\" class=\"dataframe\">\n",
       "  <thead>\n",
       "    <tr style=\"text-align: right;\">\n",
       "      <th></th>\n",
       "      <th>dernier_achat</th>\n",
       "      <th>t0</th>\n",
       "      <th>t1</th>\n",
       "      <th>t2</th>\n",
       "      <th>t3</th>\n",
       "      <th>t4</th>\n",
       "      <th>t5</th>\n",
       "      <th>t6</th>\n",
       "    </tr>\n",
       "    <tr>\n",
       "      <th>customer_unique_id</th>\n",
       "      <th></th>\n",
       "      <th></th>\n",
       "      <th></th>\n",
       "      <th></th>\n",
       "      <th></th>\n",
       "      <th></th>\n",
       "      <th></th>\n",
       "      <th></th>\n",
       "    </tr>\n",
       "  </thead>\n",
       "  <tbody>\n",
       "    <tr>\n",
       "      <th>0000366f3b9a7992bf8c76cfdf3221e2</th>\n",
       "      <td>2018-05-10 10:56:27</td>\n",
       "      <td>False</td>\n",
       "      <td>False</td>\n",
       "      <td>False</td>\n",
       "      <td>False</td>\n",
       "      <td>True</td>\n",
       "      <td>True</td>\n",
       "      <td>True</td>\n",
       "    </tr>\n",
       "    <tr>\n",
       "      <th>0000b849f77a49e4a4ce2b2a4ca5be3f</th>\n",
       "      <td>2018-05-07 11:11:27</td>\n",
       "      <td>False</td>\n",
       "      <td>False</td>\n",
       "      <td>False</td>\n",
       "      <td>False</td>\n",
       "      <td>True</td>\n",
       "      <td>True</td>\n",
       "      <td>True</td>\n",
       "    </tr>\n",
       "    <tr>\n",
       "      <th>0000f46a3911fa3c0805444483337064</th>\n",
       "      <td>2017-03-10 21:05:03</td>\n",
       "      <td>True</td>\n",
       "      <td>True</td>\n",
       "      <td>False</td>\n",
       "      <td>False</td>\n",
       "      <td>False</td>\n",
       "      <td>False</td>\n",
       "      <td>False</td>\n",
       "    </tr>\n",
       "    <tr>\n",
       "      <th>0000f6ccb0745a6a4b88665a16c9f078</th>\n",
       "      <td>2017-10-12 20:29:41</td>\n",
       "      <td>True</td>\n",
       "      <td>True</td>\n",
       "      <td>True</td>\n",
       "      <td>True</td>\n",
       "      <td>True</td>\n",
       "      <td>True</td>\n",
       "      <td>True</td>\n",
       "    </tr>\n",
       "    <tr>\n",
       "      <th>0004aac84e0df4da2b147fca70cf8255</th>\n",
       "      <td>2017-11-14 19:45:42</td>\n",
       "      <td>True</td>\n",
       "      <td>True</td>\n",
       "      <td>True</td>\n",
       "      <td>True</td>\n",
       "      <td>True</td>\n",
       "      <td>True</td>\n",
       "      <td>True</td>\n",
       "    </tr>\n",
       "  </tbody>\n",
       "</table>\n",
       "</div>"
      ],
      "text/plain": [
       "                                       dernier_achat     t0     t1     t2  \\\n",
       "customer_unique_id                                                          \n",
       "0000366f3b9a7992bf8c76cfdf3221e2 2018-05-10 10:56:27  False  False  False   \n",
       "0000b849f77a49e4a4ce2b2a4ca5be3f 2018-05-07 11:11:27  False  False  False   \n",
       "0000f46a3911fa3c0805444483337064 2017-03-10 21:05:03   True   True  False   \n",
       "0000f6ccb0745a6a4b88665a16c9f078 2017-10-12 20:29:41   True   True   True   \n",
       "0004aac84e0df4da2b147fca70cf8255 2017-11-14 19:45:42   True   True   True   \n",
       "\n",
       "                                     t3     t4     t5     t6  \n",
       "customer_unique_id                                            \n",
       "0000366f3b9a7992bf8c76cfdf3221e2  False   True   True   True  \n",
       "0000b849f77a49e4a4ce2b2a4ca5be3f  False   True   True   True  \n",
       "0000f46a3911fa3c0805444483337064  False  False  False  False  \n",
       "0000f6ccb0745a6a4b88665a16c9f078   True   True   True   True  \n",
       "0004aac84e0df4da2b147fca70cf8255   True   True   True   True  "
      ]
     },
     "execution_count": 17,
     "metadata": {},
     "output_type": "execute_result"
    }
   ],
   "source": [
    "def create_date_filter_columns(df,startdates:dict=dates):\n",
    "    df=df.copy()\n",
    "    for key in startdates:\n",
    "        df=df.pipe(one_year_dataset,startdates[key],key)\n",
    "        dmin=df[df[key]]['dernier_achat'].min()\n",
    "        dmax=df[df[key]]['dernier_achat'].max()\n",
    "        print (f'{key} : from {dmin:%d-%m-%Y} to {dmax:%d-%m-%Y}')\n",
    "    return df\n",
    "\n",
    "df_clients= df_clients.pipe(create_date_filter_columns)\n",
    "\n",
    "selected_cols=['dernier_achat', *dates.keys()]\n",
    "\n",
    "df_clients[selected_cols].head()"
   ]
  },
  {
   "cell_type": "code",
   "execution_count": 18,
   "metadata": {},
   "outputs": [
    {
     "data": {
      "text/plain": [
       "t0    47286\n",
       "t1    51964\n",
       "t2    56334\n",
       "t3    60756\n",
       "t4    64027\n",
       "t5    67076\n",
       "t6    69449\n",
       "dtype: int64"
      ]
     },
     "execution_count": 18,
     "metadata": {},
     "output_type": "execute_result"
    }
   ],
   "source": [
    "date_cols=[*dates.keys()]\n",
    "df_clients[date_cols].sum()"
   ]
  },
  {
   "cell_type": "code",
   "execution_count": 19,
   "metadata": {},
   "outputs": [
    {
     "name": "stdout",
     "output_type": "stream",
     "text": [
      "92732\n",
      "47286\n",
      "51964\n",
      "45723\n"
     ]
    }
   ],
   "source": [
    "df_t0=df_clients[df_clients['t0']]\n",
    "df_t1=df_clients[df_clients['t1']]\n",
    "df_t0_t1=df_clients[df_clients['t0']&df_clients['t1']]\n",
    "print (len(df_clients))\n",
    "print (len(df_t0))\n",
    "print (len(df_t1))\n",
    "print (len(df_t0_t1))"
   ]
  },
  {
   "cell_type": "markdown",
   "metadata": {},
   "source": [
    "### Création de datasets séparés\n",
    "\n",
    "Pour faciliter l'évaluation de performance de chaque model, et pour lisibilité du code, on crée un copie de chaque dataset"
   ]
  },
  {
   "cell_type": "code",
   "execution_count": 20,
   "metadata": {},
   "outputs": [
    {
     "name": "stdout",
     "output_type": "stream",
     "text": [
      "t0.shape : (47286, 24)\n",
      "t1.shape : (51964, 24)\n",
      "t1.shape : (56334, 24)\n",
      "t3.shape : (60756, 24)\n",
      "t5.shape : (64027, 24)\n",
      "t5.shape : (67076, 24)\n",
      "t6.shape : (69449, 24)\n"
     ]
    }
   ],
   "source": [
    "def factory_one_year_dataset(df, start_date=START_DATE, date_col='dernier_achat'):\n",
    "    end_date = start_date.replace(year=start_date.year+1)\n",
    "    # print(f'data from {start_date:%d-%m-%Y} to {end_date:%d-%m-%Y}')\n",
    "    return df[(df[date_col] > start_date) & (df[date_col] < end_date)]\n",
    "\n",
    "\n",
    "df_t0 = factory_one_year_dataset(df_clients, START_DATE)\n",
    "print(f't0.shape : {df_t0.shape}')\n",
    "df_t1 = factory_one_year_dataset(df_clients, START_DATE + pd.DateOffset(months=1))\n",
    "print(f't1.shape : {df_t1.shape}')\n",
    "df_t2 = factory_one_year_dataset(df_clients, START_DATE + pd.DateOffset(months=2))\n",
    "print(f't1.shape : {df_t2.shape}')\n",
    "df_t3 = factory_one_year_dataset(df_clients, START_DATE + pd.DateOffset(months=3))\n",
    "print(f't3.shape : {df_t3.shape}')\n",
    "df_t4 = factory_one_year_dataset(df_clients, START_DATE + pd.DateOffset(months=4))\n",
    "print(f't5.shape : {df_t4.shape}')\n",
    "df_t5 = factory_one_year_dataset(df_clients, START_DATE + pd.DateOffset(months=5))\n",
    "print(f't5.shape : {df_t5.shape}')\n",
    "df_t6 = factory_one_year_dataset(df_clients, START_DATE + pd.DateOffset(months=6))\n",
    "print(f't6.shape : {df_t6.shape}')\n"
   ]
  },
  {
   "cell_type": "markdown",
   "metadata": {},
   "source": [
    "#### Nombre de clients commun entre les datasets\n"
   ]
  },
  {
   "cell_type": "code",
   "execution_count": 21,
   "metadata": {},
   "outputs": [
    {
     "data": {
      "text/html": [
       "<style  type=\"text/css\" >\n",
       "#T_9bb7810a_b4b4_11ec_af8f_fe7696f0c274row0_col0{\n",
       "            width:  10em;\n",
       "             height:  80%;\n",
       "            background:  linear-gradient(90deg,#d65f5f 100.0%, transparent 100.0%);\n",
       "        }#T_9bb7810a_b4b4_11ec_af8f_fe7696f0c274row1_col0{\n",
       "            width:  10em;\n",
       "             height:  80%;\n",
       "            background:  linear-gradient(90deg,#d65f5f 96.7%, transparent 96.7%);\n",
       "        }#T_9bb7810a_b4b4_11ec_af8f_fe7696f0c274row2_col0{\n",
       "            width:  10em;\n",
       "             height:  80%;\n",
       "            background:  linear-gradient(90deg,#d65f5f 91.6%, transparent 91.6%);\n",
       "        }#T_9bb7810a_b4b4_11ec_af8f_fe7696f0c274row3_col0{\n",
       "            width:  10em;\n",
       "             height:  80%;\n",
       "            background:  linear-gradient(90deg,#d65f5f 87.0%, transparent 87.0%);\n",
       "        }#T_9bb7810a_b4b4_11ec_af8f_fe7696f0c274row4_col0{\n",
       "            width:  10em;\n",
       "             height:  80%;\n",
       "            background:  linear-gradient(90deg,#d65f5f 80.0%, transparent 80.0%);\n",
       "        }#T_9bb7810a_b4b4_11ec_af8f_fe7696f0c274row5_col0{\n",
       "            width:  10em;\n",
       "             height:  80%;\n",
       "            background:  linear-gradient(90deg,#d65f5f 73.7%, transparent 73.7%);\n",
       "        }#T_9bb7810a_b4b4_11ec_af8f_fe7696f0c274row6_col0{\n",
       "            width:  10em;\n",
       "             height:  80%;\n",
       "            background:  linear-gradient(90deg,#d65f5f 66.0%, transparent 66.0%);\n",
       "        }</style><table id=\"T_9bb7810a_b4b4_11ec_af8f_fe7696f0c274\" ><thead>    <tr>        <th class=\"blank level0\" ></th>        <th class=\"col_heading level0 col0\" >clients_communs</th>    </tr></thead><tbody>\n",
       "                <tr>\n",
       "                        <th id=\"T_9bb7810a_b4b4_11ec_af8f_fe7696f0c274level0_row0\" class=\"row_heading level0 row0\" >t0</th>\n",
       "                        <td id=\"T_9bb7810a_b4b4_11ec_af8f_fe7696f0c274row0_col0\" class=\"data row0 col0\" >47286</td>\n",
       "            </tr>\n",
       "            <tr>\n",
       "                        <th id=\"T_9bb7810a_b4b4_11ec_af8f_fe7696f0c274level0_row1\" class=\"row_heading level0 row1\" >t0_t1</th>\n",
       "                        <td id=\"T_9bb7810a_b4b4_11ec_af8f_fe7696f0c274row1_col0\" class=\"data row1 col0\" >45723</td>\n",
       "            </tr>\n",
       "            <tr>\n",
       "                        <th id=\"T_9bb7810a_b4b4_11ec_af8f_fe7696f0c274level0_row2\" class=\"row_heading level0 row2\" >t0_t2</th>\n",
       "                        <td id=\"T_9bb7810a_b4b4_11ec_af8f_fe7696f0c274row2_col0\" class=\"data row2 col0\" >43320</td>\n",
       "            </tr>\n",
       "            <tr>\n",
       "                        <th id=\"T_9bb7810a_b4b4_11ec_af8f_fe7696f0c274level0_row3\" class=\"row_heading level0 row3\" >t0_t3</th>\n",
       "                        <td id=\"T_9bb7810a_b4b4_11ec_af8f_fe7696f0c274row3_col0\" class=\"data row3 col0\" >41138</td>\n",
       "            </tr>\n",
       "            <tr>\n",
       "                        <th id=\"T_9bb7810a_b4b4_11ec_af8f_fe7696f0c274level0_row4\" class=\"row_heading level0 row4\" >t0_t4</th>\n",
       "                        <td id=\"T_9bb7810a_b4b4_11ec_af8f_fe7696f0c274row4_col0\" class=\"data row4 col0\" >37811</td>\n",
       "            </tr>\n",
       "            <tr>\n",
       "                        <th id=\"T_9bb7810a_b4b4_11ec_af8f_fe7696f0c274level0_row5\" class=\"row_heading level0 row5\" >t0_t5</th>\n",
       "                        <td id=\"T_9bb7810a_b4b4_11ec_af8f_fe7696f0c274row5_col0\" class=\"data row5 col0\" >34869</td>\n",
       "            </tr>\n",
       "            <tr>\n",
       "                        <th id=\"T_9bb7810a_b4b4_11ec_af8f_fe7696f0c274level0_row6\" class=\"row_heading level0 row6\" >t0_t6</th>\n",
       "                        <td id=\"T_9bb7810a_b4b4_11ec_af8f_fe7696f0c274row6_col0\" class=\"data row6 col0\" >31219</td>\n",
       "            </tr>\n",
       "    </tbody></table>"
      ],
      "text/plain": [
       "<pandas.io.formats.style.Styler at 0x16b0c7bc0b8>"
      ]
     },
     "execution_count": 21,
     "metadata": {},
     "output_type": "execute_result"
    }
   ],
   "source": [
    "df_clients_communs=pd.DataFrame.from_dict({\n",
    "    't0':len(df_t0),\n",
    "    't0_t1':len(df_t0.index.intersection(df_t1.index)),\n",
    "    't0_t2':len(df_t0.index.intersection(df_t2.index)),\n",
    "    't0_t3':len(df_t0.index.intersection(df_t3.index)),\n",
    "    't0_t4':len(df_t0.index.intersection(df_t4.index)),\n",
    "    't0_t5':len(df_t0.index.intersection(df_t5.index)),\n",
    "    't0_t6':len(df_t0.index.intersection(df_t6.index))\n",
    "}, orient='index', columns={'clients_communs'})\n",
    "df_clients_communs.style.bar(vmin=0)"
   ]
  },
  {
   "cell_type": "code",
   "execution_count": 22,
   "metadata": {},
   "outputs": [
    {
     "data": {
      "text/html": [
       "<style  type=\"text/css\" >\n",
       "#T_9bcad242_b4b4_11ec_82be_fe7696f0c274row0_col0{\n",
       "            width:  10em;\n",
       "             height:  80%;\n",
       "            background:  linear-gradient(90deg,#d65f5f 100.0%, transparent 100.0%);\n",
       "        }#T_9bcad242_b4b4_11ec_82be_fe7696f0c274row1_col0{\n",
       "            width:  10em;\n",
       "             height:  80%;\n",
       "            background:  linear-gradient(90deg,#d65f5f 96.7%, transparent 96.7%);\n",
       "        }#T_9bcad242_b4b4_11ec_82be_fe7696f0c274row2_col0{\n",
       "            width:  10em;\n",
       "             height:  80%;\n",
       "            background:  linear-gradient(90deg,#d65f5f 91.6%, transparent 91.6%);\n",
       "        }#T_9bcad242_b4b4_11ec_82be_fe7696f0c274row3_col0{\n",
       "            width:  10em;\n",
       "             height:  80%;\n",
       "            background:  linear-gradient(90deg,#d65f5f 87.0%, transparent 87.0%);\n",
       "        }#T_9bcad242_b4b4_11ec_82be_fe7696f0c274row4_col0{\n",
       "            width:  10em;\n",
       "             height:  80%;\n",
       "            background:  linear-gradient(90deg,#d65f5f 80.0%, transparent 80.0%);\n",
       "        }#T_9bcad242_b4b4_11ec_82be_fe7696f0c274row5_col0{\n",
       "            width:  10em;\n",
       "             height:  80%;\n",
       "            background:  linear-gradient(90deg,#d65f5f 73.7%, transparent 73.7%);\n",
       "        }#T_9bcad242_b4b4_11ec_82be_fe7696f0c274row6_col0{\n",
       "            width:  10em;\n",
       "             height:  80%;\n",
       "            background:  linear-gradient(90deg,#d65f5f 66.0%, transparent 66.0%);\n",
       "        }</style><table id=\"T_9bcad242_b4b4_11ec_82be_fe7696f0c274\" ><thead>    <tr>        <th class=\"blank level0\" ></th>        <th class=\"col_heading level0 col0\" >clients_communs</th>    </tr></thead><tbody>\n",
       "                <tr>\n",
       "                        <th id=\"T_9bcad242_b4b4_11ec_82be_fe7696f0c274level0_row0\" class=\"row_heading level0 row0\" >t0_t0</th>\n",
       "                        <td id=\"T_9bcad242_b4b4_11ec_82be_fe7696f0c274row0_col0\" class=\"data row0 col0\" >47286</td>\n",
       "            </tr>\n",
       "            <tr>\n",
       "                        <th id=\"T_9bcad242_b4b4_11ec_82be_fe7696f0c274level0_row1\" class=\"row_heading level0 row1\" >t0_t1</th>\n",
       "                        <td id=\"T_9bcad242_b4b4_11ec_82be_fe7696f0c274row1_col0\" class=\"data row1 col0\" >45723</td>\n",
       "            </tr>\n",
       "            <tr>\n",
       "                        <th id=\"T_9bcad242_b4b4_11ec_82be_fe7696f0c274level0_row2\" class=\"row_heading level0 row2\" >t0_t2</th>\n",
       "                        <td id=\"T_9bcad242_b4b4_11ec_82be_fe7696f0c274row2_col0\" class=\"data row2 col0\" >43320</td>\n",
       "            </tr>\n",
       "            <tr>\n",
       "                        <th id=\"T_9bcad242_b4b4_11ec_82be_fe7696f0c274level0_row3\" class=\"row_heading level0 row3\" >t0_t3</th>\n",
       "                        <td id=\"T_9bcad242_b4b4_11ec_82be_fe7696f0c274row3_col0\" class=\"data row3 col0\" >41138</td>\n",
       "            </tr>\n",
       "            <tr>\n",
       "                        <th id=\"T_9bcad242_b4b4_11ec_82be_fe7696f0c274level0_row4\" class=\"row_heading level0 row4\" >t0_t4</th>\n",
       "                        <td id=\"T_9bcad242_b4b4_11ec_82be_fe7696f0c274row4_col0\" class=\"data row4 col0\" >37811</td>\n",
       "            </tr>\n",
       "            <tr>\n",
       "                        <th id=\"T_9bcad242_b4b4_11ec_82be_fe7696f0c274level0_row5\" class=\"row_heading level0 row5\" >t0_t5</th>\n",
       "                        <td id=\"T_9bcad242_b4b4_11ec_82be_fe7696f0c274row5_col0\" class=\"data row5 col0\" >34869</td>\n",
       "            </tr>\n",
       "            <tr>\n",
       "                        <th id=\"T_9bcad242_b4b4_11ec_82be_fe7696f0c274level0_row6\" class=\"row_heading level0 row6\" >t0_t6</th>\n",
       "                        <td id=\"T_9bcad242_b4b4_11ec_82be_fe7696f0c274row6_col0\" class=\"data row6 col0\" >31219</td>\n",
       "            </tr>\n",
       "    </tbody></table>"
      ],
      "text/plain": [
       "<pandas.io.formats.style.Styler at 0x16b0e907f60>"
      ]
     },
     "execution_count": 22,
     "metadata": {},
     "output_type": "execute_result"
    }
   ],
   "source": [
    "def en_commun(df,date_cols=dates.keys()):\n",
    "    intersect={}\n",
    "    for col in date_cols:\n",
    "        intersect[f't0_{col}']=(df['t0']&df[col]).sum()\n",
    "    return pd.DataFrame.from_dict(intersect, orient='index', columns={'clients_communs'})\n",
    "\n",
    "en_commun(df_clients).style.bar(vmin=0)"
   ]
  },
  {
   "cell_type": "markdown",
   "metadata": {},
   "source": [
    "### Procedures pour éliminer les outliers\n"
   ]
  },
  {
   "cell_type": "code",
   "execution_count": 23,
   "metadata": {},
   "outputs": [
    {
     "name": "stdout",
     "output_type": "stream",
     "text": [
      "(47286, 24)\n",
      "(47286, 24)\n"
     ]
    },
    {
     "data": {
      "text/plain": [
       "(47049, 24)"
      ]
     },
     "execution_count": 23,
     "metadata": {},
     "output_type": "execute_result"
    }
   ],
   "source": [
    "from sklearn.ensemble import IsolationForest\n",
    "\n",
    "\n",
    "def find_outliers(df, num_cols=None, alpha=0.005, random_state=RANDOM_STATE):\n",
    "    df = df.copy()\n",
    "    if num_cols is None:\n",
    "        num_cols = df.select_dtypes('number').columns\n",
    "    model = IsolationForest(contamination=alpha, random_state=random_state)\n",
    "    model.fit(df[num_cols].values)\n",
    "    # outliers=model.predict(df[num_cols]<0)\n",
    "    # enregistre comme une colonne non-numérique\n",
    "    df['outlier'] = np.where(model.predict(\n",
    "        df[num_cols].values) < 0, 'yes', 'no')\n",
    "    return df\n",
    "\n",
    "\n",
    "def drop_outliers(df):\n",
    "    if 'outlier' in df.columns:\n",
    "        return df[~(df['outlier'] == 'yes')].drop('outlier', axis=1)\n",
    "    return df\n",
    "\n",
    "\n",
    "print(df_t0.shape)\n",
    "print(df_clients[df_clients['t0']].shape)\n",
    "df_t0.pipe(find_outliers).pipe(drop_outliers).shape\n"
   ]
  },
  {
   "cell_type": "markdown",
   "metadata": {},
   "source": [
    "## Pipeline pour model\n"
   ]
  },
  {
   "cell_type": "code",
   "execution_count": 24,
   "metadata": {},
   "outputs": [],
   "source": [
    "from sklearn.pipeline import Pipeline\n",
    "from sklearn.preprocessing import QuantileTransformer\n",
    "from sklearn.cluster import KMeans\n",
    "\n",
    "model = Pipeline(steps=[\n",
    "    ('preprocessor', QuantileTransformer(output_distribution='normal')),\n",
    "    ('clf', KMeans(n_clusters=7, random_state=RANDOM_STATE))\n",
    "])\n"
   ]
  },
  {
   "cell_type": "code",
   "execution_count": 25,
   "metadata": {},
   "outputs": [],
   "source": [
    "from copy import deepcopy\n",
    "FEATURES = ['Frequency', 'MonetaryValue',\n",
    "            'review_score', 'mean_nb_payments', 'delivery_delay']\n",
    "\n",
    "\n",
    "def run_fit_model(df, model_, features=FEATURES, k=7, cluster_col=CLUSTER_COL,\n",
    "                  remove_outliers_during_fit=True, percent_outliers=0.005,\n",
    "                  random_state=RANDOM_STATE):\n",
    "    df = df.copy()\n",
    "    \n",
    "    params = {'clf__n_clusters': k}\n",
    "    model_.set_params(**params)\n",
    "    \n",
    "    if percent_outliers<=0:\n",
    "        remove_outliers_during_fit=False\n",
    "    if remove_outliers_during_fit:\n",
    "        df = df.pipe(find_outliers, num_cols=features,\n",
    "                     alpha=percent_outliers, random_state=random_state)\n",
    "        df_outliers = df[df['outlier'] == 'yes']\n",
    "        df = df[df['outlier'] != 'yes']\n",
    "\n",
    "\n",
    "    model_.fit(df[features])\n",
    "    clf = model_.named_steps['clf']\n",
    "    df[cluster_col] = clf.labels_\n",
    "\n",
    "\n",
    "    if remove_outliers_during_fit:\n",
    "        # si les outliers ont été exclu du fit, il faut maintenant les ajoutés de retour au model\n",
    "        df_outliers[cluster_col] = model_.predict(df_outliers[features])\n",
    "        df = df.append(df_outliers, ignore_index=False)\n",
    "\n",
    "    return df, deepcopy(model_)\n",
    "\n",
    "\n",
    "def run_predict_model(df, fitted_model, features=FEATURES, cluster_col=CLUSTER_COL):\n",
    "    df = df.copy()\n",
    "    df[cluster_col] = fitted_model.predict(df[features])\n",
    "    return df\n"
   ]
  },
  {
   "cell_type": "markdown",
   "metadata": {},
   "source": [
    "## Fit sur model à t0 (clusters basé sur les données t0)\n",
    "On veut savoir comment les prédictions basé sur model t0 changent dans le temps\n",
    "\n",
    "Donc on veut comparer:\n",
    "- les clusters a t0 : 01/02/2018\n",
    "- les clusters à t1 (1 mois après) vs. clusters prévus par t0\n",
    "- les clusters à t3 (3 mois après) vs. clusters prévus par t0\n",
    "- les clusters à t6 (6 mois après) vs. clusters prévus par t0\n"
   ]
  },
  {
   "cell_type": "code",
   "execution_count": 26,
   "metadata": {},
   "outputs": [
    {
     "name": "stdout",
     "output_type": "stream",
     "text": [
      "(47286, 24)\n",
      "(47286, 26)\n",
      "(47286, 25)\n"
     ]
    }
   ],
   "source": [
    "K=7\n",
    "# fit tN clusters based on data at t0\n",
    "fit_t0, fitted_model_t0 = run_fit_model(df_t0, model, FEATURES, k=K)\n",
    "# predict t0 clusters based on (old) model at t0\n",
    "predict_t0 = run_predict_model(df_t0, fitted_model_t0, FEATURES)\n",
    "\n",
    "# fit t1 clusters based on data at t1\n",
    "fit_t1, fitted_model_t1 = run_fit_model(df_t1, model, FEATURES, k=K)\n",
    "# predict t1 clusters based on (old) model at t0\n",
    "predict_t1 = run_predict_model(df_t1, fitted_model_t0, FEATURES)\n",
    "\n",
    "# fit t2 clusters based on data at t2\n",
    "fit_t2, fitted_model_t2 = run_fit_model(df_t2, model, FEATURES, k=K)\n",
    "# predict t2 clusters based on (old) model at t0\n",
    "predict_t2 = run_predict_model(df_t2, fitted_model_t0, FEATURES)\n",
    "\n",
    "# fit t3 clusters based on data at t3\n",
    "fit_t3, fitted_model_t3 = run_fit_model(df_t3, model, FEATURES, k=K)\n",
    "# predict t3 clusters based on (old) model at t0\n",
    "predict_t3 = run_predict_model(df_t3, fitted_model_t0, FEATURES)\n",
    "\n",
    "# fit t4 clusters based on data at t4\n",
    "fit_t4, fitted_model_t4 = run_fit_model(df_t4, model, FEATURES, k=K)\n",
    "# predict t4 clusters based on (old) model at t0\n",
    "predict_t4 = run_predict_model(df_t4, fitted_model_t0, FEATURES)\n",
    "\n",
    "# fit t5 clusters based on data at t5\n",
    "fit_t5, fitted_model_t5 = run_fit_model(df_t5, model, FEATURES, k=K)\n",
    "# predict t5 clusters based on (old) model at t0\n",
    "predict_t5 = run_predict_model(df_t5, fitted_model_t0, FEATURES)\n",
    "\n",
    "# fit t3 clusters based on data at t6\n",
    "fit_t6, fitted_model_t6 = run_fit_model(df_t6, model, FEATURES, k=K)\n",
    "# predict t6 clusters based on (old) model at t0\n",
    "predict_t6 = run_predict_model(df_t6, fitted_model_t0, FEATURES)\n",
    "\n",
    "\n",
    "print(df_t0.shape)\n",
    "# fit_t0 on ajoute les colonnes 'cluster_id' et 'outlier' (indicateur = ['yes'|'no'])\n",
    "print(fit_t0.shape)\n",
    "# predict_t1 on ajoute la colonne 'cluster_id'\n",
    "print(predict_t0.shape)\n"
   ]
  },
  {
   "cell_type": "code",
   "execution_count": 27,
   "metadata": {},
   "outputs": [
    {
     "name": "stdout",
     "output_type": "stream",
     "text": [
      "(47286, 24)\n",
      "(47286, 26)\n",
      "(51964, 25)\n"
     ]
    }
   ],
   "source": [
    "def fit_sur_model_t0(df, k=7):\n",
    "\n",
    "    # select t0 data\n",
    "    df_t0=df[df['t0']]\n",
    "    # fit tN clusters based on data at t0\n",
    "    fit_t0, fitted_model_t0 = run_fit_model(df_t0, model, FEATURES, k=K)\n",
    "    df=df.join(fit_t0[[CLUSTER_COL]],rsuffix='_fit_t0')\n",
    "\n",
    "    # select t1 data\n",
    "    df_t1=df[df['t1']]\n",
    "    # fit t1 clusters based on data at t1\n",
    "    fit_t1, fitted_model_t1 = run_fit_model(df_t1, model, FEATURES, k=K)\n",
    "    df=df.join(fit_t1[[CLUSTER_COL]],rsuffix='_fit_t1')\n",
    "    # predict t1 clusters based on (old) model at t0\n",
    "    predict_t1 = run_predict_model(df_t1, fitted_model_t0, FEATURES)\n",
    "    df=df.join(predict_t1[[CLUSTER_COL]],rsuffix='_predict_t1')\n",
    "\n",
    "    # repeat for other data\n",
    "    for i in range(1,6): \n",
    "        # select t1 data\n",
    "        df_ti=df[df[f't{i}']]\n",
    "        # fit t{i} clusters based on data at t{i}\n",
    "        fit_ti, fitted_model_ti = run_fit_model(df_ti, model, FEATURES, k=K)\n",
    "        df=df.join(fit_ti[[CLUSTER_COL]],rsuffix=f'_fit_t{i}')\n",
    "        # predict t{i} clusters based on (old) model at t0\n",
    "        predict_ti = run_predict_model(df_ti, fitted_model_t0, FEATURES)\n",
    "        df=df.join(predict_ti[[CLUSTER_COL]],rsuffix='_predict_t{i}')\n",
    "        return df\n",
    "\n",
    "df_clients2=df_clients.pipe(fit_sur_model_t0,k=7)\n",
    "\n",
    "\n",
    "print(df_t0.shape)\n",
    "# fit_t0 on ajoute les colonnes 'cluster_id' et 'outlier' (indicateur = ['yes'|'no'])\n",
    "print(fit_t0.shape)\n",
    "# predict_t1 on ajoute la colonne 'cluster_id'\n",
    "print(predict_t1.shape)\n"
   ]
  },
  {
   "cell_type": "code",
   "execution_count": 28,
   "metadata": {},
   "outputs": [
    {
     "data": {
      "text/html": [
       "<div>\n",
       "<style scoped>\n",
       "    .dataframe tbody tr th:only-of-type {\n",
       "        vertical-align: middle;\n",
       "    }\n",
       "\n",
       "    .dataframe tbody tr th {\n",
       "        vertical-align: top;\n",
       "    }\n",
       "\n",
       "    .dataframe thead th {\n",
       "        text-align: right;\n",
       "    }\n",
       "</style>\n",
       "<table border=\"1\" class=\"dataframe\">\n",
       "  <thead>\n",
       "    <tr style=\"text-align: right;\">\n",
       "      <th></th>\n",
       "      <th>dernier_achat</th>\n",
       "      <th>Frequency</th>\n",
       "      <th>MonetaryValue</th>\n",
       "      <th>Recency</th>\n",
       "      <th>mean_nb_payments</th>\n",
       "      <th>review_score</th>\n",
       "      <th>delivery_time</th>\n",
       "      <th>delivery_delay</th>\n",
       "      <th>distance_customer_seller</th>\n",
       "      <th>freight_percent</th>\n",
       "      <th>payment_mode</th>\n",
       "      <th>favourite_category</th>\n",
       "      <th>time_of_day</th>\n",
       "      <th>weekday</th>\n",
       "      <th>products_per_order</th>\n",
       "      <th>date</th>\n",
       "      <th>year_month</th>\n",
       "      <th>t0</th>\n",
       "      <th>t1</th>\n",
       "      <th>t2</th>\n",
       "      <th>t3</th>\n",
       "      <th>t4</th>\n",
       "      <th>t5</th>\n",
       "      <th>t6</th>\n",
       "      <th>outlier</th>\n",
       "      <th>cluster_id</th>\n",
       "    </tr>\n",
       "    <tr>\n",
       "      <th>customer_unique_id</th>\n",
       "      <th></th>\n",
       "      <th></th>\n",
       "      <th></th>\n",
       "      <th></th>\n",
       "      <th></th>\n",
       "      <th></th>\n",
       "      <th></th>\n",
       "      <th></th>\n",
       "      <th></th>\n",
       "      <th></th>\n",
       "      <th></th>\n",
       "      <th></th>\n",
       "      <th></th>\n",
       "      <th></th>\n",
       "      <th></th>\n",
       "      <th></th>\n",
       "      <th></th>\n",
       "      <th></th>\n",
       "      <th></th>\n",
       "      <th></th>\n",
       "      <th></th>\n",
       "      <th></th>\n",
       "      <th></th>\n",
       "      <th></th>\n",
       "      <th></th>\n",
       "      <th></th>\n",
       "    </tr>\n",
       "  </thead>\n",
       "  <tbody>\n",
       "    <tr>\n",
       "      <th>fc54c2c09aee36da48881e5bf37ef795</th>\n",
       "      <td>2017-12-15 13:43:13</td>\n",
       "      <td>1</td>\n",
       "      <td>2732.06</td>\n",
       "      <td>305</td>\n",
       "      <td>10.00</td>\n",
       "      <td>4.00</td>\n",
       "      <td>6.00</td>\n",
       "      <td>-19.00</td>\n",
       "      <td>534.93</td>\n",
       "      <td>0.01</td>\n",
       "      <td>credit_card</td>\n",
       "      <td>office_tech</td>\n",
       "      <td>13.00</td>\n",
       "      <td>4.00</td>\n",
       "      <td>2.00</td>\n",
       "      <td>2017-12-15</td>\n",
       "      <td>2017_12</td>\n",
       "      <td>True</td>\n",
       "      <td>True</td>\n",
       "      <td>True</td>\n",
       "      <td>True</td>\n",
       "      <td>True</td>\n",
       "      <td>True</td>\n",
       "      <td>True</td>\n",
       "      <td>yes</td>\n",
       "      <td>3</td>\n",
       "    </tr>\n",
       "    <tr>\n",
       "      <th>fd9d39fa11a8725fabb15d0ff706251c</th>\n",
       "      <td>2017-04-04 11:26:31</td>\n",
       "      <td>1</td>\n",
       "      <td>764.52</td>\n",
       "      <td>561</td>\n",
       "      <td>10.00</td>\n",
       "      <td>1.00</td>\n",
       "      <td>44.00</td>\n",
       "      <td>11.00</td>\n",
       "      <td>2177.50</td>\n",
       "      <td>0.03</td>\n",
       "      <td>credit_card</td>\n",
       "      <td>gifts_gadgets</td>\n",
       "      <td>11.00</td>\n",
       "      <td>1.00</td>\n",
       "      <td>1.00</td>\n",
       "      <td>2017-04-04</td>\n",
       "      <td>2017_04</td>\n",
       "      <td>True</td>\n",
       "      <td>True</td>\n",
       "      <td>True</td>\n",
       "      <td>False</td>\n",
       "      <td>False</td>\n",
       "      <td>False</td>\n",
       "      <td>False</td>\n",
       "      <td>yes</td>\n",
       "      <td>5</td>\n",
       "    </tr>\n",
       "    <tr>\n",
       "      <th>ff0ae98646e7bbb41cf0f0d3991fef98</th>\n",
       "      <td>2017-06-05 20:52:34</td>\n",
       "      <td>1</td>\n",
       "      <td>3048.27</td>\n",
       "      <td>498</td>\n",
       "      <td>10.00</td>\n",
       "      <td>5.00</td>\n",
       "      <td>10.00</td>\n",
       "      <td>-20.00</td>\n",
       "      <td>1084.39</td>\n",
       "      <td>0.02</td>\n",
       "      <td>credit_card</td>\n",
       "      <td>office_tech</td>\n",
       "      <td>20.00</td>\n",
       "      <td>0.00</td>\n",
       "      <td>1.00</td>\n",
       "      <td>2017-06-05</td>\n",
       "      <td>2017_06</td>\n",
       "      <td>True</td>\n",
       "      <td>True</td>\n",
       "      <td>True</td>\n",
       "      <td>True</td>\n",
       "      <td>True</td>\n",
       "      <td>False</td>\n",
       "      <td>False</td>\n",
       "      <td>yes</td>\n",
       "      <td>2</td>\n",
       "    </tr>\n",
       "    <tr>\n",
       "      <th>ff4159b92c40ebe40454e3e6a7c35ed6</th>\n",
       "      <td>2017-05-24 18:14:34</td>\n",
       "      <td>1</td>\n",
       "      <td>6726.66</td>\n",
       "      <td>510</td>\n",
       "      <td>1.00</td>\n",
       "      <td>5.00</td>\n",
       "      <td>11.00</td>\n",
       "      <td>-23.00</td>\n",
       "      <td>616.35</td>\n",
       "      <td>0.03</td>\n",
       "      <td>boleto</td>\n",
       "      <td>leisure</td>\n",
       "      <td>18.00</td>\n",
       "      <td>2.00</td>\n",
       "      <td>1.00</td>\n",
       "      <td>2017-05-24</td>\n",
       "      <td>2017_05</td>\n",
       "      <td>True</td>\n",
       "      <td>True</td>\n",
       "      <td>True</td>\n",
       "      <td>True</td>\n",
       "      <td>False</td>\n",
       "      <td>False</td>\n",
       "      <td>False</td>\n",
       "      <td>yes</td>\n",
       "      <td>0</td>\n",
       "    </tr>\n",
       "    <tr>\n",
       "      <th>fffcf5a5ff07b0908bd4e2dbc735a684</th>\n",
       "      <td>2017-06-08 21:00:36</td>\n",
       "      <td>1</td>\n",
       "      <td>2067.42</td>\n",
       "      <td>495</td>\n",
       "      <td>10.00</td>\n",
       "      <td>5.00</td>\n",
       "      <td>27.00</td>\n",
       "      <td>-27.00</td>\n",
       "      <td>1995.22</td>\n",
       "      <td>0.12</td>\n",
       "      <td>credit_card</td>\n",
       "      <td>health_parfum</td>\n",
       "      <td>21.00</td>\n",
       "      <td>3.00</td>\n",
       "      <td>2.00</td>\n",
       "      <td>2017-06-08</td>\n",
       "      <td>2017_06</td>\n",
       "      <td>True</td>\n",
       "      <td>True</td>\n",
       "      <td>True</td>\n",
       "      <td>True</td>\n",
       "      <td>True</td>\n",
       "      <td>False</td>\n",
       "      <td>False</td>\n",
       "      <td>yes</td>\n",
       "      <td>2</td>\n",
       "    </tr>\n",
       "  </tbody>\n",
       "</table>\n",
       "</div>"
      ],
      "text/plain": [
       "                                       dernier_achat  Frequency  \\\n",
       "customer_unique_id                                                \n",
       "fc54c2c09aee36da48881e5bf37ef795 2017-12-15 13:43:13          1   \n",
       "fd9d39fa11a8725fabb15d0ff706251c 2017-04-04 11:26:31          1   \n",
       "ff0ae98646e7bbb41cf0f0d3991fef98 2017-06-05 20:52:34          1   \n",
       "ff4159b92c40ebe40454e3e6a7c35ed6 2017-05-24 18:14:34          1   \n",
       "fffcf5a5ff07b0908bd4e2dbc735a684 2017-06-08 21:00:36          1   \n",
       "\n",
       "                                  MonetaryValue  Recency  mean_nb_payments  \\\n",
       "customer_unique_id                                                           \n",
       "fc54c2c09aee36da48881e5bf37ef795        2732.06      305             10.00   \n",
       "fd9d39fa11a8725fabb15d0ff706251c         764.52      561             10.00   \n",
       "ff0ae98646e7bbb41cf0f0d3991fef98        3048.27      498             10.00   \n",
       "ff4159b92c40ebe40454e3e6a7c35ed6        6726.66      510              1.00   \n",
       "fffcf5a5ff07b0908bd4e2dbc735a684        2067.42      495             10.00   \n",
       "\n",
       "                                  review_score  delivery_time  delivery_delay  \\\n",
       "customer_unique_id                                                              \n",
       "fc54c2c09aee36da48881e5bf37ef795          4.00           6.00          -19.00   \n",
       "fd9d39fa11a8725fabb15d0ff706251c          1.00          44.00           11.00   \n",
       "ff0ae98646e7bbb41cf0f0d3991fef98          5.00          10.00          -20.00   \n",
       "ff4159b92c40ebe40454e3e6a7c35ed6          5.00          11.00          -23.00   \n",
       "fffcf5a5ff07b0908bd4e2dbc735a684          5.00          27.00          -27.00   \n",
       "\n",
       "                                  distance_customer_seller  freight_percent  \\\n",
       "customer_unique_id                                                            \n",
       "fc54c2c09aee36da48881e5bf37ef795                    534.93             0.01   \n",
       "fd9d39fa11a8725fabb15d0ff706251c                   2177.50             0.03   \n",
       "ff0ae98646e7bbb41cf0f0d3991fef98                   1084.39             0.02   \n",
       "ff4159b92c40ebe40454e3e6a7c35ed6                    616.35             0.03   \n",
       "fffcf5a5ff07b0908bd4e2dbc735a684                   1995.22             0.12   \n",
       "\n",
       "                                 payment_mode favourite_category  time_of_day  \\\n",
       "customer_unique_id                                                              \n",
       "fc54c2c09aee36da48881e5bf37ef795  credit_card        office_tech        13.00   \n",
       "fd9d39fa11a8725fabb15d0ff706251c  credit_card      gifts_gadgets        11.00   \n",
       "ff0ae98646e7bbb41cf0f0d3991fef98  credit_card        office_tech        20.00   \n",
       "ff4159b92c40ebe40454e3e6a7c35ed6       boleto            leisure        18.00   \n",
       "fffcf5a5ff07b0908bd4e2dbc735a684  credit_card      health_parfum        21.00   \n",
       "\n",
       "                                  weekday  products_per_order        date  \\\n",
       "customer_unique_id                                                          \n",
       "fc54c2c09aee36da48881e5bf37ef795     4.00                2.00  2017-12-15   \n",
       "fd9d39fa11a8725fabb15d0ff706251c     1.00                1.00  2017-04-04   \n",
       "ff0ae98646e7bbb41cf0f0d3991fef98     0.00                1.00  2017-06-05   \n",
       "ff4159b92c40ebe40454e3e6a7c35ed6     2.00                1.00  2017-05-24   \n",
       "fffcf5a5ff07b0908bd4e2dbc735a684     3.00                2.00  2017-06-08   \n",
       "\n",
       "                                 year_month    t0    t1    t2     t3     t4  \\\n",
       "customer_unique_id                                                            \n",
       "fc54c2c09aee36da48881e5bf37ef795    2017_12  True  True  True   True   True   \n",
       "fd9d39fa11a8725fabb15d0ff706251c    2017_04  True  True  True  False  False   \n",
       "ff0ae98646e7bbb41cf0f0d3991fef98    2017_06  True  True  True   True   True   \n",
       "ff4159b92c40ebe40454e3e6a7c35ed6    2017_05  True  True  True   True  False   \n",
       "fffcf5a5ff07b0908bd4e2dbc735a684    2017_06  True  True  True   True   True   \n",
       "\n",
       "                                     t5     t6 outlier  cluster_id  \n",
       "customer_unique_id                                                  \n",
       "fc54c2c09aee36da48881e5bf37ef795   True   True     yes           3  \n",
       "fd9d39fa11a8725fabb15d0ff706251c  False  False     yes           5  \n",
       "ff0ae98646e7bbb41cf0f0d3991fef98  False  False     yes           2  \n",
       "ff4159b92c40ebe40454e3e6a7c35ed6  False  False     yes           0  \n",
       "fffcf5a5ff07b0908bd4e2dbc735a684  False  False     yes           2  "
      ]
     },
     "execution_count": 28,
     "metadata": {},
     "output_type": "execute_result"
    }
   ],
   "source": [
    "fit_t0.tail()\n"
   ]
  },
  {
   "cell_type": "markdown",
   "metadata": {},
   "source": [
    "### Taille des clusters"
   ]
  },
  {
   "cell_type": "code",
   "execution_count": 29,
   "metadata": {},
   "outputs": [
    {
     "name": "stdout",
     "output_type": "stream",
     "text": [
      "[29 27 16 14  5  4  2]\n",
      "[29 27 16 14  5  4  2]\n",
      "[28 27 16 14  5  4  2]\n",
      "[28 27 16 14  5  4  2]\n",
      "[28 26 16 15  5  4  2]\n",
      "[28 26 16 15  5  4  2]\n",
      "[30 24 16 14 10  1  1]\n",
      "[28 27 15 15  5  4  2]\n",
      "[31 25 16 13 10  1  1]\n",
      "[28 28 15 14  5  4  3]\n"
     ]
    }
   ],
   "source": [
    "def cluster_sizes(df,cluster_col=CLUSTER_COL, normalize=True):\n",
    "    if normalize:\n",
    "        return (df[cluster_col].value_counts(normalize=True).values*100).astype(int)\n",
    "    else:\n",
    "        return df[cluster_col].value_counts(normalize=False).values\n",
    "\n",
    "print(cluster_sizes(fit_t0))\n",
    "print(cluster_sizes(predict_t0))\n",
    "print(cluster_sizes(fit_t1))\n",
    "print(cluster_sizes(predict_t1))\n",
    "print(cluster_sizes(fit_t2))\n",
    "print(cluster_sizes(predict_t2))\n",
    "print(cluster_sizes(fit_t3))\n",
    "print(cluster_sizes(predict_t3))\n",
    "print(cluster_sizes(fit_t6))\n",
    "print(cluster_sizes(predict_t6))\n"
   ]
  },
  {
   "cell_type": "markdown",
   "metadata": {},
   "source": [
    "Generate list of cluster_labels"
   ]
  },
  {
   "cell_type": "code",
   "execution_count": 30,
   "metadata": {},
   "outputs": [
    {
     "ename": "KeyError",
     "evalue": "\"None of [Index(['cluster_id'], dtype='object')] are in the [columns]\"",
     "output_type": "error",
     "traceback": [
      "\u001b[1;31m---------------------------------------------------------------------------\u001b[0m",
      "\u001b[1;31mKeyError\u001b[0m                                  Traceback (most recent call last)",
      "\u001b[1;32m~\\AppData\\Local\\Temp/ipykernel_6020/958277766.py\u001b[0m in \u001b[0;36m<module>\u001b[1;34m\u001b[0m\n\u001b[0;32m     21\u001b[0m \u001b[0mpred_t6\u001b[0m\u001b[1;33m=\u001b[0m\u001b[0min_both\u001b[0m\u001b[1;33m(\u001b[0m\u001b[0mpredict_t6\u001b[0m\u001b[1;33m,\u001b[0m\u001b[0mfit_t6\u001b[0m\u001b[1;33m,\u001b[0m\u001b[1;34m'pred_t6'\u001b[0m\u001b[1;33m)\u001b[0m\u001b[1;33m\u001b[0m\u001b[0m\n\u001b[0;32m     22\u001b[0m \u001b[1;33m\u001b[0m\u001b[0m\n\u001b[1;32m---> 23\u001b[1;33m df_evolve= (df_clients[lbl].astype('Int64')\n\u001b[0m\u001b[0;32m     24\u001b[0m \u001b[1;33m.\u001b[0m\u001b[0mjoin\u001b[0m\u001b[1;33m(\u001b[0m\u001b[0mfitd_t0\u001b[0m\u001b[1;33m)\u001b[0m\u001b[1;33m.\u001b[0m\u001b[0mjoin\u001b[0m\u001b[1;33m(\u001b[0m\u001b[0mpred_t0\u001b[0m\u001b[1;33m)\u001b[0m\u001b[1;33m\u001b[0m\u001b[0m\n\u001b[0;32m     25\u001b[0m \u001b[1;33m.\u001b[0m\u001b[0mjoin\u001b[0m\u001b[1;33m(\u001b[0m\u001b[0mfitd_t1\u001b[0m\u001b[1;33m)\u001b[0m\u001b[1;33m.\u001b[0m\u001b[0mjoin\u001b[0m\u001b[1;33m(\u001b[0m\u001b[0mpred_t1\u001b[0m\u001b[1;33m)\u001b[0m\u001b[1;33m\u001b[0m\u001b[0m\n",
      "\u001b[1;32m~\\anaconda3\\envs\\OC_3\\lib\\site-packages\\pandas\\core\\frame.py\u001b[0m in \u001b[0;36m__getitem__\u001b[1;34m(self, key)\u001b[0m\n\u001b[0;32m   2910\u001b[0m             \u001b[1;32mif\u001b[0m \u001b[0mis_iterator\u001b[0m\u001b[1;33m(\u001b[0m\u001b[0mkey\u001b[0m\u001b[1;33m)\u001b[0m\u001b[1;33m:\u001b[0m\u001b[1;33m\u001b[0m\u001b[0m\n\u001b[0;32m   2911\u001b[0m                 \u001b[0mkey\u001b[0m \u001b[1;33m=\u001b[0m \u001b[0mlist\u001b[0m\u001b[1;33m(\u001b[0m\u001b[0mkey\u001b[0m\u001b[1;33m)\u001b[0m\u001b[1;33m\u001b[0m\u001b[0m\n\u001b[1;32m-> 2912\u001b[1;33m             \u001b[0mindexer\u001b[0m \u001b[1;33m=\u001b[0m \u001b[0mself\u001b[0m\u001b[1;33m.\u001b[0m\u001b[0mloc\u001b[0m\u001b[1;33m.\u001b[0m\u001b[0m_get_listlike_indexer\u001b[0m\u001b[1;33m(\u001b[0m\u001b[0mkey\u001b[0m\u001b[1;33m,\u001b[0m \u001b[0maxis\u001b[0m\u001b[1;33m=\u001b[0m\u001b[1;36m1\u001b[0m\u001b[1;33m,\u001b[0m \u001b[0mraise_missing\u001b[0m\u001b[1;33m=\u001b[0m\u001b[1;32mTrue\u001b[0m\u001b[1;33m)\u001b[0m\u001b[1;33m[\u001b[0m\u001b[1;36m1\u001b[0m\u001b[1;33m]\u001b[0m\u001b[1;33m\u001b[0m\u001b[0m\n\u001b[0m\u001b[0;32m   2913\u001b[0m \u001b[1;33m\u001b[0m\u001b[0m\n\u001b[0;32m   2914\u001b[0m         \u001b[1;31m# take() does not accept boolean indexers\u001b[0m\u001b[1;33m\u001b[0m\u001b[1;33m\u001b[0m\u001b[0m\n",
      "\u001b[1;32m~\\anaconda3\\envs\\OC_3\\lib\\site-packages\\pandas\\core\\indexing.py\u001b[0m in \u001b[0;36m_get_listlike_indexer\u001b[1;34m(self, key, axis, raise_missing)\u001b[0m\n\u001b[0;32m   1252\u001b[0m             \u001b[0mkeyarr\u001b[0m\u001b[1;33m,\u001b[0m \u001b[0mindexer\u001b[0m\u001b[1;33m,\u001b[0m \u001b[0mnew_indexer\u001b[0m \u001b[1;33m=\u001b[0m \u001b[0max\u001b[0m\u001b[1;33m.\u001b[0m\u001b[0m_reindex_non_unique\u001b[0m\u001b[1;33m(\u001b[0m\u001b[0mkeyarr\u001b[0m\u001b[1;33m)\u001b[0m\u001b[1;33m\u001b[0m\u001b[0m\n\u001b[0;32m   1253\u001b[0m \u001b[1;33m\u001b[0m\u001b[0m\n\u001b[1;32m-> 1254\u001b[1;33m         \u001b[0mself\u001b[0m\u001b[1;33m.\u001b[0m\u001b[0m_validate_read_indexer\u001b[0m\u001b[1;33m(\u001b[0m\u001b[0mkeyarr\u001b[0m\u001b[1;33m,\u001b[0m \u001b[0mindexer\u001b[0m\u001b[1;33m,\u001b[0m \u001b[0maxis\u001b[0m\u001b[1;33m,\u001b[0m \u001b[0mraise_missing\u001b[0m\u001b[1;33m=\u001b[0m\u001b[0mraise_missing\u001b[0m\u001b[1;33m)\u001b[0m\u001b[1;33m\u001b[0m\u001b[0m\n\u001b[0m\u001b[0;32m   1255\u001b[0m         \u001b[1;32mreturn\u001b[0m \u001b[0mkeyarr\u001b[0m\u001b[1;33m,\u001b[0m \u001b[0mindexer\u001b[0m\u001b[1;33m\u001b[0m\u001b[0m\n\u001b[0;32m   1256\u001b[0m \u001b[1;33m\u001b[0m\u001b[0m\n",
      "\u001b[1;32m~\\anaconda3\\envs\\OC_3\\lib\\site-packages\\pandas\\core\\indexing.py\u001b[0m in \u001b[0;36m_validate_read_indexer\u001b[1;34m(self, key, indexer, axis, raise_missing)\u001b[0m\n\u001b[0;32m   1296\u001b[0m             \u001b[1;32mif\u001b[0m \u001b[0mmissing\u001b[0m \u001b[1;33m==\u001b[0m \u001b[0mlen\u001b[0m\u001b[1;33m(\u001b[0m\u001b[0mindexer\u001b[0m\u001b[1;33m)\u001b[0m\u001b[1;33m:\u001b[0m\u001b[1;33m\u001b[0m\u001b[0m\n\u001b[0;32m   1297\u001b[0m                 \u001b[0maxis_name\u001b[0m \u001b[1;33m=\u001b[0m \u001b[0mself\u001b[0m\u001b[1;33m.\u001b[0m\u001b[0mobj\u001b[0m\u001b[1;33m.\u001b[0m\u001b[0m_get_axis_name\u001b[0m\u001b[1;33m(\u001b[0m\u001b[0maxis\u001b[0m\u001b[1;33m)\u001b[0m\u001b[1;33m\u001b[0m\u001b[0m\n\u001b[1;32m-> 1298\u001b[1;33m                 \u001b[1;32mraise\u001b[0m \u001b[0mKeyError\u001b[0m\u001b[1;33m(\u001b[0m\u001b[1;34mf\"None of [{key}] are in the [{axis_name}]\"\u001b[0m\u001b[1;33m)\u001b[0m\u001b[1;33m\u001b[0m\u001b[0m\n\u001b[0m\u001b[0;32m   1299\u001b[0m \u001b[1;33m\u001b[0m\u001b[0m\n\u001b[0;32m   1300\u001b[0m             \u001b[1;31m# We (temporarily) allow for some missing keys with .loc, except in\u001b[0m\u001b[1;33m\u001b[0m\u001b[1;33m\u001b[0m\u001b[0m\n",
      "\u001b[1;31mKeyError\u001b[0m: \"None of [Index(['cluster_id'], dtype='object')] are in the [columns]\""
     ]
    }
   ],
   "source": [
    "lbl=['cluster_id']\n",
    "cid='customer_unique_id'\n",
    "# pred_t0 = run_predict_model(df_t0, fitted_model_t6, FEATURES)\n",
    "# pred_t1 = run_predict_model(df_t1, fitted_model_t6, FEATURES)\n",
    "# pred_t3 = run_predict_model(df_t3, fitted_model_t6, FEATURES)\n",
    "# pred_t6 = run_predict_model(df_t6, fitted_model_t6, FEATURES)\n",
    "\n",
    "def in_both(df1,df2,label_col=CLUSTER_COL):\n",
    "    in_both = df1.index.intersection(df2.index)\n",
    "    ret= df1.loc[in_both,lbl].astype('Int64')\n",
    "    ret.columns=[label_col]\n",
    "    return ret\n",
    "\n",
    "fitd_t0=in_both(fit_t0,predict_t0,'fit_t0')\n",
    "pred_t0=in_both(predict_t0,fit_t0,'pred_t0')\n",
    "fitd_t1=in_both(fit_t1,predict_t1,'fit_t1')\n",
    "pred_t1=in_both(predict_t1,fit_t1,'pred_t1')\n",
    "fitd_t3=in_both(fit_t3,predict_t3,'fit_t3')\n",
    "pred_t3=in_both(predict_t3,fit_t3,'pred_t3')\n",
    "fitd_t6=in_both(fit_t6,predict_t6,'fit_t6')\n",
    "pred_t6=in_both(predict_t6,fit_t6,'pred_t6')\n",
    "\n",
    "df_evolve= (df_clients[lbl].astype('Int64')\n",
    ".join(fitd_t0).join(pred_t0)\n",
    ".join(fitd_t1).join(pred_t1)\n",
    ".join(fitd_t3).join(pred_t3)\n",
    ".join(fitd_t6).join(pred_t6)\n",
    "# .drop(CLUSTER_COL,axis=1)\n",
    ")\n",
    "\n",
    "df_evolve.head()"
   ]
  },
  {
   "cell_type": "code",
   "execution_count": null,
   "metadata": {},
   "outputs": [],
   "source": [
    "# sankey nodes\n",
    "labels= df_evolve['fit_t0'].unique()\n",
    "periods=df_evolve.columns\n",
    "print(df_evolve.columns)\n",
    "print(labels)\n"
   ]
  },
  {
   "cell_type": "code",
   "execution_count": null,
   "metadata": {},
   "outputs": [],
   "source": [
    "print(pd.crosstab(df_evolve['fit_t0'],df_evolve['pred_t0']))\n"
   ]
  },
  {
   "cell_type": "markdown",
   "metadata": {},
   "source": [
    "### Comparison avec données 1 mois après fit"
   ]
  },
  {
   "cell_type": "code",
   "execution_count": null,
   "metadata": {},
   "outputs": [],
   "source": [
    "print(pd.crosstab(df_evolve['fit_t1'],df_evolve['pred_t1']))\n"
   ]
  },
  {
   "cell_type": "code",
   "execution_count": null,
   "metadata": {},
   "outputs": [],
   "source": [
    "print(pd.crosstab(df_evolve[periods[0]],df_evolve[periods[5]]))\n"
   ]
  },
  {
   "cell_type": "code",
   "execution_count": null,
   "metadata": {},
   "outputs": [],
   "source": [
    "print(pd.crosstab(df_evolve[periods[6]],df_evolve[periods[7]]))\n",
    "\n",
    "\n"
   ]
  },
  {
   "cell_type": "code",
   "execution_count": null,
   "metadata": {},
   "outputs": [],
   "source": [
    "t1=df_evolve[['cluster_id','cluster_id_t1']].dropna()\n",
    "# adjusted_rand_score(t1['cluster_id'], t1['cluster_id_t1'])"
   ]
  },
  {
   "cell_type": "code",
   "execution_count": null,
   "metadata": {},
   "outputs": [],
   "source": [
    "from sklearn.metrics import adjusted_rand_score as ari\n",
    "\n",
    "df_ari = pd.DataFrame([], columns={'nb. mois', 'ARI_score'})\n",
    "t1=df_evolve[['fit_t1','pred_t1']].dropna()\n",
    "df_ari = df_ari.append({'nb. mois': 1, 'ARI_score': ari(t1['fit_t1'],t1['pred_t1'].values)}, ignore_index=True)\n",
    "t3=df_evolve[['fit_t3','pred_t3']].dropna()\n",
    "df_ari = df_ari.append({'nb. mois': 3, 'ARI_score': ari(t3['fit_t3'],t3['pred_t3'].values)}, ignore_index=True)\n",
    "t6=df_evolve[['fit_t6','pred_t6']].dropna()\n",
    "df_ari = df_ari.append({'nb. mois': 6, 'ARI_score': ari(t6['fit_t6'],t6['pred_t6'].values)}, ignore_index=True)\n",
    "sns.lineplot(data=df_ari, x='nb. mois', y='ARI_score')\n",
    "sns.despine()"
   ]
  },
  {
   "cell_type": "markdown",
   "metadata": {},
   "source": [
    "### Calculate ARI Scores\n"
   ]
  },
  {
   "cell_type": "code",
   "execution_count": null,
   "metadata": {},
   "outputs": [],
   "source": [
    "from sklearn.metrics import adjusted_rand_score\n",
    "\n",
    "\n",
    "def calc_ari_score(df_true: pd.DataFrame, df_predicted: pd.DataFrame, cluster_col='cluster_id'):\n",
    "    in_both = df_true.index.intersection(df_predicted.index)\n",
    "    ari = adjusted_rand_score(\n",
    "        df_true.loc[in_both, cluster_col],\n",
    "        df_predicted.loc[in_both, cluster_col]\n",
    "    )\n",
    "    return ari\n",
    "\n",
    "\n",
    "df_ari = pd.DataFrame([], columns={'nb. mois', 'ARI_score'})\n",
    "df_ari = df_ari.append({'nb. mois': 1, 'ARI_score': calc_ari_score(\n",
    "    fit_t1, predict_t1)}, ignore_index=True)\n",
    "df_ari = df_ari.append({'nb. mois': 3, 'ARI_score': calc_ari_score(\n",
    "    fit_t3, predict_t3)}, ignore_index=True)\n",
    "df_ari = df_ari.append({'nb. mois': 6, 'ARI_score': calc_ari_score(\n",
    "    fit_t6, predict_t6)}, ignore_index=True)\n",
    "sns.lineplot(data=df_ari, x='nb. mois', y='ARI_score')\n",
    "sns.despine()\n"
   ]
  },
  {
   "cell_type": "markdown",
   "metadata": {},
   "source": [
    "Automation pour détecter le nombre de clusters plus stable\n"
   ]
  },
  {
   "cell_type": "code",
   "execution_count": null,
   "metadata": {},
   "outputs": [],
   "source": [
    "from time import time\n",
    "model = Pipeline(steps=[\n",
    "    ('preprocessor', QuantileTransformer(output_distribution='normal',random_state=RANDOM_STATE)),\n",
    "    ('clf', KMeans(n_clusters=8, random_state=RANDOM_STATE))\n",
    "])\n",
    "\n",
    "\n",
    "def test_stability(df, model, features=FEATURES, k=K,\n",
    "                   date_col='dernier_achat', t0=START_DATE,\n",
    "                   random_state=RANDOM_STATE, percent_outliers=0.5):\n",
    "    \"\"\" automatisation pour détecter les clusters les plus stables\"\"\"\n",
    "    df_ari = pd.DataFrame([], columns={'k','t0','n','nb. mois', 'ARI_score'})\n",
    "    df_t0 = factory_one_year_dataset(df, start_date=t0, date_col=date_col)\n",
    "    fit_t0, fitted_model_T0 = run_fit_model(df_t0, model, features, k=k,\n",
    "                               remove_outliers_during_fit=True, percent_outliers=percent_outliers, random_state=random_state)\n",
    "\n",
    "    for mois in range(1, 8):\n",
    "        df_TN = factory_one_year_dataset(df, t0 + pd.DateOffset(months=mois))\n",
    "        fit_TN, fitted_model_TN= run_fit_model(df_TN, model, features, k=k,remove_outliers_during_fit=True, percent_outliers=percent_outliers, random_state=random_state)\n",
    "        predict_TN = run_predict_model(df_TN, fitted_model_T0, features)\n",
    "        df_ari = df_ari.append({'k':k,'t0':f'{t0:%d%m%Y}','n':len(df_t0),'nb. mois': mois,\n",
    "         'ARI_score': calc_ari_score(fit_TN, predict_TN)}, ignore_index=True)\n",
    "        df_ari['k']=df_ari['k'].astype('category')\n",
    "\n",
    "    return df_ari\n",
    "\n",
    "start=time()\n",
    "df_ari_4 =test_stability(df_clients, model,k=4)\n",
    "calc_time = round((time()-start), 2)\n",
    "print(f'k=4, completed in ,(time = {calc_time} s)')\n",
    "print('running k=5')\n",
    "df_ari_5 =test_stability(df_clients, model,k=5)\n",
    "df_ari_6 =test_stability(df_clients, model,k=6)\n",
    "df_ari_7 =test_stability(df_clients, model,k=7)\n",
    "df_ari_8 =test_stability(df_clients, model,k=8)\n",
    "\n",
    "ax=sns.lineplot(data=df_ari_4, x='nb. mois', y='ARI_score', label='k=4')\n",
    "sns.lineplot(data=df_ari_5, x='nb. mois', y='ARI_score', label='k=5', ax=ax)\n",
    "sns.lineplot(data=df_ari_6, x='nb. mois', y='ARI_score', label='k=6', ax=ax)\n",
    "sns.lineplot(data=df_ari_7, x='nb. mois', y='ARI_score', label='k=7', ax=ax)\n",
    "sns.lineplot(data=df_ari_8, x='nb. mois', y='ARI_score', label='k=8', ax=ax)\n",
    "sns.despine()\n",
    "plt.suptitle('Sta')\n",
    "to_png()\n"
   ]
  },
  {
   "cell_type": "code",
   "execution_count": null,
   "metadata": {},
   "outputs": [],
   "source": [
    "def test_clusters_stability(df,model,k_range=range(4,9),t0=START_DATE, percent_outliers=0.005,random_state=RANDOM_STATE):\n",
    "    \"\"\"test pour plusieurs valeurs de taille des clusters \"\"\"\n",
    "    scores=pd.DataFrame([])\n",
    "    for k in k_range:\n",
    "        df_ari=test_stability(df,model,k=k,t0=t0, percent_outliers=percent_outliers, random_state=random_state)\n",
    "        df_ari['k']=k\n",
    "        ari_scores =list(np.round(df_ari['ARI_score'],2))\n",
    "        print(f'k={k}; ARI_scores={ari_scores}')\n",
    "        scores=scores.append(df_ari, ignore_index=True)\n",
    "    scores['k']=scores['k'].astype('category')\n",
    "\n",
    "    return scores\n",
    " \n",
    "df_ari =test_clusters_stability(df_clients, model,k_range=[4],percent_outliers=0.005)\n",
    "\n"
   ]
  },
  {
   "cell_type": "code",
   "execution_count": null,
   "metadata": {},
   "outputs": [],
   "source": [
    "df_ari =test_clusters_stability(df_clients, model,percent_outliers=0.005)\n",
    "sns.lineplot(data=df_ari, x='nb. mois', y='ARI_score', hue='k')\n",
    "sns.despine()\n"
   ]
  },
  {
   "cell_type": "markdown",
   "metadata": {},
   "source": [
    "Test l'effet de random_state sur la stabilité des clusters"
   ]
  },
  {
   "cell_type": "code",
   "execution_count": null,
   "metadata": {},
   "outputs": [],
   "source": [
    "df_ari =test_clusters_stability(df_clients, model,random_state=1)\n",
    "sns.lineplot(data=df_ari, x='nb. mois', y='ARI_score', hue='k')\n",
    "sns.despine()\n",
    "plt.suptitle('Stabilité des clusters - effet de changer random_state')\n",
    "plt.title('random_state=1, percent_outliers=0.005')"
   ]
  },
  {
   "cell_type": "code",
   "execution_count": null,
   "metadata": {},
   "outputs": [],
   "source": [
    "df_ari =test_clusters_stability(df_clients, model,random_state=None)\n",
    "sns.lineplot(data=df_ari, x='nb. mois', y='ARI_score', hue='k')\n",
    "sns.despine()\n",
    "plt.suptitle('Stabilité des clusters - effet sans définir random_state')\n",
    "plt.title('random_state=None, percent_outliers=0.005')"
   ]
  },
  {
   "cell_type": "markdown",
   "metadata": {},
   "source": [
    "Test l'effet des outliers sur la stabilité des clusters"
   ]
  },
  {
   "cell_type": "code",
   "execution_count": null,
   "metadata": {},
   "outputs": [],
   "source": [
    "df_ari =test_clusters_stability(df_clients, model,percent_outliers=0)\n",
    "sns.lineplot(data=df_ari, x='nb. mois', y='ARI_score', hue='k')\n",
    "sns.despine()\n",
    "plt.suptitle('Stabilité des clusters - effet sans éliminer les outliers')\n",
    "plt.title('random_state=None, percent_outliers=0.005')"
   ]
  },
  {
   "cell_type": "code",
   "execution_count": null,
   "metadata": {},
   "outputs": [],
   "source": [
    "df_ari =test_clusters_stability(df_clients, model,percent_outliers=0.02)\n",
    "sns.lineplot(data=df_ari, x='nb. mois', y='ARI_score', hue='k')\n",
    "sns.despine()\n",
    "plt.suptitle('Stabilité des clusters - effet en éliminant 2% des outliers')\n",
    "plt.title('random_state=None, percent_outliers=0.005')"
   ]
  },
  {
   "cell_type": "markdown",
   "metadata": {},
   "source": [
    "L'influence d'élimination des outliers pendant le clustering à l'effet de:\n",
    "- améliorier la stabilité des clusters pour les prédictions de 2 mois\n",
    "- réduire la stabilté des clusters k=7 et k=8 pour les prédictions d'un mois"
   ]
  },
  {
   "cell_type": "markdown",
   "metadata": {},
   "source": [
    "Stabilité des clusters - effet de changer la période d'évaluation"
   ]
  },
  {
   "cell_type": "code",
   "execution_count": null,
   "metadata": {},
   "outputs": [],
   "source": [
    "START_DATE2: datetime = pd.to_datetime('23/08/2017', format='%d/%m/%Y')\n",
    "df_ari =test_clusters_stability(df_clients, model,t0=START_DATE2)\n",
    "sns.lineplot(data=df_ari, x='nb. mois', y='ARI_score', hue='k')\n",
    "sns.despine()\n",
    "plt.suptitle('Stabilité des clusters - effet de changer la date pour laquelle prédire')\n",
    "plt.title(f'date={START_DATE2:%d/%m/%Y}, random_state=0, percent_outliers=0.005')\n",
    "to_png()"
   ]
  },
  {
   "cell_type": "code",
   "execution_count": null,
   "metadata": {},
   "outputs": [],
   "source": [
    "START_DATE3: datetime = pd.to_datetime('01/02/2017', format='%d/%m/%Y')\n",
    "dates=[(START_DATE3+pd.DateOffset(months=i)) for i in range(0,8)]\n",
    "df_ari_0 =test_stability(df_clients, model,t0=dates[0], k=7)\n",
    "df_ari_1 =test_stability(df_clients, model,t0=dates[1], k=7)\n",
    "df_ari_2 =test_stability(df_clients, model,t0=dates[2], k=7)\n",
    "df_ari_3 =test_stability(df_clients, model,t0=dates[3], k=7)\n",
    "df_ari_4 =test_stability(df_clients, model,t0=dates[4], k=7)\n",
    "df_ari_5 =test_stability(df_clients, model,t0=dates[5], k=7)\n",
    "df_ari_6 =test_stability(df_clients, model,t0=dates[6], k=7)\n",
    "df_ari_7 =test_stability(df_clients, model,t0=dates[7], k=7)\n",
    "\n",
    "print(df_ari_7.head())\n",
    "\n",
    "ax=sns.lineplot(data=df_ari_0, x='nb. mois', y='ARI_score', label=f'date={dates[0]:%d-%m-%Y}')\n",
    "sns.lineplot(data=df_ari_1, x='nb. mois', y='ARI_score', label=f'date={dates[1]:%d-%m-%Y}', ax=ax)\n",
    "sns.lineplot(data=df_ari_2, x='nb. mois', y='ARI_score', label=f'date={dates[2]:%d-%m-%Y}', ax=ax)\n",
    "sns.lineplot(data=df_ari_3, x='nb. mois', y='ARI_score', label=f'date={dates[3]:%d-%m-%Y}', ax=ax)\n",
    "sns.lineplot(data=df_ari_4, x='nb. mois', y='ARI_score', label=f'date={dates[4]:%d-%m/%Y}', ax=ax)\n",
    "sns.lineplot(data=df_ari_5, x='nb. mois', y='ARI_score', label=f'date={dates[5]:%d-%m-%Y}', ax=ax)\n",
    "sns.lineplot(data=df_ari_6, x='nb. mois', y='ARI_score', label=f'date={dates[6]:%d-%m-%Y}', ax=ax)\n",
    "sns.lineplot(data=df_ari_7, x='nb. mois', y='ARI_score', label=f'date={dates[7]:%d-%m-%Y}', ax=ax)\n",
    "sns.despine()\n",
    "plt.legend(title='12-month end date', bbox_to_anchor=(1.5, 0.5), loc=5)\n",
    "plt.suptitle('Cluster stability (k=7) : effect of changing 12-month prediction period dates')\n",
    "plt.title(f'date={START_DATE3:%d/%m/%Y}, random_state=0, percent_outliers=0.005')\n",
    "to_png()"
   ]
  },
  {
   "cell_type": "markdown",
   "metadata": {},
   "source": [
    "On voit que les prédictions des 7 clusters pour les mois 01/2018 à 04/2018 sont stables,\n",
    "Les prédictions pour le mois de 08/2018 semble stable à 2 mois\n",
    "Par contre, les prédictions pour les mois de 05/2018 à 07/2018 semble pas stable. \n"
   ]
  },
  {
   "cell_type": "code",
   "execution_count": null,
   "metadata": {},
   "outputs": [],
   "source": [
    "START_DATE3: datetime = pd.to_datetime('01/02/2017', format='%d/%m/%Y')\n",
    "dates=[(START_DATE3+pd.DateOffset(months=i)) for i in range(0,8)]\n",
    "df_ari_0 =test_stability(df_clients, model,t0=dates[0], k=5)\n",
    "df_ari_1 =test_stability(df_clients, model,t0=dates[1], k=5)\n",
    "df_ari_2 =test_stability(df_clients, model,t0=dates[2], k=5)\n",
    "df_ari_3 =test_stability(df_clients, model,t0=dates[3], k=5)\n",
    "df_ari_4 =test_stability(df_clients, model,t0=dates[4], k=5)\n",
    "df_ari_5 =test_stability(df_clients, model,t0=dates[5], k=5)\n",
    "df_ari_6 =test_stability(df_clients, model,t0=dates[6], k=5)\n",
    "df_ari_7 =test_stability(df_clients, model,t0=dates[7], k=5)\n",
    "\n",
    "print(df_ari_7.head())\n",
    "\n",
    "ax=sns.lineplot(data=df_ari_0, x='nb. mois', y='ARI_score', label=f'date={dates[0]:%d/%m/%Y}')\n",
    "sns.lineplot(data=df_ari_1, x='nb. mois', y='ARI_score', label=f'date={dates[1]:%d/%m/%Y}', ax=ax)\n",
    "sns.lineplot(data=df_ari_2, x='nb. mois', y='ARI_score', label=f'date={dates[2]:%d/%m/%Y}', ax=ax)\n",
    "sns.lineplot(data=df_ari_3, x='nb. mois', y='ARI_score', label=f'date={dates[3]:%d/%m/%Y}', ax=ax)\n",
    "sns.lineplot(data=df_ari_4, x='nb. mois', y='ARI_score', label=f'date={dates[4]:%d/%m/%Y}', ax=ax)\n",
    "sns.lineplot(data=df_ari_5, x='nb. mois', y='ARI_score', label=f'date={dates[5]:%d/%m/%Y}', ax=ax)\n",
    "sns.lineplot(data=df_ari_6, x='nb. mois', y='ARI_score', label=f'date={dates[6]:%d/%m/%Y}', ax=ax)\n",
    "sns.lineplot(data=df_ari_7, x='nb. mois', y='ARI_score', label=f'date={dates[7]:%d/%m/%Y}', ax=ax)\n",
    "sns.despine()\n",
    "plt.legend(title='12-month end date', bbox_to_anchor=(1.5, 0.5), loc=5)\n",
    "plt.suptitle('')"
   ]
  },
  {
   "cell_type": "markdown",
   "metadata": {},
   "source": [
    "## Choix de périod de maintenance\n",
    "\n",
    "On choisi le nombre de clusters egal à 7, et les clusters de reference celles de janvier 2018"
   ]
  },
  {
   "cell_type": "code",
   "execution_count": null,
   "metadata": {},
   "outputs": [],
   "source": [
    "df_t0.head()"
   ]
  },
  {
   "cell_type": "code",
   "execution_count": null,
   "metadata": {},
   "outputs": [],
   "source": []
  },
  {
   "cell_type": "markdown",
   "metadata": {},
   "source": [
    "### Evaluation de **la stabilité des prédictions**\n",
    "\n",
    "Pour la stabilité des prédictions, on va comparer les clusters _**fitted clusters à t(6)**_ de **données t0: de 01/08/2017 à 01/08/2018** avec les _**prédictions**_ de clusters bases sur les modeles de 1, 3 et 6 mois antérieurs:\n",
    "\n",
    "- **predict_t6** = model.fit(t6).predict(t6) : clusters à 01/08/2018 (basé sur **données t6 de 01/08/2017 à 01/08/2018**)\n",
    "- **predict_t6_1** = model.fit(t5).predict(t6) : les prédictions pour le cluster de chaque client à t6, fait avec les clusters fitted 1 mois avant : **model_t5 - des données T5 = du 01/07/2017 à 01/07/2018**\n",
    "- **predict_t6_3** = model.fit(t3).predict(t6) : les prédictions pour le cluster de chaque client à t6, fait avec les clusters fitted 3 mois avant : **des données t3 = du 01/05/2017 à 01/05/2018**\n",
    "- **predict_t6_6** = model.fit(t0).predict(t6) :les prédictions pour le cluster de chaque client à t6, fait avec les clusters fitted 6 mois avant : **des données t1 = du 01/02/2017 à 01/02/2018**"
   ]
  },
  {
   "cell_type": "code",
   "execution_count": null,
   "metadata": {},
   "outputs": [],
   "source": []
  },
  {
   "cell_type": "markdown",
   "metadata": {},
   "source": [
    "#### Nombre de clients commun entre les datasets\n"
   ]
  },
  {
   "cell_type": "code",
   "execution_count": null,
   "metadata": {},
   "outputs": [],
   "source": [
    "print(len(df_t0.index.intersection(df_t1.index)))\n",
    "print(len(df_t0.index.intersection(df_t3.index)))\n",
    "print(len(df_t0.index.intersection(df_t6.index)))\n"
   ]
  },
  {
   "cell_type": "code",
   "execution_count": null,
   "metadata": {},
   "outputs": [],
   "source": [
    "K = 7\n",
    "# predict t0 clusters based on data at t0\n",
    "true_t0, fitted_model_t0 = run_fit_model(df_t0, model, FEATURES, k=K)\n",
    "\n",
    "fit_t1, fitted_model_t1 = run_fit_model(df_t1, model, FEATURES, k=K)\n",
    "# predict t0 clusters based on data at t1\n",
    "predict_t1 = run_predict_model(df_t0, fitted_model_t1, FEATURES)\n",
    "\n",
    "fit_t3, fitted_model_t3 = run_fit_model(df_t3, model, FEATURES, k=K)\n",
    "# predict t0 clusters based on data at t3\n",
    "predict_t3 = run_predict_model(df_t0, fitted_model_t3, FEATURES)\n",
    "\n",
    "fit_t6, fitted_model_t6 = run_fit_model(df_t6, model, FEATURES, k=K)\n",
    "# predict t0 clusters based on data at t6\n",
    "predict_t6 = run_predict_model(df_t0, fitted_model_t6, FEATURES)\n",
    "\n",
    "\n",
    "\n",
    "print(df_t0.shape)\n",
    "# true_t0 on ajoute les colonnes 'cluster_id' et 'outlier' (indicateur = ['yes'|'no'])\n",
    "print(true_t0.shape)\n",
    "# predict_t1 on ajoute la colonne 'cluster_id'\n",
    "print(predict_t1.shape)\n"
   ]
  }
 ],
 "metadata": {
  "interpreter": {
   "hash": "08f54268de9884c973a82c2c5267bbf1de8fae7577a142dd199c5c3f90c0dd65"
  },
  "kernelspec": {
   "display_name": "Python 3.7.0 ('OC_3')",
   "language": "python",
   "name": "python3"
  },
  "language_info": {
   "codemirror_mode": {
    "name": "ipython",
    "version": 3
   },
   "file_extension": ".py",
   "mimetype": "text/x-python",
   "name": "python",
   "nbconvert_exporter": "python",
   "pygments_lexer": "ipython3",
   "version": "3.7.0"
  },
  "orig_nbformat": 4
 },
 "nbformat": 4,
 "nbformat_minor": 2
}
