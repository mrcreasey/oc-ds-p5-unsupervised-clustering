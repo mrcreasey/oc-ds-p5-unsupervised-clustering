{
 "cells": [
  {
   "cell_type": "markdown",
   "metadata": {},
   "source": [
    "# Segmentez des clients d'un site e-commerce\n",
    "\n",
    "- **Projet 5 du parcours « Data Scientist » d’OpenClassrooms**\n",
    "- **Mark Creasey**\n",
    "\n",
    "## Partie 3 : Simulation de la stabilité des segments au cours du temps\n",
    "\n",
    "<img  width=\"76\" height=\"30\" src=\"https://olist.com/wp-custom/themes/olist20/assets/img/brand.svg\" alt=\"Logo olist\">\n"
   ]
  },
  {
   "cell_type": "markdown",
   "metadata": {},
   "source": [
    "## 1.2 Rappel de la mission\n",
    "\n",
    "[Olist](https://olist.com/), une entreprise brésilienne qui propose une solution de vente sur les\n",
    "marketplaces en ligne, souhaite une **segmentation des clients** que ses équipes d'e-commerce pourront\n",
    "utiliser au quotidien pour leurs campagnes de communication.\n",
    "\n",
    "- **comprendre les différents types d'utilisateurs**, grâce à leur comportement et à leurs données\n",
    "  personnelles, en regroupant des clients de profils similaires. Ces catégories pourront être\n",
    "  utilisées par l’équipe Marketing pour mieux communiquer.\n",
    "\n",
    "- **fournir à l’équipe marketing une description actionable** de votre segmentation et de sa logique\n",
    "  sous-jacente pour une utilisation optimale\n",
    "\n",
    "- **une proposition de contrat de maintenance**, (fréquence à laquelle la segmentation doit être\n",
    "  mise à jour pour rester pertinente), basée sur une analyse de la stabilité des segments au cours\n",
    "  du temps.\n"
   ]
  },
  {
   "cell_type": "markdown",
   "metadata": {},
   "source": [
    "## 1.2 Requirements : Bibliothèques utilisées dans ce notebook\n",
    "\n",
    "- voir [`requirements.txt`](./requirements.txt) pour les versions des bibliothèques testées avec ce notebook\n"
   ]
  },
  {
   "cell_type": "code",
   "execution_count": 1,
   "metadata": {},
   "outputs": [],
   "source": [
    "# si ce notebook ne marche pas avec les versions\n",
    "# des bibliothèques dans votre environnement, alors\n",
    "# decommentarise la ligne suivant pour des versions testées:\n",
    "\n",
    "# %pip install -r requirements.txt\n"
   ]
  },
  {
   "cell_type": "code",
   "execution_count": 2,
   "metadata": {},
   "outputs": [],
   "source": [
    "def install_libraries(required={}) -> None:\n",
    "    \"\"\"\n",
    "    Installation des bibliothèques manquantes\n",
    "    https://stackoverflow.com/questions/44210656/\n",
    "    \"\"\"\n",
    "    import sys\n",
    "    import subprocess\n",
    "    import pkg_resources\n",
    "    installed = {pkg.key for pkg in pkg_resources.working_set}\n",
    "    missing = set(required) - set(installed)\n",
    "    if missing:\n",
    "        print(f'missing libraries: {missing}')\n",
    "        python = sys.executable\n",
    "        subprocess.check_call([python, '-m', 'pip', 'install', *missing],\n",
    "                              stdout=subprocess.DEVNULL)\n",
    "\n",
    "\n",
    "required_libraries = {'numpy', 'pandas', 'matplotlib', 'seaborn',\n",
    "                      'scipy', 'scikit-learn', 'statsmodels',\n",
    "                      'missingno', 'dython', 'squarify', 'yellowbrick', 'plotly'}\n",
    "install_libraries(required_libraries)\n"
   ]
  },
  {
   "cell_type": "markdown",
   "metadata": {},
   "source": [
    "### 1.2.1 Import des bibliothèques\n"
   ]
  },
  {
   "cell_type": "code",
   "execution_count": 3,
   "metadata": {},
   "outputs": [],
   "source": [
    "import os\n",
    "import numpy as np\n",
    "import pandas as pd\n",
    "import matplotlib.pyplot as plt\n",
    "import seaborn as sns\n",
    "import scipy\n",
    "import missingno as msno\n",
    "import sklearn\n",
    "import dython\n",
    "import squarify\n",
    "import plotly.express as px\n",
    "import warnings\n",
    "warnings.simplefilter(action='ignore', category=FutureWarning)\n",
    "\n"
   ]
  },
  {
   "cell_type": "markdown",
   "metadata": {},
   "source": [
    "### 1.2.2 Liste des versions des bibliothèques utilisées\n"
   ]
  },
  {
   "cell_type": "code",
   "execution_count": 4,
   "metadata": {},
   "outputs": [
    {
     "name": "stdout",
     "output_type": "stream",
     "text": [
      "versions des bibliothèques utilisées:\n",
      "numpy==1.21.5; pandas==1.1.5; seaborn==0.11.2; scipy==1.7.3; missingno==0.5.0; sklearn==1.0.2; dython==0.6.8\n"
     ]
    }
   ],
   "source": [
    "from platform import python_version\n",
    "\n",
    "python_version()\n",
    "print('versions des bibliothèques utilisées:')\n",
    "print('; '.join(f'{m.__name__}=={m.__version__}' for m in globals(\n",
    ").values() if getattr(m, '__version__', None)))\n"
   ]
  },
  {
   "cell_type": "markdown",
   "metadata": {},
   "source": [
    "### 1.2.3 Configuration défauts d'affichage\n"
   ]
  },
  {
   "cell_type": "code",
   "execution_count": 5,
   "metadata": {},
   "outputs": [],
   "source": [
    "from sklearn import set_config\n",
    "pd.set_option('display.max_columns', 200)  # pour afficher toutes les colonnes\n",
    "pd.set_option('display.max_rows', 20)  # pour afficher max 10 lignes\n",
    "pd.set_option('display.max_colwidth', 800)  # pour afficher toutes la text\n",
    "pd.set_option('display.precision', 2)\n",
    "pd.options.display.float_format = '{:.2f}'.format  # currency, lat,lng\n",
    "\n",
    "%matplotlib inline\n",
    "sns.set_theme(style=\"white\", context=\"notebook\")\n",
    "sns.set_color_codes(\"pastel\")\n",
    "sns.set_palette(\"tab20\")\n",
    "\n",
    "set_config(display='diagram')\n",
    "# displays HTML representation in a jupyter context\n",
    "\n",
    "# Set random_state pour réproduire les resultats\n",
    "# Pour des resultats différents sur chaque execution, set RANDOM_STATE=None\n",
    "\n",
    "RANDOM_STATE = 0\n"
   ]
  },
  {
   "cell_type": "markdown",
   "metadata": {},
   "source": [
    "## 1.3 Des fonctions utilitaires\n",
    "\n",
    "### 1.3.1 Enregistrement des graphiques\n",
    "\n",
    "Pour enregistrer les graphiques, define **`SAVE_IMAGES = True`**\n"
   ]
  },
  {
   "cell_type": "code",
   "execution_count": 6,
   "metadata": {},
   "outputs": [],
   "source": [
    "SAVE_IMAGES = True\n",
    "IMAGE_FOLDER = './images/notebook'\n",
    "if not os.path.exists(IMAGE_FOLDER):\n",
    "    os.makedirs(IMAGE_FOLDER)\n"
   ]
  },
  {
   "cell_type": "code",
   "execution_count": 7,
   "metadata": {},
   "outputs": [],
   "source": [
    "def to_png(fig_name=None) -> None:\n",
    "    \"\"\"\n",
    "    Enregistre l'image dans un fichier,\n",
    "    il faut appeler avant plt.show() pour pouvoir ajuster la taille de l'image\n",
    "    avec bbox_inches=tight pour être sûr d'inclure le titre / legend entier.\n",
    "    \"\"\"\n",
    "\n",
    "    def get_title():\n",
    "        if plt.gcf()._suptitle is None:  # noqa\n",
    "            return plt.gca().get_title()\n",
    "        else:\n",
    "            return plt.gcf()._suptitle.get_text()  # noqa\n",
    "\n",
    "    if SAVE_IMAGES:\n",
    "        if fig_name is None:\n",
    "            fig_name = get_title()\n",
    "        elif len(fig_name) < 9:\n",
    "            fig_name = f'{fig_name}_{get_title()}'\n",
    "        fig_name = fig_name.replace(' ', '_').replace(':', '-').replace(\n",
    "            '.', '-').replace('/', '_').replace('>', 'gt.').replace('<', 'lt.')\n",
    "        print(f'\"{fig_name}.png\"')\n",
    "        plt.gcf().savefig(\n",
    "            f'{IMAGE_FOLDER}/{fig_name}.png', bbox_inches='tight')\n"
   ]
  },
  {
   "cell_type": "markdown",
   "metadata": {},
   "source": [
    "### 1.3.2 Vérifier que les colonnes sont dans le dataframe\n",
    "\n",
    "- sans changer l'ordre des colonnes\n"
   ]
  },
  {
   "cell_type": "code",
   "execution_count": 8,
   "metadata": {},
   "outputs": [],
   "source": [
    "def cols_in_df(df: pd.DataFrame, colonnes: list = None) -> list:\n",
    "    \"\"\"Procedure pour retourner les colonnes existantes dans le dataframe dans la même ordre.\n",
    "    Utiliser pour assurer que les colonnes existe.\n",
    "    \"\"\"\n",
    "    ret_cols = []\n",
    "    for col in colonnes:\n",
    "        if col in df.columns:\n",
    "            ret_cols.append(col)\n",
    "    return ret_cols\n"
   ]
  },
  {
   "cell_type": "markdown",
   "metadata": {},
   "source": [
    "### Evaluation de la stabilité\n",
    "\n",
    "- L’objectif est de déterminer au bout de **combien de temps**\n",
    "\n",
    "  - le modèle de clustering entraîné initialement proposé (donc « fit ») devient obsolète\n",
    "  - (quand les prédictions, « predict », ne sont plus pertinentes),\n",
    "  - nécessitant d’entraîner un nouveau modèle de clustering.\n",
    "\n",
    "- Il s’agit de comparer\n",
    "\n",
    "  - les numéros de clusters à T1 du fichier F1, selon que l’on utilise le modèle initial créé à\n",
    "    T0(M0) via un « predict », ou le modèle créé à T1 via un « fit ».\n",
    "\n",
    "- Il s’agit donc :\n",
    "  - de simuler plusieurs périodes T1, T2 à Tt, et\n",
    "  - d’afficher l’évolution de l’ARI.\n",
    "- Si l’ARI passe en dessous de 0.8 (correspond environ à 0,9 en accuracy)\n",
    "  - il est sûrement pertinent de reproposer un entraînement de modèle au client.\n"
   ]
  },
  {
   "cell_type": "markdown",
   "metadata": {},
   "source": [
    "### Step 1: Les périods de temps\n"
   ]
  },
  {
   "cell_type": "code",
   "execution_count": 9,
   "metadata": {},
   "outputs": [
    {
     "data": {
      "text/html": [
       "<div>\n",
       "<style scoped>\n",
       "    .dataframe tbody tr th:only-of-type {\n",
       "        vertical-align: middle;\n",
       "    }\n",
       "\n",
       "    .dataframe tbody tr th {\n",
       "        vertical-align: top;\n",
       "    }\n",
       "\n",
       "    .dataframe thead th {\n",
       "        text-align: right;\n",
       "    }\n",
       "</style>\n",
       "<table border=\"1\" class=\"dataframe\">\n",
       "  <thead>\n",
       "    <tr style=\"text-align: right;\">\n",
       "      <th></th>\n",
       "      <th>customer_unique_id</th>\n",
       "      <th>dernier_achat</th>\n",
       "      <th>Frequency</th>\n",
       "      <th>MonetaryValue</th>\n",
       "      <th>Recency</th>\n",
       "      <th>mean_nb_payments</th>\n",
       "      <th>review_score</th>\n",
       "      <th>delivery_time</th>\n",
       "      <th>delivery_delay</th>\n",
       "      <th>distance_customer_seller</th>\n",
       "      <th>freight_percent</th>\n",
       "      <th>payment_mode</th>\n",
       "      <th>favourite_category</th>\n",
       "      <th>time_of_day</th>\n",
       "      <th>weekday</th>\n",
       "      <th>products_per_order</th>\n",
       "    </tr>\n",
       "  </thead>\n",
       "  <tbody>\n",
       "    <tr>\n",
       "      <th>0</th>\n",
       "      <td>0000366f3b9a7992bf8c76cfdf3221e2</td>\n",
       "      <td>2018-05-10 10:56:27</td>\n",
       "      <td>1</td>\n",
       "      <td>141.90</td>\n",
       "      <td>160</td>\n",
       "      <td>8.00</td>\n",
       "      <td>5.00</td>\n",
       "      <td>6.00</td>\n",
       "      <td>-4.00</td>\n",
       "      <td>110.59</td>\n",
       "      <td>0.08</td>\n",
       "      <td>credit_card</td>\n",
       "      <td>bed_bath</td>\n",
       "      <td>10.00</td>\n",
       "      <td>3.00</td>\n",
       "      <td>1.00</td>\n",
       "    </tr>\n",
       "    <tr>\n",
       "      <th>1</th>\n",
       "      <td>0000b849f77a49e4a4ce2b2a4ca5be3f</td>\n",
       "      <td>2018-05-07 11:11:27</td>\n",
       "      <td>1</td>\n",
       "      <td>27.19</td>\n",
       "      <td>163</td>\n",
       "      <td>1.00</td>\n",
       "      <td>4.00</td>\n",
       "      <td>3.00</td>\n",
       "      <td>-4.00</td>\n",
       "      <td>22.19</td>\n",
       "      <td>0.30</td>\n",
       "      <td>credit_card</td>\n",
       "      <td>health_parfum</td>\n",
       "      <td>11.00</td>\n",
       "      <td>0.00</td>\n",
       "      <td>1.00</td>\n",
       "    </tr>\n",
       "    <tr>\n",
       "      <th>2</th>\n",
       "      <td>0000f46a3911fa3c0805444483337064</td>\n",
       "      <td>2017-03-10 21:05:03</td>\n",
       "      <td>1</td>\n",
       "      <td>86.22</td>\n",
       "      <td>585</td>\n",
       "      <td>8.00</td>\n",
       "      <td>3.00</td>\n",
       "      <td>25.00</td>\n",
       "      <td>-2.00</td>\n",
       "      <td>516.69</td>\n",
       "      <td>0.20</td>\n",
       "      <td>credit_card</td>\n",
       "      <td>office_tech</td>\n",
       "      <td>21.00</td>\n",
       "      <td>4.00</td>\n",
       "      <td>1.00</td>\n",
       "    </tr>\n",
       "    <tr>\n",
       "      <th>3</th>\n",
       "      <td>0000f6ccb0745a6a4b88665a16c9f078</td>\n",
       "      <td>2017-10-12 20:29:41</td>\n",
       "      <td>1</td>\n",
       "      <td>43.62</td>\n",
       "      <td>369</td>\n",
       "      <td>4.00</td>\n",
       "      <td>4.00</td>\n",
       "      <td>20.00</td>\n",
       "      <td>-11.00</td>\n",
       "      <td>2480.13</td>\n",
       "      <td>0.40</td>\n",
       "      <td>credit_card</td>\n",
       "      <td>office_tech</td>\n",
       "      <td>20.00</td>\n",
       "      <td>3.00</td>\n",
       "      <td>1.00</td>\n",
       "    </tr>\n",
       "    <tr>\n",
       "      <th>4</th>\n",
       "      <td>0004aac84e0df4da2b147fca70cf8255</td>\n",
       "      <td>2017-11-14 19:45:42</td>\n",
       "      <td>1</td>\n",
       "      <td>196.89</td>\n",
       "      <td>336</td>\n",
       "      <td>6.00</td>\n",
       "      <td>5.00</td>\n",
       "      <td>13.00</td>\n",
       "      <td>-7.00</td>\n",
       "      <td>154.40</td>\n",
       "      <td>0.09</td>\n",
       "      <td>credit_card</td>\n",
       "      <td>office_tech</td>\n",
       "      <td>19.00</td>\n",
       "      <td>1.00</td>\n",
       "      <td>1.00</td>\n",
       "    </tr>\n",
       "  </tbody>\n",
       "</table>\n",
       "</div>"
      ],
      "text/plain": [
       "                 customer_unique_id        dernier_achat  Frequency  \\\n",
       "0  0000366f3b9a7992bf8c76cfdf3221e2  2018-05-10 10:56:27          1   \n",
       "1  0000b849f77a49e4a4ce2b2a4ca5be3f  2018-05-07 11:11:27          1   \n",
       "2  0000f46a3911fa3c0805444483337064  2017-03-10 21:05:03          1   \n",
       "3  0000f6ccb0745a6a4b88665a16c9f078  2017-10-12 20:29:41          1   \n",
       "4  0004aac84e0df4da2b147fca70cf8255  2017-11-14 19:45:42          1   \n",
       "\n",
       "   MonetaryValue  Recency  mean_nb_payments  review_score  delivery_time  \\\n",
       "0         141.90      160              8.00          5.00           6.00   \n",
       "1          27.19      163              1.00          4.00           3.00   \n",
       "2          86.22      585              8.00          3.00          25.00   \n",
       "3          43.62      369              4.00          4.00          20.00   \n",
       "4         196.89      336              6.00          5.00          13.00   \n",
       "\n",
       "   delivery_delay  distance_customer_seller  freight_percent payment_mode  \\\n",
       "0           -4.00                    110.59             0.08  credit_card   \n",
       "1           -4.00                     22.19             0.30  credit_card   \n",
       "2           -2.00                    516.69             0.20  credit_card   \n",
       "3          -11.00                   2480.13             0.40  credit_card   \n",
       "4           -7.00                    154.40             0.09  credit_card   \n",
       "\n",
       "  favourite_category  time_of_day  weekday  products_per_order  \n",
       "0           bed_bath        10.00     3.00                1.00  \n",
       "1      health_parfum        11.00     0.00                1.00  \n",
       "2        office_tech        21.00     4.00                1.00  \n",
       "3        office_tech        20.00     3.00                1.00  \n",
       "4        office_tech        19.00     1.00                1.00  "
      ]
     },
     "execution_count": 9,
     "metadata": {},
     "output_type": "execute_result"
    }
   ],
   "source": [
    "OUT_DIR = 'data/out'\n",
    "df_clients = pd.read_csv(f'{OUT_DIR}/clients.csv')\n",
    "df_clients.head()\n"
   ]
  },
  {
   "cell_type": "code",
   "execution_count": 10,
   "metadata": {},
   "outputs": [
    {
     "name": "stdout",
     "output_type": "stream",
     "text": [
      "2016-10-03 16:56:50\n",
      "2018-08-29 15:00:37\n",
      "object\n"
     ]
    }
   ],
   "source": [
    "print(df_clients['dernier_achat'].min())\n",
    "print(df_clients['dernier_achat'].max())\n",
    "print(df_clients['dernier_achat'].dtype)\n"
   ]
  },
  {
   "cell_type": "code",
   "execution_count": 11,
   "metadata": {},
   "outputs": [
    {
     "name": "stdout",
     "output_type": "stream",
     "text": [
      "datetime64[ns]\n"
     ]
    }
   ],
   "source": [
    "df_clients['dernier_achat'] = pd.to_datetime(df_clients['dernier_achat'])\n",
    "print(df_clients['dernier_achat'].dtype)\n"
   ]
  },
  {
   "cell_type": "code",
   "execution_count": 12,
   "metadata": {},
   "outputs": [
    {
     "data": {
      "text/plain": [
       "<function matplotlib.pyplot.show(close=None, block=None)>"
      ]
     },
     "execution_count": 12,
     "metadata": {},
     "output_type": "execute_result"
    },
    {
     "data": {
      "image/png": "[encoded data removed]",
      "text/plain": [
       "<Figure size 432x288 with 1 Axes>"
      ]
     },
     "metadata": {},
     "output_type": "display_data"
    }
   ],
   "source": [
    "df_clients['date'] = df_clients['dernier_achat'].dt.date\n",
    "df_clients.groupby('date')['customer_unique_id'].count().plot(kind='line')\n",
    "plt.xticks(rotation=90)\n",
    "plt.show\n"
   ]
  },
  {
   "cell_type": "markdown",
   "metadata": {},
   "source": [
    "Les données entières sont disponibles pour 18 mois, du 01/01/2017 à 01/08/2018 (données avant janvier 2017 sont trop éparses; données d'aout 2018 ne sont pas complets car il y a les achats pas encore livrés)\n",
    "\n",
    "On va comparer des prévisions basé sur 12 mois de données, pour minimiser les fluctuations sasonales\n",
    "\n",
    "Pour la stabilité des clusters, on va comparer les clusters _**fitted**_ de **données T0: de 01/08/2017 à 01/08/2018** avec les _**prédictions**_ de clusters chaque 1, 3 ou 6 mois antérieurs:\n",
    "\n",
    "- Chaque 6 mois: compare le **fit T0** avec les prédictions 6 mois avant des **données T6 : du 01/02/2017 à 01/02/2018**\n",
    "- Chaque 3 mois: compare le **fit T0** avec les prédictions 3 mois avant des **données T3 : du 01/05/2017 à 01/05/2018**\n",
    "- Chaque 1 mois: compare le **fit T0** avec les prédictions 1 mois avant des **données T1 : du 01/07/2017 à 01/07/2018**\n",
    "\n",
    "pour éviter l'influence des outliers sur les prévisions, on va utiliser l'isolation forest pour les éxclure de fit de clustering.\n"
   ]
  },
  {
   "cell_type": "code",
   "execution_count": 13,
   "metadata": {},
   "outputs": [
    {
     "name": "stdout",
     "output_type": "stream",
     "text": [
      "data from 01-08-2017 to 01-08-2018\n",
      "T0.shape : (69449, 17)\n",
      "data from 01-07-2017 to 01-07-2018\n",
      "T1.shape : (67076, 17)\n",
      "data from 01-05-2017 to 01-05-2018\n",
      "T2.shape : (60756, 17)\n",
      "data from 01-02-2017 to 01-02-2018\n",
      "T6.shape : (47286, 17)\n"
     ]
    }
   ],
   "source": [
    "def factory_one_year_dataset(df, date_from_str='01/08/2017', date_col='dernier_achat'):\n",
    "    datefrom = pd.to_datetime(date_from_str, format='%d/%m/%Y')\n",
    "    dateto = datefrom.replace(year=datefrom.year+1)\n",
    "    print(f'data from {datefrom:%d-%m-%Y} to {dateto:%d-%m-%Y}')\n",
    "    return df[(df[date_col] > datefrom) & (df[date_col] < dateto)]\n",
    "\n",
    "\n",
    "T0 = factory_one_year_dataset(df_clients, '01/08/2017')\n",
    "print(f'T0.shape : {T0.shape}')\n",
    "T1 = factory_one_year_dataset(df_clients, '01/07/2017')\n",
    "print(f'T1.shape : {T1.shape}')\n",
    "T3 = factory_one_year_dataset(df_clients, '01/05/2017')\n",
    "print(f'T2.shape : {T3.shape}')\n",
    "T6 = factory_one_year_dataset(df_clients, '01/02/2017')\n",
    "print(f'T6.shape : {T6.shape}')\n"
   ]
  },
  {
   "cell_type": "markdown",
   "metadata": {},
   "source": [
    "#### Nombre de clients commun entre les datasets\n"
   ]
  },
  {
   "cell_type": "code",
   "execution_count": 14,
   "metadata": {},
   "outputs": [
    {
     "name": "stdout",
     "output_type": "stream",
     "text": [
      "63426\n",
      "50837\n",
      "31219\n"
     ]
    }
   ],
   "source": [
    "print(len(T0.index.intersection(T1.index)))\n",
    "print(len(T0.index.intersection(T3.index)))\n",
    "print(len(T0.index.intersection(T6.index)))\n"
   ]
  },
  {
   "cell_type": "markdown",
   "metadata": {},
   "source": [
    "### Procedures pour éliminer les outliers\n"
   ]
  },
  {
   "cell_type": "code",
   "execution_count": 15,
   "metadata": {},
   "outputs": [
    {
     "name": "stdout",
     "output_type": "stream",
     "text": [
      "(69449, 17)\n"
     ]
    },
    {
     "data": {
      "text/plain": [
       "(69101, 17)"
      ]
     },
     "execution_count": 15,
     "metadata": {},
     "output_type": "execute_result"
    }
   ],
   "source": [
    "from sklearn.ensemble import IsolationForest\n",
    "\n",
    "\n",
    "def find_outliers(df, num_cols=None, alpha=0.005, random_state=RANDOM_STATE):\n",
    "    df = df.copy()\n",
    "    if num_cols is None:\n",
    "        num_cols = df.select_dtypes('number').columns\n",
    "    model = IsolationForest(contamination=alpha, random_state=random_state)\n",
    "    model.fit(df[num_cols].values)\n",
    "    # outliers=model.predict(df[num_cols]<0)\n",
    "    # enregistre comme une colonne non-numérique\n",
    "    df['outlier'] = np.where(model.predict(\n",
    "        df[num_cols].values) < 0, 'yes', 'no')\n",
    "    return df\n",
    "\n",
    "\n",
    "def drop_outliers(df):\n",
    "    if 'outlier' in df.columns:\n",
    "        return df[~(df['outlier'] == 'yes')].drop('outlier', axis=1)\n",
    "    return df\n",
    "\n",
    "\n",
    "print(T0.shape)\n",
    "T0.pipe(find_outliers).pipe(drop_outliers).shape\n"
   ]
  }
 ],
 "metadata": {
  "interpreter": {
   "hash": "08f54268de9884c973a82c2c5267bbf1de8fae7577a142dd199c5c3f90c0dd65"
  },
  "kernelspec": {
   "display_name": "Python 3.7.0 ('OC_3')",
   "language": "python",
   "name": "python3"
  },
  "language_info": {
   "codemirror_mode": {
    "name": "ipython",
    "version": 3
   },
   "file_extension": ".py",
   "mimetype": "text/x-python",
   "name": "python",
   "nbconvert_exporter": "python",
   "pygments_lexer": "ipython3",
   "version": "3.7.0"
  },
  "orig_nbformat": 4
 },
 "nbformat": 4,
 "nbformat_minor": 2
}
